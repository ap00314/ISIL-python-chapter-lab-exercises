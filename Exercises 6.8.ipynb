{
 "cells": [
  {
   "cell_type": "code",
   "execution_count": 1,
   "metadata": {},
   "outputs": [],
   "source": [
    "# To support both python 2 and python 3\n",
    "# 让这份笔记同步支持 python 2 和 python 3\n",
    "from __future__ import division\n",
    "import pandas as pd\n",
    "import numpy as np\n",
    "import matplotlib.pyplot as plt\n",
    "import matplotlib\n",
    "%matplotlib inline"
   ]
  },
  {
   "cell_type": "code",
   "execution_count": 2,
   "metadata": {},
   "outputs": [],
   "source": [
    "#使用statsmodels便于统计分析数据\n",
    "import statsmodels.api as sm\n",
    "import statsmodels.formula.api as smf\n",
    "#使用sklearn便于预测（机器学习）\n",
    "from sklearn import linear_model\n",
    "#使用patsy便于生成模型\n",
    "import patsy"
   ]
  },
  {
   "cell_type": "markdown",
   "metadata": {},
   "source": [
    "**8. In this exercise, we will generate simulated data, and will then use\n",
    "this data to perform best subset selection.\n",
    "(a) Use the rnorm() function to generate a predictor X of length\n",
    "n = 100, as well as a noise vector ? of length n = 100.**"
   ]
  },
  {
   "cell_type": "code",
   "execution_count": 3,
   "metadata": {},
   "outputs": [],
   "source": [
    "np.random.seed(1)\n",
    "#X =  np.random.normal(loc = 0.0, scale = 1.0, size = 100)\n",
    "X =  np.random.normal(0.0, 1.0, 100)\n",
    "epsilon = np.random.normal(0.0, 1.0, 100)"
   ]
  },
  {
   "cell_type": "markdown",
   "metadata": {},
   "source": [
    "**(b) Generate a response vector Y of length n = 100 according to\n",
    "the model\n",
    "Y = β 0 + β 1 X + β 2 X 2 + β 3 X 3 + ?,\n",
    "where β 0 , β 1 , β 2 , and β 3 are constants of your choice.**"
   ]
  },
  {
   "cell_type": "code",
   "execution_count": 4,
   "metadata": {},
   "outputs": [],
   "source": [
    "y = 1 + 1 * X + 2 * (X ** 2) + 3 * (X ** 3) + epsilon"
   ]
  },
  {
   "cell_type": "markdown",
   "metadata": {},
   "source": [
    "**(c) Use the regsubsets() function to perform best subset selection\n",
    "in order to choose the best model containing the predictors\n",
    "X,X 2 ,...,X 10 . What is the best model obtained according to\n",
    "C p , BIC, and adjusted R 2 ? Show some plots to provide evidence\n",
    "for your answer, and report the coefficients of the best model ob-\n",
    "tained. Note you will need to use the data.frame() function to\n",
    "create a single data set containing both X and Y .**"
   ]
  },
  {
   "cell_type": "code",
   "execution_count": 5,
   "metadata": {},
   "outputs": [],
   "source": [
    "#实现一个按照RSS（或者其他评估）来量化的regsubsets函数\n",
    "import itertools\n",
    "def regsubsets(model,dataset,nvmax = 8,method = 'full',scale = 'rss'):\n",
    "    y,X = patsy.dmatrices(model, data = dataset, return_type=\"dataframe\")\n",
    "    X_columns = list(X.columns)\n",
    "    try:\n",
    "        X_columns.remove('Intercept')\n",
    "    except:\n",
    "        pass\n",
    "    if nvmax > len(X_columns):\n",
    "        nvmax = len(X_columns)\n",
    "    all_data_dict = {}\n",
    "    if method == 'full':\n",
    "        for nv in range(1,nvmax + 1):\n",
    "            nv_scale = None\n",
    "            nv_result = {}\n",
    "            for X_columns_nv in itertools.combinations(X_columns,nv):\n",
    "                X_columns_nv = list(X_columns_nv)\n",
    "                X_model = sm.add_constant(X[X_columns_nv])\n",
    "                results = sm.OLS(y, X_model).fit()\n",
    "                nv_result['rss'] = results.ssr\n",
    "                nv_result['rsq'] = -results.rsquared\n",
    "                nv_result['adjr2'] = -results.rsquared_adj\n",
    "                nv_result['cp'] = results.aic\n",
    "                nv_result['bic'] = results.bic\n",
    "                if nv_scale == None or nv_scale > nv_result[scale]:\n",
    "                    nv_scale = nv_result[scale]\n",
    "                    nv_X_columns = X_columns_nv\n",
    "            X_model = sm.add_constant(X[nv_X_columns])\n",
    "            results = sm.OLS(y, X_model).fit()\n",
    "            all_data_dict[nv] = {}\n",
    "            all_data_dict[nv]['X_columns'] = nv_X_columns\n",
    "            all_data_dict[nv]['rss'] = results.ssr\n",
    "            all_data_dict[nv]['rsq'] = results.rsquared\n",
    "            all_data_dict[nv]['adjr2'] = results.rsquared_adj\n",
    "            all_data_dict[nv]['cp'] = results.aic\n",
    "            all_data_dict[nv]['bic'] = results.bic\n",
    "            all_data_dict[nv]['params'] = results.params\n",
    "    elif method == 'forward':\n",
    "        all_data_dict[0] = {}\n",
    "        all_data_dict[0]['X_columns'] = []\n",
    "        for nv in range(1,nvmax + 1):\n",
    "            nv_scale = None\n",
    "            nv_result = {}\n",
    "            X_columns_others = X_columns.copy()\n",
    "            for column_value in all_data_dict[nv - 1]['X_columns']:\n",
    "                X_columns_others.remove(column_value)\n",
    "            for column_value in X_columns_others:\n",
    "                X_columns_nv = all_data_dict[nv - 1]['X_columns'].copy()\n",
    "                X_columns_nv.append(column_value)\n",
    "                X_model = sm.add_constant(X[X_columns_nv])\n",
    "                results = sm.OLS(y, X_model).fit()\n",
    "                nv_result['rss'] = results.ssr\n",
    "                nv_result['rsq'] = -results.rsquared\n",
    "                nv_result['adjr2'] = -results.rsquared_adj\n",
    "                nv_result['cp'] = results.aic\n",
    "                nv_result['bic'] = results.bic\n",
    "                if nv_scale == None or nv_scale > nv_result[scale]:\n",
    "                    nv_scale = nv_result[scale]\n",
    "                    nv_X_columns = X_columns_nv\n",
    "            X_model = sm.add_constant(X[nv_X_columns])\n",
    "            results = sm.OLS(y, X_model).fit()\n",
    "            all_data_dict[nv] = {}\n",
    "            all_data_dict[nv]['X_columns'] = nv_X_columns\n",
    "            all_data_dict[nv]['rss'] = results.ssr\n",
    "            all_data_dict[nv]['rsq'] = results.rsquared\n",
    "            all_data_dict[nv]['adjr2'] = results.rsquared_adj\n",
    "            all_data_dict[nv]['cp'] = results.aic\n",
    "            all_data_dict[nv]['bic'] = results.bic\n",
    "            all_data_dict[nv]['params'] = results.params\n",
    "        del all_data_dict[0]\n",
    "    elif method == 'backward':\n",
    "        for nv in reversed(range(1,len(X_columns) + 1)):\n",
    "            nv_scale = None\n",
    "            nv_result = {}\n",
    "            if nv == len(X_columns):\n",
    "                nv_X_columns = X_columns\n",
    "            else:\n",
    "                for column_value in all_data_dict[nv + 1]['X_columns']:\n",
    "                    X_columns_nv = all_data_dict[nv + 1]['X_columns'].copy()\n",
    "                    X_columns_nv.remove(column_value)\n",
    "                    X_model = sm.add_constant(X[X_columns_nv])\n",
    "                    results = sm.OLS(y, X_model).fit()\n",
    "                    nv_result['rss'] = results.ssr\n",
    "                    nv_result['rsq'] = -results.rsquared\n",
    "                    nv_result['adjr2'] = -results.rsquared_adj\n",
    "                    nv_result['cp'] = results.aic\n",
    "                    nv_result['bic'] = results.bic\n",
    "                    if nv_scale == None or nv_scale > nv_result[scale]:\n",
    "                        nv_scale = nv_result[scale]\n",
    "                        nv_X_columns = X_columns_nv\n",
    "            X_model = sm.add_constant(X[nv_X_columns])\n",
    "            results = sm.OLS(y, X_model).fit()\n",
    "            all_data_dict[nv] = {}\n",
    "            all_data_dict[nv]['X_columns'] = nv_X_columns\n",
    "            all_data_dict[nv]['rss'] = results.ssr\n",
    "            all_data_dict[nv]['rsq'] = results.rsquared\n",
    "            all_data_dict[nv]['adjr2'] = results.rsquared_adj\n",
    "            all_data_dict[nv]['cp'] = results.aic\n",
    "            all_data_dict[nv]['bic'] = results.bic\n",
    "            all_data_dict[nv]['params'] = results.params\n",
    "            for nv in range(nvmax + 1,len(X_columns) + 1):\n",
    "                del all_data_dict[nv]\n",
    "    return pd.DataFrame(all_data_dict).T.sort_index()"
   ]
  },
  {
   "cell_type": "code",
   "execution_count": 6,
   "metadata": {},
   "outputs": [],
   "source": [
    "def patsy_model_poly(factor,degree = 2):\n",
    "    model_poly = factor\n",
    "    for i in range(2,degree + 1):\n",
    "        model_poly = model_poly + '+ I(' + factor +  '**{})'.format(str(i))\n",
    "    return model_poly\n",
    "model = 'y ~ {}'.format(patsy_model_poly('X',10))\n",
    "dataset = pd.DataFrame({'y':y,'X':X,'eps':epsilon})"
   ]
  },
  {
   "cell_type": "code",
   "execution_count": 7,
   "metadata": {},
   "outputs": [
    {
     "name": "stderr",
     "output_type": "stream",
     "text": [
      "c:\\users\\wujiaxu\\appdata\\local\\programs\\python\\python37\\lib\\site-packages\\numpy\\core\\fromnumeric.py:2495: FutureWarning: Method .ptp is deprecated and will be removed in a future version. Use numpy.ptp instead.\n",
      "  return ptp(axis=axis, out=out, **kwargs)\n"
     ]
    }
   ],
   "source": [
    "reg = regsubsets(model,dataset,10)"
   ]
  },
  {
   "cell_type": "code",
   "execution_count": 8,
   "metadata": {},
   "outputs": [
    {
     "data": {
      "image/png": "[encoded data removed]",
      "text/plain": [
       "<Figure size 1296x432 with 3 Axes>"
      ]
     },
     "metadata": {
      "needs_background": "light"
     },
     "output_type": "display_data"
    }
   ],
   "source": [
    "plt.figure(figsize=(18, 6))\n",
    "plt.subplot(131)\n",
    "plt.plot(range(1,11),reg['cp'],'r-')\n",
    "plt.scatter(range(1,11),reg['cp'],color = 'b')\n",
    "plt.scatter(reg['cp'].astype('float64').idxmin(),reg['cp'].min(),marker = 'x',s=500)\n",
    "plt.xlabel(u\"Number of Predictors\", fontsize=18)\n",
    "plt.ylabel(u\"Cp\", fontsize=18)\n",
    "plt.subplot(132)\n",
    "plt.plot(range(1,11),reg['bic'],'r-')\n",
    "plt.scatter(range(1,11),reg['bic'],color = 'b')\n",
    "plt.scatter(reg['bic'].astype('float64').idxmin(),reg['bic'].min(),marker = 'x',s=500)\n",
    "plt.xlabel(u\"Number of Predictors\", fontsize=18)\n",
    "plt.ylabel(u\"BIC\", fontsize=18)\n",
    "plt.subplot(133)\n",
    "plt.plot(range(1,11),reg['adjr2'],'r-')\n",
    "plt.scatter(range(1,11),reg['adjr2'],color = 'b')\n",
    "plt.scatter(reg['adjr2'].astype('float64').idxmax(),reg['adjr2'].max(),marker = 'x',s=500)\n",
    "plt.xlabel(u\"Number of Predictors\", fontsize=18)\n",
    "plt.ylabel(u\"Adjusted R2\", fontsize=18)\n",
    "plt.show()"
   ]
  },
  {
   "cell_type": "code",
   "execution_count": 9,
   "metadata": {},
   "outputs": [
    {
     "name": "stdout",
     "output_type": "stream",
     "text": [
      "best model obtained according to Cp:\n",
      " const        1.276949\n",
      "X            0.910076\n",
      "I(X ** 2)    1.657467\n",
      "I(X ** 3)    3.105378\n",
      "I(X ** 6)    0.020949\n",
      "dtype: float64\n",
      "best model obtained according to bic:\n",
      " const        1.276949\n",
      "X            0.910076\n",
      "I(X ** 2)    1.657467\n",
      "I(X ** 3)    3.105378\n",
      "I(X ** 6)    0.020949\n",
      "dtype: float64\n",
      "best model obtained according to adjr2:\n",
      " const         1.306237\n",
      "X             1.830784\n",
      "I(X ** 2)     1.598661\n",
      "I(X ** 5)     2.661127\n",
      "I(X ** 7)    -0.788863\n",
      "I(X ** 9)     0.074997\n",
      "I(X ** 10)    0.001251\n",
      "dtype: float64\n"
     ]
    }
   ],
   "source": [
    "print('best model obtained according to Cp:\\n', reg['params'][reg['cp'].astype('float64').idxmin()])\n",
    "print('best model obtained according to bic:\\n', reg['params'][reg['bic'].astype('float64').idxmin()])\n",
    "print('best model obtained according to adjr2:\\n', reg['params'][reg['adjr2'].astype('float64').idxmax()])"
   ]
  },
  {
   "cell_type": "markdown",
   "metadata": {},
   "source": [
    "**(d) Repeat (c), using forward stepwise selection and also using back-\n",
    "wards stepwise selection. How does your answer compare to the\n",
    "results in (c)?**"
   ]
  },
  {
   "cell_type": "code",
   "execution_count": 10,
   "metadata": {},
   "outputs": [],
   "source": [
    "reg_forward = regsubsets(model,dataset,10,method = 'forward')"
   ]
  },
  {
   "cell_type": "code",
   "execution_count": 11,
   "metadata": {},
   "outputs": [
    {
     "data": {
      "image/png": "[encoded data removed]",
      "text/plain": [
       "<Figure size 1296x432 with 3 Axes>"
      ]
     },
     "metadata": {
      "needs_background": "light"
     },
     "output_type": "display_data"
    }
   ],
   "source": [
    "plt.figure(figsize=(18, 6))\n",
    "plt.subplot(131)\n",
    "plt.plot(range(1,11),reg_forward['cp'],'r-')\n",
    "plt.scatter(range(1,11),reg_forward['cp'],color = 'b')\n",
    "plt.scatter(reg_forward['cp'].astype('float64').idxmin(),reg_forward['cp'].min(),marker = 'x',s=500)\n",
    "plt.xlabel(u\"Number of Predictors\", fontsize=18)\n",
    "plt.ylabel(u\"Cp\", fontsize=18)\n",
    "plt.subplot(132)\n",
    "plt.plot(range(1,11),reg_forward['bic'],'r-')\n",
    "plt.scatter(range(1,11),reg_forward['bic'],color = 'b')\n",
    "plt.scatter(reg_forward['bic'].astype('float64').idxmin(),reg_forward['bic'].min(),marker = 'x',s=500)\n",
    "plt.xlabel(u\"Number of Predictors\", fontsize=18)\n",
    "plt.ylabel(u\"BIC\", fontsize=18)\n",
    "plt.subplot(133)\n",
    "plt.plot(range(1,11),reg_forward['adjr2'],'r-')\n",
    "plt.scatter(range(1,11),reg_forward['adjr2'],color = 'b')\n",
    "plt.scatter(reg_forward['adjr2'].astype('float64').idxmax(),reg_forward['adjr2'].max(),marker = 'x',s=500)\n",
    "plt.xlabel(u\"Number of Predictors\", fontsize=18)\n",
    "plt.ylabel(u\"Adjusted R2\", fontsize=18)\n",
    "plt.show()"
   ]
  },
  {
   "cell_type": "code",
   "execution_count": 12,
   "metadata": {},
   "outputs": [
    {
     "name": "stdout",
     "output_type": "stream",
     "text": [
      "best model obtained according to Cp:\n",
      " const        1.276949\n",
      "I(X ** 3)    3.105378\n",
      "I(X ** 2)    1.657467\n",
      "X            0.910076\n",
      "I(X ** 6)    0.020949\n",
      "dtype: float64\n",
      "best model obtained according to bic:\n",
      " const        1.276949\n",
      "I(X ** 3)    3.105378\n",
      "I(X ** 2)    1.657467\n",
      "X            0.910076\n",
      "I(X ** 6)    0.020949\n",
      "dtype: float64\n",
      "best model obtained according to adjr2:\n",
      " const        1.276949\n",
      "I(X ** 3)    3.105378\n",
      "I(X ** 2)    1.657467\n",
      "X            0.910076\n",
      "I(X ** 6)    0.020949\n",
      "dtype: float64\n"
     ]
    }
   ],
   "source": [
    "print('best model obtained according to Cp:\\n', reg_forward['params'][reg_forward['cp'].astype('float64').idxmin()])\n",
    "print('best model obtained according to bic:\\n', reg_forward['params'][reg_forward['bic'].astype('float64').idxmin()])\n",
    "print('best model obtained according to adjr2:\\n', reg_forward['params'][reg_forward['adjr2'].astype('float64').idxmax()])"
   ]
  },
  {
   "cell_type": "code",
   "execution_count": 13,
   "metadata": {},
   "outputs": [],
   "source": [
    "reg_backward = regsubsets(model,dataset,10,method = 'backward')"
   ]
  },
  {
   "cell_type": "code",
   "execution_count": 14,
   "metadata": {},
   "outputs": [
    {
     "data": {
      "image/png": "[encoded data removed]",
      "text/plain": [
       "<Figure size 1296x432 with 3 Axes>"
      ]
     },
     "metadata": {
      "needs_background": "light"
     },
     "output_type": "display_data"
    }
   ],
   "source": [
    "plt.figure(figsize=(18, 6))\n",
    "plt.subplot(131)\n",
    "plt.plot(range(1,11),reg_backward['cp'],'r-')\n",
    "plt.scatter(range(1,11),reg_backward['cp'],color = 'b')\n",
    "plt.scatter(reg_backward['cp'].astype('float64').idxmin(),reg_backward['cp'].min(),marker = 'x',s=500)\n",
    "plt.xlabel(u\"Number of Predictors\", fontsize=18)\n",
    "plt.ylabel(u\"Cp\", fontsize=18)\n",
    "plt.subplot(132)\n",
    "plt.plot(range(1,11),reg_backward['bic'],'r-')\n",
    "plt.scatter(range(1,11),reg_backward['bic'],color = 'b')\n",
    "plt.scatter(reg_backward['bic'].astype('float64').idxmin(),reg_backward['bic'].min(),marker = 'x',s=500)\n",
    "plt.xlabel(u\"Number of Predictors\", fontsize=18)\n",
    "plt.ylabel(u\"BIC\", fontsize=18)\n",
    "plt.subplot(133)\n",
    "plt.plot(range(1,11),reg_backward['adjr2'],'r-')\n",
    "plt.scatter(range(1,11),reg_backward['adjr2'],color = 'b')\n",
    "plt.scatter(reg_backward['adjr2'].astype('float64').idxmax(),reg_backward['adjr2'].max(),marker = 'x',s=500)\n",
    "plt.xlabel(u\"Number of Predictors\", fontsize=18)\n",
    "plt.ylabel(u\"Adjusted R2\", fontsize=18)\n",
    "plt.show()"
   ]
  },
  {
   "cell_type": "code",
   "execution_count": 15,
   "metadata": {},
   "outputs": [
    {
     "name": "stdout",
     "output_type": "stream",
     "text": [
      "best model obtained according to Cp:\n",
      " const        1.341533\n",
      "X            1.892792\n",
      "I(X ** 2)    1.473120\n",
      "I(X ** 5)    2.515252\n",
      "I(X ** 6)    0.032140\n",
      "I(X ** 7)   -0.713775\n",
      "I(X ** 9)    0.065425\n",
      "dtype: float64\n",
      "best model obtained according to bic:\n",
      " const        1.341533\n",
      "X            1.892792\n",
      "I(X ** 2)    1.473120\n",
      "I(X ** 5)    2.515252\n",
      "I(X ** 6)    0.032140\n",
      "I(X ** 7)   -0.713775\n",
      "I(X ** 9)    0.065425\n",
      "dtype: float64\n",
      "best model obtained according to adjr2:\n",
      " const        1.228907\n",
      "X            1.810339\n",
      "I(X ** 2)    2.095075\n",
      "I(X ** 4)   -0.450274\n",
      "I(X ** 5)    2.703028\n",
      "I(X ** 6)    0.102300\n",
      "I(X ** 7)   -0.803511\n",
      "I(X ** 9)    0.076225\n",
      "dtype: float64\n"
     ]
    }
   ],
   "source": [
    "print('best model obtained according to Cp:\\n', reg_backward['params'][reg_backward['cp'].astype('float64').idxmin()])\n",
    "print('best model obtained according to bic:\\n', reg_backward['params'][reg_backward['bic'].astype('float64').idxmin()])\n",
    "print('best model obtained according to adjr2:\\n', reg_backward['params'][reg_backward['adjr2'].astype('float64').idxmax()])"
   ]
  },
  {
   "cell_type": "markdown",
   "metadata": {},
   "source": [
    "**向前选择与最优子集比较接近（依然有所区别），向后选择区别较大**"
   ]
  },
  {
   "cell_type": "markdown",
   "metadata": {},
   "source": [
    "**(e) Now fit a lasso model to the simulated data, again using X,X 2 ,\n",
    "...,X 10 as predictors. Use cross-validation to select the optimal\n",
    "value of λ. Create plots of the cross-validation error as a function\n",
    "of λ. Report the resulting coefficient estimates, and discuss the\n",
    "results obtained.**"
   ]
  },
  {
   "cell_type": "code",
   "execution_count": 16,
   "metadata": {},
   "outputs": [
    {
     "name": "stderr",
     "output_type": "stream",
     "text": [
      "c:\\users\\wujiaxu\\appdata\\local\\programs\\python\\python37\\lib\\site-packages\\sklearn\\linear_model\\_coordinate_descent.py:476: ConvergenceWarning: Objective did not converge. You might want to increase the number of iterations. Duality gap: 0.629010324828684, tolerance: 0.6098278894527988\n",
      "  positive)\n",
      "c:\\users\\wujiaxu\\appdata\\local\\programs\\python\\python37\\lib\\site-packages\\sklearn\\linear_model\\_coordinate_descent.py:476: ConvergenceWarning: Objective did not converge. You might want to increase the number of iterations. Duality gap: 0.9062072334135962, tolerance: 0.5641191461462634\n",
      "  positive)\n",
      "c:\\users\\wujiaxu\\appdata\\local\\programs\\python\\python37\\lib\\site-packages\\sklearn\\linear_model\\_coordinate_descent.py:476: ConvergenceWarning: Objective did not converge. You might want to increase the number of iterations. Duality gap: 1.1366423481205956, tolerance: 0.7884096065948382\n",
      "  positive)\n",
      "c:\\users\\wujiaxu\\appdata\\local\\programs\\python\\python37\\lib\\site-packages\\sklearn\\linear_model\\_coordinate_descent.py:476: ConvergenceWarning: Objective did not converge. You might want to increase the number of iterations. Duality gap: 1.0202823351763755, tolerance: 0.6198423865140124\n",
      "  positive)\n",
      "c:\\users\\wujiaxu\\appdata\\local\\programs\\python\\python37\\lib\\site-packages\\sklearn\\linear_model\\_coordinate_descent.py:476: ConvergenceWarning: Objective did not converge. You might want to increase the number of iterations. Duality gap: 1.8082085993838888, tolerance: 0.5641191461462634\n",
      "  positive)\n",
      "c:\\users\\wujiaxu\\appdata\\local\\programs\\python\\python37\\lib\\site-packages\\sklearn\\linear_model\\_coordinate_descent.py:476: ConvergenceWarning: Objective did not converge. You might want to increase the number of iterations. Duality gap: 1.649765117920019, tolerance: 0.7884096065948382\n",
      "  positive)\n",
      "c:\\users\\wujiaxu\\appdata\\local\\programs\\python\\python37\\lib\\site-packages\\sklearn\\linear_model\\_coordinate_descent.py:476: ConvergenceWarning: Objective did not converge. You might want to increase the number of iterations. Duality gap: 1.0621575196602322, tolerance: 0.7858799898172384\n",
      "  positive)\n",
      "c:\\users\\wujiaxu\\appdata\\local\\programs\\python\\python37\\lib\\site-packages\\sklearn\\linear_model\\_coordinate_descent.py:476: ConvergenceWarning: Objective did not converge. You might want to increase the number of iterations. Duality gap: 1.652449887250853, tolerance: 0.6198423865140124\n",
      "  positive)\n",
      "c:\\users\\wujiaxu\\appdata\\local\\programs\\python\\python37\\lib\\site-packages\\sklearn\\linear_model\\_coordinate_descent.py:476: ConvergenceWarning: Objective did not converge. You might want to increase the number of iterations. Duality gap: 0.8344266147092156, tolerance: 0.6098278894527988\n",
      "  positive)\n",
      "c:\\users\\wujiaxu\\appdata\\local\\programs\\python\\python37\\lib\\site-packages\\sklearn\\linear_model\\_coordinate_descent.py:476: ConvergenceWarning: Objective did not converge. You might want to increase the number of iterations. Duality gap: 2.5052898575677105, tolerance: 0.7894059796817569\n",
      "  positive)\n",
      "c:\\users\\wujiaxu\\appdata\\local\\programs\\python\\python37\\lib\\site-packages\\sklearn\\linear_model\\_coordinate_descent.py:476: ConvergenceWarning: Objective did not converge. You might want to increase the number of iterations. Duality gap: 2.2969562453194072, tolerance: 0.5641191461462634\n",
      "  positive)\n",
      "c:\\users\\wujiaxu\\appdata\\local\\programs\\python\\python37\\lib\\site-packages\\sklearn\\linear_model\\_coordinate_descent.py:476: ConvergenceWarning: Objective did not converge. You might want to increase the number of iterations. Duality gap: 2.0788877343699497, tolerance: 0.7405031944872911\n",
      "  positive)\n",
      "c:\\users\\wujiaxu\\appdata\\local\\programs\\python\\python37\\lib\\site-packages\\sklearn\\linear_model\\_coordinate_descent.py:476: ConvergenceWarning: Objective did not converge. You might want to increase the number of iterations. Duality gap: 1.4559957946107858, tolerance: 0.7858799898172384\n",
      "  positive)\n",
      "c:\\users\\wujiaxu\\appdata\\local\\programs\\python\\python37\\lib\\site-packages\\sklearn\\linear_model\\_coordinate_descent.py:476: ConvergenceWarning: Objective did not converge. You might want to increase the number of iterations. Duality gap: 2.2307314372703573, tolerance: 0.6198423865140124\n",
      "  positive)\n",
      "c:\\users\\wujiaxu\\appdata\\local\\programs\\python\\python37\\lib\\site-packages\\sklearn\\linear_model\\_coordinate_descent.py:476: ConvergenceWarning: Objective did not converge. You might want to increase the number of iterations. Duality gap: 3.125364301106444, tolerance: 0.6098278894527988\n",
      "  positive)\n",
      "c:\\users\\wujiaxu\\appdata\\local\\programs\\python\\python37\\lib\\site-packages\\sklearn\\linear_model\\_coordinate_descent.py:476: ConvergenceWarning: Objective did not converge. You might want to increase the number of iterations. Duality gap: 4.867642007621733, tolerance: 0.7894059796817569\n",
      "  positive)\n",
      "c:\\users\\wujiaxu\\appdata\\local\\programs\\python\\python37\\lib\\site-packages\\sklearn\\linear_model\\_coordinate_descent.py:476: ConvergenceWarning: Objective did not converge. You might want to increase the number of iterations. Duality gap: 2.5655794315660074, tolerance: 0.5641191461462634\n",
      "  positive)\n",
      "c:\\users\\wujiaxu\\appdata\\local\\programs\\python\\python37\\lib\\site-packages\\sklearn\\linear_model\\_coordinate_descent.py:476: ConvergenceWarning: Objective did not converge. You might want to increase the number of iterations. Duality gap: 4.443101290157905, tolerance: 0.7405031944872911\n",
      "  positive)\n",
      "c:\\users\\wujiaxu\\appdata\\local\\programs\\python\\python37\\lib\\site-packages\\sklearn\\linear_model\\_coordinate_descent.py:476: ConvergenceWarning: Objective did not converge. You might want to increase the number of iterations. Duality gap: 1.9360520943191517, tolerance: 0.7858799898172384\n",
      "  positive)\n",
      "c:\\users\\wujiaxu\\appdata\\local\\programs\\python\\python37\\lib\\site-packages\\sklearn\\linear_model\\_coordinate_descent.py:476: ConvergenceWarning: Objective did not converge. You might want to increase the number of iterations. Duality gap: 4.3608306377172354, tolerance: 0.6198423865140124\n",
      "  positive)\n",
      "c:\\users\\wujiaxu\\appdata\\local\\programs\\python\\python37\\lib\\site-packages\\sklearn\\linear_model\\_coordinate_descent.py:476: ConvergenceWarning: Objective did not converge. You might want to increase the number of iterations. Duality gap: 1.5154742455747225, tolerance: 0.786190558721401\n",
      "  positive)\n",
      "c:\\users\\wujiaxu\\appdata\\local\\programs\\python\\python37\\lib\\site-packages\\sklearn\\linear_model\\_coordinate_descent.py:476: ConvergenceWarning: Objective did not converge. You might want to increase the number of iterations. Duality gap: 2.8233327201166745, tolerance: 0.7491792947960265\n",
      "  positive)\n",
      "c:\\users\\wujiaxu\\appdata\\local\\programs\\python\\python37\\lib\\site-packages\\sklearn\\linear_model\\_coordinate_descent.py:476: ConvergenceWarning: Objective did not converge. You might want to increase the number of iterations. Duality gap: 6.122414740873452, tolerance: 0.6098278894527988\n",
      "  positive)\n",
      "c:\\users\\wujiaxu\\appdata\\local\\programs\\python\\python37\\lib\\site-packages\\sklearn\\linear_model\\_coordinate_descent.py:476: ConvergenceWarning: Objective did not converge. You might want to increase the number of iterations. Duality gap: 7.333596803350154, tolerance: 0.7894059796817569\n",
      "  positive)\n",
      "c:\\users\\wujiaxu\\appdata\\local\\programs\\python\\python37\\lib\\site-packages\\sklearn\\linear_model\\_coordinate_descent.py:476: ConvergenceWarning: Objective did not converge. You might want to increase the number of iterations. Duality gap: 3.0126950988180994, tolerance: 0.5641191461462634\n",
      "  positive)\n",
      "c:\\users\\wujiaxu\\appdata\\local\\programs\\python\\python37\\lib\\site-packages\\sklearn\\linear_model\\_coordinate_descent.py:476: ConvergenceWarning: Objective did not converge. You might want to increase the number of iterations. Duality gap: 7.0526106546334475, tolerance: 0.7405031944872911\n",
      "  positive)\n",
      "c:\\users\\wujiaxu\\appdata\\local\\programs\\python\\python37\\lib\\site-packages\\sklearn\\linear_model\\_coordinate_descent.py:476: ConvergenceWarning: Objective did not converge. You might want to increase the number of iterations. Duality gap: 2.7651538098218182, tolerance: 0.7858799898172384\n",
      "  positive)\n",
      "c:\\users\\wujiaxu\\appdata\\local\\programs\\python\\python37\\lib\\site-packages\\sklearn\\linear_model\\_coordinate_descent.py:476: ConvergenceWarning: Objective did not converge. You might want to increase the number of iterations. Duality gap: 6.166584020006873, tolerance: 0.6198423865140124\n",
      "  positive)\n",
      "c:\\users\\wujiaxu\\appdata\\local\\programs\\python\\python37\\lib\\site-packages\\sklearn\\linear_model\\_coordinate_descent.py:476: ConvergenceWarning: Objective did not converge. You might want to increase the number of iterations. Duality gap: 1.4214768329311696, tolerance: 0.7224644125589222\n",
      "  positive)\n",
      "c:\\users\\wujiaxu\\appdata\\local\\programs\\python\\python37\\lib\\site-packages\\sklearn\\linear_model\\_coordinate_descent.py:476: ConvergenceWarning: Objective did not converge. You might want to increase the number of iterations. Duality gap: 2.5623934458731696, tolerance: 0.786190558721401\n",
      "  positive)\n",
      "c:\\users\\wujiaxu\\appdata\\local\\programs\\python\\python37\\lib\\site-packages\\sklearn\\linear_model\\_coordinate_descent.py:476: ConvergenceWarning: Objective did not converge. You might want to increase the number of iterations. Duality gap: 5.64880223714993, tolerance: 0.7491792947960265\n",
      "  positive)\n",
      "c:\\users\\wujiaxu\\appdata\\local\\programs\\python\\python37\\lib\\site-packages\\sklearn\\linear_model\\_coordinate_descent.py:476: ConvergenceWarning: Objective did not converge. You might want to increase the number of iterations. Duality gap: 9.381242289124145, tolerance: 0.6098278894527988\n",
      "  positive)\n",
      "c:\\users\\wujiaxu\\appdata\\local\\programs\\python\\python37\\lib\\site-packages\\sklearn\\linear_model\\_coordinate_descent.py:476: ConvergenceWarning: Objective did not converge. You might want to increase the number of iterations. Duality gap: 9.970330155892654, tolerance: 0.7894059796817569\n",
      "  positive)\n",
      "c:\\users\\wujiaxu\\appdata\\local\\programs\\python\\python37\\lib\\site-packages\\sklearn\\linear_model\\_coordinate_descent.py:476: ConvergenceWarning: Objective did not converge. You might want to increase the number of iterations. Duality gap: 4.263166645552936, tolerance: 0.5641191461462634\n",
      "  positive)\n",
      "c:\\users\\wujiaxu\\appdata\\local\\programs\\python\\python37\\lib\\site-packages\\sklearn\\linear_model\\_coordinate_descent.py:476: ConvergenceWarning: Objective did not converge. You might want to increase the number of iterations. Duality gap: 9.798882612273324, tolerance: 0.7405031944872911\n",
      "  positive)\n",
      "c:\\users\\wujiaxu\\appdata\\local\\programs\\python\\python37\\lib\\site-packages\\sklearn\\linear_model\\_coordinate_descent.py:476: ConvergenceWarning: Objective did not converge. You might want to increase the number of iterations. Duality gap: 4.506837300955702, tolerance: 0.7858799898172384\n",
      "  positive)\n"
     ]
    },
    {
     "name": "stderr",
     "output_type": "stream",
     "text": [
      "c:\\users\\wujiaxu\\appdata\\local\\programs\\python\\python37\\lib\\site-packages\\sklearn\\linear_model\\_coordinate_descent.py:476: ConvergenceWarning: Objective did not converge. You might want to increase the number of iterations. Duality gap: 8.26835928172217, tolerance: 0.6198423865140124\n",
      "  positive)\n",
      "c:\\users\\wujiaxu\\appdata\\local\\programs\\python\\python37\\lib\\site-packages\\sklearn\\linear_model\\_coordinate_descent.py:476: ConvergenceWarning: Objective did not converge. You might want to increase the number of iterations. Duality gap: 3.7032179111042964, tolerance: 0.7224644125589222\n",
      "  positive)\n",
      "c:\\users\\wujiaxu\\appdata\\local\\programs\\python\\python37\\lib\\site-packages\\sklearn\\linear_model\\_coordinate_descent.py:476: ConvergenceWarning: Objective did not converge. You might want to increase the number of iterations. Duality gap: 3.798330674615819, tolerance: 0.786190558721401\n",
      "  positive)\n",
      "c:\\users\\wujiaxu\\appdata\\local\\programs\\python\\python37\\lib\\site-packages\\sklearn\\linear_model\\_coordinate_descent.py:476: ConvergenceWarning: Objective did not converge. You might want to increase the number of iterations. Duality gap: 8.748900392367489, tolerance: 0.7491792947960265\n",
      "  positive)\n",
      "c:\\users\\wujiaxu\\appdata\\local\\programs\\python\\python37\\lib\\site-packages\\sklearn\\linear_model\\_coordinate_descent.py:476: ConvergenceWarning: Objective did not converge. You might want to increase the number of iterations. Duality gap: 12.542773271372113, tolerance: 0.6098278894527988\n",
      "  positive)\n",
      "c:\\users\\wujiaxu\\appdata\\local\\programs\\python\\python37\\lib\\site-packages\\sklearn\\linear_model\\_coordinate_descent.py:476: ConvergenceWarning: Objective did not converge. You might want to increase the number of iterations. Duality gap: 12.245325975417128, tolerance: 0.7894059796817569\n",
      "  positive)\n",
      "c:\\users\\wujiaxu\\appdata\\local\\programs\\python\\python37\\lib\\site-packages\\sklearn\\linear_model\\_coordinate_descent.py:476: ConvergenceWarning: Objective did not converge. You might want to increase the number of iterations. Duality gap: 6.087821388276275, tolerance: 0.5641191461462634\n",
      "  positive)\n",
      "c:\\users\\wujiaxu\\appdata\\local\\programs\\python\\python37\\lib\\site-packages\\sklearn\\linear_model\\_coordinate_descent.py:476: ConvergenceWarning: Objective did not converge. You might want to increase the number of iterations. Duality gap: 12.344371894687985, tolerance: 0.7405031944872911\n",
      "  positive)\n",
      "c:\\users\\wujiaxu\\appdata\\local\\programs\\python\\python37\\lib\\site-packages\\sklearn\\linear_model\\_coordinate_descent.py:476: ConvergenceWarning: Objective did not converge. You might want to increase the number of iterations. Duality gap: 2.147617584128156, tolerance: 0.7884096065948382\n",
      "  positive)\n",
      "c:\\users\\wujiaxu\\appdata\\local\\programs\\python\\python37\\lib\\site-packages\\sklearn\\linear_model\\_coordinate_descent.py:476: ConvergenceWarning: Objective did not converge. You might want to increase the number of iterations. Duality gap: 6.454391164752494, tolerance: 0.7858799898172384\n",
      "  positive)\n",
      "c:\\users\\wujiaxu\\appdata\\local\\programs\\python\\python37\\lib\\site-packages\\sklearn\\linear_model\\_coordinate_descent.py:476: ConvergenceWarning: Objective did not converge. You might want to increase the number of iterations. Duality gap: 10.442718648132036, tolerance: 0.6198423865140124\n",
      "  positive)\n",
      "c:\\users\\wujiaxu\\appdata\\local\\programs\\python\\python37\\lib\\site-packages\\sklearn\\linear_model\\_coordinate_descent.py:476: ConvergenceWarning: Objective did not converge. You might want to increase the number of iterations. Duality gap: 6.251896521058427, tolerance: 0.7224644125589222\n",
      "  positive)\n",
      "c:\\users\\wujiaxu\\appdata\\local\\programs\\python\\python37\\lib\\site-packages\\sklearn\\linear_model\\_coordinate_descent.py:476: ConvergenceWarning: Objective did not converge. You might want to increase the number of iterations. Duality gap: 5.855726527293122, tolerance: 0.786190558721401\n",
      "  positive)\n",
      "c:\\users\\wujiaxu\\appdata\\local\\programs\\python\\python37\\lib\\site-packages\\sklearn\\linear_model\\_coordinate_descent.py:476: ConvergenceWarning: Objective did not converge. You might want to increase the number of iterations. Duality gap: 11.501580691677159, tolerance: 0.7491792947960265\n",
      "  positive)\n",
      "c:\\users\\wujiaxu\\appdata\\local\\programs\\python\\python37\\lib\\site-packages\\sklearn\\linear_model\\_coordinate_descent.py:476: ConvergenceWarning: Objective did not converge. You might want to increase the number of iterations. Duality gap: 15.496134685498461, tolerance: 0.6098278894527988\n",
      "  positive)\n",
      "c:\\users\\wujiaxu\\appdata\\local\\programs\\python\\python37\\lib\\site-packages\\sklearn\\linear_model\\_coordinate_descent.py:476: ConvergenceWarning: Objective did not converge. You might want to increase the number of iterations. Duality gap: 14.383039336840916, tolerance: 0.7894059796817569\n",
      "  positive)\n",
      "c:\\users\\wujiaxu\\appdata\\local\\programs\\python\\python37\\lib\\site-packages\\sklearn\\linear_model\\_coordinate_descent.py:476: ConvergenceWarning: Objective did not converge. You might want to increase the number of iterations. Duality gap: 8.194308399176258, tolerance: 0.5641191461462634\n",
      "  positive)\n",
      "c:\\users\\wujiaxu\\appdata\\local\\programs\\python\\python37\\lib\\site-packages\\sklearn\\linear_model\\_coordinate_descent.py:476: ConvergenceWarning: Objective did not converge. You might want to increase the number of iterations. Duality gap: 14.712013515354815, tolerance: 0.7405031944872911\n",
      "  positive)\n",
      "c:\\users\\wujiaxu\\appdata\\local\\programs\\python\\python37\\lib\\site-packages\\sklearn\\linear_model\\_coordinate_descent.py:476: ConvergenceWarning: Objective did not converge. You might want to increase the number of iterations. Duality gap: 5.007863921985958, tolerance: 0.7884096065948382\n",
      "  positive)\n",
      "c:\\users\\wujiaxu\\appdata\\local\\programs\\python\\python37\\lib\\site-packages\\sklearn\\linear_model\\_coordinate_descent.py:476: ConvergenceWarning: Objective did not converge. You might want to increase the number of iterations. Duality gap: 8.485469507639344, tolerance: 0.7858799898172384\n",
      "  positive)\n",
      "c:\\users\\wujiaxu\\appdata\\local\\programs\\python\\python37\\lib\\site-packages\\sklearn\\linear_model\\_coordinate_descent.py:476: ConvergenceWarning: Objective did not converge. You might want to increase the number of iterations. Duality gap: 12.624859844622534, tolerance: 0.6198423865140124\n",
      "  positive)\n",
      "c:\\users\\wujiaxu\\appdata\\local\\programs\\python\\python37\\lib\\site-packages\\sklearn\\linear_model\\_coordinate_descent.py:476: ConvergenceWarning: Objective did not converge. You might want to increase the number of iterations. Duality gap: 8.776424646553217, tolerance: 0.7224644125589222\n",
      "  positive)\n",
      "c:\\users\\wujiaxu\\appdata\\local\\programs\\python\\python37\\lib\\site-packages\\sklearn\\linear_model\\_coordinate_descent.py:476: ConvergenceWarning: Objective did not converge. You might want to increase the number of iterations. Duality gap: 8.287006834026315, tolerance: 0.786190558721401\n",
      "  positive)\n",
      "c:\\users\\wujiaxu\\appdata\\local\\programs\\python\\python37\\lib\\site-packages\\sklearn\\linear_model\\_coordinate_descent.py:476: ConvergenceWarning: Objective did not converge. You might want to increase the number of iterations. Duality gap: 14.11050571421119, tolerance: 0.7491792947960265\n",
      "  positive)\n",
      "c:\\users\\wujiaxu\\appdata\\local\\programs\\python\\python37\\lib\\site-packages\\sklearn\\linear_model\\_coordinate_descent.py:476: ConvergenceWarning: Objective did not converge. You might want to increase the number of iterations. Duality gap: 18.200640404821, tolerance: 0.6098278894527988\n",
      "  positive)\n",
      "c:\\users\\wujiaxu\\appdata\\local\\programs\\python\\python37\\lib\\site-packages\\sklearn\\linear_model\\_coordinate_descent.py:476: ConvergenceWarning: Objective did not converge. You might want to increase the number of iterations. Duality gap: 16.356525717428358, tolerance: 0.7894059796817569\n",
      "  positive)\n",
      "c:\\users\\wujiaxu\\appdata\\local\\programs\\python\\python37\\lib\\site-packages\\sklearn\\linear_model\\_coordinate_descent.py:476: ConvergenceWarning: Objective did not converge. You might want to increase the number of iterations. Duality gap: 10.428131889631253, tolerance: 0.5641191461462634\n",
      "  positive)\n",
      "c:\\users\\wujiaxu\\appdata\\local\\programs\\python\\python37\\lib\\site-packages\\sklearn\\linear_model\\_coordinate_descent.py:476: ConvergenceWarning: Objective did not converge. You might want to increase the number of iterations. Duality gap: 17.22349963546782, tolerance: 0.7405031944872911\n",
      "  positive)\n",
      "c:\\users\\wujiaxu\\appdata\\local\\programs\\python\\python37\\lib\\site-packages\\sklearn\\linear_model\\_coordinate_descent.py:476: ConvergenceWarning: Objective did not converge. You might want to increase the number of iterations. Duality gap: 8.101320924420087, tolerance: 0.7884096065948382\n",
      "  positive)\n",
      "c:\\users\\wujiaxu\\appdata\\local\\programs\\python\\python37\\lib\\site-packages\\sklearn\\linear_model\\_coordinate_descent.py:476: ConvergenceWarning: Objective did not converge. You might want to increase the number of iterations. Duality gap: 10.339402714298409, tolerance: 0.7858799898172384\n",
      "  positive)\n",
      "c:\\users\\wujiaxu\\appdata\\local\\programs\\python\\python37\\lib\\site-packages\\sklearn\\linear_model\\_coordinate_descent.py:476: ConvergenceWarning: Objective did not converge. You might want to increase the number of iterations. Duality gap: 14.763992144075637, tolerance: 0.6198423865140124\n",
      "  positive)\n",
      "c:\\users\\wujiaxu\\appdata\\local\\programs\\python\\python37\\lib\\site-packages\\sklearn\\linear_model\\_coordinate_descent.py:476: ConvergenceWarning: Objective did not converge. You might want to increase the number of iterations. Duality gap: 11.286346998086863, tolerance: 0.7224644125589222\n",
      "  positive)\n",
      "c:\\users\\wujiaxu\\appdata\\local\\programs\\python\\python37\\lib\\site-packages\\sklearn\\linear_model\\_coordinate_descent.py:476: ConvergenceWarning: Objective did not converge. You might want to increase the number of iterations. Duality gap: 10.673318566475892, tolerance: 0.786190558721401\n",
      "  positive)\n",
      "c:\\users\\wujiaxu\\appdata\\local\\programs\\python\\python37\\lib\\site-packages\\sklearn\\linear_model\\_coordinate_descent.py:476: ConvergenceWarning: Objective did not converge. You might want to increase the number of iterations. Duality gap: 16.53224570806248, tolerance: 0.7491792947960265\n",
      "  positive)\n",
      "c:\\users\\wujiaxu\\appdata\\local\\programs\\python\\python37\\lib\\site-packages\\sklearn\\linear_model\\_coordinate_descent.py:476: ConvergenceWarning: Objective did not converge. You might want to increase the number of iterations. Duality gap: 20.514860380855477, tolerance: 0.6098278894527988\n",
      "  positive)\n",
      "c:\\users\\wujiaxu\\appdata\\local\\programs\\python\\python37\\lib\\site-packages\\sklearn\\linear_model\\_coordinate_descent.py:476: ConvergenceWarning: Objective did not converge. You might want to increase the number of iterations. Duality gap: 18.1587367592785, tolerance: 0.7894059796817569\n",
      "  positive)\n",
      "c:\\users\\wujiaxu\\appdata\\local\\programs\\python\\python37\\lib\\site-packages\\sklearn\\linear_model\\_coordinate_descent.py:476: ConvergenceWarning: Objective did not converge. You might want to increase the number of iterations. Duality gap: 12.690068070350705, tolerance: 0.5641191461462634\n",
      "  positive)\n",
      "c:\\users\\wujiaxu\\appdata\\local\\programs\\python\\python37\\lib\\site-packages\\sklearn\\linear_model\\_coordinate_descent.py:476: ConvergenceWarning: Objective did not converge. You might want to increase the number of iterations. Duality gap: 19.37938928288264, tolerance: 0.7405031944872911\n",
      "  positive)\n",
      "c:\\users\\wujiaxu\\appdata\\local\\programs\\python\\python37\\lib\\site-packages\\sklearn\\linear_model\\_coordinate_descent.py:476: ConvergenceWarning: Objective did not converge. You might want to increase the number of iterations. Duality gap: 11.149093338761176, tolerance: 0.7884096065948382\n",
      "  positive)\n",
      "c:\\users\\wujiaxu\\appdata\\local\\programs\\python\\python37\\lib\\site-packages\\sklearn\\linear_model\\_coordinate_descent.py:476: ConvergenceWarning: Objective did not converge. You might want to increase the number of iterations. Duality gap: 12.353810617386369, tolerance: 0.7858799898172384\n",
      "  positive)\n",
      "c:\\users\\wujiaxu\\appdata\\local\\programs\\python\\python37\\lib\\site-packages\\sklearn\\linear_model\\_coordinate_descent.py:476: ConvergenceWarning: Objective did not converge. You might want to increase the number of iterations. Duality gap: 16.821963255724363, tolerance: 0.6198423865140124\n",
      "  positive)\n",
      "c:\\users\\wujiaxu\\appdata\\local\\programs\\python\\python37\\lib\\site-packages\\sklearn\\linear_model\\_coordinate_descent.py:476: ConvergenceWarning: Objective did not converge. You might want to increase the number of iterations. Duality gap: 13.698940279831774, tolerance: 0.7224644125589222\n",
      "  positive)\n",
      "c:\\users\\wujiaxu\\appdata\\local\\programs\\python\\python37\\lib\\site-packages\\sklearn\\linear_model\\_coordinate_descent.py:476: ConvergenceWarning: Objective did not converge. You might want to increase the number of iterations. Duality gap: 12.941075207031044, tolerance: 0.786190558721401\n",
      "  positive)\n",
      "c:\\users\\wujiaxu\\appdata\\local\\programs\\python\\python37\\lib\\site-packages\\sklearn\\linear_model\\_coordinate_descent.py:476: ConvergenceWarning: Objective did not converge. You might want to increase the number of iterations. Duality gap: 18.744919375346495, tolerance: 0.7491792947960265\n",
      "  positive)\n",
      "c:\\users\\wujiaxu\\appdata\\local\\programs\\python\\python37\\lib\\site-packages\\sklearn\\linear_model\\_coordinate_descent.py:476: ConvergenceWarning: Objective did not converge. You might want to increase the number of iterations. Duality gap: 22.71976056607536, tolerance: 0.6098278894527988\n",
      "  positive)\n",
      "c:\\users\\wujiaxu\\appdata\\local\\programs\\python\\python37\\lib\\site-packages\\sklearn\\linear_model\\_coordinate_descent.py:476: ConvergenceWarning: Objective did not converge. You might want to increase the number of iterations. Duality gap: 19.789997441889106, tolerance: 0.7894059796817569\n",
      "  positive)\n",
      "c:\\users\\wujiaxu\\appdata\\local\\programs\\python\\python37\\lib\\site-packages\\sklearn\\linear_model\\_coordinate_descent.py:476: ConvergenceWarning: Objective did not converge. You might want to increase the number of iterations. Duality gap: 15.209033693275224, tolerance: 0.5641191461462634\n",
      "  positive)\n",
      "c:\\users\\wujiaxu\\appdata\\local\\programs\\python\\python37\\lib\\site-packages\\sklearn\\linear_model\\_coordinate_descent.py:476: ConvergenceWarning: Objective did not converge. You might want to increase the number of iterations. Duality gap: 21.31313499493675, tolerance: 0.7405031944872911\n",
      "  positive)\n"
     ]
    },
    {
     "name": "stderr",
     "output_type": "stream",
     "text": [
      "c:\\users\\wujiaxu\\appdata\\local\\programs\\python\\python37\\lib\\site-packages\\sklearn\\linear_model\\_coordinate_descent.py:476: ConvergenceWarning: Objective did not converge. You might want to increase the number of iterations. Duality gap: 14.027088182035815, tolerance: 0.7884096065948382\n",
      "  positive)\n",
      "c:\\users\\wujiaxu\\appdata\\local\\programs\\python\\python37\\lib\\site-packages\\sklearn\\linear_model\\_coordinate_descent.py:476: ConvergenceWarning: Objective did not converge. You might want to increase the number of iterations. Duality gap: 14.389214070111567, tolerance: 0.7858799898172384\n",
      "  positive)\n",
      "c:\\users\\wujiaxu\\appdata\\local\\programs\\python\\python37\\lib\\site-packages\\sklearn\\linear_model\\_coordinate_descent.py:476: ConvergenceWarning: Objective did not converge. You might want to increase the number of iterations. Duality gap: 18.771598359474623, tolerance: 0.6198423865140124\n",
      "  positive)\n",
      "c:\\users\\wujiaxu\\appdata\\local\\programs\\python\\python37\\lib\\site-packages\\sklearn\\linear_model\\_coordinate_descent.py:476: ConvergenceWarning: Objective did not converge. You might want to increase the number of iterations. Duality gap: 15.965598108287452, tolerance: 0.7224644125589222\n",
      "  positive)\n",
      "c:\\users\\wujiaxu\\appdata\\local\\programs\\python\\python37\\lib\\site-packages\\sklearn\\linear_model\\_coordinate_descent.py:476: ConvergenceWarning: Objective did not converge. You might want to increase the number of iterations. Duality gap: 15.052342217878206, tolerance: 0.786190558721401\n",
      "  positive)\n",
      "c:\\users\\wujiaxu\\appdata\\local\\programs\\python\\python37\\lib\\site-packages\\sklearn\\linear_model\\_coordinate_descent.py:476: ConvergenceWarning: Objective did not converge. You might want to increase the number of iterations. Duality gap: 20.746749446778853, tolerance: 0.7491792947960265\n",
      "  positive)\n",
      "c:\\users\\wujiaxu\\appdata\\local\\programs\\python\\python37\\lib\\site-packages\\sklearn\\linear_model\\_coordinate_descent.py:476: ConvergenceWarning: Objective did not converge. You might want to increase the number of iterations. Duality gap: 24.669798229214926, tolerance: 0.6098278894527988\n",
      "  positive)\n",
      "c:\\users\\wujiaxu\\appdata\\local\\programs\\python\\python37\\lib\\site-packages\\sklearn\\linear_model\\_coordinate_descent.py:476: ConvergenceWarning: Objective did not converge. You might want to increase the number of iterations. Duality gap: 21.255125597289187, tolerance: 0.7894059796817569\n",
      "  positive)\n",
      "c:\\users\\wujiaxu\\appdata\\local\\programs\\python\\python37\\lib\\site-packages\\sklearn\\linear_model\\_coordinate_descent.py:476: ConvergenceWarning: Objective did not converge. You might want to increase the number of iterations. Duality gap: 17.800922707458174, tolerance: 0.5641191461462634\n",
      "  positive)\n",
      "c:\\users\\wujiaxu\\appdata\\local\\programs\\python\\python37\\lib\\site-packages\\sklearn\\linear_model\\_coordinate_descent.py:476: ConvergenceWarning: Objective did not converge. You might want to increase the number of iterations. Duality gap: 23.04388248765918, tolerance: 0.7405031944872911\n",
      "  positive)\n",
      "c:\\users\\wujiaxu\\appdata\\local\\programs\\python\\python37\\lib\\site-packages\\sklearn\\linear_model\\_coordinate_descent.py:476: ConvergenceWarning: Objective did not converge. You might want to increase the number of iterations. Duality gap: 16.677757477985534, tolerance: 0.7884096065948382\n",
      "  positive)\n",
      "c:\\users\\wujiaxu\\appdata\\local\\programs\\python\\python37\\lib\\site-packages\\sklearn\\linear_model\\_coordinate_descent.py:476: ConvergenceWarning: Objective did not converge. You might want to increase the number of iterations. Duality gap: 16.398587700425495, tolerance: 0.7858799898172384\n",
      "  positive)\n",
      "c:\\users\\wujiaxu\\appdata\\local\\programs\\python\\python37\\lib\\site-packages\\sklearn\\linear_model\\_coordinate_descent.py:476: ConvergenceWarning: Objective did not converge. You might want to increase the number of iterations. Duality gap: 20.595342734947856, tolerance: 0.6198423865140124\n",
      "  positive)\n",
      "c:\\users\\wujiaxu\\appdata\\local\\programs\\python\\python37\\lib\\site-packages\\sklearn\\linear_model\\_coordinate_descent.py:476: ConvergenceWarning: Objective did not converge. You might want to increase the number of iterations. Duality gap: 18.061529664308246, tolerance: 0.7224644125589222\n",
      "  positive)\n",
      "c:\\users\\wujiaxu\\appdata\\local\\programs\\python\\python37\\lib\\site-packages\\sklearn\\linear_model\\_coordinate_descent.py:476: ConvergenceWarning: Objective did not converge. You might want to increase the number of iterations. Duality gap: 16.98966318353514, tolerance: 0.786190558721401\n",
      "  positive)\n",
      "c:\\users\\wujiaxu\\appdata\\local\\programs\\python\\python37\\lib\\site-packages\\sklearn\\linear_model\\_coordinate_descent.py:476: ConvergenceWarning: Objective did not converge. You might want to increase the number of iterations. Duality gap: 22.543387287697882, tolerance: 0.7491792947960265\n",
      "  positive)\n",
      "c:\\users\\wujiaxu\\appdata\\local\\programs\\python\\python37\\lib\\site-packages\\sklearn\\linear_model\\_coordinate_descent.py:476: ConvergenceWarning: Objective did not converge. You might want to increase the number of iterations. Duality gap: 26.38816589560895, tolerance: 0.6098278894527988\n",
      "  positive)\n",
      "c:\\users\\wujiaxu\\appdata\\local\\programs\\python\\python37\\lib\\site-packages\\sklearn\\linear_model\\_coordinate_descent.py:476: ConvergenceWarning: Objective did not converge. You might want to increase the number of iterations. Duality gap: 22.565442568893793, tolerance: 0.7894059796817569\n",
      "  positive)\n",
      "c:\\users\\wujiaxu\\appdata\\local\\programs\\python\\python37\\lib\\site-packages\\sklearn\\linear_model\\_coordinate_descent.py:476: ConvergenceWarning: Objective did not converge. You might want to increase the number of iterations. Duality gap: 20.110838753279634, tolerance: 0.5641191461462634\n",
      "  positive)\n",
      "c:\\users\\wujiaxu\\appdata\\local\\programs\\python\\python37\\lib\\site-packages\\sklearn\\linear_model\\_coordinate_descent.py:476: ConvergenceWarning: Objective did not converge. You might want to increase the number of iterations. Duality gap: 24.584412404677057, tolerance: 0.7405031944872911\n",
      "  positive)\n",
      "c:\\users\\wujiaxu\\appdata\\local\\programs\\python\\python37\\lib\\site-packages\\sklearn\\linear_model\\_coordinate_descent.py:476: ConvergenceWarning: Objective did not converge. You might want to increase the number of iterations. Duality gap: 19.082856549379308, tolerance: 0.7884096065948382\n",
      "  positive)\n",
      "c:\\users\\wujiaxu\\appdata\\local\\programs\\python\\python37\\lib\\site-packages\\sklearn\\linear_model\\_coordinate_descent.py:476: ConvergenceWarning: Objective did not converge. You might want to increase the number of iterations. Duality gap: 18.45580734571495, tolerance: 0.7858799898172384\n",
      "  positive)\n",
      "c:\\users\\wujiaxu\\appdata\\local\\programs\\python\\python37\\lib\\site-packages\\sklearn\\linear_model\\_coordinate_descent.py:476: ConvergenceWarning: Objective did not converge. You might want to increase the number of iterations. Duality gap: 22.28779401618017, tolerance: 0.6198423865140124\n",
      "  positive)\n",
      "c:\\users\\wujiaxu\\appdata\\local\\programs\\python\\python37\\lib\\site-packages\\sklearn\\linear_model\\_coordinate_descent.py:476: ConvergenceWarning: Objective did not converge. You might want to increase the number of iterations. Duality gap: 19.97659345872321, tolerance: 0.7224644125589222\n",
      "  positive)\n",
      "c:\\users\\wujiaxu\\appdata\\local\\programs\\python\\python37\\lib\\site-packages\\sklearn\\linear_model\\_coordinate_descent.py:476: ConvergenceWarning: Objective did not converge. You might want to increase the number of iterations. Duality gap: 18.748611437818504, tolerance: 0.786190558721401\n",
      "  positive)\n",
      "c:\\users\\wujiaxu\\appdata\\local\\programs\\python\\python37\\lib\\site-packages\\sklearn\\linear_model\\_coordinate_descent.py:476: ConvergenceWarning: Objective did not converge. You might want to increase the number of iterations. Duality gap: 24.146221698276804, tolerance: 0.7491792947960265\n",
      "  positive)\n",
      "c:\\users\\wujiaxu\\appdata\\local\\programs\\python\\python37\\lib\\site-packages\\sklearn\\linear_model\\_coordinate_descent.py:476: ConvergenceWarning: Objective did not converge. You might want to increase the number of iterations. Duality gap: 27.89691692775923, tolerance: 0.6098278894527988\n",
      "  positive)\n",
      "c:\\users\\wujiaxu\\appdata\\local\\programs\\python\\python37\\lib\\site-packages\\sklearn\\linear_model\\_coordinate_descent.py:476: ConvergenceWarning: Objective did not converge. You might want to increase the number of iterations. Duality gap: 23.731272402793962, tolerance: 0.7894059796817569\n",
      "  positive)\n",
      "c:\\users\\wujiaxu\\appdata\\local\\programs\\python\\python37\\lib\\site-packages\\sklearn\\linear_model\\_coordinate_descent.py:476: ConvergenceWarning: Objective did not converge. You might want to increase the number of iterations. Duality gap: 22.15057865206996, tolerance: 0.5641191461462634\n",
      "  positive)\n",
      "c:\\users\\wujiaxu\\appdata\\local\\programs\\python\\python37\\lib\\site-packages\\sklearn\\linear_model\\_coordinate_descent.py:476: ConvergenceWarning: Objective did not converge. You might want to increase the number of iterations. Duality gap: 25.949826957820072, tolerance: 0.7405031944872911\n",
      "  positive)\n",
      "c:\\users\\wujiaxu\\appdata\\local\\programs\\python\\python37\\lib\\site-packages\\sklearn\\linear_model\\_coordinate_descent.py:476: ConvergenceWarning: Objective did not converge. You might want to increase the number of iterations. Duality gap: 21.24108427090645, tolerance: 0.7884096065948382\n",
      "  positive)\n",
      "c:\\users\\wujiaxu\\appdata\\local\\programs\\python\\python37\\lib\\site-packages\\sklearn\\linear_model\\_coordinate_descent.py:476: ConvergenceWarning: Objective did not converge. You might want to increase the number of iterations. Duality gap: 20.012569982913508, tolerance: 0.7858799898172384\n",
      "  positive)\n",
      "c:\\users\\wujiaxu\\appdata\\local\\programs\\python\\python37\\lib\\site-packages\\sklearn\\linear_model\\_coordinate_descent.py:476: ConvergenceWarning: Objective did not converge. You might want to increase the number of iterations. Duality gap: 23.889878728544737, tolerance: 0.6198423865140124\n",
      "  positive)\n",
      "c:\\users\\wujiaxu\\appdata\\local\\programs\\python\\python37\\lib\\site-packages\\sklearn\\linear_model\\_coordinate_descent.py:476: ConvergenceWarning: Objective did not converge. You might want to increase the number of iterations. Duality gap: 21.71076076217323, tolerance: 0.7224644125589222\n",
      "  positive)\n",
      "c:\\users\\wujiaxu\\appdata\\local\\programs\\python\\python37\\lib\\site-packages\\sklearn\\linear_model\\_coordinate_descent.py:476: ConvergenceWarning: Objective did not converge. You might want to increase the number of iterations. Duality gap: 20.332947243892832, tolerance: 0.786190558721401\n",
      "  positive)\n",
      "c:\\users\\wujiaxu\\appdata\\local\\programs\\python\\python37\\lib\\site-packages\\sklearn\\linear_model\\_coordinate_descent.py:476: ConvergenceWarning: Objective did not converge. You might want to increase the number of iterations. Duality gap: 25.567751804764722, tolerance: 0.7491792947960265\n",
      "  positive)\n",
      "c:\\users\\wujiaxu\\appdata\\local\\programs\\python\\python37\\lib\\site-packages\\sklearn\\linear_model\\_coordinate_descent.py:476: ConvergenceWarning: Objective did not converge. You might want to increase the number of iterations. Duality gap: 29.219401771975985, tolerance: 0.6098278894527988\n",
      "  positive)\n",
      "c:\\users\\wujiaxu\\appdata\\local\\programs\\python\\python37\\lib\\site-packages\\sklearn\\linear_model\\_coordinate_descent.py:476: ConvergenceWarning: Objective did not converge. You might want to increase the number of iterations. Duality gap: 24.76571245743433, tolerance: 0.7894059796817569\n",
      "  positive)\n",
      "c:\\users\\wujiaxu\\appdata\\local\\programs\\python\\python37\\lib\\site-packages\\sklearn\\linear_model\\_coordinate_descent.py:476: ConvergenceWarning: Objective did not converge. You might want to increase the number of iterations. Duality gap: 23.978975448396532, tolerance: 0.5641191461462634\n",
      "  positive)\n",
      "c:\\users\\wujiaxu\\appdata\\local\\programs\\python\\python37\\lib\\site-packages\\sklearn\\linear_model\\_coordinate_descent.py:476: ConvergenceWarning: Objective did not converge. You might want to increase the number of iterations. Duality gap: 27.155957502387558, tolerance: 0.7405031944872911\n",
      "  positive)\n",
      "c:\\users\\wujiaxu\\appdata\\local\\programs\\python\\python37\\lib\\site-packages\\sklearn\\linear_model\\_coordinate_descent.py:476: ConvergenceWarning: Objective did not converge. You might want to increase the number of iterations. Duality gap: 23.158032145950532, tolerance: 0.7884096065948382\n",
      "  positive)\n",
      "c:\\users\\wujiaxu\\appdata\\local\\programs\\python\\python37\\lib\\site-packages\\sklearn\\linear_model\\_coordinate_descent.py:476: ConvergenceWarning: Objective did not converge. You might want to increase the number of iterations. Duality gap: 21.46506321365294, tolerance: 0.7858799898172384\n",
      "  positive)\n",
      "c:\\users\\wujiaxu\\appdata\\local\\programs\\python\\python37\\lib\\site-packages\\sklearn\\linear_model\\_coordinate_descent.py:476: ConvergenceWarning: Objective did not converge. You might want to increase the number of iterations. Duality gap: 25.504838015907545, tolerance: 0.6198423865140124\n",
      "  positive)\n"
     ]
    },
    {
     "name": "stderr",
     "output_type": "stream",
     "text": [
      "c:\\users\\wujiaxu\\appdata\\local\\programs\\python\\python37\\lib\\site-packages\\sklearn\\linear_model\\_coordinate_descent.py:476: ConvergenceWarning: Objective did not converge. You might want to increase the number of iterations. Duality gap: 23.269934222477815, tolerance: 0.7224644125589222\n",
      "  positive)\n",
      "c:\\users\\wujiaxu\\appdata\\local\\programs\\python\\python37\\lib\\site-packages\\sklearn\\linear_model\\_coordinate_descent.py:476: ConvergenceWarning: Objective did not converge. You might want to increase the number of iterations. Duality gap: 21.751179613535967, tolerance: 0.786190558721401\n",
      "  positive)\n",
      "c:\\users\\wujiaxu\\appdata\\local\\programs\\python\\python37\\lib\\site-packages\\sklearn\\linear_model\\_coordinate_descent.py:476: ConvergenceWarning: Objective did not converge. You might want to increase the number of iterations. Duality gap: 26.824405503722463, tolerance: 0.7491792947960265\n",
      "  positive)\n",
      "c:\\users\\wujiaxu\\appdata\\local\\programs\\python\\python37\\lib\\site-packages\\sklearn\\linear_model\\_coordinate_descent.py:476: ConvergenceWarning: Objective did not converge. You might want to increase the number of iterations. Duality gap: 30.376843341846723, tolerance: 0.6098278894527988\n",
      "  positive)\n",
      "c:\\users\\wujiaxu\\appdata\\local\\programs\\python\\python37\\lib\\site-packages\\sklearn\\linear_model\\_coordinate_descent.py:476: ConvergenceWarning: Objective did not converge. You might want to increase the number of iterations. Duality gap: 25.679710661756328, tolerance: 0.7894059796817569\n",
      "  positive)\n",
      "c:\\users\\wujiaxu\\appdata\\local\\programs\\python\\python37\\lib\\site-packages\\sklearn\\linear_model\\_coordinate_descent.py:476: ConvergenceWarning: Objective did not converge. You might want to increase the number of iterations. Duality gap: 25.335301434168894, tolerance: 0.5641191461462634\n",
      "  positive)\n",
      "c:\\users\\wujiaxu\\appdata\\local\\programs\\python\\python37\\lib\\site-packages\\sklearn\\linear_model\\_coordinate_descent.py:476: ConvergenceWarning: Objective did not converge. You might want to increase the number of iterations. Duality gap: 28.218546020220685, tolerance: 0.7405031944872911\n",
      "  positive)\n",
      "c:\\users\\wujiaxu\\appdata\\local\\programs\\python\\python37\\lib\\site-packages\\sklearn\\linear_model\\_coordinate_descent.py:476: ConvergenceWarning: Objective did not converge. You might want to increase the number of iterations. Duality gap: 24.887452876661705, tolerance: 0.7884096065948382\n",
      "  positive)\n",
      "c:\\users\\wujiaxu\\appdata\\local\\programs\\python\\python37\\lib\\site-packages\\sklearn\\linear_model\\_coordinate_descent.py:476: ConvergenceWarning: Objective did not converge. You might want to increase the number of iterations. Duality gap: 22.824140543299638, tolerance: 0.7858799898172384\n",
      "  positive)\n",
      "c:\\users\\wujiaxu\\appdata\\local\\programs\\python\\python37\\lib\\site-packages\\sklearn\\linear_model\\_coordinate_descent.py:476: ConvergenceWarning: Objective did not converge. You might want to increase the number of iterations. Duality gap: 26.76238911769071, tolerance: 0.6198423865140124\n",
      "  positive)\n",
      "c:\\users\\wujiaxu\\appdata\\local\\programs\\python\\python37\\lib\\site-packages\\sklearn\\linear_model\\_coordinate_descent.py:476: ConvergenceWarning: Objective did not converge. You might want to increase the number of iterations. Duality gap: 24.635458480251692, tolerance: 0.7224644125589222\n",
      "  positive)\n",
      "c:\\users\\wujiaxu\\appdata\\local\\programs\\python\\python37\\lib\\site-packages\\sklearn\\linear_model\\_coordinate_descent.py:476: ConvergenceWarning: Objective did not converge. You might want to increase the number of iterations. Duality gap: 23.01466154269756, tolerance: 0.786190558721401\n",
      "  positive)\n",
      "c:\\users\\wujiaxu\\appdata\\local\\programs\\python\\python37\\lib\\site-packages\\sklearn\\linear_model\\_coordinate_descent.py:476: ConvergenceWarning: Objective did not converge. You might want to increase the number of iterations. Duality gap: 28.028102701995028, tolerance: 0.7491792947960265\n",
      "  positive)\n",
      "c:\\users\\wujiaxu\\appdata\\local\\programs\\python\\python37\\lib\\site-packages\\sklearn\\linear_model\\_coordinate_descent.py:476: ConvergenceWarning: Objective did not converge. You might want to increase the number of iterations. Duality gap: 31.388350040095464, tolerance: 0.6098278894527988\n",
      "  positive)\n",
      "c:\\users\\wujiaxu\\appdata\\local\\programs\\python\\python37\\lib\\site-packages\\sklearn\\linear_model\\_coordinate_descent.py:476: ConvergenceWarning: Objective did not converge. You might want to increase the number of iterations. Duality gap: 26.496061290067143, tolerance: 0.7894059796817569\n",
      "  positive)\n",
      "c:\\users\\wujiaxu\\appdata\\local\\programs\\python\\python37\\lib\\site-packages\\sklearn\\linear_model\\_coordinate_descent.py:476: ConvergenceWarning: Objective did not converge. You might want to increase the number of iterations. Duality gap: 26.759079694107747, tolerance: 0.5641191461462634\n",
      "  positive)\n",
      "c:\\users\\wujiaxu\\appdata\\local\\programs\\python\\python37\\lib\\site-packages\\sklearn\\linear_model\\_coordinate_descent.py:476: ConvergenceWarning: Objective did not converge. You might want to increase the number of iterations. Duality gap: 29.152543765398498, tolerance: 0.7405031944872911\n",
      "  positive)\n",
      "c:\\users\\wujiaxu\\appdata\\local\\programs\\python\\python37\\lib\\site-packages\\sklearn\\linear_model\\_coordinate_descent.py:476: ConvergenceWarning: Objective did not converge. You might want to increase the number of iterations. Duality gap: 26.85121952202207, tolerance: 0.7884096065948382\n",
      "  positive)\n",
      "c:\\users\\wujiaxu\\appdata\\local\\programs\\python\\python37\\lib\\site-packages\\sklearn\\linear_model\\_coordinate_descent.py:476: ConvergenceWarning: Objective did not converge. You might want to increase the number of iterations. Duality gap: 24.223322926608436, tolerance: 0.7858799898172384\n",
      "  positive)\n",
      "c:\\users\\wujiaxu\\appdata\\local\\programs\\python\\python37\\lib\\site-packages\\sklearn\\linear_model\\_coordinate_descent.py:476: ConvergenceWarning: Objective did not converge. You might want to increase the number of iterations. Duality gap: 27.894962378738256, tolerance: 0.6198423865140124\n",
      "  positive)\n",
      "c:\\users\\wujiaxu\\appdata\\local\\programs\\python\\python37\\lib\\site-packages\\sklearn\\linear_model\\_coordinate_descent.py:476: ConvergenceWarning: Objective did not converge. You might want to increase the number of iterations. Duality gap: 25.823672656157555, tolerance: 0.7224644125589222\n",
      "  positive)\n",
      "c:\\users\\wujiaxu\\appdata\\local\\programs\\python\\python37\\lib\\site-packages\\sklearn\\linear_model\\_coordinate_descent.py:476: ConvergenceWarning: Objective did not converge. You might want to increase the number of iterations. Duality gap: 24.135551285731168, tolerance: 0.786190558721401\n",
      "  positive)\n",
      "c:\\users\\wujiaxu\\appdata\\local\\programs\\python\\python37\\lib\\site-packages\\sklearn\\linear_model\\_coordinate_descent.py:476: ConvergenceWarning: Objective did not converge. You might want to increase the number of iterations. Duality gap: 28.976851287554872, tolerance: 0.7491792947960265\n",
      "  positive)\n",
      "c:\\users\\wujiaxu\\appdata\\local\\programs\\python\\python37\\lib\\site-packages\\sklearn\\linear_model\\_coordinate_descent.py:476: ConvergenceWarning: Objective did not converge. You might want to increase the number of iterations. Duality gap: 32.27113690144539, tolerance: 0.6098278894527988\n",
      "  positive)\n",
      "c:\\users\\wujiaxu\\appdata\\local\\programs\\python\\python37\\lib\\site-packages\\sklearn\\linear_model\\_coordinate_descent.py:476: ConvergenceWarning: Objective did not converge. You might want to increase the number of iterations. Duality gap: 27.21600056146765, tolerance: 0.7894059796817569\n",
      "  positive)\n",
      "c:\\users\\wujiaxu\\appdata\\local\\programs\\python\\python37\\lib\\site-packages\\sklearn\\linear_model\\_coordinate_descent.py:476: ConvergenceWarning: Objective did not converge. You might want to increase the number of iterations. Duality gap: 27.99839976537578, tolerance: 0.5641191461462634\n",
      "  positive)\n",
      "c:\\users\\wujiaxu\\appdata\\local\\programs\\python\\python37\\lib\\site-packages\\sklearn\\linear_model\\_coordinate_descent.py:476: ConvergenceWarning: Objective did not converge. You might want to increase the number of iterations. Duality gap: 29.971787401670813, tolerance: 0.7405031944872911\n",
      "  positive)\n",
      "c:\\users\\wujiaxu\\appdata\\local\\programs\\python\\python37\\lib\\site-packages\\sklearn\\linear_model\\_coordinate_descent.py:476: ConvergenceWarning: Objective did not converge. You might want to increase the number of iterations. Duality gap: 28.1054639548203, tolerance: 0.7884096065948382\n",
      "  positive)\n",
      "c:\\users\\wujiaxu\\appdata\\local\\programs\\python\\python37\\lib\\site-packages\\sklearn\\linear_model\\_coordinate_descent.py:476: ConvergenceWarning: Objective did not converge. You might want to increase the number of iterations. Duality gap: 25.45657860868012, tolerance: 0.7858799898172384\n",
      "  positive)\n"
     ]
    },
    {
     "data": {
      "text/plain": [
       "GridSearchCV(cv=10, error_score=nan,\n",
       "             estimator=Lasso(alpha=1.0, copy_X=True, fit_intercept=True,\n",
       "                             max_iter=1000, normalize=False, positive=False,\n",
       "                             precompute=False, random_state=1,\n",
       "                             selection='cyclic', tol=0.0001, warm_start=False),\n",
       "             iid='deprecated', n_jobs=None,\n",
       "             param_grid=[{'alpha': array([1.00000000e+02, 8.69749003e+01, 7.56463328e+01, 6.57933225e+01,\n",
       "       5.72236766e+01, 4...\n",
       "       1.41747416e-03, 1.23284674e-03, 1.07226722e-03, 9.32603347e-04,\n",
       "       8.11130831e-04, 7.05480231e-04, 6.13590727e-04, 5.33669923e-04,\n",
       "       4.64158883e-04, 4.03701726e-04, 3.51119173e-04, 3.05385551e-04,\n",
       "       2.65608778e-04, 2.31012970e-04, 2.00923300e-04, 1.74752840e-04,\n",
       "       1.51991108e-04, 1.32194115e-04, 1.14975700e-04, 1.00000000e-04])}],\n",
       "             pre_dispatch='2*n_jobs', refit=True, return_train_score=False,\n",
       "             scoring='neg_mean_squared_error', verbose=0)"
      ]
     },
     "execution_count": 16,
     "metadata": {},
     "output_type": "execute_result"
    }
   ],
   "source": [
    "from sklearn.preprocessing import StandardScaler\n",
    "from sklearn.model_selection import GridSearchCV\n",
    "from sklearn.linear_model import Lasso\n",
    "y,X_poly_10 = patsy.dmatrices(model + '+ 0', data = dataset, return_type=\"dataframe\")\n",
    "std_scaler = StandardScaler(with_mean=False)\n",
    "std_scaler.fit(X_poly_10)\n",
    "X_poly_10_Standard = std_scaler.transform(X_poly_10)\n",
    "param_grid = [\n",
    "{'alpha': 10 ** np.linspace(2, -4, 100) },\n",
    "]\n",
    "lasso_reg = Lasso(random_state = 1)\n",
    "grid_search = GridSearchCV(lasso_reg, param_grid, cv = 10, scoring='neg_mean_squared_error')\n",
    "grid_search.fit(X_poly_10_Standard ,y)"
   ]
  },
  {
   "cell_type": "code",
   "execution_count": 17,
   "metadata": {},
   "outputs": [
    {
     "data": {
      "image/png": "[encoded data removed]",
      "text/plain": [
       "<Figure size 432x288 with 1 Axes>"
      ]
     },
     "metadata": {
      "needs_background": "light"
     },
     "output_type": "display_data"
    }
   ],
   "source": [
    "plt.plot(np.linspace(2, -4, 100),-grid_search.cv_results_[\"mean_test_score\"])\n",
    "plt.xlabel(\"Log10 of alpha\", fontsize=18)\n",
    "plt.ylabel(\"mean_squared_error\", fontsize=18)\n",
    "plt.show()"
   ]
  },
  {
   "cell_type": "code",
   "execution_count": 18,
   "metadata": {},
   "outputs": [
    {
     "data": {
      "text/plain": [
       "{'alpha': 0.017475284000076828}"
      ]
     },
     "execution_count": 18,
     "metadata": {},
     "output_type": "execute_result"
    }
   ],
   "source": [
    "grid_search.best_params_"
   ]
  },
  {
   "cell_type": "code",
   "execution_count": 19,
   "metadata": {},
   "outputs": [
    {
     "data": {
      "text/plain": [
       "Lasso(alpha=0.017475284000076828, copy_X=True, fit_intercept=True,\n",
       "      max_iter=1000, normalize=False, positive=False, precompute=False,\n",
       "      random_state=None, selection='cyclic', tol=0.0001, warm_start=False)"
      ]
     },
     "execution_count": 19,
     "metadata": {},
     "output_type": "execute_result"
    }
   ],
   "source": [
    "lasso_reg = Lasso(alpha = grid_search.best_params_['alpha'])\n",
    "lasso_reg.fit(X_poly_10_Standard ,y)"
   ]
  },
  {
   "cell_type": "code",
   "execution_count": 20,
   "metadata": {},
   "outputs": [
    {
     "data": {
      "text/plain": [
       "array([0.80232282, 1.69069034, 7.88091603, 0.45144158, 0.        ,\n",
       "       0.13811003, 0.        , 0.        , 0.        , 0.        ])"
      ]
     },
     "execution_count": 20,
     "metadata": {},
     "output_type": "execute_result"
    }
   ],
   "source": [
    "lasso_reg.coef_"
   ]
  },
  {
   "cell_type": "code",
   "execution_count": 21,
   "metadata": {},
   "outputs": [],
   "source": [
    "def get_shrinkage_mod(X,y,grid,methods = 1,return_type = 1):\n",
    "    std_scaler = StandardScaler(with_mean = False)\n",
    "    std_scaler.fit(X)\n",
    "    X_Standard = std_scaler.transform(X)\n",
    "    shrinkage_mod =  []\n",
    "    idx = 1\n",
    "    shrinkage_mod_columns = [['idx','lambda','coef'],['','','Intercept']]\n",
    "    for variable in X.columns:\n",
    "        shrinkage_mod_columns[0].append('coef')\n",
    "        shrinkage_mod_columns[1].append(variable)\n",
    "    for alpha in grid:\n",
    "        if methods == 1:\n",
    "            shrinkage_reg = Ridge(alpha = alpha)\n",
    "        else:\n",
    "            shrinkage_reg = Lasso(alpha = alpha)           \n",
    "        shrinkage_reg.fit(X_Standard,y)\n",
    "        shrinkage_mod.append([])\n",
    "        shrinkage_mod[idx - 1].append(idx)\n",
    "        shrinkage_mod[idx - 1].append(alpha)\n",
    "        shrinkage_mod[idx - 1].append(shrinkage_reg.intercept_[0])\n",
    "        #return_type为1返回Standardized Coefficients，否则反馈原模型的Coefficients\n",
    "        if return_type == 1:\n",
    "            if methods == 1:\n",
    "                shrinkage_mod[idx - 1].extend(shrinkage_reg.coef_[0])\n",
    "            else:\n",
    "                shrinkage_mod[idx - 1].extend(shrinkage_reg.coef_)\n",
    "        else:\n",
    "            if methods == 1:\n",
    "                shrinkage_mod[idx - 1].extend(std_scaler.transform(shrinkage_reg.coef_[0].reshape(1,-1))[0].tolist())\n",
    "            else:\n",
    "                shrinkage_mod[idx - 1].extend(std_scaler.transform(shrinkage_reg.coef_.reshape(1,-1))[0].tolist())\n",
    "        idx += 1\n",
    "    return  pd.DataFrame(np.array(shrinkage_mod),columns = shrinkage_mod_columns).set_index('idx')"
   ]
  },
  {
   "cell_type": "code",
   "execution_count": 22,
   "metadata": {},
   "outputs": [],
   "source": [
    "lasso_mod = get_shrinkage_mod(X_poly_10,y,[grid_search.best_params_['alpha']],methods = 2,return_type = 2)"
   ]
  },
  {
   "cell_type": "code",
   "execution_count": 23,
   "metadata": {},
   "outputs": [
    {
     "data": {
      "text/html": [
       "<div>\n",
       "<style scoped>\n",
       "    .dataframe tbody tr th:only-of-type {\n",
       "        vertical-align: middle;\n",
       "    }\n",
       "\n",
       "    .dataframe tbody tr th {\n",
       "        vertical-align: top;\n",
       "    }\n",
       "\n",
       "    .dataframe thead tr th {\n",
       "        text-align: left;\n",
       "    }\n",
       "\n",
       "    .dataframe thead tr:last-of-type th {\n",
       "        text-align: right;\n",
       "    }\n",
       "</style>\n",
       "<table border=\"1\" class=\"dataframe\">\n",
       "  <thead>\n",
       "    <tr>\n",
       "      <th></th>\n",
       "      <th>lambda</th>\n",
       "      <th colspan=\"11\" halign=\"left\">coef</th>\n",
       "    </tr>\n",
       "    <tr>\n",
       "      <th></th>\n",
       "      <th></th>\n",
       "      <th>Intercept</th>\n",
       "      <th>X</th>\n",
       "      <th>I(X ** 2)</th>\n",
       "      <th>I(X ** 3)</th>\n",
       "      <th>I(X ** 4)</th>\n",
       "      <th>I(X ** 5)</th>\n",
       "      <th>I(X ** 6)</th>\n",
       "      <th>I(X ** 7)</th>\n",
       "      <th>I(X ** 8)</th>\n",
       "      <th>I(X ** 9)</th>\n",
       "      <th>I(X ** 10)</th>\n",
       "    </tr>\n",
       "    <tr>\n",
       "      <th>idx</th>\n",
       "      <th></th>\n",
       "      <th></th>\n",
       "      <th></th>\n",
       "      <th></th>\n",
       "      <th></th>\n",
       "      <th></th>\n",
       "      <th></th>\n",
       "      <th></th>\n",
       "      <th></th>\n",
       "      <th></th>\n",
       "      <th></th>\n",
       "      <th></th>\n",
       "    </tr>\n",
       "  </thead>\n",
       "  <tbody>\n",
       "    <tr>\n",
       "      <th>1.0</th>\n",
       "      <td>0.017475</td>\n",
       "      <td>1.309384</td>\n",
       "      <td>0.906419</td>\n",
       "      <td>1.519613</td>\n",
       "      <td>3.095127</td>\n",
       "      <td>0.093607</td>\n",
       "      <td>0.0</td>\n",
       "      <td>0.006164</td>\n",
       "      <td>0.0</td>\n",
       "      <td>0.0</td>\n",
       "      <td>0.0</td>\n",
       "      <td>0.0</td>\n",
       "    </tr>\n",
       "  </tbody>\n",
       "</table>\n",
       "</div>"
      ],
      "text/plain": [
       "       lambda      coef                                                    \\\n",
       "              Intercept         X I(X ** 2) I(X ** 3) I(X ** 4) I(X ** 5)   \n",
       "idx                                                                         \n",
       "1.0  0.017475  1.309384  0.906419  1.519613  3.095127  0.093607       0.0   \n",
       "\n",
       "                                                        \n",
       "    I(X ** 6) I(X ** 7) I(X ** 8) I(X ** 9) I(X ** 10)  \n",
       "idx                                                     \n",
       "1.0  0.006164       0.0       0.0       0.0        0.0  "
      ]
     },
     "execution_count": 23,
     "metadata": {},
     "output_type": "execute_result"
    }
   ],
   "source": [
    "lasso_mod"
   ]
  },
  {
   "cell_type": "code",
   "execution_count": 24,
   "metadata": {},
   "outputs": [
    {
     "data": {
      "text/plain": [
       "Intercept    1.309384\n",
       "X            0.906419\n",
       "I(X ** 2)    1.519613\n",
       "I(X ** 3)    3.095127\n",
       "I(X ** 4)    0.093607\n",
       "I(X ** 6)    0.006164\n",
       "Name: 1.0, dtype: float64"
      ]
     },
     "execution_count": 24,
     "metadata": {},
     "output_type": "execute_result"
    }
   ],
   "source": [
    "lasso_mod['coef'].iloc[0][lasso_mod['coef'].iloc[0] != 0]"
   ]
  },
  {
   "cell_type": "markdown",
   "metadata": {},
   "source": [
    "**从最终结果来看，与真实模型较为接近，过拟合出现的个别真实模型外系数都在0.1以下**"
   ]
  },
  {
   "cell_type": "markdown",
   "metadata": {},
   "source": [
    "**(f) Now generate a response vector Y according to the model\n",
    "Y = β 0 + β 7 X 7 + ?,\n",
    "and perform best subset selection and the lasso. Discuss the\n",
    "results obtained.**"
   ]
  },
  {
   "cell_type": "code",
   "execution_count": 25,
   "metadata": {},
   "outputs": [],
   "source": [
    "y = 8 + 2 * (X ** 7) + epsilon\n",
    "dataset = pd.DataFrame({'y':y,'X':X,'eps':epsilon})"
   ]
  },
  {
   "cell_type": "code",
   "execution_count": 26,
   "metadata": {},
   "outputs": [
    {
     "name": "stderr",
     "output_type": "stream",
     "text": [
      "c:\\users\\wujiaxu\\appdata\\local\\programs\\python\\python37\\lib\\site-packages\\numpy\\core\\fromnumeric.py:2495: FutureWarning: Method .ptp is deprecated and will be removed in a future version. Use numpy.ptp instead.\n",
      "  return ptp(axis=axis, out=out, **kwargs)\n"
     ]
    }
   ],
   "source": [
    "reg = regsubsets(model,dataset,10)"
   ]
  },
  {
   "cell_type": "code",
   "execution_count": 27,
   "metadata": {},
   "outputs": [
    {
     "data": {
      "image/png": "[encoded data removed]",
      "text/plain": [
       "<Figure size 1296x432 with 3 Axes>"
      ]
     },
     "metadata": {
      "needs_background": "light"
     },
     "output_type": "display_data"
    }
   ],
   "source": [
    "plt.figure(figsize=(18, 6))\n",
    "plt.subplot(131)\n",
    "plt.plot(range(1,11),reg['cp'],'r-')\n",
    "plt.scatter(range(1,11),reg['cp'],color = 'b')\n",
    "plt.scatter(reg['cp'].astype('float64').idxmin(),reg['cp'].min(),marker = 'x',s=500)\n",
    "plt.xlabel(u\"Number of Predictors\", fontsize=18)\n",
    "plt.ylabel(u\"Cp\", fontsize=18)\n",
    "plt.subplot(132)\n",
    "plt.plot(range(1,11),reg['bic'],'r-')\n",
    "plt.scatter(range(1,11),reg['bic'],color = 'b')\n",
    "plt.scatter(reg['bic'].astype('float64').idxmin(),reg['bic'].min(),marker = 'x',s=500)\n",
    "plt.xlabel(u\"Number of Predictors\", fontsize=18)\n",
    "plt.ylabel(u\"BIC\", fontsize=18)\n",
    "plt.subplot(133)\n",
    "plt.plot(range(1,11),reg['adjr2'],'r-')\n",
    "plt.scatter(range(1,11),reg['adjr2'],color = 'b')\n",
    "plt.scatter(reg['adjr2'].astype('float64').idxmax(),reg['adjr2'].max(),marker = 'x',s=500)\n",
    "plt.xlabel(u\"Number of Predictors\", fontsize=18)\n",
    "plt.ylabel(u\"Adjusted R2\", fontsize=18)\n",
    "plt.show()"
   ]
  },
  {
   "cell_type": "code",
   "execution_count": 28,
   "metadata": {},
   "outputs": [
    {
     "name": "stdout",
     "output_type": "stream",
     "text": [
      "best model obtained according to Cp:\n",
      " const        8.271801\n",
      "I(X ** 2)   -0.320021\n",
      "I(X ** 6)    0.020727\n",
      "I(X ** 7)    2.003961\n",
      "dtype: float64\n",
      "best model obtained according to bic:\n",
      " const        8.154000\n",
      "I(X ** 7)    2.002545\n",
      "dtype: float64\n",
      "best model obtained according to adjr2:\n",
      " const        8.271801\n",
      "I(X ** 2)   -0.320021\n",
      "I(X ** 6)    0.020727\n",
      "I(X ** 7)    2.003961\n",
      "dtype: float64\n"
     ]
    }
   ],
   "source": [
    "print('best model obtained according to Cp:\\n', reg['params'][reg['cp'].astype('float64').idxmin()])\n",
    "print('best model obtained according to bic:\\n', reg['params'][reg['bic'].astype('float64').idxmin()])\n",
    "print('best model obtained according to adjr2:\\n', reg['params'][reg['adjr2'].astype('float64').idxmax()])"
   ]
  },
  {
   "cell_type": "code",
   "execution_count": 29,
   "metadata": {},
   "outputs": [
    {
     "data": {
      "text/plain": [
       "GridSearchCV(cv=10, error_score=nan,\n",
       "             estimator=Lasso(alpha=1.0, copy_X=True, fit_intercept=True,\n",
       "                             max_iter=1000, normalize=False, positive=False,\n",
       "                             precompute=False, random_state=1,\n",
       "                             selection='cyclic', tol=0.0001, warm_start=False),\n",
       "             iid='deprecated', n_jobs=None,\n",
       "             param_grid=[{'alpha': array([1.00000000e+04, 7.74263683e+03, 5.99484250e+03, 4.64158883e+03,\n",
       "       3.59381366e+03, 2...\n",
       "       1.29154967e-05, 1.00000000e-05, 7.74263683e-06, 5.99484250e-06,\n",
       "       4.64158883e-06, 3.59381366e-06, 2.78255940e-06, 2.15443469e-06,\n",
       "       1.66810054e-06, 1.29154967e-06, 1.00000000e-06, 7.74263683e-07,\n",
       "       5.99484250e-07, 4.64158883e-07, 3.59381366e-07, 2.78255940e-07,\n",
       "       2.15443469e-07, 1.66810054e-07, 1.29154967e-07, 1.00000000e-07])}],\n",
       "             pre_dispatch='2*n_jobs', refit=True, return_train_score=False,\n",
       "             scoring='neg_mean_squared_error', verbose=0)"
      ]
     },
     "execution_count": 29,
     "metadata": {},
     "output_type": "execute_result"
    }
   ],
   "source": [
    "y,X_poly_10 = patsy.dmatrices(model + '+ 0', data = dataset, return_type=\"dataframe\")\n",
    "std_scaler = StandardScaler(with_mean=False)\n",
    "std_scaler.fit(X_poly_10)\n",
    "X_poly_10_Standard = std_scaler.transform(X_poly_10)\n",
    "param_grid = [\n",
    "{'alpha': 10 ** np.linspace(4, -7, 100) },\n",
    "]\n",
    "lasso_reg = Lasso(random_state = 1)\n",
    "grid_search = GridSearchCV(lasso_reg, param_grid, cv = 10, scoring='neg_mean_squared_error')\n",
    "grid_search.fit(X_poly_10_Standard ,y)"
   ]
  },
  {
   "cell_type": "code",
   "execution_count": 30,
   "metadata": {},
   "outputs": [
    {
     "data": {
      "image/png": "[encoded data removed]",
      "text/plain": [
       "<Figure size 432x288 with 1 Axes>"
      ]
     },
     "metadata": {
      "needs_background": "light"
     },
     "output_type": "display_data"
    }
   ],
   "source": [
    "plt.plot(np.linspace(4, -7, 100),-grid_search.cv_results_[\"mean_test_score\"])\n",
    "plt.xlabel(\"Log10 of alpha\", fontsize=18)\n",
    "plt.ylabel(\"mean_squared_error\", fontsize=18)\n",
    "plt.show()"
   ]
  },
  {
   "cell_type": "code",
   "execution_count": 31,
   "metadata": {},
   "outputs": [
    {
     "data": {
      "text/plain": [
       "{'alpha': 0.002154434690031887}"
      ]
     },
     "execution_count": 31,
     "metadata": {},
     "output_type": "execute_result"
    }
   ],
   "source": [
    "grid_search.best_params_"
   ]
  },
  {
   "cell_type": "code",
   "execution_count": 32,
   "metadata": {},
   "outputs": [
    {
     "data": {
      "text/plain": [
       "-0.8698047720522535"
      ]
     },
     "execution_count": 32,
     "metadata": {},
     "output_type": "execute_result"
    }
   ],
   "source": [
    "grid_search.best_score_"
   ]
  },
  {
   "cell_type": "code",
   "execution_count": 33,
   "metadata": {},
   "outputs": [],
   "source": [
    "lasso_mod = get_shrinkage_mod(X_poly_10,y,[grid_search.best_params_['alpha']],methods = 2,return_type = 2)"
   ]
  },
  {
   "cell_type": "code",
   "execution_count": 34,
   "metadata": {},
   "outputs": [
    {
     "data": {
      "text/html": [
       "<div>\n",
       "<style scoped>\n",
       "    .dataframe tbody tr th:only-of-type {\n",
       "        vertical-align: middle;\n",
       "    }\n",
       "\n",
       "    .dataframe tbody tr th {\n",
       "        vertical-align: top;\n",
       "    }\n",
       "\n",
       "    .dataframe thead tr th {\n",
       "        text-align: left;\n",
       "    }\n",
       "\n",
       "    .dataframe thead tr:last-of-type th {\n",
       "        text-align: right;\n",
       "    }\n",
       "</style>\n",
       "<table border=\"1\" class=\"dataframe\">\n",
       "  <thead>\n",
       "    <tr>\n",
       "      <th></th>\n",
       "      <th>lambda</th>\n",
       "      <th colspan=\"11\" halign=\"left\">coef</th>\n",
       "    </tr>\n",
       "    <tr>\n",
       "      <th></th>\n",
       "      <th></th>\n",
       "      <th>Intercept</th>\n",
       "      <th>X</th>\n",
       "      <th>I(X ** 2)</th>\n",
       "      <th>I(X ** 3)</th>\n",
       "      <th>I(X ** 4)</th>\n",
       "      <th>I(X ** 5)</th>\n",
       "      <th>I(X ** 6)</th>\n",
       "      <th>I(X ** 7)</th>\n",
       "      <th>I(X ** 8)</th>\n",
       "      <th>I(X ** 9)</th>\n",
       "      <th>I(X ** 10)</th>\n",
       "    </tr>\n",
       "    <tr>\n",
       "      <th>idx</th>\n",
       "      <th></th>\n",
       "      <th></th>\n",
       "      <th></th>\n",
       "      <th></th>\n",
       "      <th></th>\n",
       "      <th></th>\n",
       "      <th></th>\n",
       "      <th></th>\n",
       "      <th></th>\n",
       "      <th></th>\n",
       "      <th></th>\n",
       "      <th></th>\n",
       "    </tr>\n",
       "  </thead>\n",
       "  <tbody>\n",
       "    <tr>\n",
       "      <th>1.0</th>\n",
       "      <td>0.002154</td>\n",
       "      <td>8.23769</td>\n",
       "      <td>1.299686</td>\n",
       "      <td>0.023517</td>\n",
       "      <td>-4.710231</td>\n",
       "      <td>-0.312935</td>\n",
       "      <td>4.170111</td>\n",
       "      <td>0.012481</td>\n",
       "      <td>0.764471</td>\n",
       "      <td>0.013932</td>\n",
       "      <td>0.117014</td>\n",
       "      <td>0.000001</td>\n",
       "    </tr>\n",
       "  </tbody>\n",
       "</table>\n",
       "</div>"
      ],
      "text/plain": [
       "       lambda      coef                                                    \\\n",
       "              Intercept         X I(X ** 2) I(X ** 3) I(X ** 4) I(X ** 5)   \n",
       "idx                                                                         \n",
       "1.0  0.002154   8.23769  1.299686  0.023517 -4.710231 -0.312935  4.170111   \n",
       "\n",
       "                                                        \n",
       "    I(X ** 6) I(X ** 7) I(X ** 8) I(X ** 9) I(X ** 10)  \n",
       "idx                                                     \n",
       "1.0  0.012481  0.764471  0.013932  0.117014   0.000001  "
      ]
     },
     "execution_count": 34,
     "metadata": {},
     "output_type": "execute_result"
    }
   ],
   "source": [
    "lasso_mod"
   ]
  },
  {
   "cell_type": "code",
   "execution_count": 35,
   "metadata": {},
   "outputs": [
    {
     "data": {
      "text/plain": [
       "Intercept     8.237690\n",
       "X             1.299686\n",
       "I(X ** 2)     0.023517\n",
       "I(X ** 3)    -4.710231\n",
       "I(X ** 4)    -0.312935\n",
       "I(X ** 5)     4.170111\n",
       "I(X ** 6)     0.012481\n",
       "I(X ** 7)     0.764471\n",
       "I(X ** 8)     0.013932\n",
       "I(X ** 9)     0.117014\n",
       "I(X ** 10)    0.000001\n",
       "Name: 1.0, dtype: float64"
      ]
     },
     "execution_count": 35,
     "metadata": {},
     "output_type": "execute_result"
    }
   ],
   "source": [
    "lasso_mod['coef'].iloc[0][lasso_mod['coef'].iloc[0] != 0]"
   ]
  },
  {
   "cell_type": "markdown",
   "metadata": {},
   "source": [
    "**最优子集法无问题，但LASSO法对模型明显未正确拟合**"
   ]
  },
  {
   "cell_type": "code",
   "execution_count": 36,
   "metadata": {},
   "outputs": [],
   "source": [
    "#更换随机种子实验\n",
    "np.random.seed(2)\n",
    "#X =  np.random.normal(loc = 0.0, scale = 1.0, size = 100)\n",
    "X =  np.random.normal(0.0, 1.0, 100)\n",
    "epsilon = np.random.normal(0.0, 1.0, 100)"
   ]
  },
  {
   "cell_type": "code",
   "execution_count": 37,
   "metadata": {},
   "outputs": [],
   "source": [
    "y = 8 + 2 * (X ** 7) + epsilon\n",
    "dataset = pd.DataFrame({'y':y,'X':X,'eps':epsilon})"
   ]
  },
  {
   "cell_type": "code",
   "execution_count": 38,
   "metadata": {},
   "outputs": [
    {
     "data": {
      "text/plain": [
       "GridSearchCV(cv=10, error_score=nan,\n",
       "             estimator=Lasso(alpha=1.0, copy_X=True, fit_intercept=True,\n",
       "                             max_iter=1000, normalize=False, positive=False,\n",
       "                             precompute=False, random_state=1,\n",
       "                             selection='cyclic', tol=0.0001, warm_start=False),\n",
       "             iid='deprecated', n_jobs=None,\n",
       "             param_grid=[{'alpha': array([1.00000000e+04, 7.74263683e+03, 5.99484250e+03, 4.64158883e+03,\n",
       "       3.59381366e+03, 2...\n",
       "       1.29154967e-05, 1.00000000e-05, 7.74263683e-06, 5.99484250e-06,\n",
       "       4.64158883e-06, 3.59381366e-06, 2.78255940e-06, 2.15443469e-06,\n",
       "       1.66810054e-06, 1.29154967e-06, 1.00000000e-06, 7.74263683e-07,\n",
       "       5.99484250e-07, 4.64158883e-07, 3.59381366e-07, 2.78255940e-07,\n",
       "       2.15443469e-07, 1.66810054e-07, 1.29154967e-07, 1.00000000e-07])}],\n",
       "             pre_dispatch='2*n_jobs', refit=True, return_train_score=False,\n",
       "             scoring='neg_mean_squared_error', verbose=0)"
      ]
     },
     "execution_count": 38,
     "metadata": {},
     "output_type": "execute_result"
    }
   ],
   "source": [
    "y,X_poly_10 = patsy.dmatrices(model + '+ 0', data = dataset, return_type=\"dataframe\")\n",
    "std_scaler = StandardScaler(with_mean=False)\n",
    "std_scaler.fit(X_poly_10)\n",
    "X_poly_10_Standard = std_scaler.transform(X_poly_10)\n",
    "param_grid = [\n",
    "{'alpha': 10 ** np.linspace(4, -7, 100) },\n",
    "]\n",
    "lasso_reg = Lasso(random_state = 1)\n",
    "grid_search = GridSearchCV(lasso_reg, param_grid, cv = 10, scoring='neg_mean_squared_error')\n",
    "grid_search.fit(X_poly_10_Standard ,y)"
   ]
  },
  {
   "cell_type": "code",
   "execution_count": 39,
   "metadata": {},
   "outputs": [
    {
     "data": {
      "image/png": "[encoded data removed]",
      "text/plain": [
       "<Figure size 432x288 with 1 Axes>"
      ]
     },
     "metadata": {
      "needs_background": "light"
     },
     "output_type": "display_data"
    }
   ],
   "source": [
    "plt.plot(np.linspace(4, -7, 100),-grid_search.cv_results_[\"mean_test_score\"])\n",
    "plt.xlabel(\"Log10 of alpha\", fontsize=18)\n",
    "plt.ylabel(\"mean_squared_error\", fontsize=18)\n",
    "plt.show()"
   ]
  },
  {
   "cell_type": "code",
   "execution_count": 40,
   "metadata": {},
   "outputs": [
    {
     "data": {
      "text/plain": [
       "{'alpha': 0.3593813663804626}"
      ]
     },
     "execution_count": 40,
     "metadata": {},
     "output_type": "execute_result"
    }
   ],
   "source": [
    "grid_search.best_params_"
   ]
  },
  {
   "cell_type": "code",
   "execution_count": 41,
   "metadata": {},
   "outputs": [],
   "source": [
    "lasso_mod = get_shrinkage_mod(X_poly_10,y,[grid_search.best_params_['alpha']],methods = 2,return_type = 2)"
   ]
  },
  {
   "cell_type": "code",
   "execution_count": 42,
   "metadata": {},
   "outputs": [
    {
     "data": {
      "text/plain": [
       "Intercept    8.093422\n",
       "X           -0.635399\n",
       "I(X ** 5)    1.542652\n",
       "I(X ** 7)    1.443066\n",
       "I(X ** 9)    0.048411\n",
       "Name: 1.0, dtype: float64"
      ]
     },
     "execution_count": 42,
     "metadata": {},
     "output_type": "execute_result"
    }
   ],
   "source": [
    "lasso_mod['coef'].iloc[0][lasso_mod['coef'].iloc[0] != 0]"
   ]
  },
  {
   "cell_type": "markdown",
   "metadata": {},
   "source": [
    "**更换随机种子后，拟合靠近，可见lasso受到了epsilon影响较大**"
   ]
  },
  {
   "cell_type": "code",
   "execution_count": 43,
   "metadata": {},
   "outputs": [],
   "source": [
    "#增大样本量至100倍\n",
    "np.random.seed(1)\n",
    "X =  np.random.normal(0.0, 1.0, 10000)\n",
    "epsilon = np.random.normal(0.0, 1.0, 10000)"
   ]
  },
  {
   "cell_type": "code",
   "execution_count": 44,
   "metadata": {},
   "outputs": [],
   "source": [
    "y = 8 + 2 * (X ** 7) + epsilon\n",
    "dataset = pd.DataFrame({'y':y,'X':X,'eps':epsilon})"
   ]
  },
  {
   "cell_type": "code",
   "execution_count": 45,
   "metadata": {},
   "outputs": [
    {
     "data": {
      "text/plain": [
       "GridSearchCV(cv=10, error_score=nan,\n",
       "             estimator=Lasso(alpha=1.0, copy_X=True, fit_intercept=True,\n",
       "                             max_iter=1000, normalize=False, positive=False,\n",
       "                             precompute=False, random_state=1,\n",
       "                             selection='cyclic', tol=0.0001, warm_start=False),\n",
       "             iid='deprecated', n_jobs=None,\n",
       "             param_grid=[{'alpha': array([1.00000000e+04, 7.74263683e+03, 5.99484250e+03, 4.64158883e+03,\n",
       "       3.59381366e+03, 2...\n",
       "       1.29154967e-05, 1.00000000e-05, 7.74263683e-06, 5.99484250e-06,\n",
       "       4.64158883e-06, 3.59381366e-06, 2.78255940e-06, 2.15443469e-06,\n",
       "       1.66810054e-06, 1.29154967e-06, 1.00000000e-06, 7.74263683e-07,\n",
       "       5.99484250e-07, 4.64158883e-07, 3.59381366e-07, 2.78255940e-07,\n",
       "       2.15443469e-07, 1.66810054e-07, 1.29154967e-07, 1.00000000e-07])}],\n",
       "             pre_dispatch='2*n_jobs', refit=True, return_train_score=False,\n",
       "             scoring='neg_mean_squared_error', verbose=0)"
      ]
     },
     "execution_count": 45,
     "metadata": {},
     "output_type": "execute_result"
    }
   ],
   "source": [
    "y,X_poly_10 = patsy.dmatrices(model + '+ 0', data = dataset, return_type=\"dataframe\")\n",
    "std_scaler = StandardScaler(with_mean=False)\n",
    "std_scaler.fit(X_poly_10)\n",
    "X_poly_10_Standard = std_scaler.transform(X_poly_10)\n",
    "param_grid = [\n",
    "{'alpha': 10 ** np.linspace(4, -7, 100) },\n",
    "]\n",
    "lasso_reg = Lasso(random_state = 1)\n",
    "grid_search = GridSearchCV(lasso_reg, param_grid, cv = 10, scoring='neg_mean_squared_error')\n",
    "grid_search.fit(X_poly_10_Standard ,y)"
   ]
  },
  {
   "cell_type": "code",
   "execution_count": 46,
   "metadata": {},
   "outputs": [
    {
     "data": {
      "image/png": "[encoded data removed]",
      "text/plain": [
       "<Figure size 432x288 with 1 Axes>"
      ]
     },
     "metadata": {
      "needs_background": "light"
     },
     "output_type": "display_data"
    }
   ],
   "source": [
    "plt.plot(np.linspace(4, -7, 100),-grid_search.cv_results_[\"mean_test_score\"])\n",
    "plt.xlabel(\"Log10 of alpha\", fontsize=18)\n",
    "plt.ylabel(\"mean_squared_error\", fontsize=18)\n",
    "plt.show()"
   ]
  },
  {
   "cell_type": "code",
   "execution_count": 47,
   "metadata": {},
   "outputs": [
    {
     "data": {
      "text/plain": [
       "{'alpha': 1.0}"
      ]
     },
     "execution_count": 47,
     "metadata": {},
     "output_type": "execute_result"
    }
   ],
   "source": [
    "grid_search.best_params_"
   ]
  },
  {
   "cell_type": "code",
   "execution_count": 48,
   "metadata": {},
   "outputs": [],
   "source": [
    "lasso_mod = get_shrinkage_mod(X_poly_10,y,[grid_search.best_params_['alpha']],methods = 2,return_type = 2)"
   ]
  },
  {
   "cell_type": "code",
   "execution_count": 49,
   "metadata": {},
   "outputs": [
    {
     "data": {
      "text/plain": [
       "Intercept    8.026698\n",
       "I(X ** 5)    0.067090\n",
       "I(X ** 7)    1.983246\n",
       "I(X ** 9)    0.000634\n",
       "Name: 1.0, dtype: float64"
      ]
     },
     "execution_count": 49,
     "metadata": {},
     "output_type": "execute_result"
    }
   ],
   "source": [
    "lasso_mod['coef'].iloc[0][lasso_mod['coef'].iloc[0] != 0]"
   ]
  },
  {
   "cell_type": "markdown",
   "metadata": {},
   "source": [
    "**以上例子通过大量样本可抵消过拟合的问题**"
   ]
  },
  {
   "cell_type": "code",
   "execution_count": null,
   "metadata": {},
   "outputs": [],
   "source": []
  }
 ],
 "metadata": {
  "kernelspec": {
   "display_name": "Python 3",
   "language": "python",
   "name": "python3"
  },
  "language_info": {
   "codemirror_mode": {
    "name": "ipython",
    "version": 3
   },
   "file_extension": ".py",
   "mimetype": "text/x-python",
   "name": "python",
   "nbconvert_exporter": "python",
   "pygments_lexer": "ipython3",
   "version": "3.7.3"
  }
 },
 "nbformat": 4,
 "nbformat_minor": 2
}
