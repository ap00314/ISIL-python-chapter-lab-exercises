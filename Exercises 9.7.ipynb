{
 "cells": [
  {
   "cell_type": "code",
   "execution_count": 1,
   "metadata": {},
   "outputs": [],
   "source": [
    "# To support both python 2 and python 3\n",
    "# 让这份笔记同步支持 python 2 和 python 3\n",
    "from __future__ import division\n",
    "import pandas as pd\n",
    "import numpy as np\n",
    "import matplotlib.pyplot as plt\n",
    "import matplotlib\n",
    "%matplotlib inline"
   ]
  },
  {
   "cell_type": "code",
   "execution_count": 2,
   "metadata": {},
   "outputs": [],
   "source": [
    "#使用statsmodels便于统计分析数据\n",
    "import statsmodels.api as sm\n",
    "import statsmodels.formula.api as smf\n",
    "#使用sklearn便于预测（机器学习）\n",
    "from sklearn import linear_model\n",
    "#使用patsy便于生成模型\n",
    "import patsy"
   ]
  },
  {
   "cell_type": "markdown",
   "metadata": {},
   "source": [
    "**7. In this problem, you will use support vector approaches in order to\n",
    "predict whether a given car gets high or low gas mileage based on the\n",
    "Auto data set.\n",
    "(a) Create a binary variable that takes on a 1 for cars with gas\n",
    "mileage above the median, and a 0 for cars with gas mileage\n",
    "below the median.**"
   ]
  },
  {
   "cell_type": "code",
   "execution_count": 3,
   "metadata": {},
   "outputs": [
    {
     "data": {
      "text/html": [
       "<div>\n",
       "<style scoped>\n",
       "    .dataframe tbody tr th:only-of-type {\n",
       "        vertical-align: middle;\n",
       "    }\n",
       "\n",
       "    .dataframe tbody tr th {\n",
       "        vertical-align: top;\n",
       "    }\n",
       "\n",
       "    .dataframe thead th {\n",
       "        text-align: right;\n",
       "    }\n",
       "</style>\n",
       "<table border=\"1\" class=\"dataframe\">\n",
       "  <thead>\n",
       "    <tr style=\"text-align: right;\">\n",
       "      <th></th>\n",
       "      <th>mpg</th>\n",
       "      <th>cylinders</th>\n",
       "      <th>displacement</th>\n",
       "      <th>horsepower</th>\n",
       "      <th>weight</th>\n",
       "      <th>acceleration</th>\n",
       "      <th>year</th>\n",
       "      <th>origin</th>\n",
       "      <th>name</th>\n",
       "    </tr>\n",
       "  </thead>\n",
       "  <tbody>\n",
       "    <tr>\n",
       "      <th>0</th>\n",
       "      <td>18.0</td>\n",
       "      <td>8</td>\n",
       "      <td>307.0</td>\n",
       "      <td>130.0</td>\n",
       "      <td>3504</td>\n",
       "      <td>12.0</td>\n",
       "      <td>70</td>\n",
       "      <td>1</td>\n",
       "      <td>chevrolet chevelle malibu</td>\n",
       "    </tr>\n",
       "    <tr>\n",
       "      <th>1</th>\n",
       "      <td>15.0</td>\n",
       "      <td>8</td>\n",
       "      <td>350.0</td>\n",
       "      <td>165.0</td>\n",
       "      <td>3693</td>\n",
       "      <td>11.5</td>\n",
       "      <td>70</td>\n",
       "      <td>1</td>\n",
       "      <td>buick skylark 320</td>\n",
       "    </tr>\n",
       "    <tr>\n",
       "      <th>2</th>\n",
       "      <td>18.0</td>\n",
       "      <td>8</td>\n",
       "      <td>318.0</td>\n",
       "      <td>150.0</td>\n",
       "      <td>3436</td>\n",
       "      <td>11.0</td>\n",
       "      <td>70</td>\n",
       "      <td>1</td>\n",
       "      <td>plymouth satellite</td>\n",
       "    </tr>\n",
       "    <tr>\n",
       "      <th>3</th>\n",
       "      <td>16.0</td>\n",
       "      <td>8</td>\n",
       "      <td>304.0</td>\n",
       "      <td>150.0</td>\n",
       "      <td>3433</td>\n",
       "      <td>12.0</td>\n",
       "      <td>70</td>\n",
       "      <td>1</td>\n",
       "      <td>amc rebel sst</td>\n",
       "    </tr>\n",
       "    <tr>\n",
       "      <th>4</th>\n",
       "      <td>17.0</td>\n",
       "      <td>8</td>\n",
       "      <td>302.0</td>\n",
       "      <td>140.0</td>\n",
       "      <td>3449</td>\n",
       "      <td>10.5</td>\n",
       "      <td>70</td>\n",
       "      <td>1</td>\n",
       "      <td>ford torino</td>\n",
       "    </tr>\n",
       "  </tbody>\n",
       "</table>\n",
       "</div>"
      ],
      "text/plain": [
       "    mpg  cylinders  displacement  horsepower  weight  acceleration  year  \\\n",
       "0  18.0          8         307.0       130.0    3504          12.0    70   \n",
       "1  15.0          8         350.0       165.0    3693          11.5    70   \n",
       "2  18.0          8         318.0       150.0    3436          11.0    70   \n",
       "3  16.0          8         304.0       150.0    3433          12.0    70   \n",
       "4  17.0          8         302.0       140.0    3449          10.5    70   \n",
       "\n",
       "   origin                       name  \n",
       "0       1  chevrolet chevelle malibu  \n",
       "1       1          buick skylark 320  \n",
       "2       1         plymouth satellite  \n",
       "3       1              amc rebel sst  \n",
       "4       1                ford torino  "
      ]
     },
     "execution_count": 3,
     "metadata": {},
     "output_type": "execute_result"
    }
   ],
   "source": [
    "Auto = pd.read_csv('Data/Auto.csv', na_values='?').dropna()\n",
    "Auto.head()"
   ]
  },
  {
   "cell_type": "code",
   "execution_count": 4,
   "metadata": {},
   "outputs": [],
   "source": [
    "y = (Auto['mpg'] > Auto['mpg'].median()) * 1"
   ]
  },
  {
   "cell_type": "code",
   "execution_count": 5,
   "metadata": {},
   "outputs": [],
   "source": [
    "X = Auto[['cylinders','displacement','horsepower','weight','acceleration','year','origin']]"
   ]
  },
  {
   "cell_type": "markdown",
   "metadata": {},
   "source": [
    "**(b) Fit a support vector classifier to the data with various values\n",
    "of cost , in order to predict whether a car gets high or low gas\n",
    "mileage. Report the cross-validation errors associated with dif-\n",
    "ferent values of this parameter. Comment on your results.**"
   ]
  },
  {
   "cell_type": "code",
   "execution_count": 6,
   "metadata": {},
   "outputs": [
    {
     "data": {
      "text/plain": [
       "GridSearchCV(cv=10, error_score=nan,\n",
       "             estimator=SVC(C=1.0, break_ties=False, cache_size=200,\n",
       "                           class_weight=None, coef0=0.0,\n",
       "                           decision_function_shape='ovr', degree=3,\n",
       "                           gamma='scale', kernel='linear', max_iter=-1,\n",
       "                           probability=False, random_state=None, shrinking=True,\n",
       "                           tol=0.001, verbose=False),\n",
       "             iid='deprecated', n_jobs=None,\n",
       "             param_grid=[{'C': array([1.e-05, 1.e-04, 1.e-03, 1.e-02, 1.e-01, 1.e+00, 1.e+01, 1.e+02,\n",
       "       1.e+03, 1.e+04, 1.e+05])}],\n",
       "             pre_dispatch='2*n_jobs', refit=True, return_train_score=True,\n",
       "             scoring='accuracy', verbose=0)"
      ]
     },
     "execution_count": 6,
     "metadata": {},
     "output_type": "execute_result"
    }
   ],
   "source": [
    "from sklearn.model_selection import GridSearchCV\n",
    "from sklearn.svm import SVC\n",
    "np.random.seed(1)\n",
    "param_range = 10 ** np.linspace(-5,5,11)\n",
    "svm = SVC(kernel=\"linear\")\n",
    "param_grid = [\n",
    "{'C': param_range },\n",
    "]\n",
    "grid_search = GridSearchCV(svm , param_grid, cv = 10, scoring='accuracy',return_train_score=True)\n",
    "grid_search.fit(X ,y)"
   ]
  },
  {
   "cell_type": "code",
   "execution_count": 7,
   "metadata": {},
   "outputs": [
    {
     "name": "stdout",
     "output_type": "stream",
     "text": [
      "0.11993589743589739 {'C': 1e-05}\n",
      "0.10230769230769232 {'C': 0.0001}\n",
      "0.09461538461538466 {'C': 0.001}\n",
      "0.09679487179487167 {'C': 0.01}\n",
      "0.09923076923076923 {'C': 0.1}\n",
      "0.10942307692307673 {'C': 1.0}\n",
      "0.1068589743589744 {'C': 10.0}\n",
      "0.1069230769230769 {'C': 100.0}\n",
      "0.1068589743589744 {'C': 1000.0}\n",
      "0.10435897435897434 {'C': 10000.0}\n",
      "0.10942307692307696 {'C': 100000.0}\n"
     ]
    }
   ],
   "source": [
    "cvres_linear = grid_search.cv_results_\n",
    "for mean_score, params in zip(cvres_linear[\"mean_test_score\"], cvres_linear[\"params\"]):\n",
    "    print(1 - mean_score, params)"
   ]
  },
  {
   "cell_type": "code",
   "execution_count": 8,
   "metadata": {},
   "outputs": [
    {
     "data": {
      "text/plain": [
       "SVC(C=0.001, break_ties=False, cache_size=200, class_weight=None, coef0=0.0,\n",
       "    decision_function_shape='ovr', degree=3, gamma='scale', kernel='linear',\n",
       "    max_iter=-1, probability=False, random_state=None, shrinking=True,\n",
       "    tol=0.001, verbose=False)"
      ]
     },
     "execution_count": 8,
     "metadata": {},
     "output_type": "execute_result"
    }
   ],
   "source": [
    "grid_search.best_estimator_"
   ]
  },
  {
   "cell_type": "markdown",
   "metadata": {},
   "source": [
    "C = 0.001时误差最小"
   ]
  },
  {
   "cell_type": "markdown",
   "metadata": {},
   "source": [
    "**(c) Now repeat (b), this time using SVMs with radial and polyno-\n",
    "mial basis kernels, with different values of gamma and degree and\n",
    "cost . Comment on your results.**"
   ]
  },
  {
   "cell_type": "code",
   "execution_count": 9,
   "metadata": {},
   "outputs": [
    {
     "data": {
      "text/plain": [
       "GridSearchCV(cv=10, error_score=nan,\n",
       "             estimator=SVC(C=1.0, break_ties=False, cache_size=200,\n",
       "                           class_weight=None, coef0=0.0,\n",
       "                           decision_function_shape='ovr', degree=3,\n",
       "                           gamma='scale', kernel='rbf', max_iter=-1,\n",
       "                           probability=False, random_state=None, shrinking=True,\n",
       "                           tol=0.001, verbose=False),\n",
       "             iid='deprecated', n_jobs=None,\n",
       "             param_grid=[{'C': array([1.e-05, 1.e-04, 1.e-03, 1.e-02, 1.e-01, 1.e+00, 1.e+01, 1.e+02,\n",
       "       1.e+03, 1.e+04, 1.e+05]),\n",
       "                          'gamma': array([1.00000000e-05, 1.29154967e-05, 1.66810054e-05, 2.15443469e-05,\n",
       "       2.78255940e-05, 3.59381366e-05, 4.64158883e-05, 5.99484250e-05,\n",
       "       7.74263683e-05, 1.00000000e-04])}],\n",
       "             pre_dispatch='2*n_jobs', refit=True, return_train_score=True,\n",
       "             scoring='accuracy', verbose=0)"
      ]
     },
     "execution_count": 9,
     "metadata": {},
     "output_type": "execute_result"
    }
   ],
   "source": [
    "svm = SVC(kernel=\"rbf\")\n",
    "param_grid = [\n",
    "{'C': 10 ** np.linspace(-5,5,11),\n",
    " 'gamma':10 ** np.linspace(-5,-4,10)},\n",
    "]\n",
    "grid_search = GridSearchCV(svm , param_grid, cv = 10, scoring='accuracy',return_train_score=True)\n",
    "grid_search.fit(X ,y)"
   ]
  },
  {
   "cell_type": "code",
   "execution_count": 10,
   "metadata": {},
   "outputs": [
    {
     "name": "stdout",
     "output_type": "stream",
     "text": [
      "0.43025641025641026 {'C': 1e-05, 'gamma': 1e-05}\n",
      "0.4327564102564103 {'C': 1e-05, 'gamma': 1.2915496650148827e-05}\n",
      "0.4327564102564103 {'C': 1e-05, 'gamma': 1.6681005372000593e-05}\n",
      "0.4327564102564103 {'C': 1e-05, 'gamma': 2.1544346900318823e-05}\n",
      "0.4327564102564103 {'C': 1e-05, 'gamma': 2.782559402207126e-05}\n",
      "0.4327564102564103 {'C': 1e-05, 'gamma': 3.5938136638046256e-05}\n",
      "0.43025641025641026 {'C': 1e-05, 'gamma': 4.641588833612782e-05}\n",
      "0.43025641025641026 {'C': 1e-05, 'gamma': 5.994842503189409e-05}\n",
      "0.43025641025641026 {'C': 1e-05, 'gamma': 7.742636826811278e-05}\n",
      "0.4377564102564102 {'C': 1e-05, 'gamma': 0.0001}\n",
      "0.43025641025641026 {'C': 0.0001, 'gamma': 1e-05}\n",
      "0.4327564102564103 {'C': 0.0001, 'gamma': 1.2915496650148827e-05}\n",
      "0.4327564102564103 {'C': 0.0001, 'gamma': 1.6681005372000593e-05}\n",
      "0.4327564102564103 {'C': 0.0001, 'gamma': 2.1544346900318823e-05}\n",
      "0.4327564102564103 {'C': 0.0001, 'gamma': 2.782559402207126e-05}\n",
      "0.4327564102564103 {'C': 0.0001, 'gamma': 3.5938136638046256e-05}\n",
      "0.43025641025641026 {'C': 0.0001, 'gamma': 4.641588833612782e-05}\n",
      "0.43025641025641026 {'C': 0.0001, 'gamma': 5.994842503189409e-05}\n",
      "0.43025641025641026 {'C': 0.0001, 'gamma': 7.742636826811278e-05}\n",
      "0.4377564102564102 {'C': 0.0001, 'gamma': 0.0001}\n",
      "0.43025641025641026 {'C': 0.001, 'gamma': 1e-05}\n",
      "0.4327564102564103 {'C': 0.001, 'gamma': 1.2915496650148827e-05}\n",
      "0.4327564102564103 {'C': 0.001, 'gamma': 1.6681005372000593e-05}\n",
      "0.4327564102564103 {'C': 0.001, 'gamma': 2.1544346900318823e-05}\n",
      "0.4327564102564103 {'C': 0.001, 'gamma': 2.782559402207126e-05}\n",
      "0.4327564102564103 {'C': 0.001, 'gamma': 3.5938136638046256e-05}\n",
      "0.43025641025641026 {'C': 0.001, 'gamma': 4.641588833612782e-05}\n",
      "0.43025641025641026 {'C': 0.001, 'gamma': 5.994842503189409e-05}\n",
      "0.43025641025641026 {'C': 0.001, 'gamma': 7.742636826811278e-05}\n",
      "0.4377564102564102 {'C': 0.001, 'gamma': 0.0001}\n",
      "0.19179487179487165 {'C': 0.01, 'gamma': 1e-05}\n",
      "0.23788461538461536 {'C': 0.01, 'gamma': 1.2915496650148827e-05}\n",
      "0.2840384615384616 {'C': 0.01, 'gamma': 1.6681005372000593e-05}\n",
      "0.4225 {'C': 0.01, 'gamma': 2.1544346900318823e-05}\n",
      "0.4327564102564103 {'C': 0.01, 'gamma': 2.782559402207126e-05}\n",
      "0.4327564102564103 {'C': 0.01, 'gamma': 3.5938136638046256e-05}\n",
      "0.43025641025641026 {'C': 0.01, 'gamma': 4.641588833612782e-05}\n",
      "0.43025641025641026 {'C': 0.01, 'gamma': 5.994842503189409e-05}\n",
      "0.43025641025641026 {'C': 0.01, 'gamma': 7.742636826811278e-05}\n",
      "0.4377564102564102 {'C': 0.01, 'gamma': 0.0001}\n",
      "0.12249999999999994 {'C': 0.1, 'gamma': 1e-05}\n",
      "0.11993589743589739 {'C': 0.1, 'gamma': 1.2915496650148827e-05}\n",
      "0.11993589743589739 {'C': 0.1, 'gamma': 1.6681005372000593e-05}\n",
      "0.12249999999999994 {'C': 0.1, 'gamma': 2.1544346900318823e-05}\n",
      "0.12249999999999994 {'C': 0.1, 'gamma': 2.782559402207126e-05}\n",
      "0.11743589743589733 {'C': 0.1, 'gamma': 3.5938136638046256e-05}\n",
      "0.11993589743589739 {'C': 0.1, 'gamma': 4.641588833612782e-05}\n",
      "0.11730769230769234 {'C': 0.1, 'gamma': 5.994842503189409e-05}\n",
      "0.11730769230769234 {'C': 0.1, 'gamma': 7.742636826811278e-05}\n",
      "0.11730769230769234 {'C': 0.1, 'gamma': 0.0001}\n",
      "0.11993589743589739 {'C': 1.0, 'gamma': 1e-05}\n",
      "0.11993589743589739 {'C': 1.0, 'gamma': 1.2915496650148827e-05}\n",
      "0.12249999999999994 {'C': 1.0, 'gamma': 1.6681005372000593e-05}\n",
      "0.11993589743589739 {'C': 1.0, 'gamma': 2.1544346900318823e-05}\n",
      "0.12249999999999994 {'C': 1.0, 'gamma': 2.782559402207126e-05}\n",
      "0.12512820512820522 {'C': 1.0, 'gamma': 3.5938136638046256e-05}\n",
      "0.12256410256410266 {'C': 1.0, 'gamma': 4.641588833612782e-05}\n",
      "0.11743589743589755 {'C': 1.0, 'gamma': 5.994842503189409e-05}\n",
      "0.1200641025641026 {'C': 1.0, 'gamma': 7.742636826811278e-05}\n",
      "0.12775641025641027 {'C': 1.0, 'gamma': 0.0001}\n",
      "0.114871794871795 {'C': 10.0, 'gamma': 1e-05}\n",
      "0.11743589743589755 {'C': 10.0, 'gamma': 1.2915496650148827e-05}\n",
      "0.11237179487179494 {'C': 10.0, 'gamma': 1.6681005372000593e-05}\n",
      "0.11743589743589755 {'C': 10.0, 'gamma': 2.1544346900318823e-05}\n",
      "0.1200000000000001 {'C': 10.0, 'gamma': 2.782559402207126e-05}\n",
      "0.11737179487179483 {'C': 10.0, 'gamma': 3.5938136638046256e-05}\n",
      "0.10967948717948717 {'C': 10.0, 'gamma': 4.641588833612782e-05}\n",
      "0.10717948717948711 {'C': 10.0, 'gamma': 5.994842503189409e-05}\n",
      "0.10211538461538461 {'C': 10.0, 'gamma': 7.742636826811278e-05}\n",
      "0.09192307692307689 {'C': 10.0, 'gamma': 0.0001}\n",
      "0.10474358974358966 {'C': 100.0, 'gamma': 1e-05}\n",
      "0.09961538461538455 {'C': 100.0, 'gamma': 1.2915496650148827e-05}\n",
      "0.08942307692307683 {'C': 100.0, 'gamma': 1.6681005372000593e-05}\n",
      "0.08935897435897433 {'C': 100.0, 'gamma': 2.1544346900318823e-05}\n",
      "0.08685897435897427 {'C': 100.0, 'gamma': 2.782559402207126e-05}\n",
      "0.08673076923076906 {'C': 100.0, 'gamma': 3.5938136638046256e-05}\n",
      "0.09673076923076918 {'C': 100.0, 'gamma': 4.641588833612782e-05}\n",
      "0.1069871794871794 {'C': 100.0, 'gamma': 5.994842503189409e-05}\n",
      "0.12224358974358973 {'C': 100.0, 'gamma': 7.742636826811278e-05}\n",
      "0.12467948717948718 {'C': 100.0, 'gamma': 0.0001}\n",
      "0.09685897435897428 {'C': 1000.0, 'gamma': 1e-05}\n",
      "0.09429487179487173 {'C': 1000.0, 'gamma': 1.2915496650148827e-05}\n",
      "0.10442307692307684 {'C': 1000.0, 'gamma': 1.6681005372000593e-05}\n",
      "0.11435897435897435 {'C': 1000.0, 'gamma': 2.1544346900318823e-05}\n",
      "0.11698717948717952 {'C': 1000.0, 'gamma': 2.782559402207126e-05}\n",
      "0.12705128205128202 {'C': 1000.0, 'gamma': 3.5938136638046256e-05}\n",
      "0.12461538461538468 {'C': 1000.0, 'gamma': 4.641588833612782e-05}\n",
      "0.1297435897435898 {'C': 1000.0, 'gamma': 5.994842503189409e-05}\n",
      "0.13230769230769235 {'C': 1000.0, 'gamma': 7.742636826811278e-05}\n",
      "0.14506410256410263 {'C': 1000.0, 'gamma': 0.0001}\n",
      "0.1347435897435899 {'C': 10000.0, 'gamma': 1e-05}\n",
      "0.13205128205128214 {'C': 10000.0, 'gamma': 1.2915496650148827e-05}\n",
      "0.12179487179487192 {'C': 10000.0, 'gamma': 1.6681005372000593e-05}\n",
      "0.13192307692307703 {'C': 10000.0, 'gamma': 2.1544346900318823e-05}\n",
      "0.13730769230769246 {'C': 10000.0, 'gamma': 2.782559402207126e-05}\n",
      "0.1348717948717949 {'C': 10000.0, 'gamma': 3.5938136638046256e-05}\n",
      "0.13250000000000006 {'C': 10000.0, 'gamma': 4.641588833612782e-05}\n",
      "0.1299358974358975 {'C': 10000.0, 'gamma': 5.994842503189409e-05}\n",
      "0.1528205128205128 {'C': 10000.0, 'gamma': 7.742636826811278e-05}\n",
      "0.14519230769230762 {'C': 10000.0, 'gamma': 0.0001}\n",
      "0.14237179487179508 {'C': 100000.0, 'gamma': 1e-05}\n",
      "0.1296794871794873 {'C': 100000.0, 'gamma': 1.2915496650148827e-05}\n",
      "0.12955128205128208 {'C': 100000.0, 'gamma': 1.6681005372000593e-05}\n",
      "0.13237179487179485 {'C': 100000.0, 'gamma': 2.1544346900318823e-05}\n",
      "0.1348717948717949 {'C': 100000.0, 'gamma': 2.782559402207126e-05}\n",
      "0.15012820512820524 {'C': 100000.0, 'gamma': 3.5938136638046256e-05}\n",
      "0.14019230769230773 {'C': 100000.0, 'gamma': 4.641588833612782e-05}\n",
      "0.13762820512820517 {'C': 100000.0, 'gamma': 5.994842503189409e-05}\n",
      "0.152948717948718 {'C': 100000.0, 'gamma': 7.742636826811278e-05}\n",
      "0.152948717948718 {'C': 100000.0, 'gamma': 0.0001}\n"
     ]
    }
   ],
   "source": [
    "cvres_rbf = grid_search.cv_results_\n",
    "for mean_score, params in zip(cvres_rbf[\"mean_test_score\"], cvres_rbf[\"params\"]):\n",
    "    print(1 - mean_score, params)"
   ]
  },
  {
   "cell_type": "code",
   "execution_count": 11,
   "metadata": {},
   "outputs": [
    {
     "data": {
      "text/plain": [
       "{'C': 100.0, 'gamma': 3.5938136638046256e-05}"
      ]
     },
     "execution_count": 11,
     "metadata": {},
     "output_type": "execute_result"
    }
   ],
   "source": [
    "grid_search.best_params_"
   ]
  },
  {
   "cell_type": "markdown",
   "metadata": {},
   "source": [
    "C = 100,gamma =  1.6681005372000593e-05时误差最小"
   ]
  },
  {
   "cell_type": "code",
   "execution_count": 12,
   "metadata": {},
   "outputs": [
    {
     "data": {
      "text/plain": [
       "GridSearchCV(cv=10, error_score=nan,\n",
       "             estimator=SVC(C=1.0, break_ties=False, cache_size=200,\n",
       "                           class_weight=None, coef0=0.0,\n",
       "                           decision_function_shape='ovr', degree=3,\n",
       "                           gamma='auto', kernel='poly', max_iter=-1,\n",
       "                           probability=False, random_state=None, shrinking=True,\n",
       "                           tol=0.001, verbose=False),\n",
       "             iid='deprecated', n_jobs=None,\n",
       "             param_grid=[{'C': array([1.e-06, 1.e-05, 1.e-04]), 'degree': [2]},\n",
       "                         {'C': array([1.e-08, 1.e-07, 1.e-06]), 'degree': [3]}],\n",
       "             pre_dispatch='2*n_jobs', refit=True, return_train_score=True,\n",
       "             scoring='accuracy', verbose=0)"
      ]
     },
     "execution_count": 12,
     "metadata": {},
     "output_type": "execute_result"
    }
   ],
   "source": [
    "svm = SVC(kernel=\"poly\",gamma = 'auto')\n",
    "#这里C太大或太小会运行太慢\n",
    "param_grid = [\n",
    "{'C': 10 ** np.linspace(-6,-4,3),\n",
    " 'degree':[2,]},\n",
    "{'C': 10 ** np.linspace(-8,-6,3),\n",
    " 'degree':[3,]},\n",
    "]\n",
    "grid_search = GridSearchCV(svm , param_grid, cv = 10, scoring='accuracy',return_train_score=True)\n",
    "grid_search.fit(X ,y)"
   ]
  },
  {
   "cell_type": "code",
   "execution_count": 13,
   "metadata": {},
   "outputs": [
    {
     "name": "stdout",
     "output_type": "stream",
     "text": [
      "0.09673076923076918 {'C': 1e-06, 'degree': 2}\n",
      "0.10923076923076924 {'C': 1e-05, 'degree': 2}\n",
      "0.12205128205128202 {'C': 0.0001, 'degree': 2}\n",
      "0.12955128205128208 {'C': 1e-08, 'degree': 3}\n",
      "0.12698717948717952 {'C': 1e-07, 'degree': 3}\n",
      "0.11942307692307685 {'C': 1e-06, 'degree': 3}\n"
     ]
    }
   ],
   "source": [
    "cvres_poly = grid_search.cv_results_\n",
    "for mean_score, params in zip(cvres_poly[\"mean_test_score\"], cvres_poly[\"params\"]):\n",
    "    print(1 - mean_score, params)"
   ]
  },
  {
   "cell_type": "code",
   "execution_count": 14,
   "metadata": {},
   "outputs": [
    {
     "data": {
      "text/plain": [
       "{'C': 1e-06, 'degree': 2}"
      ]
     },
     "execution_count": 14,
     "metadata": {},
     "output_type": "execute_result"
    }
   ],
   "source": [
    "grid_search.best_params_"
   ]
  },
  {
   "cell_type": "markdown",
   "metadata": {},
   "source": [
    "对多项式，C = 1e-06,degree = 2时误差最小"
   ]
  },
  {
   "cell_type": "markdown",
   "metadata": {},
   "source": [
    "**(d) Make some plots to back up your assertions in (b) and (c).**"
   ]
  },
  {
   "cell_type": "code",
   "execution_count": 15,
   "metadata": {},
   "outputs": [
    {
     "data": {
      "image/png": "[encoded data removed]",
      "text/plain": [
       "<Figure size 432x288 with 1 Axes>"
      ]
     },
     "metadata": {
      "needs_background": "light"
     },
     "output_type": "display_data"
    }
   ],
   "source": [
    "method_list = ['SVC','SVM with radial','SVM with polynomial']\n",
    "method_tuple = cvres_linear,cvres_rbf,cvres_poly\n",
    "max_accuracy_list = [method[\"mean_test_score\"].max() for method in method_tuple]\n",
    "max_accuracy_param_list = [np.array( method[\"params\"])\n",
    "                           [method[\"mean_test_score\"] ==  method[\"mean_test_score\"].max()] for method in method_tuple]\n",
    "plt.bar(method_list,max_accuracy_list,color = 'red')\n",
    "for num in range(len(max_accuracy_list)):\n",
    "    plt.text(num,max_accuracy_list[num],max_accuracy_list[num].round(4))\n",
    "    plt.text(num,max_accuracy_list[num] - num * 0.3 - 0.2,max_accuracy_param_list[num])\n",
    "plt.xlabel(\"Fit Method\", fontsize=18)\n",
    "plt.ylabel(\"Max Accuracy\", fontsize=18)\n",
    "plt.show()"
   ]
  },
  {
   "cell_type": "code",
   "execution_count": null,
   "metadata": {},
   "outputs": [],
   "source": []
  }
 ],
 "metadata": {
  "kernelspec": {
   "display_name": "Python 3",
   "language": "python",
   "name": "python3"
  },
  "language_info": {
   "codemirror_mode": {
    "name": "ipython",
    "version": 3
   },
   "file_extension": ".py",
   "mimetype": "text/x-python",
   "name": "python",
   "nbconvert_exporter": "python",
   "pygments_lexer": "ipython3",
   "version": "3.7.3"
  }
 },
 "nbformat": 4,
 "nbformat_minor": 2
}
