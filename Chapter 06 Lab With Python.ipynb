{
 "cells": [
  {
   "cell_type": "code",
   "execution_count": 1,
   "metadata": {},
   "outputs": [],
   "source": [
    "# To support both python 2 and python 3\n",
    "# 让这份笔记同步支持 python 2 和 python 3\n",
    "from __future__ import division\n",
    "import pandas as pd\n",
    "import numpy as np\n",
    "import matplotlib.pyplot as plt\n",
    "import matplotlib\n",
    "%matplotlib inline"
   ]
  },
  {
   "cell_type": "code",
   "execution_count": 2,
   "metadata": {},
   "outputs": [],
   "source": [
    "#使用statsmodels便于统计分析数据\n",
    "import statsmodels.api as sm\n",
    "import statsmodels.formula.api as smf\n",
    "#使用sklearn便于预测（机器学习）\n",
    "from sklearn import linear_model\n",
    "#使用patsy便于生成模型\n",
    "import patsy"
   ]
  },
  {
   "cell_type": "markdown",
   "metadata": {},
   "source": [
    "# 6.5 Lab 1: Subset Selection Methods"
   ]
  },
  {
   "cell_type": "markdown",
   "metadata": {},
   "source": [
    "**6.5.1 Best Subset Selection**"
   ]
  },
  {
   "cell_type": "markdown",
   "metadata": {},
   "source": [
    "> library(ISLR)\n",
    "\n",
    "> fix(Hitters)\n",
    "\n",
    "> names(Hitters)\n",
    "\n",
    "> dim(Hitters)\n",
    "\n",
    "> sum(is.na(Hitters$Salary))"
   ]
  },
  {
   "cell_type": "code",
   "execution_count": 3,
   "metadata": {},
   "outputs": [
    {
     "data": {
      "text/html": [
       "<div>\n",
       "<style scoped>\n",
       "    .dataframe tbody tr th:only-of-type {\n",
       "        vertical-align: middle;\n",
       "    }\n",
       "\n",
       "    .dataframe tbody tr th {\n",
       "        vertical-align: top;\n",
       "    }\n",
       "\n",
       "    .dataframe thead th {\n",
       "        text-align: right;\n",
       "    }\n",
       "</style>\n",
       "<table border=\"1\" class=\"dataframe\">\n",
       "  <thead>\n",
       "    <tr style=\"text-align: right;\">\n",
       "      <th></th>\n",
       "      <th>AtBat</th>\n",
       "      <th>Hits</th>\n",
       "      <th>HmRun</th>\n",
       "      <th>Runs</th>\n",
       "      <th>RBI</th>\n",
       "      <th>Walks</th>\n",
       "      <th>Years</th>\n",
       "      <th>CAtBat</th>\n",
       "      <th>CHits</th>\n",
       "      <th>CHmRun</th>\n",
       "      <th>CRuns</th>\n",
       "      <th>CRBI</th>\n",
       "      <th>CWalks</th>\n",
       "      <th>League</th>\n",
       "      <th>Division</th>\n",
       "      <th>PutOuts</th>\n",
       "      <th>Assists</th>\n",
       "      <th>Errors</th>\n",
       "      <th>Salary</th>\n",
       "      <th>NewLeague</th>\n",
       "    </tr>\n",
       "  </thead>\n",
       "  <tbody>\n",
       "    <tr>\n",
       "      <th>0</th>\n",
       "      <td>293</td>\n",
       "      <td>66</td>\n",
       "      <td>1</td>\n",
       "      <td>30</td>\n",
       "      <td>29</td>\n",
       "      <td>14</td>\n",
       "      <td>1</td>\n",
       "      <td>293</td>\n",
       "      <td>66</td>\n",
       "      <td>1</td>\n",
       "      <td>30</td>\n",
       "      <td>29</td>\n",
       "      <td>14</td>\n",
       "      <td>A</td>\n",
       "      <td>E</td>\n",
       "      <td>446</td>\n",
       "      <td>33</td>\n",
       "      <td>20</td>\n",
       "      <td>NaN</td>\n",
       "      <td>A</td>\n",
       "    </tr>\n",
       "    <tr>\n",
       "      <th>1</th>\n",
       "      <td>315</td>\n",
       "      <td>81</td>\n",
       "      <td>7</td>\n",
       "      <td>24</td>\n",
       "      <td>38</td>\n",
       "      <td>39</td>\n",
       "      <td>14</td>\n",
       "      <td>3449</td>\n",
       "      <td>835</td>\n",
       "      <td>69</td>\n",
       "      <td>321</td>\n",
       "      <td>414</td>\n",
       "      <td>375</td>\n",
       "      <td>N</td>\n",
       "      <td>W</td>\n",
       "      <td>632</td>\n",
       "      <td>43</td>\n",
       "      <td>10</td>\n",
       "      <td>475.0</td>\n",
       "      <td>N</td>\n",
       "    </tr>\n",
       "    <tr>\n",
       "      <th>2</th>\n",
       "      <td>479</td>\n",
       "      <td>130</td>\n",
       "      <td>18</td>\n",
       "      <td>66</td>\n",
       "      <td>72</td>\n",
       "      <td>76</td>\n",
       "      <td>3</td>\n",
       "      <td>1624</td>\n",
       "      <td>457</td>\n",
       "      <td>63</td>\n",
       "      <td>224</td>\n",
       "      <td>266</td>\n",
       "      <td>263</td>\n",
       "      <td>A</td>\n",
       "      <td>W</td>\n",
       "      <td>880</td>\n",
       "      <td>82</td>\n",
       "      <td>14</td>\n",
       "      <td>480.0</td>\n",
       "      <td>A</td>\n",
       "    </tr>\n",
       "    <tr>\n",
       "      <th>3</th>\n",
       "      <td>496</td>\n",
       "      <td>141</td>\n",
       "      <td>20</td>\n",
       "      <td>65</td>\n",
       "      <td>78</td>\n",
       "      <td>37</td>\n",
       "      <td>11</td>\n",
       "      <td>5628</td>\n",
       "      <td>1575</td>\n",
       "      <td>225</td>\n",
       "      <td>828</td>\n",
       "      <td>838</td>\n",
       "      <td>354</td>\n",
       "      <td>N</td>\n",
       "      <td>E</td>\n",
       "      <td>200</td>\n",
       "      <td>11</td>\n",
       "      <td>3</td>\n",
       "      <td>500.0</td>\n",
       "      <td>N</td>\n",
       "    </tr>\n",
       "    <tr>\n",
       "      <th>4</th>\n",
       "      <td>321</td>\n",
       "      <td>87</td>\n",
       "      <td>10</td>\n",
       "      <td>39</td>\n",
       "      <td>42</td>\n",
       "      <td>30</td>\n",
       "      <td>2</td>\n",
       "      <td>396</td>\n",
       "      <td>101</td>\n",
       "      <td>12</td>\n",
       "      <td>48</td>\n",
       "      <td>46</td>\n",
       "      <td>33</td>\n",
       "      <td>N</td>\n",
       "      <td>E</td>\n",
       "      <td>805</td>\n",
       "      <td>40</td>\n",
       "      <td>4</td>\n",
       "      <td>91.5</td>\n",
       "      <td>N</td>\n",
       "    </tr>\n",
       "  </tbody>\n",
       "</table>\n",
       "</div>"
      ],
      "text/plain": [
       "   AtBat  Hits  HmRun  Runs  RBI  Walks  Years  CAtBat  CHits  CHmRun  CRuns  \\\n",
       "0    293    66      1    30   29     14      1     293     66       1     30   \n",
       "1    315    81      7    24   38     39     14    3449    835      69    321   \n",
       "2    479   130     18    66   72     76      3    1624    457      63    224   \n",
       "3    496   141     20    65   78     37     11    5628   1575     225    828   \n",
       "4    321    87     10    39   42     30      2     396    101      12     48   \n",
       "\n",
       "   CRBI  CWalks League Division  PutOuts  Assists  Errors  Salary NewLeague  \n",
       "0    29      14      A        E      446       33      20     NaN         A  \n",
       "1   414     375      N        W      632       43      10   475.0         N  \n",
       "2   266     263      A        W      880       82      14   480.0         A  \n",
       "3   838     354      N        E      200       11       3   500.0         N  \n",
       "4    46      33      N        E      805       40       4    91.5         N  "
      ]
     },
     "execution_count": 3,
     "metadata": {},
     "output_type": "execute_result"
    }
   ],
   "source": [
    "Hitters = pd.read_csv(\"data/Hitters.csv\")\n",
    "Hitters.head()"
   ]
  },
  {
   "cell_type": "code",
   "execution_count": 4,
   "metadata": {},
   "outputs": [
    {
     "data": {
      "text/plain": [
       "(322, 20)"
      ]
     },
     "execution_count": 4,
     "metadata": {},
     "output_type": "execute_result"
    }
   ],
   "source": [
    "Hitters.shape"
   ]
  },
  {
   "cell_type": "code",
   "execution_count": 5,
   "metadata": {},
   "outputs": [
    {
     "data": {
      "text/plain": [
       "AtBat         0\n",
       "Hits          0\n",
       "HmRun         0\n",
       "Runs          0\n",
       "RBI           0\n",
       "Walks         0\n",
       "Years         0\n",
       "CAtBat        0\n",
       "CHits         0\n",
       "CHmRun        0\n",
       "CRuns         0\n",
       "CRBI          0\n",
       "CWalks        0\n",
       "League        0\n",
       "Division      0\n",
       "PutOuts       0\n",
       "Assists       0\n",
       "Errors        0\n",
       "Salary       59\n",
       "NewLeague     0\n",
       "dtype: int64"
      ]
     },
     "execution_count": 5,
     "metadata": {},
     "output_type": "execute_result"
    }
   ],
   "source": [
    "Hitters.isnull().sum()"
   ]
  },
  {
   "cell_type": "markdown",
   "metadata": {},
   "source": [
    "> Hitters=na.omit(Hitters)\n",
    "\n",
    "> dim(Hitters)\n",
    "\n",
    "> sum(is.na(Hitters))"
   ]
  },
  {
   "cell_type": "code",
   "execution_count": 6,
   "metadata": {},
   "outputs": [],
   "source": [
    "Hitters_dropna = Hitters.dropna()"
   ]
  },
  {
   "cell_type": "code",
   "execution_count": 7,
   "metadata": {},
   "outputs": [
    {
     "data": {
      "text/plain": [
       "(263, 20)"
      ]
     },
     "execution_count": 7,
     "metadata": {},
     "output_type": "execute_result"
    }
   ],
   "source": [
    "Hitters_dropna.shape"
   ]
  },
  {
   "cell_type": "code",
   "execution_count": 8,
   "metadata": {},
   "outputs": [
    {
     "data": {
      "text/plain": [
       "AtBat        0\n",
       "Hits         0\n",
       "HmRun        0\n",
       "Runs         0\n",
       "RBI          0\n",
       "Walks        0\n",
       "Years        0\n",
       "CAtBat       0\n",
       "CHits        0\n",
       "CHmRun       0\n",
       "CRuns        0\n",
       "CRBI         0\n",
       "CWalks       0\n",
       "League       0\n",
       "Division     0\n",
       "PutOuts      0\n",
       "Assists      0\n",
       "Errors       0\n",
       "Salary       0\n",
       "NewLeague    0\n",
       "dtype: int64"
      ]
     },
     "execution_count": 8,
     "metadata": {},
     "output_type": "execute_result"
    }
   ],
   "source": [
    "Hitters_dropna.isnull().sum()"
   ]
  },
  {
   "cell_type": "markdown",
   "metadata": {},
   "source": [
    "> library(leaps)\n",
    "\n",
    "> regfit.full=regsubsets (Salary∼.,Hitters)\n",
    "\n",
    "> summary(regfit.full)"
   ]
  },
  {
   "cell_type": "code",
   "execution_count": 9,
   "metadata": {},
   "outputs": [],
   "source": [
    "#实现一个按照RSS（或者其他评估）来量化的regsubsets函数\n",
    "import itertools\n",
    "def regsubsets(model,dataset,nvmax = 8,method = 'full',scale = 'rss'):\n",
    "    y,X = patsy.dmatrices(model, data = dataset, return_type=\"dataframe\")\n",
    "    X_columns = list(X.columns)\n",
    "    try:\n",
    "        X_columns.remove('Intercept')\n",
    "    except:\n",
    "        pass\n",
    "    if nvmax > len(X_columns):\n",
    "        nvmax = len(X_columns)\n",
    "    all_data_dict = {}\n",
    "    if method == 'full':\n",
    "        for nv in range(1,nvmax + 1):\n",
    "            nv_scale = None\n",
    "            nv_result = {}\n",
    "            for X_columns_nv in itertools.combinations(X_columns,nv):\n",
    "                X_columns_nv = list(X_columns_nv)\n",
    "                X_model = sm.add_constant(X[X_columns_nv])\n",
    "                results = sm.OLS(y, X_model).fit()\n",
    "                nv_result['rss'] = results.ssr\n",
    "                nv_result['rsq'] = -results.rsquared\n",
    "                nv_result['adjr2'] = -results.rsquared_adj\n",
    "                nv_result['cp'] = results.aic\n",
    "                nv_result['bic'] = results.bic\n",
    "                if nv_scale == None or nv_scale > nv_result[scale]:\n",
    "                    nv_scale = nv_result[scale]\n",
    "                    nv_X_columns = X_columns_nv\n",
    "            X_model = sm.add_constant(X[nv_X_columns])\n",
    "            results = sm.OLS(y, X_model).fit()\n",
    "            all_data_dict[nv] = {}\n",
    "            all_data_dict[nv]['X_columns'] = nv_X_columns\n",
    "            all_data_dict[nv]['rss'] = results.ssr\n",
    "            all_data_dict[nv]['rsq'] = results.rsquared\n",
    "            all_data_dict[nv]['adjr2'] = results.rsquared_adj\n",
    "            all_data_dict[nv]['cp'] = results.aic\n",
    "            all_data_dict[nv]['bic'] = results.bic\n",
    "            all_data_dict[nv]['params'] = results.params\n",
    "    elif method == 'forward':\n",
    "        all_data_dict[0] = {}\n",
    "        all_data_dict[0]['X_columns'] = []\n",
    "        for nv in range(1,nvmax + 1):\n",
    "            nv_scale = None\n",
    "            nv_result = {}\n",
    "            X_columns_others = X_columns.copy()\n",
    "            for column_value in all_data_dict[nv - 1]['X_columns']:\n",
    "                X_columns_others.remove(column_value)\n",
    "            for column_value in X_columns_others:\n",
    "                X_columns_nv = all_data_dict[nv - 1]['X_columns'].copy()\n",
    "                X_columns_nv.append(column_value)\n",
    "                X_model = sm.add_constant(X[X_columns_nv])\n",
    "                results = sm.OLS(y, X_model).fit()\n",
    "                nv_result['rss'] = results.ssr\n",
    "                nv_result['rsq'] = -results.rsquared\n",
    "                nv_result['adjr2'] = -results.rsquared_adj\n",
    "                nv_result['cp'] = results.aic\n",
    "                nv_result['bic'] = results.bic\n",
    "                if nv_scale == None or nv_scale > nv_result[scale]:\n",
    "                    nv_scale = nv_result[scale]\n",
    "                    nv_X_columns = X_columns_nv\n",
    "            X_model = sm.add_constant(X[nv_X_columns])\n",
    "            results = sm.OLS(y, X_model).fit()\n",
    "            all_data_dict[nv] = {}\n",
    "            all_data_dict[nv]['X_columns'] = nv_X_columns\n",
    "            all_data_dict[nv]['rss'] = results.ssr\n",
    "            all_data_dict[nv]['rsq'] = results.rsquared\n",
    "            all_data_dict[nv]['adjr2'] = results.rsquared_adj\n",
    "            all_data_dict[nv]['cp'] = results.aic\n",
    "            all_data_dict[nv]['bic'] = results.bic\n",
    "            all_data_dict[nv]['params'] = results.params\n",
    "        del all_data_dict[0]\n",
    "    elif method == 'backward':\n",
    "        for nv in reversed(range(1,len(X_columns) + 1)):\n",
    "            nv_scale = None\n",
    "            nv_result = {}\n",
    "            if nv == len(X_columns):\n",
    "                nv_X_columns = X_columns\n",
    "            else:\n",
    "                for column_value in all_data_dict[nv + 1]['X_columns']:\n",
    "                    X_columns_nv = all_data_dict[nv + 1]['X_columns'].copy()\n",
    "                    X_columns_nv.remove(column_value)\n",
    "                    X_model = sm.add_constant(X[X_columns_nv])\n",
    "                    results = sm.OLS(y, X_model).fit()\n",
    "                    nv_result['rss'] = results.ssr\n",
    "                    nv_result['rsq'] = -results.rsquared\n",
    "                    nv_result['adjr2'] = -results.rsquared_adj\n",
    "                    nv_result['cp'] = results.aic\n",
    "                    nv_result['bic'] = results.bic\n",
    "                    if nv_scale == None or nv_scale > nv_result[scale]:\n",
    "                        nv_scale = nv_result[scale]\n",
    "                        nv_X_columns = X_columns_nv\n",
    "            X_model = sm.add_constant(X[nv_X_columns])\n",
    "            results = sm.OLS(y, X_model).fit()\n",
    "            all_data_dict[nv] = {}\n",
    "            all_data_dict[nv]['X_columns'] = nv_X_columns\n",
    "            all_data_dict[nv]['rss'] = results.ssr\n",
    "            all_data_dict[nv]['rsq'] = results.rsquared\n",
    "            all_data_dict[nv]['adjr2'] = results.rsquared_adj\n",
    "            all_data_dict[nv]['cp'] = results.aic\n",
    "            all_data_dict[nv]['bic'] = results.bic\n",
    "            all_data_dict[nv]['params'] = results.params\n",
    "        for nv in range(nvmax + 1,len(X_columns) + 1):\n",
    "            del all_data_dict[nv]\n",
    "    return pd.DataFrame(all_data_dict).T.sort_index()     "
   ]
  },
  {
   "cell_type": "code",
   "execution_count": 10,
   "metadata": {},
   "outputs": [
    {
     "name": "stderr",
     "output_type": "stream",
     "text": [
      "c:\\users\\wujiaxu\\appdata\\local\\programs\\python\\python37\\lib\\site-packages\\numpy\\core\\fromnumeric.py:2495: FutureWarning: Method .ptp is deprecated and will be removed in a future version. Use numpy.ptp instead.\n",
      "  return ptp(axis=axis, out=out, **kwargs)\n"
     ]
    }
   ],
   "source": [
    "columns_value = '1'\n",
    "for column_value in Hitters_dropna.columns:\n",
    "    columns_value = columns_value + '+' + column_value\n",
    "model = 'Salary ~ {} - Salary'.format(columns_value)\n",
    "reg = regsubsets(model,Hitters_dropna)"
   ]
  },
  {
   "cell_type": "code",
   "execution_count": 11,
   "metadata": {},
   "outputs": [
    {
     "data": {
      "text/plain": [
       "1                                               [CRBI]\n",
       "2                                         [Hits, CRBI]\n",
       "3                                [Hits, CRBI, PutOuts]\n",
       "4                 [Division[T.W], Hits, CRBI, PutOuts]\n",
       "5          [Division[T.W], AtBat, Hits, CRBI, PutOuts]\n",
       "6    [Division[T.W], AtBat, Hits, Walks, CRBI, PutO...\n",
       "7    [Division[T.W], Hits, Walks, CAtBat, CHits, CH...\n",
       "8    [Division[T.W], AtBat, Hits, Walks, CHmRun, CR...\n",
       "Name: X_columns, dtype: object"
      ]
     },
     "execution_count": 11,
     "metadata": {},
     "output_type": "execute_result"
    }
   ],
   "source": [
    "reg['X_columns']"
   ]
  },
  {
   "cell_type": "markdown",
   "metadata": {},
   "source": [
    "> regfit.full=regsubsets (Salary∼.,data=Hitters ,nvmax=19)\n",
    "\n",
    "> reg.summary=summary(regfit.full)"
   ]
  },
  {
   "cell_type": "code",
   "execution_count": 12,
   "metadata": {},
   "outputs": [
    {
     "data": {
      "text/plain": [
       "1                                                [CRBI]\n",
       "2                                          [Hits, CRBI]\n",
       "3                                 [Hits, CRBI, PutOuts]\n",
       "4                  [Division[T.W], Hits, CRBI, PutOuts]\n",
       "5           [Division[T.W], AtBat, Hits, CRBI, PutOuts]\n",
       "6     [Division[T.W], AtBat, Hits, Walks, CRBI, PutO...\n",
       "7     [Division[T.W], Hits, Walks, CAtBat, CHits, CH...\n",
       "8     [Division[T.W], AtBat, Hits, Walks, CHmRun, CR...\n",
       "9     [Division[T.W], AtBat, Hits, Walks, CAtBat, CR...\n",
       "10    [Division[T.W], AtBat, Hits, Walks, CAtBat, CR...\n",
       "11    [League[T.N], Division[T.W], AtBat, Hits, Walk...\n",
       "12    [League[T.N], Division[T.W], AtBat, Hits, Runs...\n",
       "13    [League[T.N], Division[T.W], AtBat, Hits, Runs...\n",
       "14    [League[T.N], Division[T.W], AtBat, Hits, HmRu...\n",
       "15    [League[T.N], Division[T.W], AtBat, Hits, HmRu...\n",
       "16    [League[T.N], Division[T.W], AtBat, Hits, HmRu...\n",
       "17    [League[T.N], Division[T.W], NewLeague[T.N], A...\n",
       "18    [League[T.N], Division[T.W], NewLeague[T.N], A...\n",
       "19    [League[T.N], Division[T.W], NewLeague[T.N], A...\n",
       "Name: X_columns, dtype: object"
      ]
     },
     "execution_count": 12,
     "metadata": {},
     "output_type": "execute_result"
    }
   ],
   "source": [
    "reg_full = regsubsets(model,Hitters_dropna,19)\n",
    "reg_full['X_columns']"
   ]
  },
  {
   "cell_type": "code",
   "execution_count": 13,
   "metadata": {},
   "outputs": [
    {
     "data": {
      "text/plain": [
       "1      0.32145\n",
       "2     0.425224\n",
       "3     0.451429\n",
       "4     0.475407\n",
       "5     0.490804\n",
       "6     0.508715\n",
       "7     0.514123\n",
       "8     0.528557\n",
       "9     0.534612\n",
       "10    0.540495\n",
       "11    0.542615\n",
       "12     0.54363\n",
       "13    0.544457\n",
       "14    0.545216\n",
       "15    0.545469\n",
       "16    0.545766\n",
       "17    0.545952\n",
       "18    0.546095\n",
       "19    0.546116\n",
       "Name: rsq, dtype: object"
      ]
     },
     "execution_count": 13,
     "metadata": {},
     "output_type": "execute_result"
    }
   ],
   "source": [
    "#> reg.summary$rsq\n",
    "reg_full['rsq']"
   ]
  },
  {
   "cell_type": "markdown",
   "metadata": {},
   "source": [
    "> par(mfrow=c(2,2))\n",
    "\n",
    "> plot(reg.summary$rss ,xlab=\"Number of Variables \",ylab=\"RSS\",\n",
    "type=\"l\")\n",
    "\n",
    "> plot(reg.summary$adjr2 ,xlab=\"Number of Variables \",\n",
    "ylab=\"Adjusted RSq\",type=\"l\")\n",
    "\n",
    "> points(11,reg.summary$adjr2[11], col=\"red\",cex=2,pch=20)\n",
    "\n",
    "> plot(reg.summary$cp ,xlab=\"Number of Variables \",ylab=\"Cp\",\n",
    "type=’l’)\n",
    "\n",
    "> points(10,reg.summary$cp [10],col=\"red\",cex=2,pch=20)\n",
    "\n",
    "> plot(reg.summary$bic ,xlab=\"Number of Variables \",ylab=\"BIC\",\n",
    "type=’l’)\n",
    "\n",
    "> points(6,reg.summary$bic [6],col=\"red\",cex=2,pch=20)\n"
   ]
  },
  {
   "cell_type": "code",
   "execution_count": 14,
   "metadata": {},
   "outputs": [],
   "source": [
    "test = reg_full['adjr2']"
   ]
  },
  {
   "cell_type": "code",
   "execution_count": 15,
   "metadata": {},
   "outputs": [
    {
     "data": {
      "text/plain": [
       "1     0.318850\n",
       "2     0.420802\n",
       "3     0.445075\n",
       "4     0.467273\n",
       "5     0.480897\n",
       "6     0.497200\n",
       "7     0.500785\n",
       "8     0.513708\n",
       "9     0.518057\n",
       "10    0.522261\n",
       "11    0.522571\n",
       "12    0.521724\n",
       "13    0.520674\n",
       "14    0.519543\n",
       "15    0.517866\n",
       "16    0.516222\n",
       "17    0.514446\n",
       "18    0.512610\n",
       "19    0.510627\n",
       "Name: adjr2, dtype: float64"
      ]
     },
     "execution_count": 15,
     "metadata": {},
     "output_type": "execute_result"
    }
   ],
   "source": [
    "test.astype('float')"
   ]
  },
  {
   "cell_type": "code",
   "execution_count": 16,
   "metadata": {},
   "outputs": [
    {
     "data": {
      "image/png": "[encoded data removed]",
      "text/plain": [
       "<Figure size 864x720 with 4 Axes>"
      ]
     },
     "metadata": {
      "needs_background": "light"
     },
     "output_type": "display_data"
    }
   ],
   "source": [
    "plt.figure(figsize=(12,10))\n",
    "plt.subplot(221)\n",
    "plt.plot(reg_full['rss'])\n",
    "plt.xlabel(u\"Number of Variables\")\n",
    "plt.ylabel(u\"RSS\")\n",
    "plt.subplot(222)\n",
    "plt.plot(reg_full['adjr2'])\n",
    "plt.xlabel(u\"Number of Variables\")\n",
    "plt.ylabel(u\"Adjusted RSq\")\n",
    "Arsq_max = reg_full['adjr2'].astype('float').idxmax()\n",
    "plt.scatter(Arsq_max,reg_full['adjr2'][Arsq_max],color = 'red',s=100,marker='o')\n",
    "plt.subplot(223)\n",
    "plt.plot(reg_full['cp'])\n",
    "plt.xlabel(u\"Number of Variables\")\n",
    "plt.ylabel(u\"Cp\")\n",
    "Cp_min = reg_full['cp'].astype('float').idxmin()\n",
    "plt.scatter(Cp_min,reg_full['cp'][Cp_min],color = 'red',s=100,marker='o')\n",
    "plt.subplot(224)\n",
    "plt.plot(reg_full['bic'])\n",
    "plt.xlabel(u\"Number of Variables\")\n",
    "plt.ylabel(u\"BIC\")\n",
    "BIC_min = reg_full['bic'].astype('float').idxmin()\n",
    "plt.scatter(BIC_min,reg_full['bic'][BIC_min],color = 'red',s=100,marker='o')\n",
    "plt.show()"
   ]
  },
  {
   "cell_type": "markdown",
   "metadata": {},
   "source": [
    "> coef(regfit.full ,6)"
   ]
  },
  {
   "cell_type": "code",
   "execution_count": 17,
   "metadata": {},
   "outputs": [
    {
     "data": {
      "text/plain": [
       "const             91.511798\n",
       "Division[T.W]   -122.951534\n",
       "AtBat             -1.868589\n",
       "Hits               7.604398\n",
       "Walks              3.697647\n",
       "CRBI               0.643017\n",
       "PutOuts            0.264308\n",
       "dtype: float64"
      ]
     },
     "execution_count": 17,
     "metadata": {},
     "output_type": "execute_result"
    }
   ],
   "source": [
    "reg_full['params'][BIC_min]"
   ]
  },
  {
   "cell_type": "markdown",
   "metadata": {},
   "source": [
    "**6.5.2 Forward and Backward Stepwise Selection**"
   ]
  },
  {
   "cell_type": "markdown",
   "metadata": {},
   "source": [
    "> regfit.fwd=regsubsets (Salary∼.,data=Hitters ,nvmax=19,\n",
    "method=\"forward \")\n",
    "\n",
    "> summary(regfit.fwd)\n",
    "\n",
    "> regfit.bwd=regsubsets (Salary∼.,data=Hitters ,nvmax=19,\n",
    "method=\"backward \")\n",
    "\n",
    "> summary(regfit.bwd)"
   ]
  },
  {
   "cell_type": "code",
   "execution_count": 18,
   "metadata": {},
   "outputs": [
    {
     "data": {
      "text/plain": [
       "1                                                [CRBI]\n",
       "2                                          [CRBI, Hits]\n",
       "3                                 [CRBI, Hits, PutOuts]\n",
       "4                  [CRBI, Hits, PutOuts, Division[T.W]]\n",
       "5           [CRBI, Hits, PutOuts, Division[T.W], AtBat]\n",
       "6     [CRBI, Hits, PutOuts, Division[T.W], AtBat, Wa...\n",
       "7     [CRBI, Hits, PutOuts, Division[T.W], AtBat, Wa...\n",
       "8     [CRBI, Hits, PutOuts, Division[T.W], AtBat, Wa...\n",
       "9     [CRBI, Hits, PutOuts, Division[T.W], AtBat, Wa...\n",
       "10    [CRBI, Hits, PutOuts, Division[T.W], AtBat, Wa...\n",
       "11    [CRBI, Hits, PutOuts, Division[T.W], AtBat, Wa...\n",
       "12    [CRBI, Hits, PutOuts, Division[T.W], AtBat, Wa...\n",
       "13    [CRBI, Hits, PutOuts, Division[T.W], AtBat, Wa...\n",
       "14    [CRBI, Hits, PutOuts, Division[T.W], AtBat, Wa...\n",
       "15    [CRBI, Hits, PutOuts, Division[T.W], AtBat, Wa...\n",
       "16    [CRBI, Hits, PutOuts, Division[T.W], AtBat, Wa...\n",
       "17    [CRBI, Hits, PutOuts, Division[T.W], AtBat, Wa...\n",
       "18    [CRBI, Hits, PutOuts, Division[T.W], AtBat, Wa...\n",
       "19    [CRBI, Hits, PutOuts, Division[T.W], AtBat, Wa...\n",
       "Name: X_columns, dtype: object"
      ]
     },
     "execution_count": 18,
     "metadata": {},
     "output_type": "execute_result"
    }
   ],
   "source": [
    "reg_fwd = regsubsets(model,Hitters_dropna, nvmax = 19, method =  'forward')\n",
    "reg_fwd['X_columns']"
   ]
  },
  {
   "cell_type": "code",
   "execution_count": 19,
   "metadata": {},
   "outputs": [
    {
     "data": {
      "text/plain": [
       "1                                               [CRuns]\n",
       "2                                         [Hits, CRuns]\n",
       "3                                [Hits, CRuns, PutOuts]\n",
       "4                         [AtBat, Hits, CRuns, PutOuts]\n",
       "5                  [AtBat, Hits, Walks, CRuns, PutOuts]\n",
       "6     [Division[T.W], AtBat, Hits, Walks, CRuns, Put...\n",
       "7     [Division[T.W], AtBat, Hits, Walks, CRuns, CWa...\n",
       "8     [Division[T.W], AtBat, Hits, Walks, CRuns, CRB...\n",
       "9     [Division[T.W], AtBat, Hits, Walks, CAtBat, CR...\n",
       "10    [Division[T.W], AtBat, Hits, Walks, CAtBat, CR...\n",
       "11    [League[T.N], Division[T.W], AtBat, Hits, Walk...\n",
       "12    [League[T.N], Division[T.W], AtBat, Hits, Runs...\n",
       "13    [League[T.N], Division[T.W], AtBat, Hits, Runs...\n",
       "14    [League[T.N], Division[T.W], AtBat, Hits, HmRu...\n",
       "15    [League[T.N], Division[T.W], AtBat, Hits, HmRu...\n",
       "16    [League[T.N], Division[T.W], AtBat, Hits, HmRu...\n",
       "17    [League[T.N], Division[T.W], NewLeague[T.N], A...\n",
       "18    [League[T.N], Division[T.W], NewLeague[T.N], A...\n",
       "19    [League[T.N], Division[T.W], NewLeague[T.N], A...\n",
       "Name: X_columns, dtype: object"
      ]
     },
     "execution_count": 19,
     "metadata": {},
     "output_type": "execute_result"
    }
   ],
   "source": [
    "reg_bwd = regsubsets(model,Hitters_dropna, nvmax = 19, method =  'backward')\n",
    "reg_bwd['X_columns']"
   ]
  },
  {
   "cell_type": "markdown",
   "metadata": {},
   "source": [
    "> coef(regfit.full ,7)\n",
    "\n",
    "> coef(regfit.fwd ,7)\n",
    "\n",
    "> coef(regfit.bwd ,7)"
   ]
  },
  {
   "cell_type": "code",
   "execution_count": 20,
   "metadata": {},
   "outputs": [
    {
     "data": {
      "text/plain": [
       "const             79.450947\n",
       "Division[T.W]   -129.986643\n",
       "Hits               1.283351\n",
       "Walks              3.227426\n",
       "CAtBat            -0.375235\n",
       "CHits              1.495707\n",
       "CHmRun             1.442054\n",
       "PutOuts            0.236681\n",
       "dtype: float64"
      ]
     },
     "execution_count": 20,
     "metadata": {},
     "output_type": "execute_result"
    }
   ],
   "source": [
    "reg_full['params'][7]"
   ]
  },
  {
   "cell_type": "code",
   "execution_count": 21,
   "metadata": {},
   "outputs": [
    {
     "data": {
      "text/plain": [
       "const            109.787306\n",
       "CRBI               0.853762\n",
       "Hits               7.449877\n",
       "PutOuts            0.253340\n",
       "Division[T.W]   -127.122393\n",
       "AtBat             -1.958885\n",
       "Walks              4.913140\n",
       "CWalks            -0.305307\n",
       "dtype: float64"
      ]
     },
     "execution_count": 21,
     "metadata": {},
     "output_type": "execute_result"
    }
   ],
   "source": [
    "reg_fwd['params'][7]"
   ]
  },
  {
   "cell_type": "code",
   "execution_count": 22,
   "metadata": {},
   "outputs": [
    {
     "data": {
      "text/plain": [
       "const            105.648749\n",
       "Division[T.W]   -116.169217\n",
       "AtBat             -1.976284\n",
       "Hits               6.757491\n",
       "Walks              6.055869\n",
       "CRuns              1.129309\n",
       "CWalks            -0.716335\n",
       "PutOuts            0.302885\n",
       "dtype: float64"
      ]
     },
     "execution_count": 22,
     "metadata": {},
     "output_type": "execute_result"
    }
   ],
   "source": [
    "reg_bwd['params'][7]"
   ]
  },
  {
   "cell_type": "markdown",
   "metadata": {},
   "source": [
    "**6.5.3 Choosing Among Models Using the Validation Set\n",
    "Approach and Cross-Validation**"
   ]
  },
  {
   "cell_type": "markdown",
   "metadata": {},
   "source": [
    "> set.seed(1)\n",
    "\n",
    "> train=sample(c(TRUE,FALSE), nrow(Hitters),rep=TRUE)\n",
    "\n",
    "> test=(!train)"
   ]
  },
  {
   "cell_type": "code",
   "execution_count": 23,
   "metadata": {},
   "outputs": [],
   "source": [
    "from sklearn.model_selection import train_test_split\n",
    "train_set, test_set = train_test_split(Hitters_dropna, test_size = 0.5, random_state = 1)"
   ]
  },
  {
   "cell_type": "code",
   "execution_count": 24,
   "metadata": {},
   "outputs": [],
   "source": [
    "#> regfit.best=regsubsets (Salary∼.,data=Hitters[train ,],nvmax=19)\n",
    "regfit_best = regsubsets(model, train_set, nvmax = 19)"
   ]
  },
  {
   "cell_type": "code",
   "execution_count": 25,
   "metadata": {},
   "outputs": [],
   "source": [
    "#> test.mat=model.matrix(Salary∼.,data=Hitters[test ,])\n",
    "y_test ,X_test = patsy.dmatrices(model,test_set, return_type=\"dataframe\")"
   ]
  },
  {
   "cell_type": "markdown",
   "metadata": {},
   "source": [
    "> val.errors=rep(NA,19)\n",
    "\n",
    "> for(i in 1:19){\n",
    "+ coefi=coef(regfit.best ,id=i)\n",
    "+ pred=test.mat[,names(coefi)]%*%coefi\n",
    "+ val.errors[i]=mean((Hitters$Salary[test]-pred)^2)\n",
    "}\n",
    "\n",
    "> val.errors"
   ]
  },
  {
   "cell_type": "code",
   "execution_count": 26,
   "metadata": {},
   "outputs": [
    {
     "data": {
      "text/html": [
       "<div>\n",
       "<style scoped>\n",
       "    .dataframe tbody tr th:only-of-type {\n",
       "        vertical-align: middle;\n",
       "    }\n",
       "\n",
       "    .dataframe tbody tr th {\n",
       "        vertical-align: top;\n",
       "    }\n",
       "\n",
       "    .dataframe thead th {\n",
       "        text-align: right;\n",
       "    }\n",
       "</style>\n",
       "<table border=\"1\" class=\"dataframe\">\n",
       "  <thead>\n",
       "    <tr style=\"text-align: right;\">\n",
       "      <th></th>\n",
       "      <th>var_errors</th>\n",
       "    </tr>\n",
       "  </thead>\n",
       "  <tbody>\n",
       "    <tr>\n",
       "      <th>1</th>\n",
       "      <td>118362.0</td>\n",
       "    </tr>\n",
       "    <tr>\n",
       "      <th>2</th>\n",
       "      <td>130967.0</td>\n",
       "    </tr>\n",
       "    <tr>\n",
       "      <th>3</th>\n",
       "      <td>119625.0</td>\n",
       "    </tr>\n",
       "    <tr>\n",
       "      <th>4</th>\n",
       "      <td>134908.0</td>\n",
       "    </tr>\n",
       "    <tr>\n",
       "      <th>5</th>\n",
       "      <td>112643.0</td>\n",
       "    </tr>\n",
       "    <tr>\n",
       "      <th>6</th>\n",
       "      <td>107271.0</td>\n",
       "    </tr>\n",
       "    <tr>\n",
       "      <th>7</th>\n",
       "      <td>116459.0</td>\n",
       "    </tr>\n",
       "    <tr>\n",
       "      <th>8</th>\n",
       "      <td>106841.0</td>\n",
       "    </tr>\n",
       "    <tr>\n",
       "      <th>9</th>\n",
       "      <td>105174.0</td>\n",
       "    </tr>\n",
       "    <tr>\n",
       "      <th>10</th>\n",
       "      <td>106398.0</td>\n",
       "    </tr>\n",
       "    <tr>\n",
       "      <th>11</th>\n",
       "      <td>108478.0</td>\n",
       "    </tr>\n",
       "    <tr>\n",
       "      <th>12</th>\n",
       "      <td>108578.0</td>\n",
       "    </tr>\n",
       "    <tr>\n",
       "      <th>13</th>\n",
       "      <td>109160.0</td>\n",
       "    </tr>\n",
       "    <tr>\n",
       "      <th>14</th>\n",
       "      <td>111403.0</td>\n",
       "    </tr>\n",
       "    <tr>\n",
       "      <th>15</th>\n",
       "      <td>111938.0</td>\n",
       "    </tr>\n",
       "    <tr>\n",
       "      <th>16</th>\n",
       "      <td>112080.0</td>\n",
       "    </tr>\n",
       "    <tr>\n",
       "      <th>17</th>\n",
       "      <td>118275.0</td>\n",
       "    </tr>\n",
       "    <tr>\n",
       "      <th>18</th>\n",
       "      <td>116726.0</td>\n",
       "    </tr>\n",
       "    <tr>\n",
       "      <th>19</th>\n",
       "      <td>116690.0</td>\n",
       "    </tr>\n",
       "  </tbody>\n",
       "</table>\n",
       "</div>"
      ],
      "text/plain": [
       "    var_errors\n",
       "1     118362.0\n",
       "2     130967.0\n",
       "3     119625.0\n",
       "4     134908.0\n",
       "5     112643.0\n",
       "6     107271.0\n",
       "7     116459.0\n",
       "8     106841.0\n",
       "9     105174.0\n",
       "10    106398.0\n",
       "11    108478.0\n",
       "12    108578.0\n",
       "13    109160.0\n",
       "14    111403.0\n",
       "15    111938.0\n",
       "16    112080.0\n",
       "17    118275.0\n",
       "18    116726.0\n",
       "19    116690.0"
      ]
     },
     "execution_count": 26,
     "metadata": {},
     "output_type": "execute_result"
    }
   ],
   "source": [
    "def regfit_var_errors(regfit,train_set,test_set,model):\n",
    "    nvmax = len(regfit)\n",
    "    y_train ,X_train = patsy.dmatrices(model,train_set, return_type=\"dataframe\")\n",
    "    y_test ,X_test = patsy.dmatrices(model,test_set, return_type=\"dataframe\")\n",
    "    var_errors = {}\n",
    "    for nv in range(1,nvmax + 1):\n",
    "        X_train_model = sm.add_constant(X_train[regfit['X_columns'][nv]])\n",
    "        results = sm.OLS(y_train,X_train_model).fit()\n",
    "        predict_test = results.predict(sm.add_constant(X_test[regfit['X_columns'][nv]]))\n",
    "        var_errors[nv] = ((np.c_[y_test].ravel() - predict_test)**2).mean()     \n",
    "    return pd.DataFrame(var_errors,index = ['var_errors']).round().T\n",
    "var_errors = regfit_var_errors(regfit_best,train_set,test_set,model)\n",
    "var_errors"
   ]
  },
  {
   "cell_type": "code",
   "execution_count": 27,
   "metadata": {},
   "outputs": [
    {
     "data": {
      "text/plain": [
       "var_errors    9\n",
       "dtype: int64"
      ]
     },
     "execution_count": 27,
     "metadata": {},
     "output_type": "execute_result"
    }
   ],
   "source": [
    "#> which.min(val.errors)\n",
    "var_errors.idxmin()"
   ]
  },
  {
   "cell_type": "code",
   "execution_count": 28,
   "metadata": {},
   "outputs": [
    {
     "data": {
      "text/plain": [
       "const            268.566390\n",
       "Division[T.W]   -125.778852\n",
       "AtBat             -1.972139\n",
       "Hits               5.773220\n",
       "Walks              4.363040\n",
       "CAtBat            -0.457920\n",
       "CHits              1.713801\n",
       "CHmRun             2.122356\n",
       "PutOuts            0.399087\n",
       "Assists            0.246362\n",
       "dtype: float64"
      ]
     },
     "execution_count": 28,
     "metadata": {},
     "output_type": "execute_result"
    }
   ],
   "source": [
    "#> coef(regfit.best ,10)\n",
    "regfit_best['params'][var_errors.idxmin()[0]]"
   ]
  },
  {
   "cell_type": "markdown",
   "metadata": {},
   "source": [
    "> regfit.best=regsubsets (Salary∼.,data=Hitters ,nvmax=19)\n",
    "\n",
    "> coef(regfit.best ,10)"
   ]
  },
  {
   "cell_type": "code",
   "execution_count": 29,
   "metadata": {},
   "outputs": [
    {
     "data": {
      "text/plain": [
       "const            146.249600\n",
       "Division[T.W]   -115.349501\n",
       "AtBat             -1.936768\n",
       "Hits               6.656721\n",
       "Walks              5.552044\n",
       "CAtBat            -0.099539\n",
       "CRuns              1.250671\n",
       "CRBI               0.661768\n",
       "CWalks            -0.777985\n",
       "PutOuts            0.277731\n",
       "dtype: float64"
      ]
     },
     "execution_count": 29,
     "metadata": {},
     "output_type": "execute_result"
    }
   ],
   "source": [
    "reg_full['params'][var_errors.idxmin()[0]]"
   ]
  },
  {
   "cell_type": "markdown",
   "metadata": {},
   "source": [
    "> k=10\n",
    "\n",
    "> set.seed(1)\n",
    "\n",
    "> folds=sample(1:k,nrow(Hitters),replace=TRUE)\n",
    "\n",
    "> cv.errors=matrix(NA,k,19, dimnames =list(NULL , paste(1:19)))\n",
    "\n",
    "> for(j in 1:k){\n",
    "+ best.fit=regsubsets (Salary∼.,data=Hitters[folds!=j,],\n",
    "nvmax=19)\n",
    "+ for(i in 1:19){\n",
    "+ pred=predict(best.fit ,Hitters[folds==j,],id=i)\n",
    "+ cv.errors[j,i]=mean( (Hitters$Salary[folds==j]-pred)^2)\n",
    "+ }\n",
    "+ }"
   ]
  },
  {
   "cell_type": "code",
   "execution_count": 30,
   "metadata": {},
   "outputs": [
    {
     "data": {
      "text/plain": [
       "10"
      ]
     },
     "execution_count": 30,
     "metadata": {},
     "output_type": "execute_result"
    }
   ],
   "source": [
    "from sklearn.model_selection import KFold\n",
    "kf = KFold(n_splits=10, random_state=1,shuffle=True)\n",
    "kf.get_n_splits(Hitters_dropna)"
   ]
  },
  {
   "cell_type": "code",
   "execution_count": 31,
   "metadata": {},
   "outputs": [],
   "source": [
    "var_errors_kf = pd.DataFrame()\n",
    "kf_idx = 1\n",
    "for train_index, test_index in kf.split(Hitters_dropna):\n",
    "    regfit_best = regsubsets(model, Hitters_dropna.iloc[train_index], nvmax = 19)\n",
    "    var_errors = regfit_var_errors(regfit_best, Hitters_dropna.iloc[train_index],Hitters_dropna.iloc[test_index],model)\n",
    "    var_errors_kf['kf_idx{}'.format(kf_idx)] = var_errors['var_errors']\n",
    "    kf_idx += 1"
   ]
  },
  {
   "cell_type": "markdown",
   "metadata": {},
   "source": [
    "> mean.cv.errors=apply(cv.errors ,2,mean)\n",
    "\n",
    "> mean.cv.errors"
   ]
  },
  {
   "cell_type": "code",
   "execution_count": 32,
   "metadata": {},
   "outputs": [
    {
     "data": {
      "text/plain": [
       "1     146418.0\n",
       "2     127083.0\n",
       "3     138197.4\n",
       "4     139002.3\n",
       "5     130911.7\n",
       "6     126773.7\n",
       "7     124909.5\n",
       "8     115740.9\n",
       "9     114953.5\n",
       "10    109200.1\n",
       "11    108635.0\n",
       "12    112886.0\n",
       "13    114225.1\n",
       "14    115740.5\n",
       "15    116610.5\n",
       "16    116947.7\n",
       "17    116980.2\n",
       "18    117030.2\n",
       "19    117027.3\n",
       "dtype: float64"
      ]
     },
     "execution_count": 32,
     "metadata": {},
     "output_type": "execute_result"
    }
   ],
   "source": [
    "var_errors_kf.T.mean()"
   ]
  },
  {
   "cell_type": "markdown",
   "metadata": {},
   "source": [
    "> par(mfrow=c(1,1))\n",
    "\n",
    "> plot(mean.cv.errors ,type=’b’)"
   ]
  },
  {
   "cell_type": "code",
   "execution_count": 33,
   "metadata": {},
   "outputs": [
    {
     "data": {
      "image/png": "[encoded data removed]",
      "text/plain": [
       "<Figure size 432x288 with 1 Axes>"
      ]
     },
     "metadata": {
      "needs_background": "light"
     },
     "output_type": "display_data"
    }
   ],
   "source": [
    "plt.plot(var_errors_kf.T.mean())\n",
    "plt.show()"
   ]
  },
  {
   "cell_type": "markdown",
   "metadata": {},
   "source": [
    "> reg.best=regsubsets (Salary∼.,data=Hitters , nvmax=19)\n",
    "\n",
    "> coef(reg.best ,11)"
   ]
  },
  {
   "cell_type": "code",
   "execution_count": 34,
   "metadata": {},
   "outputs": [
    {
     "data": {
      "text/plain": [
       "const            135.751219\n",
       "League[T.N]       43.111615\n",
       "Division[T.W]   -111.146025\n",
       "AtBat             -2.127748\n",
       "Hits               6.923699\n",
       "Walks              5.620276\n",
       "CAtBat            -0.138991\n",
       "CRuns              1.455331\n",
       "CRBI               0.785253\n",
       "CWalks            -0.822856\n",
       "PutOuts            0.289409\n",
       "Assists            0.268828\n",
       "dtype: float64"
      ]
     },
     "execution_count": 34,
     "metadata": {},
     "output_type": "execute_result"
    }
   ],
   "source": [
    "reg_full['params'][var_errors_kf.T.mean().idxmin()]"
   ]
  },
  {
   "cell_type": "markdown",
   "metadata": {},
   "source": [
    "**使用sklearn的递归特征消除进行特征选择效率更高**"
   ]
  },
  {
   "cell_type": "code",
   "execution_count": 35,
   "metadata": {},
   "outputs": [
    {
     "data": {
      "text/plain": [
       "array([False,  True,  True,  True, False,  True,  True, False, False,\n",
       "        True,  True, False, False, False, False, False, False, False,\n",
       "       False, False])"
      ]
     },
     "execution_count": 35,
     "metadata": {},
     "output_type": "execute_result"
    }
   ],
   "source": [
    "from sklearn.feature_selection import RFECV\n",
    "y ,X = patsy.dmatrices(model, Hitters_dropna, return_type=\"dataframe\")\n",
    "estimator = linear_model.LinearRegression()\n",
    "selector = RFECV(estimator, step=1, cv=10)\n",
    "selector = selector.fit(X, np.c_[y].ravel())\n",
    "selector.support_"
   ]
  },
  {
   "cell_type": "code",
   "execution_count": 36,
   "metadata": {},
   "outputs": [
    {
     "data": {
      "text/html": [
       "<div>\n",
       "<style scoped>\n",
       "    .dataframe tbody tr th:only-of-type {\n",
       "        vertical-align: middle;\n",
       "    }\n",
       "\n",
       "    .dataframe tbody tr th {\n",
       "        vertical-align: top;\n",
       "    }\n",
       "\n",
       "    .dataframe thead th {\n",
       "        text-align: right;\n",
       "    }\n",
       "</style>\n",
       "<table border=\"1\" class=\"dataframe\">\n",
       "  <thead>\n",
       "    <tr style=\"text-align: right;\">\n",
       "      <th></th>\n",
       "      <th>Intercept</th>\n",
       "      <th>League[T.N]</th>\n",
       "      <th>Division[T.W]</th>\n",
       "      <th>NewLeague[T.N]</th>\n",
       "      <th>AtBat</th>\n",
       "      <th>Hits</th>\n",
       "      <th>HmRun</th>\n",
       "      <th>Runs</th>\n",
       "      <th>RBI</th>\n",
       "      <th>Walks</th>\n",
       "      <th>Years</th>\n",
       "      <th>CAtBat</th>\n",
       "      <th>CHits</th>\n",
       "      <th>CHmRun</th>\n",
       "      <th>CRuns</th>\n",
       "      <th>CRBI</th>\n",
       "      <th>CWalks</th>\n",
       "      <th>PutOuts</th>\n",
       "      <th>Assists</th>\n",
       "      <th>Errors</th>\n",
       "    </tr>\n",
       "  </thead>\n",
       "  <tbody>\n",
       "    <tr>\n",
       "      <th>0</th>\n",
       "      <td>False</td>\n",
       "      <td>True</td>\n",
       "      <td>True</td>\n",
       "      <td>True</td>\n",
       "      <td>False</td>\n",
       "      <td>True</td>\n",
       "      <td>True</td>\n",
       "      <td>False</td>\n",
       "      <td>False</td>\n",
       "      <td>True</td>\n",
       "      <td>True</td>\n",
       "      <td>False</td>\n",
       "      <td>False</td>\n",
       "      <td>False</td>\n",
       "      <td>False</td>\n",
       "      <td>False</td>\n",
       "      <td>False</td>\n",
       "      <td>False</td>\n",
       "      <td>False</td>\n",
       "      <td>False</td>\n",
       "    </tr>\n",
       "  </tbody>\n",
       "</table>\n",
       "</div>"
      ],
      "text/plain": [
       "   Intercept  League[T.N]  Division[T.W]  NewLeague[T.N]  AtBat  Hits  HmRun  \\\n",
       "0      False         True           True            True  False  True   True   \n",
       "\n",
       "    Runs    RBI  Walks  Years  CAtBat  CHits  CHmRun  CRuns   CRBI  CWalks  \\\n",
       "0  False  False   True   True   False  False   False  False  False   False   \n",
       "\n",
       "   PutOuts  Assists  Errors  \n",
       "0    False    False   False  "
      ]
     },
     "execution_count": 36,
     "metadata": {},
     "output_type": "execute_result"
    }
   ],
   "source": [
    "pd.DataFrame(selector.support_,index = X.columns).T"
   ]
  },
  {
   "cell_type": "markdown",
   "metadata": {},
   "source": [
    "**使用RFE和GridSearchCV效果不佳**"
   ]
  },
  {
   "cell_type": "code",
   "execution_count": 37,
   "metadata": {},
   "outputs": [
    {
     "data": {
      "text/plain": [
       "GridSearchCV(cv=10, error_score=nan,\n",
       "             estimator=RFE(estimator=LinearRegression(copy_X=True,\n",
       "                                                      fit_intercept=True,\n",
       "                                                      n_jobs=None,\n",
       "                                                      normalize=False),\n",
       "                           n_features_to_select=None, step=1, verbose=0),\n",
       "             iid='deprecated', n_jobs=None,\n",
       "             param_grid=[{'n_features_to_select': array([ 1.,  2.,  3.,  4.,  5.,  6.,  7.,  8.,  9., 10., 11., 12., 13.,\n",
       "       14., 15., 16., 17., 18., 19.])}],\n",
       "             pre_dispatch='2*n_jobs', refit=True, return_train_score=False,\n",
       "             scoring='neg_mean_squared_error', verbose=0)"
      ]
     },
     "execution_count": 37,
     "metadata": {},
     "output_type": "execute_result"
    }
   ],
   "source": [
    "from sklearn.feature_selection import RFE\n",
    "from sklearn.model_selection import GridSearchCV\n",
    "param_grid = [\n",
    "{'n_features_to_select': np.linspace(1, 19, 19) },\n",
    "]\n",
    "lr =linear_model.LinearRegression()\n",
    "rfe = RFE(estimator=lr)\n",
    "grid_search = GridSearchCV(rfe, param_grid, cv = 10, scoring='neg_mean_squared_error')\n",
    "grid_search.fit(X, np.c_[y].ravel())"
   ]
  },
  {
   "cell_type": "code",
   "execution_count": 38,
   "metadata": {},
   "outputs": [
    {
     "data": {
      "text/plain": [
       "{'n_features_to_select': 19.0}"
      ]
     },
     "execution_count": 38,
     "metadata": {},
     "output_type": "execute_result"
    }
   ],
   "source": [
    "grid_search.best_params_"
   ]
  },
  {
   "cell_type": "markdown",
   "metadata": {},
   "source": [
    "# 6.6 Lab 2: Ridge Regression and the Lasso"
   ]
  },
  {
   "cell_type": "markdown",
   "metadata": {},
   "source": [
    "> x=model.matrix(Salary∼.,Hitters)[,-1]\n",
    "\n",
    "> y=Hitters$Salary"
   ]
  },
  {
   "cell_type": "code",
   "execution_count": 39,
   "metadata": {},
   "outputs": [],
   "source": [
    "y ,X = patsy.dmatrices(model, Hitters_dropna, return_type=\"dataframe\")\n",
    "X.drop('Intercept',axis = 1,inplace = True)"
   ]
  },
  {
   "cell_type": "markdown",
   "metadata": {},
   "source": [
    "**6.6.1 Ridge Regression**"
   ]
  },
  {
   "cell_type": "markdown",
   "metadata": {},
   "source": [
    "> library(glmnet)\n",
    "\n",
    "> grid=10^seq(10,-2, length =100)\n",
    "\n",
    "> ridge.mod=glmnet(x,y,alpha=0,lambda=grid)"
   ]
  },
  {
   "cell_type": "code",
   "execution_count": 40,
   "metadata": {},
   "outputs": [],
   "source": [
    "from sklearn.linear_model import Ridge\n",
    "from sklearn.linear_model import Lasso\n",
    "from sklearn.preprocessing import StandardScaler\n",
    "#python与R的大致比例，这里不知道是怎么算出来的\n",
    "division_belta = 1.7126565947819132\n",
    "grid = 10 ** np.linspace(10, -2, 100)/division_belta\n",
    "def get_shrinkage_mod(X,y,grid,methods = 1,return_type = 1):\n",
    "    std_scaler = StandardScaler(with_mean = False)\n",
    "    std_scaler.fit(X)\n",
    "    X_Standard = std_scaler.transform(X)\n",
    "    shrinkage_mod =  []\n",
    "    idx = 1\n",
    "    shrinkage_mod_columns = [['idx','lambda','coef'],['','','Intercept']]\n",
    "    for variable in X.columns:\n",
    "        shrinkage_mod_columns[0].append('coef')\n",
    "        shrinkage_mod_columns[1].append(variable)\n",
    "    for alpha in grid:\n",
    "        if methods == 1:\n",
    "            shrinkage_reg = Ridge(alpha = alpha)\n",
    "        else:\n",
    "            shrinkage_reg = Lasso(alpha = alpha)           \n",
    "        shrinkage_reg.fit(X_Standard,y)\n",
    "        shrinkage_mod.append([])\n",
    "        shrinkage_mod[idx - 1].append(idx)\n",
    "        shrinkage_mod[idx - 1].append(alpha)\n",
    "        shrinkage_mod[idx - 1].append(shrinkage_reg.intercept_[0])\n",
    "        #return_type为1返回Standardized Coefficients，否则反馈原模型的Coefficients\n",
    "        if return_type == 1:\n",
    "            if methods == 1:\n",
    "                shrinkage_mod[idx - 1].extend(shrinkage_reg.coef_[0])\n",
    "            else:\n",
    "                shrinkage_mod[idx - 1].extend(shrinkage_reg.coef_)\n",
    "        else:\n",
    "            if methods == 1:\n",
    "                shrinkage_mod[idx - 1].extend(std_scaler.transform(shrinkage_reg.coef_[0].reshape(1,-1))[0].tolist())\n",
    "            else:\n",
    "                shrinkage_mod[idx - 1].extend(std_scaler.transform(shrinkage_reg.coef_.reshape(1,-1))[0].tolist())\n",
    "        idx += 1\n",
    "    return  pd.DataFrame(np.array(shrinkage_mod),columns = shrinkage_mod_columns).set_index('idx')\n",
    "ridge_mod = get_shrinkage_mod(X,y,grid,return_type = 2)"
   ]
  },
  {
   "cell_type": "code",
   "execution_count": 41,
   "metadata": {},
   "outputs": [
    {
     "data": {
      "text/plain": [
       "(100, 20)"
      ]
     },
     "execution_count": 41,
     "metadata": {},
     "output_type": "execute_result"
    }
   ],
   "source": [
    "#> dim(coef(ridge.mod))\n",
    "ridge_mod['coef'].shape"
   ]
  },
  {
   "cell_type": "code",
   "execution_count": 42,
   "metadata": {},
   "outputs": [
    {
     "data": {
      "text/plain": [
       "6713.295583602641"
      ]
     },
     "execution_count": 42,
     "metadata": {},
     "output_type": "execute_result"
    }
   ],
   "source": [
    "#> ridge.mod$lambda [50],python与R的大致比例为division_belta，这里不知道是怎么算出来的\n",
    "ridge_mod['lambda'][50]"
   ]
  },
  {
   "cell_type": "code",
   "execution_count": 43,
   "metadata": {},
   "outputs": [
    {
     "data": {
      "text/plain": [
       "Intercept         407.318320\n",
       "League[T.N]         0.085222\n",
       "Division[T.W]      -6.217585\n",
       "NewLeague[T.N]      0.301652\n",
       "AtBat               0.036968\n",
       "Hits                0.138222\n",
       "HmRun               0.524777\n",
       "Runs                0.230770\n",
       "RBI                 0.239911\n",
       "Walks               0.289705\n",
       "Years               1.108004\n",
       "CAtBat              0.003133\n",
       "CHits               0.011657\n",
       "CHmRun              0.087571\n",
       "CRuns               0.023387\n",
       "CRBI                0.024145\n",
       "CWalks              0.025023\n",
       "PutOuts             0.016488\n",
       "Assists             0.002614\n",
       "Errors             -0.020513\n",
       "Name: 50.0, dtype: float64"
      ]
     },
     "execution_count": 43,
     "metadata": {},
     "output_type": "execute_result"
    }
   ],
   "source": [
    "#> coef(ridge.mod)[,50]\n",
    "ridge_mod['coef'].loc[50]"
   ]
  },
  {
   "cell_type": "code",
   "execution_count": 44,
   "metadata": {},
   "outputs": [
    {
     "data": {
      "text/plain": [
       "6.36279523335839"
      ]
     },
     "execution_count": 44,
     "metadata": {},
     "output_type": "execute_result"
    }
   ],
   "source": [
    "#> sqrt(sum(coef(ridge.mod)[-1,50]^2) )\n",
    "((ridge_mod['coef'].loc[50].iloc[1:])**2).sum()**0.5"
   ]
  },
  {
   "cell_type": "code",
   "execution_count": 45,
   "metadata": {},
   "outputs": [
    {
     "data": {
      "text/plain": [
       "411.921592"
      ]
     },
     "execution_count": 45,
     "metadata": {},
     "output_type": "execute_result"
    }
   ],
   "source": [
    "#> ridge.mod$lambda [60],python与R的大致比例为division_belta，这里不知道是怎么算出来的\n",
    "ridge_mod['lambda'][60]"
   ]
  },
  {
   "cell_type": "code",
   "execution_count": 46,
   "metadata": {},
   "outputs": [
    {
     "data": {
      "text/plain": [
       "Intercept         54.325000\n",
       "League[T.N]       13.684100\n",
       "Division[T.W]    -54.671166\n",
       "NewLeague[T.N]     8.611493\n",
       "AtBat              0.111978\n",
       "Hits               0.655899\n",
       "HmRun              1.178235\n",
       "Runs               0.937760\n",
       "RBI                0.847394\n",
       "Walks              1.320365\n",
       "Years              2.593182\n",
       "CAtBat             0.010846\n",
       "CHits              0.046815\n",
       "CHmRun             0.338224\n",
       "CRuns              0.093594\n",
       "CRBI               0.097762\n",
       "CWalks             0.071794\n",
       "PutOuts            0.118554\n",
       "Assists            0.016090\n",
       "Errors            -0.703184\n",
       "Name: 60.0, dtype: float64"
      ]
     },
     "execution_count": 46,
     "metadata": {},
     "output_type": "execute_result"
    }
   ],
   "source": [
    "#> coef(ridge.mod)[,60]\n",
    "ridge_mod['coef'].loc[60]"
   ]
  },
  {
   "cell_type": "code",
   "execution_count": 47,
   "metadata": {},
   "outputs": [
    {
     "data": {
      "text/plain": [
       "57.12174816376263"
      ]
     },
     "execution_count": 47,
     "metadata": {},
     "output_type": "execute_result"
    }
   ],
   "source": [
    "#> sqrt(sum(coef(ridge.mod)[-1,60]^2) )\n",
    "((ridge_mod['coef'].loc[60].iloc[1:])**2).sum()**0.5"
   ]
  },
  {
   "cell_type": "code",
   "execution_count": 48,
   "metadata": {},
   "outputs": [
    {
     "data": {
      "text/plain": [
       "Intercept          47.739713\n",
       "League[T.N]        45.849355\n",
       "Division[T.W]    -118.221187\n",
       "NewLeague[T.N]     -9.390502\n",
       "AtBat              -0.352716\n",
       "Hits                1.954027\n",
       "HmRun              -1.273758\n",
       "Runs                1.156011\n",
       "RBI                 0.809037\n",
       "Walks               2.704833\n",
       "Years              -6.123260\n",
       "CAtBat              0.006045\n",
       "CHits               0.106013\n",
       "CHmRun              0.621248\n",
       "CRuns               0.216478\n",
       "CRBI                0.217319\n",
       "CWalks             -0.146943\n",
       "PutOuts             0.250112\n",
       "Assists             0.120516\n",
       "Errors             -3.277705\n",
       "Name: 1.0, dtype: float64"
      ]
     },
     "execution_count": 48,
     "metadata": {},
     "output_type": "execute_result"
    }
   ],
   "source": [
    "#> predict(ridge.mod,s=50,type=\"coefficients\")[1:20,]\n",
    "get_shrinkage_mod(X,y,[50/division_belta ],return_type = 2)['coef'].iloc[0]"
   ]
  },
  {
   "cell_type": "markdown",
   "metadata": {},
   "source": [
    "> set.seed(1)\n",
    "\n",
    "> train=sample(1:nrow(x), nrow(x)/2)\n",
    "\n",
    "> test=(-train)\n",
    "\n",
    "> y.test=y[test]"
   ]
  },
  {
   "cell_type": "code",
   "execution_count": 49,
   "metadata": {},
   "outputs": [],
   "source": [
    "train_set, test_set = train_test_split(Hitters_dropna, test_size = 0.5, random_state = 1)\n",
    "y_train ,X_train = patsy.dmatrices(model, train_set, return_type=\"dataframe\")\n",
    "y_test ,X_test = patsy.dmatrices(model, test_set, return_type=\"dataframe\")\n",
    "#在sklearn中默认fit_intercept=True，默认不要在X初始模型中代入Intercept，故而model用0+开头\n",
    "X_train_original = X_train.drop('Intercept',axis = 1)"
   ]
  },
  {
   "cell_type": "markdown",
   "metadata": {},
   "source": [
    "> ridge.mod=glmnet(x[train ,],y[train],alpha=0,lambda=grid,\n",
    "thresh=1e-12)\n",
    "\n",
    "> ridge.pred=predict(ridge.mod,s=4,newx=x[test ,])\n",
    "\n",
    "> mean((ridge.pred-y.test)^2)"
   ]
  },
  {
   "cell_type": "code",
   "execution_count": 50,
   "metadata": {},
   "outputs": [
    {
     "data": {
      "text/plain": [
       "Salary    102144.523951\n",
       "dtype: float64"
      ]
     },
     "execution_count": 50,
     "metadata": {},
     "output_type": "execute_result"
    }
   ],
   "source": [
    "ridge_mod = get_shrinkage_mod(X_train_original,y_train,[4],return_type = 2)\n",
    "ridge_pred = (ridge_mod['coef'].iloc[0] * X_test).sum(axis = 1)\n",
    "((y_test.T - ridge_pred) ** 2).mean(axis = 1)"
   ]
  },
  {
   "cell_type": "code",
   "execution_count": 51,
   "metadata": {},
   "outputs": [
    {
     "data": {
      "text/plain": [
       "Salary    172862.235921\n",
       "dtype: float64"
      ]
     },
     "execution_count": 51,
     "metadata": {},
     "output_type": "execute_result"
    }
   ],
   "source": [
    "#> mean((mean(y[train])-y.test)^2)\n",
    "((y_train.mean() - y_test)**2).mean()"
   ]
  },
  {
   "cell_type": "markdown",
   "metadata": {},
   "source": [
    "> ridge.pred=predict(ridge.mod,s=1e10,newx=x[test ,])\n",
    "\n",
    "> mean((ridge.pred-y.test)^2)"
   ]
  },
  {
   "cell_type": "code",
   "execution_count": 52,
   "metadata": {},
   "outputs": [
    {
     "data": {
      "text/plain": [
       "Salary    172862.220592\n",
       "dtype: float64"
      ]
     },
     "execution_count": 52,
     "metadata": {},
     "output_type": "execute_result"
    }
   ],
   "source": [
    "ridge_mod = get_shrinkage_mod(X_train_original,y_train,[10 ** 10],return_type = 2)\n",
    "ridge_pred = (ridge_mod['coef'].iloc[0] * X_test).sum(axis = 1)\n",
    "((y_test.T - ridge_pred) ** 2).mean(axis = 1)"
   ]
  },
  {
   "cell_type": "markdown",
   "metadata": {},
   "source": [
    "> ridge.pred=predict(ridge.mod,s=0,newx=x[test ,],exact=T)\n",
    "\n",
    "> mean((ridge.pred-y.test)^2)\n",
    "\n",
    "> lm(y∼x, subset=train)\n",
    "\n",
    "> predict(ridge.mod,s=0,exact=T,type=\"coefficients\")[1:20,]"
   ]
  },
  {
   "cell_type": "code",
   "execution_count": 53,
   "metadata": {},
   "outputs": [
    {
     "data": {
      "text/plain": [
       "Salary    116690.468567\n",
       "dtype: float64"
      ]
     },
     "execution_count": 53,
     "metadata": {},
     "output_type": "execute_result"
    }
   ],
   "source": [
    "ridge_mod = get_shrinkage_mod(X_train_original,y_train,[0],return_type = 2)\n",
    "ridge_pred = (ridge_mod['coef'].iloc[0] * X_test).sum(axis = 1)\n",
    "((y_test.T - ridge_pred) ** 2).mean(axis = 1)"
   ]
  },
  {
   "cell_type": "code",
   "execution_count": 54,
   "metadata": {},
   "outputs": [
    {
     "data": {
      "text/plain": [
       "Intercept         231.163321\n",
       "League[T.N]       133.743163\n",
       "Division[T.W]    -113.743875\n",
       "NewLeague[T.N]    -81.927763\n",
       "AtBat              -1.821115\n",
       "Hits                4.259156\n",
       "HmRun              -4.773401\n",
       "Runs               -0.038760\n",
       "RBI                 3.984578\n",
       "Walks               3.470126\n",
       "Years               9.498236\n",
       "CAtBat             -0.605129\n",
       "CHits               2.174979\n",
       "CHmRun              2.979306\n",
       "CRuns               0.266356\n",
       "CRBI               -0.598456\n",
       "CWalks              0.171383\n",
       "PutOuts             0.421063\n",
       "Assists             0.464379\n",
       "Errors             -6.024576\n",
       "Name: 1.0, dtype: float64"
      ]
     },
     "execution_count": 54,
     "metadata": {},
     "output_type": "execute_result"
    }
   ],
   "source": [
    "get_shrinkage_mod(X_train_original,y_train,[0],return_type = 2)['coef'].iloc[0]"
   ]
  },
  {
   "cell_type": "code",
   "execution_count": 55,
   "metadata": {},
   "outputs": [
    {
     "data": {
      "text/html": [
       "<table class=\"simpletable\">\n",
       "<caption>OLS Regression Results</caption>\n",
       "<tr>\n",
       "  <th>Dep. Variable:</th>         <td>Salary</td>      <th>  R-squared:         </th> <td>   0.611</td>\n",
       "</tr>\n",
       "<tr>\n",
       "  <th>Model:</th>                   <td>OLS</td>       <th>  Adj. R-squared:    </th> <td>   0.545</td>\n",
       "</tr>\n",
       "<tr>\n",
       "  <th>Method:</th>             <td>Least Squares</td>  <th>  F-statistic:       </th> <td>   9.195</td>\n",
       "</tr>\n",
       "<tr>\n",
       "  <th>Date:</th>             <td>Sat, 04 Jan 2020</td> <th>  Prob (F-statistic):</th> <td>3.08e-15</td>\n",
       "</tr>\n",
       "<tr>\n",
       "  <th>Time:</th>                 <td>09:11:13</td>     <th>  Log-Likelihood:    </th> <td> -933.41</td>\n",
       "</tr>\n",
       "<tr>\n",
       "  <th>No. Observations:</th>      <td>   131</td>      <th>  AIC:               </th> <td>   1907.</td>\n",
       "</tr>\n",
       "<tr>\n",
       "  <th>Df Residuals:</th>          <td>   111</td>      <th>  BIC:               </th> <td>   1964.</td>\n",
       "</tr>\n",
       "<tr>\n",
       "  <th>Df Model:</th>              <td>    19</td>      <th>                     </th>     <td> </td>   \n",
       "</tr>\n",
       "<tr>\n",
       "  <th>Covariance Type:</th>      <td>nonrobust</td>    <th>                     </th>     <td> </td>   \n",
       "</tr>\n",
       "</table>\n",
       "<table class=\"simpletable\">\n",
       "<tr>\n",
       "         <td></td>           <th>coef</th>     <th>std err</th>      <th>t</th>      <th>P>|t|</th>  <th>[0.025</th>    <th>0.975]</th>  \n",
       "</tr>\n",
       "<tr>\n",
       "  <th>Intercept</th>      <td>  231.1633</td> <td>  137.543</td> <td>    1.681</td> <td> 0.096</td> <td>  -41.387</td> <td>  503.713</td>\n",
       "</tr>\n",
       "<tr>\n",
       "  <th>League[T.N]</th>    <td>  133.7432</td> <td>  144.622</td> <td>    0.925</td> <td> 0.357</td> <td> -152.835</td> <td>  420.321</td>\n",
       "</tr>\n",
       "<tr>\n",
       "  <th>Division[T.W]</th>  <td> -113.7439</td> <td>   61.965</td> <td>   -1.836</td> <td> 0.069</td> <td> -236.532</td> <td>    9.045</td>\n",
       "</tr>\n",
       "<tr>\n",
       "  <th>NewLeague[T.N]</th> <td>  -81.9278</td> <td>  142.959</td> <td>   -0.573</td> <td> 0.568</td> <td> -365.210</td> <td>  201.354</td>\n",
       "</tr>\n",
       "<tr>\n",
       "  <th>AtBat</th>          <td>   -1.8211</td> <td>    1.031</td> <td>   -1.766</td> <td> 0.080</td> <td>   -3.865</td> <td>    0.222</td>\n",
       "</tr>\n",
       "<tr>\n",
       "  <th>Hits</th>           <td>    4.2592</td> <td>    3.998</td> <td>    1.065</td> <td> 0.289</td> <td>   -3.663</td> <td>   12.181</td>\n",
       "</tr>\n",
       "<tr>\n",
       "  <th>HmRun</th>          <td>   -4.7734</td> <td>    9.939</td> <td>   -0.480</td> <td> 0.632</td> <td>  -24.468</td> <td>   14.921</td>\n",
       "</tr>\n",
       "<tr>\n",
       "  <th>Runs</th>           <td>   -0.0388</td> <td>    4.542</td> <td>   -0.009</td> <td> 0.993</td> <td>   -9.039</td> <td>    8.961</td>\n",
       "</tr>\n",
       "<tr>\n",
       "  <th>RBI</th>            <td>    3.9846</td> <td>    4.080</td> <td>    0.977</td> <td> 0.331</td> <td>   -4.101</td> <td>   12.070</td>\n",
       "</tr>\n",
       "<tr>\n",
       "  <th>Walks</th>          <td>    3.4701</td> <td>    2.786</td> <td>    1.245</td> <td> 0.216</td> <td>   -2.051</td> <td>    8.992</td>\n",
       "</tr>\n",
       "<tr>\n",
       "  <th>Years</th>          <td>    9.4982</td> <td>   19.381</td> <td>    0.490</td> <td> 0.625</td> <td>  -28.907</td> <td>   47.903</td>\n",
       "</tr>\n",
       "<tr>\n",
       "  <th>CAtBat</th>         <td>   -0.6051</td> <td>    0.248</td> <td>   -2.436</td> <td> 0.016</td> <td>   -1.097</td> <td>   -0.113</td>\n",
       "</tr>\n",
       "<tr>\n",
       "  <th>CHits</th>          <td>    2.1750</td> <td>    1.358</td> <td>    1.602</td> <td> 0.112</td> <td>   -0.515</td> <td>    4.865</td>\n",
       "</tr>\n",
       "<tr>\n",
       "  <th>CHmRun</th>         <td>    2.9793</td> <td>    2.807</td> <td>    1.061</td> <td> 0.291</td> <td>   -2.583</td> <td>    8.542</td>\n",
       "</tr>\n",
       "<tr>\n",
       "  <th>CRuns</th>          <td>    0.2664</td> <td>    1.280</td> <td>    0.208</td> <td> 0.836</td> <td>   -2.270</td> <td>    2.802</td>\n",
       "</tr>\n",
       "<tr>\n",
       "  <th>CRBI</th>           <td>   -0.5985</td> <td>    1.277</td> <td>   -0.469</td> <td> 0.640</td> <td>   -3.129</td> <td>    1.932</td>\n",
       "</tr>\n",
       "<tr>\n",
       "  <th>CWalks</th>         <td>    0.1714</td> <td>    0.575</td> <td>    0.298</td> <td> 0.766</td> <td>   -0.969</td> <td>    1.311</td>\n",
       "</tr>\n",
       "<tr>\n",
       "  <th>PutOuts</th>        <td>    0.4211</td> <td>    0.117</td> <td>    3.589</td> <td> 0.000</td> <td>    0.189</td> <td>    0.654</td>\n",
       "</tr>\n",
       "<tr>\n",
       "  <th>Assists</th>        <td>    0.4644</td> <td>    0.375</td> <td>    1.238</td> <td> 0.218</td> <td>   -0.279</td> <td>    1.208</td>\n",
       "</tr>\n",
       "<tr>\n",
       "  <th>Errors</th>         <td>   -6.0246</td> <td>    7.414</td> <td>   -0.813</td> <td> 0.418</td> <td>  -20.716</td> <td>    8.667</td>\n",
       "</tr>\n",
       "</table>\n",
       "<table class=\"simpletable\">\n",
       "<tr>\n",
       "  <th>Omnibus:</th>       <td>58.408</td> <th>  Durbin-Watson:     </th> <td>   1.695</td>\n",
       "</tr>\n",
       "<tr>\n",
       "  <th>Prob(Omnibus):</th> <td> 0.000</td> <th>  Jarque-Bera (JB):  </th> <td> 402.832</td>\n",
       "</tr>\n",
       "<tr>\n",
       "  <th>Skew:</th>          <td> 1.332</td> <th>  Prob(JB):          </th> <td>3.36e-88</td>\n",
       "</tr>\n",
       "<tr>\n",
       "  <th>Kurtosis:</th>      <td>11.167</td> <th>  Cond. No.          </th> <td>2.60e+04</td>\n",
       "</tr>\n",
       "</table><br/><br/>Warnings:<br/>[1] Standard Errors assume that the covariance matrix of the errors is correctly specified.<br/>[2] The condition number is large, 2.6e+04. This might indicate that there are<br/>strong multicollinearity or other numerical problems."
      ],
      "text/plain": [
       "<class 'statsmodels.iolib.summary.Summary'>\n",
       "\"\"\"\n",
       "                            OLS Regression Results                            \n",
       "==============================================================================\n",
       "Dep. Variable:                 Salary   R-squared:                       0.611\n",
       "Model:                            OLS   Adj. R-squared:                  0.545\n",
       "Method:                 Least Squares   F-statistic:                     9.195\n",
       "Date:                Sat, 04 Jan 2020   Prob (F-statistic):           3.08e-15\n",
       "Time:                        09:11:13   Log-Likelihood:                -933.41\n",
       "No. Observations:                 131   AIC:                             1907.\n",
       "Df Residuals:                     111   BIC:                             1964.\n",
       "Df Model:                          19                                         \n",
       "Covariance Type:            nonrobust                                         \n",
       "==================================================================================\n",
       "                     coef    std err          t      P>|t|      [0.025      0.975]\n",
       "----------------------------------------------------------------------------------\n",
       "Intercept        231.1633    137.543      1.681      0.096     -41.387     503.713\n",
       "League[T.N]      133.7432    144.622      0.925      0.357    -152.835     420.321\n",
       "Division[T.W]   -113.7439     61.965     -1.836      0.069    -236.532       9.045\n",
       "NewLeague[T.N]   -81.9278    142.959     -0.573      0.568    -365.210     201.354\n",
       "AtBat             -1.8211      1.031     -1.766      0.080      -3.865       0.222\n",
       "Hits               4.2592      3.998      1.065      0.289      -3.663      12.181\n",
       "HmRun             -4.7734      9.939     -0.480      0.632     -24.468      14.921\n",
       "Runs              -0.0388      4.542     -0.009      0.993      -9.039       8.961\n",
       "RBI                3.9846      4.080      0.977      0.331      -4.101      12.070\n",
       "Walks              3.4701      2.786      1.245      0.216      -2.051       8.992\n",
       "Years              9.4982     19.381      0.490      0.625     -28.907      47.903\n",
       "CAtBat            -0.6051      0.248     -2.436      0.016      -1.097      -0.113\n",
       "CHits              2.1750      1.358      1.602      0.112      -0.515       4.865\n",
       "CHmRun             2.9793      2.807      1.061      0.291      -2.583       8.542\n",
       "CRuns              0.2664      1.280      0.208      0.836      -2.270       2.802\n",
       "CRBI              -0.5985      1.277     -0.469      0.640      -3.129       1.932\n",
       "CWalks             0.1714      0.575      0.298      0.766      -0.969       1.311\n",
       "PutOuts            0.4211      0.117      3.589      0.000       0.189       0.654\n",
       "Assists            0.4644      0.375      1.238      0.218      -0.279       1.208\n",
       "Errors            -6.0246      7.414     -0.813      0.418     -20.716       8.667\n",
       "==============================================================================\n",
       "Omnibus:                       58.408   Durbin-Watson:                   1.695\n",
       "Prob(Omnibus):                  0.000   Jarque-Bera (JB):              402.832\n",
       "Skew:                           1.332   Prob(JB):                     3.36e-88\n",
       "Kurtosis:                      11.167   Cond. No.                     2.60e+04\n",
       "==============================================================================\n",
       "\n",
       "Warnings:\n",
       "[1] Standard Errors assume that the covariance matrix of the errors is correctly specified.\n",
       "[2] The condition number is large, 2.6e+04. This might indicate that there are\n",
       "strong multicollinearity or other numerical problems.\n",
       "\"\"\""
      ]
     },
     "execution_count": 55,
     "metadata": {},
     "output_type": "execute_result"
    }
   ],
   "source": [
    "result = smf.ols(model,train_set).fit()\n",
    "result.summary()"
   ]
  },
  {
   "cell_type": "markdown",
   "metadata": {},
   "source": [
    "> set.seed(1)\n",
    "\n",
    "> cv.out=cv.glmnet(x[train ,],y[train],alpha=0)\n",
    "\n",
    "> plot(cv.out)\n",
    "\n",
    "> bestlam=cv.out$lambda .min\n",
    "\n",
    "> bestlam"
   ]
  },
  {
   "cell_type": "code",
   "execution_count": 56,
   "metadata": {},
   "outputs": [
    {
     "data": {
      "text/plain": [
       "GridSearchCV(cv=10, error_score=nan,\n",
       "             estimator=Ridge(alpha=1.0, copy_X=True, fit_intercept=True,\n",
       "                             max_iter=None, normalize=False, random_state=1,\n",
       "                             solver='auto', tol=0.001),\n",
       "             iid='deprecated', n_jobs=None,\n",
       "             param_grid=[{'alpha': array([1.00000000e+10, 7.56463328e+09, 5.72236766e+09, 4.32876128e+09,\n",
       "       3.27454916e+09, 2.47707636e+09, 1.87381742e+09, 1.41747416e+09,\n",
       "       1.07226722e...\n",
       "       2.00923300e+00, 1.51991108e+00, 1.14975700e+00, 8.69749003e-01,\n",
       "       6.57933225e-01, 4.97702356e-01, 3.76493581e-01, 2.84803587e-01,\n",
       "       2.15443469e-01, 1.62975083e-01, 1.23284674e-01, 9.32603347e-02,\n",
       "       7.05480231e-02, 5.33669923e-02, 4.03701726e-02, 3.05385551e-02,\n",
       "       2.31012970e-02, 1.74752840e-02, 1.32194115e-02, 1.00000000e-02])}],\n",
       "             pre_dispatch='2*n_jobs', refit=True, return_train_score=False,\n",
       "             scoring='neg_mean_squared_error', verbose=0)"
      ]
     },
     "execution_count": 56,
     "metadata": {},
     "output_type": "execute_result"
    }
   ],
   "source": [
    "from sklearn.model_selection import GridSearchCV\n",
    "std_scaler = StandardScaler(with_mean=False)\n",
    "std_scaler.fit(X_train_original)\n",
    "X_train_Standard = std_scaler.transform(X_train_original)\n",
    "param_grid = [\n",
    "{'alpha': 10 ** np.linspace(10, -2, 100) },\n",
    "]\n",
    "ridge_reg = Ridge(random_state = 1)\n",
    "grid_search = GridSearchCV(ridge_reg, param_grid, cv = 10, scoring='neg_mean_squared_error')\n",
    "grid_search.fit(X_train_Standard ,y_train)"
   ]
  },
  {
   "cell_type": "code",
   "execution_count": 57,
   "metadata": {},
   "outputs": [
    {
     "data": {
      "image/png": "[encoded data removed]",
      "text/plain": [
       "<Figure size 432x288 with 1 Axes>"
      ]
     },
     "metadata": {
      "needs_background": "light"
     },
     "output_type": "display_data"
    }
   ],
   "source": [
    "plt.plot(np.linspace(10, -2, 100),-grid_search.cv_results_[\"mean_test_score\"])\n",
    "plt.xlabel(\"Log10 of alpha\", fontsize=18)\n",
    "plt.ylabel(\"mean_squared_error\", fontsize=18)\n",
    "plt.show()"
   ]
  },
  {
   "cell_type": "code",
   "execution_count": 58,
   "metadata": {},
   "outputs": [
    {
     "data": {
      "text/plain": [
       "{'alpha': 57.223676593502205}"
      ]
     },
     "execution_count": 58,
     "metadata": {},
     "output_type": "execute_result"
    }
   ],
   "source": [
    "grid_search.best_params_"
   ]
  },
  {
   "cell_type": "code",
   "execution_count": 59,
   "metadata": {},
   "outputs": [
    {
     "data": {
      "text/plain": [
       "-133581.19172431607"
      ]
     },
     "execution_count": 59,
     "metadata": {},
     "output_type": "execute_result"
    }
   ],
   "source": [
    "grid_search.best_score_"
   ]
  },
  {
   "cell_type": "markdown",
   "metadata": {},
   "source": [
    "> ridge.pred=predict(ridge.mod,s=bestlam ,newx=x[test ,])\n",
    "\n",
    "> mean((ridge.pred-y.test)^2)"
   ]
  },
  {
   "cell_type": "code",
   "execution_count": 60,
   "metadata": {},
   "outputs": [
    {
     "data": {
      "text/plain": [
       "Salary    100168.963546\n",
       "dtype: float64"
      ]
     },
     "execution_count": 60,
     "metadata": {},
     "output_type": "execute_result"
    }
   ],
   "source": [
    "ridge_mod = get_shrinkage_mod(X_train_original,y_train,[grid_search.best_params_['alpha']],return_type = 2)\n",
    "ridge_pred = (ridge_mod['coef'].iloc[0] * X_test).sum(axis = 1)\n",
    "((y_test.T - ridge_pred) ** 2).mean(axis = 1)"
   ]
  },
  {
   "cell_type": "markdown",
   "metadata": {},
   "source": [
    "> out=glmnet(x,y,alpha=0)\n",
    "\n",
    "> predict(out,type=\"coefficients\",s=bestlam)[1:20,]"
   ]
  },
  {
   "cell_type": "code",
   "execution_count": 61,
   "metadata": {},
   "outputs": [
    {
     "data": {
      "text/plain": [
       "Intercept         13.234316\n",
       "League[T.N]       21.566186\n",
       "Division[T.W]    -99.920322\n",
       "NewLeague[T.N]     8.721308\n",
       "AtBat             -0.064012\n",
       "Hits               0.969434\n",
       "HmRun             -0.860147\n",
       "Runs               0.681396\n",
       "RBI                1.405297\n",
       "Walks              2.272420\n",
       "Years              0.527110\n",
       "CAtBat             0.005162\n",
       "CHits              0.054679\n",
       "CHmRun             0.561064\n",
       "CRuns              0.111796\n",
       "CRBI               0.139866\n",
       "CWalks             0.091984\n",
       "PutOuts            0.304977\n",
       "Assists           -0.014558\n",
       "Errors            -0.532257\n",
       "Name: 1.0, dtype: float64"
      ]
     },
     "execution_count": 61,
     "metadata": {},
     "output_type": "execute_result"
    }
   ],
   "source": [
    "ridge_mod['coef'].iloc[0]"
   ]
  },
  {
   "cell_type": "markdown",
   "metadata": {},
   "source": [
    "6.6.2 lasso"
   ]
  },
  {
   "cell_type": "markdown",
   "metadata": {},
   "source": [
    "> lasso.mod=glmnet(x[train ,],y[train],alpha=1,lambda=grid)\n",
    "\n",
    "> plot(lasso.mod)"
   ]
  },
  {
   "cell_type": "code",
   "execution_count": 62,
   "metadata": {},
   "outputs": [
    {
     "name": "stderr",
     "output_type": "stream",
     "text": [
      "c:\\users\\wujiaxu\\appdata\\local\\programs\\python\\python37\\lib\\site-packages\\sklearn\\linear_model\\_coordinate_descent.py:476: ConvergenceWarning: Objective did not converge. You might want to increase the number of iterations. Duality gap: 6676.572101525962, tolerance: 3050.401923222197\n",
      "  positive)\n",
      "c:\\users\\wujiaxu\\appdata\\local\\programs\\python\\python37\\lib\\site-packages\\sklearn\\linear_model\\_coordinate_descent.py:476: ConvergenceWarning: Objective did not converge. You might want to increase the number of iterations. Duality gap: 11572.810117574409, tolerance: 3050.401923222197\n",
      "  positive)\n",
      "c:\\users\\wujiaxu\\appdata\\local\\programs\\python\\python37\\lib\\site-packages\\sklearn\\linear_model\\_coordinate_descent.py:476: ConvergenceWarning: Objective did not converge. You might want to increase the number of iterations. Duality gap: 48327.31088923104, tolerance: 3050.401923222197\n",
      "  positive)\n",
      "c:\\users\\wujiaxu\\appdata\\local\\programs\\python\\python37\\lib\\site-packages\\sklearn\\linear_model\\_coordinate_descent.py:476: ConvergenceWarning: Objective did not converge. You might want to increase the number of iterations. Duality gap: 121103.7956199795, tolerance: 3050.401923222197\n",
      "  positive)\n",
      "c:\\users\\wujiaxu\\appdata\\local\\programs\\python\\python37\\lib\\site-packages\\sklearn\\linear_model\\_coordinate_descent.py:476: ConvergenceWarning: Objective did not converge. You might want to increase the number of iterations. Duality gap: 133824.33993216418, tolerance: 3050.401923222197\n",
      "  positive)\n",
      "c:\\users\\wujiaxu\\appdata\\local\\programs\\python\\python37\\lib\\site-packages\\sklearn\\linear_model\\_coordinate_descent.py:476: ConvergenceWarning: Objective did not converge. You might want to increase the number of iterations. Duality gap: 161912.0029514134, tolerance: 3050.401923222197\n",
      "  positive)\n",
      "c:\\users\\wujiaxu\\appdata\\local\\programs\\python\\python37\\lib\\site-packages\\sklearn\\linear_model\\_coordinate_descent.py:476: ConvergenceWarning: Objective did not converge. You might want to increase the number of iterations. Duality gap: 245301.4699591305, tolerance: 3050.401923222197\n",
      "  positive)\n",
      "c:\\users\\wujiaxu\\appdata\\local\\programs\\python\\python37\\lib\\site-packages\\sklearn\\linear_model\\_coordinate_descent.py:476: ConvergenceWarning: Objective did not converge. You might want to increase the number of iterations. Duality gap: 365414.7268780116, tolerance: 3050.401923222197\n",
      "  positive)\n",
      "c:\\users\\wujiaxu\\appdata\\local\\programs\\python\\python37\\lib\\site-packages\\sklearn\\linear_model\\_coordinate_descent.py:476: ConvergenceWarning: Objective did not converge. You might want to increase the number of iterations. Duality gap: 932622.3410741938, tolerance: 3050.401923222197\n",
      "  positive)\n",
      "c:\\users\\wujiaxu\\appdata\\local\\programs\\python\\python37\\lib\\site-packages\\sklearn\\linear_model\\_coordinate_descent.py:476: ConvergenceWarning: Objective did not converge. You might want to increase the number of iterations. Duality gap: 1403834.9794360371, tolerance: 3050.401923222197\n",
      "  positive)\n",
      "c:\\users\\wujiaxu\\appdata\\local\\programs\\python\\python37\\lib\\site-packages\\sklearn\\linear_model\\_coordinate_descent.py:476: ConvergenceWarning: Objective did not converge. You might want to increase the number of iterations. Duality gap: 1948157.8687896077, tolerance: 3050.401923222197\n",
      "  positive)\n",
      "c:\\users\\wujiaxu\\appdata\\local\\programs\\python\\python37\\lib\\site-packages\\sklearn\\linear_model\\_coordinate_descent.py:476: ConvergenceWarning: Objective did not converge. You might want to increase the number of iterations. Duality gap: 2534255.898098625, tolerance: 3050.401923222197\n",
      "  positive)\n",
      "c:\\users\\wujiaxu\\appdata\\local\\programs\\python\\python37\\lib\\site-packages\\sklearn\\linear_model\\_coordinate_descent.py:476: ConvergenceWarning: Objective did not converge. You might want to increase the number of iterations. Duality gap: 3104350.99707444, tolerance: 3050.401923222197\n",
      "  positive)\n",
      "c:\\users\\wujiaxu\\appdata\\local\\programs\\python\\python37\\lib\\site-packages\\sklearn\\linear_model\\_coordinate_descent.py:476: ConvergenceWarning: Objective did not converge. You might want to increase the number of iterations. Duality gap: 3625166.270946389, tolerance: 3050.401923222197\n",
      "  positive)\n",
      "c:\\users\\wujiaxu\\appdata\\local\\programs\\python\\python37\\lib\\site-packages\\sklearn\\linear_model\\_coordinate_descent.py:476: ConvergenceWarning: Objective did not converge. You might want to increase the number of iterations. Duality gap: 4080042.6403571796, tolerance: 3050.401923222197\n",
      "  positive)\n",
      "c:\\users\\wujiaxu\\appdata\\local\\programs\\python\\python37\\lib\\site-packages\\sklearn\\linear_model\\_coordinate_descent.py:476: ConvergenceWarning: Objective did not converge. You might want to increase the number of iterations. Duality gap: 4464347.074134834, tolerance: 3050.401923222197\n",
      "  positive)\n",
      "c:\\users\\wujiaxu\\appdata\\local\\programs\\python\\python37\\lib\\site-packages\\sklearn\\linear_model\\_coordinate_descent.py:476: ConvergenceWarning: Objective did not converge. You might want to increase the number of iterations. Duality gap: 4780794.175476635, tolerance: 3050.401923222197\n",
      "  positive)\n",
      "c:\\users\\wujiaxu\\appdata\\local\\programs\\python\\python37\\lib\\site-packages\\sklearn\\linear_model\\_coordinate_descent.py:476: ConvergenceWarning: Objective did not converge. You might want to increase the number of iterations. Duality gap: 5036177.896605699, tolerance: 3050.401923222197\n",
      "  positive)\n",
      "c:\\users\\wujiaxu\\appdata\\local\\programs\\python\\python37\\lib\\site-packages\\sklearn\\linear_model\\_coordinate_descent.py:476: ConvergenceWarning: Objective did not converge. You might want to increase the number of iterations. Duality gap: 5239175.066359494, tolerance: 3050.401923222197\n",
      "  positive)\n",
      "c:\\users\\wujiaxu\\appdata\\local\\programs\\python\\python37\\lib\\site-packages\\sklearn\\linear_model\\_coordinate_descent.py:476: ConvergenceWarning: Objective did not converge. You might want to increase the number of iterations. Duality gap: 5398642.088488497, tolerance: 3050.401923222197\n",
      "  positive)\n",
      "c:\\users\\wujiaxu\\appdata\\local\\programs\\python\\python37\\lib\\site-packages\\sklearn\\linear_model\\_coordinate_descent.py:476: ConvergenceWarning: Objective did not converge. You might want to increase the number of iterations. Duality gap: 5522787.966339679, tolerance: 3050.401923222197\n",
      "  positive)\n"
     ]
    }
   ],
   "source": [
    "lasso_mod = get_shrinkage_mod(X_train_original,y_train,grid,methods = 2,return_type = 2)"
   ]
  },
  {
   "cell_type": "code",
   "execution_count": 63,
   "metadata": {},
   "outputs": [
    {
     "data": {
      "image/png": "[encoded data removed]",
      "text/plain": [
       "<Figure size 864x432 with 1 Axes>"
      ]
     },
     "metadata": {
      "needs_background": "light"
     },
     "output_type": "display_data"
    }
   ],
   "source": [
    "plt.figure(figsize=(12, 6))\n",
    "for coef in X_train_original.columns:\n",
    "    plt.plot(np.linspace(10, -2, 100),lasso_mod['coef'][coef],label = coef)\n",
    "plt.xlabel(\"Log10 of alpha\", fontsize=18)\n",
    "plt.ylabel(\"coef\", fontsize=18)\n",
    "plt.legend(loc='right')\n",
    "plt.show()"
   ]
  },
  {
   "cell_type": "markdown",
   "metadata": {},
   "source": [
    "> set.seed(1)\n",
    "\n",
    "> cv.out=cv.glmnet(x[train ,],y[train],alpha=1)\n",
    "\n",
    "> plot(cv.out)\n",
    "\n",
    "> bestlam=cv.out$lambda .min\n",
    "\n",
    "> lasso.pred=predict(lasso.mod,s=bestlam ,newx=x[test ,])\n",
    "\n",
    "> mean((lasso.pred-y.test)^2)"
   ]
  },
  {
   "cell_type": "code",
   "execution_count": 64,
   "metadata": {},
   "outputs": [
    {
     "data": {
      "text/plain": [
       "GridSearchCV(cv=10, error_score=nan,\n",
       "             estimator=Lasso(alpha=1.0, copy_X=True, fit_intercept=True,\n",
       "                             max_iter=100000, normalize=False, positive=False,\n",
       "                             precompute=False, random_state=1,\n",
       "                             selection='cyclic', tol=0.0001, warm_start=False),\n",
       "             iid='deprecated', n_jobs=None,\n",
       "             param_grid=[{'alpha': array([1.00000000e+10, 7.56463328e+09, 5.72236766e+09, 4.32876128e+09,\n",
       "       3.27454916e+09...\n",
       "       2.00923300e+00, 1.51991108e+00, 1.14975700e+00, 8.69749003e-01,\n",
       "       6.57933225e-01, 4.97702356e-01, 3.76493581e-01, 2.84803587e-01,\n",
       "       2.15443469e-01, 1.62975083e-01, 1.23284674e-01, 9.32603347e-02,\n",
       "       7.05480231e-02, 5.33669923e-02, 4.03701726e-02, 3.05385551e-02,\n",
       "       2.31012970e-02, 1.74752840e-02, 1.32194115e-02, 1.00000000e-02])}],\n",
       "             pre_dispatch='2*n_jobs', refit=True, return_train_score=False,\n",
       "             scoring='neg_mean_squared_error', verbose=0)"
      ]
     },
     "execution_count": 64,
     "metadata": {},
     "output_type": "execute_result"
    }
   ],
   "source": [
    "Lasso_reg = Lasso(random_state = 1,max_iter=100000)\n",
    "grid_search = GridSearchCV(Lasso_reg, param_grid, cv = 10, scoring='neg_mean_squared_error')\n",
    "grid_search.fit(X_train_Standard ,y_train)"
   ]
  },
  {
   "cell_type": "code",
   "execution_count": 65,
   "metadata": {},
   "outputs": [
    {
     "data": {
      "image/png": "[encoded data removed]",
      "text/plain": [
       "<Figure size 432x288 with 1 Axes>"
      ]
     },
     "metadata": {
      "needs_background": "light"
     },
     "output_type": "display_data"
    }
   ],
   "source": [
    "plt.plot(np.linspace(10, -2, 100),-grid_search.cv_results_[\"mean_test_score\"])\n",
    "plt.xlabel(\"Log10 of alpha\", fontsize=18)\n",
    "plt.ylabel(\"mean_squared_error\", fontsize=18)\n",
    "plt.show()"
   ]
  },
  {
   "cell_type": "code",
   "execution_count": 66,
   "metadata": {},
   "outputs": [
    {
     "data": {
      "text/plain": [
       "{'alpha': 24.77076355991714}"
      ]
     },
     "execution_count": 66,
     "metadata": {},
     "output_type": "execute_result"
    }
   ],
   "source": [
    "grid_search.best_params_"
   ]
  },
  {
   "cell_type": "code",
   "execution_count": 67,
   "metadata": {},
   "outputs": [
    {
     "data": {
      "text/plain": [
       "-136954.49840405435"
      ]
     },
     "execution_count": 67,
     "metadata": {},
     "output_type": "execute_result"
    }
   ],
   "source": [
    "grid_search.best_score_"
   ]
  },
  {
   "cell_type": "code",
   "execution_count": 68,
   "metadata": {},
   "outputs": [
    {
     "data": {
      "text/plain": [
       "Salary    104808.743162\n",
       "dtype: float64"
      ]
     },
     "execution_count": 68,
     "metadata": {},
     "output_type": "execute_result"
    }
   ],
   "source": [
    "lasso_mod = get_shrinkage_mod(X_train_original,y_train,[grid_search.best_params_['alpha']],methods = 2,return_type = 2)\n",
    "lasso_pred = (lasso_mod['coef'].iloc[0] * X_test).sum(axis = 1)\n",
    "((y_test.T - lasso_pred) ** 2).mean(axis = 1)"
   ]
  },
  {
   "cell_type": "markdown",
   "metadata": {},
   "source": [
    "> out=glmnet(x,y,alpha=1,lambda=grid)\n",
    "\n",
    "> lasso.coef=predict(out,type=\"coefficients\",s=bestlam)[1:20,]\n",
    "\n",
    "> lasso.coef"
   ]
  },
  {
   "cell_type": "code",
   "execution_count": 69,
   "metadata": {},
   "outputs": [
    {
     "data": {
      "text/plain": [
       "Intercept         47.560195\n",
       "League[T.N]        0.000000\n",
       "Division[T.W]    -94.335926\n",
       "NewLeague[T.N]     0.000000\n",
       "AtBat              0.000000\n",
       "Hits               1.103637\n",
       "HmRun              0.000000\n",
       "Runs               0.000000\n",
       "RBI                0.000000\n",
       "Walks              2.950612\n",
       "Years              0.000000\n",
       "CAtBat             0.000000\n",
       "CHits              0.000000\n",
       "CHmRun             0.231397\n",
       "CRuns              0.000000\n",
       "CRBI               0.517073\n",
       "CWalks             0.000000\n",
       "PutOuts            0.372854\n",
       "Assists           -0.000000\n",
       "Errors            -0.000000\n",
       "Name: 1.0, dtype: float64"
      ]
     },
     "execution_count": 69,
     "metadata": {},
     "output_type": "execute_result"
    }
   ],
   "source": [
    "lasso_mod['coef'].iloc[0]"
   ]
  },
  {
   "cell_type": "code",
   "execution_count": 70,
   "metadata": {},
   "outputs": [
    {
     "data": {
      "text/plain": [
       "Intercept        47.560195\n",
       "Division[T.W]   -94.335926\n",
       "Hits              1.103637\n",
       "Walks             2.950612\n",
       "CHmRun            0.231397\n",
       "CRBI              0.517073\n",
       "PutOuts           0.372854\n",
       "Name: 1.0, dtype: float64"
      ]
     },
     "execution_count": 70,
     "metadata": {},
     "output_type": "execute_result"
    }
   ],
   "source": [
    "lasso_mod['coef'].iloc[0][lasso_mod['coef'].iloc[0] != 0]"
   ]
  },
  {
   "cell_type": "markdown",
   "metadata": {},
   "source": [
    "# 6.7 Lab 3: PCR and PLS Regression"
   ]
  },
  {
   "cell_type": "markdown",
   "metadata": {},
   "source": [
    "**6.7.1 Principal Components Regression**"
   ]
  },
  {
   "cell_type": "markdown",
   "metadata": {},
   "source": [
    "> library(pls)\n",
    "\n",
    "> set.seed(2)\n",
    "\n",
    "> pcr.fit=pcr(Salary∼., data=Hitters ,scale=TRUE, validation =\"CV\")"
   ]
  },
  {
   "cell_type": "code",
   "execution_count": 71,
   "metadata": {},
   "outputs": [
    {
     "data": {
      "text/plain": [
       "GridSearchCV(cv=10, error_score=nan,\n",
       "             estimator=Pipeline(memory=None,\n",
       "                                steps=[('std_scaler',\n",
       "                                        StandardScaler(copy=True,\n",
       "                                                       with_mean=False,\n",
       "                                                       with_std=True)),\n",
       "                                       ('pca',\n",
       "                                        PCA(copy=True, iterated_power='auto',\n",
       "                                            n_components=None,\n",
       "                                            random_state=None,\n",
       "                                            svd_solver='auto', tol=0.0,\n",
       "                                            whiten=False)),\n",
       "                                       ('lr',\n",
       "                                        LinearRegression(copy_X=True,\n",
       "                                                         fit_intercept=True,\n",
       "                                                         n_jobs=None,\n",
       "                                                         normalize=False))],\n",
       "                                verbose=False),\n",
       "             iid='deprecated', n_jobs=None,\n",
       "             param_grid=[{'pca__n_components': array([ 1,  2,  3,  4,  5,  6,  7,  8,  9, 10, 11, 12, 13, 14, 15, 16, 17,\n",
       "       18, 19])}],\n",
       "             pre_dispatch='2*n_jobs', refit=True, return_train_score=False,\n",
       "             scoring='neg_mean_squared_error', verbose=0)"
      ]
     },
     "execution_count": 71,
     "metadata": {},
     "output_type": "execute_result"
    }
   ],
   "source": [
    "from sklearn.decomposition import PCA\n",
    "from sklearn.pipeline import Pipeline\n",
    "np.random.seed(2)\n",
    "pca_lr = Pipeline([\n",
    "(\"std_scaler\", StandardScaler(with_mean=False)),\n",
    "(\"pca\", PCA()),\n",
    "(\"lr\", linear_model.LinearRegression())\n",
    "])\n",
    "param_grid = [\n",
    "{'pca__n_components': np.arange(1,20) },\n",
    "]\n",
    "grid_search = GridSearchCV(pca_lr, param_grid, cv = 10, scoring='neg_mean_squared_error')\n",
    "grid_search.fit(X ,y)"
   ]
  },
  {
   "cell_type": "code",
   "execution_count": 72,
   "metadata": {},
   "outputs": [
    {
     "name": "stdout",
     "output_type": "stream",
     "text": [
      "450.0942661755781 {'pca__n_components': 0}\n",
      "352.7767257441136 {'pca__n_components': 1}\n",
      "354.24814883789435 {'pca__n_components': 2}\n",
      "355.4150999695135 {'pca__n_components': 3}\n",
      "351.306794593296 {'pca__n_components': 4}\n",
      "347.339710721479 {'pca__n_components': 5}\n",
      "344.5781603032924 {'pca__n_components': 6}\n",
      "344.92594488126684 {'pca__n_components': 7}\n",
      "346.05648451631384 {'pca__n_components': 8}\n",
      "346.61231651340586 {'pca__n_components': 9}\n",
      "349.3731005632004 {'pca__n_components': 10}\n",
      "350.39271128095356 {'pca__n_components': 11}\n",
      "351.943806487832 {'pca__n_components': 12}\n",
      "352.585490059155 {'pca__n_components': 13}\n",
      "345.06258063774413 {'pca__n_components': 14}\n",
      "346.7118007253128 {'pca__n_components': 15}\n",
      "341.4108478797464 {'pca__n_components': 16}\n",
      "341.1119334988881 {'pca__n_components': 17}\n",
      "339.19946588457316 {'pca__n_components': 18}\n",
      "341.4659773298103 {'pca__n_components': 19}\n"
     ]
    }
   ],
   "source": [
    "# > summary(pcr.fit}\n",
    "# Cross -validated using 10 random segments，缺少(Intercept )相当于0 component，原因为PCA不支持，这里单独添加\n",
    "from sklearn.metrics import mean_squared_error\n",
    "kf = KFold(n_splits=10, random_state=2,shuffle=True)\n",
    "kf.get_n_splits(Hitters_dropna)\n",
    "intercept_mse = []\n",
    "for train_index, test_index in kf.split(Hitters_dropna):\n",
    "    y_train_cv ,X_train_cv = patsy.dmatrices(model, Hitters_dropna.iloc[train_index], return_type=\"dataframe\")\n",
    "    y_test_cv ,X_test_cv = patsy.dmatrices(model, Hitters_dropna.iloc[train_index], return_type=\"dataframe\")\n",
    "    lr = linear_model.LinearRegression()\n",
    "    lr.fit(np.zeros((len(X_train_cv),1)),y_train_cv)\n",
    "    intercept_mse.append(mean_squared_error(lr.predict(np.zeros((len(X_test_cv),1))),y_test_cv))\n",
    "scores_list = [-np.mean(intercept_mse)]\n",
    "params_list = [{'pca__n_components': 0}]\n",
    "#以上为添加(Intercept )段，以下为根据grid_search得到的1-19 component\n",
    "cvres = grid_search.cv_results_\n",
    "scores_list.extend(cvres[\"mean_test_score\"])\n",
    "params_list.extend(cvres[\"params\"])\n",
    "mean_score_list = []\n",
    "for mean_score, params in zip(scores_list, params_list):\n",
    "    print(np.sqrt(-mean_score), params)\n",
    "    mean_score_list.append(np.sqrt(-mean_score))"
   ]
  },
  {
   "cell_type": "code",
   "execution_count": 73,
   "metadata": {},
   "outputs": [
    {
     "data": {
      "text/html": [
       "<div>\n",
       "<style scoped>\n",
       "    .dataframe tbody tr th:only-of-type {\n",
       "        vertical-align: middle;\n",
       "    }\n",
       "\n",
       "    .dataframe tbody tr th {\n",
       "        vertical-align: top;\n",
       "    }\n",
       "\n",
       "    .dataframe thead th {\n",
       "        text-align: right;\n",
       "    }\n",
       "</style>\n",
       "<table border=\"1\" class=\"dataframe\">\n",
       "  <thead>\n",
       "    <tr style=\"text-align: right;\">\n",
       "      <th></th>\n",
       "      <th>1 comps</th>\n",
       "      <th>2 comps</th>\n",
       "      <th>3 comps</th>\n",
       "      <th>4 comps</th>\n",
       "      <th>5 comps</th>\n",
       "      <th>6 comps</th>\n",
       "      <th>7 comps</th>\n",
       "      <th>8 comps</th>\n",
       "      <th>9 comps</th>\n",
       "      <th>10 comps</th>\n",
       "      <th>11 comps</th>\n",
       "      <th>12 comps</th>\n",
       "      <th>13 comps</th>\n",
       "      <th>14 comps</th>\n",
       "      <th>15 comps</th>\n",
       "      <th>16 comps</th>\n",
       "      <th>17 comps</th>\n",
       "      <th>18 comps</th>\n",
       "      <th>19 comps</th>\n",
       "    </tr>\n",
       "  </thead>\n",
       "  <tbody>\n",
       "    <tr>\n",
       "      <th>X</th>\n",
       "      <td>38.31</td>\n",
       "      <td>60.16</td>\n",
       "      <td>70.84</td>\n",
       "      <td>79.03</td>\n",
       "      <td>84.29</td>\n",
       "      <td>88.63</td>\n",
       "      <td>92.26</td>\n",
       "      <td>94.96</td>\n",
       "      <td>96.28</td>\n",
       "      <td>97.26</td>\n",
       "      <td>97.98</td>\n",
       "      <td>98.65</td>\n",
       "      <td>99.15</td>\n",
       "      <td>99.47</td>\n",
       "      <td>99.75</td>\n",
       "      <td>99.89</td>\n",
       "      <td>99.97</td>\n",
       "      <td>99.99</td>\n",
       "      <td>100.00</td>\n",
       "    </tr>\n",
       "    <tr>\n",
       "      <th>Salary</th>\n",
       "      <td>40.63</td>\n",
       "      <td>41.58</td>\n",
       "      <td>42.17</td>\n",
       "      <td>43.22</td>\n",
       "      <td>44.90</td>\n",
       "      <td>46.48</td>\n",
       "      <td>46.69</td>\n",
       "      <td>46.75</td>\n",
       "      <td>46.86</td>\n",
       "      <td>47.76</td>\n",
       "      <td>47.82</td>\n",
       "      <td>47.85</td>\n",
       "      <td>48.10</td>\n",
       "      <td>50.40</td>\n",
       "      <td>50.55</td>\n",
       "      <td>53.01</td>\n",
       "      <td>53.85</td>\n",
       "      <td>54.61</td>\n",
       "      <td>54.61</td>\n",
       "    </tr>\n",
       "  </tbody>\n",
       "</table>\n",
       "</div>"
      ],
      "text/plain": [
       "        1 comps  2 comps  3 comps  4 comps  5 comps  6 comps  7 comps  \\\n",
       "X         38.31    60.16    70.84    79.03    84.29    88.63    92.26   \n",
       "Salary    40.63    41.58    42.17    43.22    44.90    46.48    46.69   \n",
       "\n",
       "        8 comps  9 comps  10 comps  11 comps  12 comps  13 comps  14 comps  \\\n",
       "X         94.96    96.28     97.26     97.98     98.65     99.15     99.47   \n",
       "Salary    46.75    46.86     47.76     47.82     47.85     48.10     50.40   \n",
       "\n",
       "        15 comps  16 comps  17 comps  18 comps  19 comps  \n",
       "X          99.75     99.89     99.97     99.99    100.00  \n",
       "Salary     50.55     53.01     53.85     54.61     54.61  "
      ]
     },
     "execution_count": 73,
     "metadata": {},
     "output_type": "execute_result"
    }
   ],
   "source": [
    "from sklearn.preprocessing import scale\n",
    "from sklearn.metrics import r2_score\n",
    "#续前TRAINING : % variance explained\n",
    "columns_names = []\n",
    "for i in range(1,20):\n",
    "    columns_names.append(str(i) + ' comps')\n",
    "pca_var_exp = pd.DataFrame(columns = columns_names)\n",
    "pca=PCA(n_components = 19)\n",
    "pca.fit(scale(X))\n",
    "pca_var_exp.loc['X'] = (pca.explained_variance_ratio_.cumsum()*100).round(2)\n",
    "Salary_var_exp = []\n",
    "for n_components in range(1,20):\n",
    "    pca_lr = Pipeline([\n",
    "    (\"std_scaler\", StandardScaler(with_mean=False)),\n",
    "    (\"pca\", PCA(n_components = n_components)),\n",
    "    (\"lr\", linear_model.LinearRegression())\n",
    "    ])\n",
    "    pca_lr.fit(X ,y)\n",
    "    Salary_var_exp.append(r2_score(y,pca_lr.predict(X)))\n",
    "pca_var_exp.loc['Salary'] = (np.array(Salary_var_exp)*100).round(2) \n",
    "pca_var_exp"
   ]
  },
  {
   "cell_type": "code",
   "execution_count": 74,
   "metadata": {},
   "outputs": [
    {
     "data": {
      "image/png": "[encoded data removed]",
      "text/plain": [
       "<Figure size 1152x432 with 1 Axes>"
      ]
     },
     "metadata": {
      "needs_background": "light"
     },
     "output_type": "display_data"
    }
   ],
   "source": [
    "#> validationplot(pcr.fit,val.type=\"MSEP\")\n",
    "plt.figure(figsize=(16, 6))\n",
    "plt.plot(range(20),mean_score_list,'b--')\n",
    "plt.scatter(range(20),mean_score_list, marker = 'o',color = 'r')\n",
    "plt.xticks((range(20)))\n",
    "plt.show()"
   ]
  },
  {
   "cell_type": "markdown",
   "metadata": {},
   "source": [
    "> set.seed(1)\n",
    "\n",
    "> pcr.fit=pcr(Salary∼., data=Hitters ,subset=train ,scale=TRUE,\n",
    "validation =\"CV\")\n",
    "\n",
    "> validationplot(pcr.fit,val.type=\"MSEP\")"
   ]
  },
  {
   "cell_type": "code",
   "execution_count": 75,
   "metadata": {},
   "outputs": [
    {
     "data": {
      "image/png": "[encoded data removed]",
      "text/plain": [
       "<Figure size 1152x432 with 1 Axes>"
      ]
     },
     "metadata": {
      "needs_background": "light"
     },
     "output_type": "display_data"
    }
   ],
   "source": [
    "np.random.seed(1)\n",
    "grid_search = GridSearchCV(pca_lr, param_grid, cv = 10, scoring='neg_mean_squared_error')\n",
    "grid_search.fit(X_train ,y_train)\n",
    "plt.figure(figsize=(16, 6))\n",
    "plt.plot(range(1,20),np.sqrt(-grid_search.cv_results_[\"mean_test_score\"]),'b--')\n",
    "plt.scatter(range(1,20),np.sqrt(-grid_search.cv_results_[\"mean_test_score\"]), marker = 'o',color = 'r')\n",
    "plt.xticks((range(1,20)))\n",
    "plt.show()"
   ]
  },
  {
   "cell_type": "markdown",
   "metadata": {},
   "source": [
    "> pcr.pred=predict(pcr.fit ,x[test ,],ncomp=7)\n",
    "\n",
    "> mean((pcr.pred-y.test)^2)"
   ]
  },
  {
   "cell_type": "code",
   "execution_count": 76,
   "metadata": {},
   "outputs": [
    {
     "data": {
      "text/plain": [
       "{'pca__n_components': 6}"
      ]
     },
     "execution_count": 76,
     "metadata": {},
     "output_type": "execute_result"
    }
   ],
   "source": [
    "grid_search.best_params_"
   ]
  },
  {
   "cell_type": "code",
   "execution_count": 77,
   "metadata": {},
   "outputs": [
    {
     "data": {
      "text/plain": [
       "108195.7795746252"
      ]
     },
     "execution_count": 77,
     "metadata": {},
     "output_type": "execute_result"
    }
   ],
   "source": [
    "mean_squared_error(grid_search.predict(X_test),y_test)"
   ]
  },
  {
   "cell_type": "markdown",
   "metadata": {},
   "source": [
    "> pcr.fit=pcr(y∼x,scale=TRUE,ncomp=7)\n",
    "\n",
    "> summary(pcr.fit)"
   ]
  },
  {
   "cell_type": "code",
   "execution_count": 78,
   "metadata": {},
   "outputs": [
    {
     "data": {
      "text/html": [
       "<div>\n",
       "<style scoped>\n",
       "    .dataframe tbody tr th:only-of-type {\n",
       "        vertical-align: middle;\n",
       "    }\n",
       "\n",
       "    .dataframe tbody tr th {\n",
       "        vertical-align: top;\n",
       "    }\n",
       "\n",
       "    .dataframe thead th {\n",
       "        text-align: right;\n",
       "    }\n",
       "</style>\n",
       "<table border=\"1\" class=\"dataframe\">\n",
       "  <thead>\n",
       "    <tr style=\"text-align: right;\">\n",
       "      <th></th>\n",
       "      <th>1 comps</th>\n",
       "      <th>2 comps</th>\n",
       "      <th>3 comps</th>\n",
       "      <th>4 comps</th>\n",
       "      <th>5 comps</th>\n",
       "      <th>6 comps</th>\n",
       "    </tr>\n",
       "  </thead>\n",
       "  <tbody>\n",
       "    <tr>\n",
       "      <th>X</th>\n",
       "      <td>38.31</td>\n",
       "      <td>60.16</td>\n",
       "      <td>70.84</td>\n",
       "      <td>79.03</td>\n",
       "      <td>84.29</td>\n",
       "      <td>88.63</td>\n",
       "    </tr>\n",
       "    <tr>\n",
       "      <th>Salary</th>\n",
       "      <td>40.63</td>\n",
       "      <td>41.58</td>\n",
       "      <td>42.17</td>\n",
       "      <td>43.22</td>\n",
       "      <td>44.90</td>\n",
       "      <td>46.48</td>\n",
       "    </tr>\n",
       "  </tbody>\n",
       "</table>\n",
       "</div>"
      ],
      "text/plain": [
       "        1 comps  2 comps  3 comps  4 comps  5 comps  6 comps\n",
       "X         38.31    60.16    70.84    79.03    84.29    88.63\n",
       "Salary    40.63    41.58    42.17    43.22    44.90    46.48"
      ]
     },
     "execution_count": 78,
     "metadata": {},
     "output_type": "execute_result"
    }
   ],
   "source": [
    "#续前TRAINING : % variance explained\n",
    "columns_names = []\n",
    "for i in range(1,7):\n",
    "    columns_names.append(str(i) + ' comps')\n",
    "pca_var_exp = pd.DataFrame(columns = columns_names)\n",
    "pca=PCA(n_components = 6)\n",
    "pca.fit(scale(X))\n",
    "pca_var_exp.loc['X'] = (pca.explained_variance_ratio_.cumsum()*100).round(2)\n",
    "Salary_var_exp = []\n",
    "for n_components in range(1,7):\n",
    "    pca_lr = Pipeline([\n",
    "    (\"std_scaler\", StandardScaler(with_mean=False)),\n",
    "    (\"pca\", PCA(n_components = n_components)),\n",
    "    (\"lr\", linear_model.LinearRegression())\n",
    "    ])\n",
    "    pca_lr.fit(X ,y)\n",
    "    Salary_var_exp.append(r2_score(y,pca_lr.predict(X)))\n",
    "pca_var_exp.loc['Salary'] = (np.array(Salary_var_exp)*100).round(2) \n",
    "pca_var_exp"
   ]
  },
  {
   "cell_type": "markdown",
   "metadata": {},
   "source": [
    "**6.7.2 Partial Least Squares**"
   ]
  },
  {
   "cell_type": "markdown",
   "metadata": {},
   "source": [
    "> set.seed(1)\n",
    "\n",
    "> pls.fit=plsr(Salary∼., data=Hitters ,subset=train ,scale=TRUE ,\n",
    "validation =\"CV\")\n",
    "\n",
    "> summary(pls.fit)"
   ]
  },
  {
   "cell_type": "code",
   "execution_count": 79,
   "metadata": {},
   "outputs": [
    {
     "data": {
      "text/plain": [
       "GridSearchCV(cv=10, error_score=nan,\n",
       "             estimator=PLSRegression(copy=True, max_iter=500, n_components=2,\n",
       "                                     scale=True, tol=1e-06),\n",
       "             iid='deprecated', n_jobs=None,\n",
       "             param_grid=[{'n_components': array([ 1,  2,  3,  4,  5,  6,  7,  8,  9, 10, 11, 12, 13, 14, 15, 16, 17,\n",
       "       18, 19])}],\n",
       "             pre_dispatch='2*n_jobs', refit=True, return_train_score=False,\n",
       "             scoring='neg_mean_squared_error', verbose=0)"
      ]
     },
     "execution_count": 79,
     "metadata": {},
     "output_type": "execute_result"
    }
   ],
   "source": [
    "from sklearn.cross_decomposition import PLSRegression\n",
    "np.random.seed(1)\n",
    "param_grid = [\n",
    "{'n_components': np.arange(1,20) },\n",
    "]\n",
    "pls = PLSRegression()\n",
    "grid_search = GridSearchCV(pls, param_grid, cv = 10, scoring='neg_mean_squared_error')\n",
    "grid_search.fit(X_train ,y_train)"
   ]
  },
  {
   "cell_type": "code",
   "execution_count": 80,
   "metadata": {},
   "outputs": [
    {
     "name": "stdout",
     "output_type": "stream",
     "text": [
      "486.79674547914016 {'n_components': 0}\n",
      "372.92698290570667 {'n_components': 1}\n",
      "368.64278083894885 {'n_components': 2}\n",
      "370.0142912735561 {'n_components': 3}\n",
      "374.1389699216319 {'n_components': 4}\n",
      "389.97098873166465 {'n_components': 5}\n",
      "398.83220024973195 {'n_components': 6}\n",
      "395.6749295752888 {'n_components': 7}\n",
      "387.3502705372432 {'n_components': 8}\n",
      "388.61471725862424 {'n_components': 9}\n",
      "388.1640035237448 {'n_components': 10}\n",
      "385.2580831294538 {'n_components': 11}\n",
      "381.23747547494736 {'n_components': 12}\n",
      "389.98811163947556 {'n_components': 13}\n",
      "389.46137376593583 {'n_components': 14}\n",
      "386.6585995161467 {'n_components': 15}\n",
      "383.56317195597273 {'n_components': 16}\n",
      "383.0967453187284 {'n_components': 17}\n",
      "383.72429250055205 {'n_components': 18}\n",
      "387.5259508590353 {'n_components': 19}\n"
     ]
    }
   ],
   "source": [
    "# > summary(pls.fit}\n",
    "# Cross -validated using 10 random segments，缺少(Intercept )相当于0 component，原因为PCA不支持，这里单独添加\n",
    "from sklearn.metrics import mean_squared_error\n",
    "kf = KFold(n_splits=10, random_state=1,shuffle=True)\n",
    "kf.get_n_splits(X_train)\n",
    "intercept_mse = []\n",
    "for train_index, test_index in kf.split(X_train):\n",
    "    lr = linear_model.LinearRegression()\n",
    "    lr.fit(np.zeros((len(train_index),1)),y_train.iloc[train_index])\n",
    "    intercept_mse.append(mean_squared_error(lr.predict(np.zeros((len(test_index),1))),y_train.iloc[test_index]))\n",
    "scores_list = [-np.mean(intercept_mse)]\n",
    "params_list = [{'n_components': 0}]\n",
    "#以上为添加(Intercept )段，以下为根据grid_search得到的1-19 component\n",
    "cvres = grid_search.cv_results_\n",
    "scores_list.extend(cvres[\"mean_test_score\"])\n",
    "params_list.extend(cvres[\"params\"])\n",
    "mean_score_list = []\n",
    "for mean_score, params in zip(scores_list, params_list):\n",
    "    print(np.sqrt(-mean_score), params)\n",
    "    mean_score_list.append(np.sqrt(-mean_score))"
   ]
  },
  {
   "cell_type": "code",
   "execution_count": 81,
   "metadata": {},
   "outputs": [
    {
     "data": {
      "text/html": [
       "<div>\n",
       "<style scoped>\n",
       "    .dataframe tbody tr th:only-of-type {\n",
       "        vertical-align: middle;\n",
       "    }\n",
       "\n",
       "    .dataframe tbody tr th {\n",
       "        vertical-align: top;\n",
       "    }\n",
       "\n",
       "    .dataframe thead th {\n",
       "        text-align: right;\n",
       "    }\n",
       "</style>\n",
       "<table border=\"1\" class=\"dataframe\">\n",
       "  <thead>\n",
       "    <tr style=\"text-align: right;\">\n",
       "      <th></th>\n",
       "      <th>1 comps</th>\n",
       "      <th>2 comps</th>\n",
       "      <th>3 comps</th>\n",
       "      <th>4 comps</th>\n",
       "      <th>5 comps</th>\n",
       "      <th>6 comps</th>\n",
       "      <th>7 comps</th>\n",
       "      <th>8 comps</th>\n",
       "      <th>9 comps</th>\n",
       "      <th>10 comps</th>\n",
       "      <th>11 comps</th>\n",
       "      <th>12 comps</th>\n",
       "      <th>13 comps</th>\n",
       "      <th>14 comps</th>\n",
       "      <th>15 comps</th>\n",
       "      <th>16 comps</th>\n",
       "      <th>17 comps</th>\n",
       "      <th>18 comps</th>\n",
       "      <th>19 comps</th>\n",
       "    </tr>\n",
       "  </thead>\n",
       "  <tbody>\n",
       "    <tr>\n",
       "      <th>X</th>\n",
       "      <td>37.29</td>\n",
       "      <td>45.6</td>\n",
       "      <td>57.27</td>\n",
       "      <td>61.57</td>\n",
       "      <td>63.53</td>\n",
       "      <td>67.92</td>\n",
       "      <td>69.96</td>\n",
       "      <td>71.32</td>\n",
       "      <td>73.33</td>\n",
       "      <td>74.16</td>\n",
       "      <td>75.35</td>\n",
       "      <td>76.13</td>\n",
       "      <td>76.43</td>\n",
       "      <td>76.60</td>\n",
       "      <td>76.97</td>\n",
       "      <td>77.06</td>\n",
       "      <td>77.46</td>\n",
       "      <td>77.74</td>\n",
       "      <td>77.75</td>\n",
       "    </tr>\n",
       "    <tr>\n",
       "      <th>Salary</th>\n",
       "      <td>43.05</td>\n",
       "      <td>46.4</td>\n",
       "      <td>47.72</td>\n",
       "      <td>48.71</td>\n",
       "      <td>50.53</td>\n",
       "      <td>51.66</td>\n",
       "      <td>52.34</td>\n",
       "      <td>53.26</td>\n",
       "      <td>53.52</td>\n",
       "      <td>53.77</td>\n",
       "      <td>54.04</td>\n",
       "      <td>54.20</td>\n",
       "      <td>54.32</td>\n",
       "      <td>54.47</td>\n",
       "      <td>54.54</td>\n",
       "      <td>54.59</td>\n",
       "      <td>54.61</td>\n",
       "      <td>54.61</td>\n",
       "      <td>54.61</td>\n",
       "    </tr>\n",
       "  </tbody>\n",
       "</table>\n",
       "</div>"
      ],
      "text/plain": [
       "        1 comps  2 comps  3 comps  4 comps  5 comps  6 comps  7 comps  \\\n",
       "X         37.29     45.6    57.27    61.57    63.53    67.92    69.96   \n",
       "Salary    43.05     46.4    47.72    48.71    50.53    51.66    52.34   \n",
       "\n",
       "        8 comps  9 comps  10 comps  11 comps  12 comps  13 comps  14 comps  \\\n",
       "X         71.32    73.33     74.16     75.35     76.13     76.43     76.60   \n",
       "Salary    53.26    53.52     53.77     54.04     54.20     54.32     54.47   \n",
       "\n",
       "        15 comps  16 comps  17 comps  18 comps  19 comps  \n",
       "X          76.97     77.06     77.46     77.74     77.75  \n",
       "Salary     54.54     54.59     54.61     54.61     54.61  "
      ]
     },
     "execution_count": 81,
     "metadata": {},
     "output_type": "execute_result"
    }
   ],
   "source": [
    "#续前TRAINING : % variance explained(这里结果与R相差较大，没弄清楚原因)\n",
    "columns_names = []\n",
    "for i in range(1,20):\n",
    "    columns_names.append(str(i) + ' comps')\n",
    "pls_var_exp = pd.DataFrame(columns = columns_names)\n",
    "pls = PLSRegression(n_components = 19)\n",
    "pls.fit(X ,y)\n",
    "X_pls = pls.transform(X)\n",
    "X_var_exp = []\n",
    "for i in range(19):\n",
    "    X_var_exp.append(((pls.transform(X)[:,i]**2).sum())/((scale(X) ** 2).sum()))\n",
    "pls_var_exp.loc['X'] = (np.array(X_var_exp).cumsum()*100).round(2)\n",
    "Salary_var_exp = []\n",
    "for n_components in range(1,20):\n",
    "    pls = PLSRegression(n_components = n_components)\n",
    "    pls.fit(X ,y)\n",
    "    Salary_var_exp.append(r2_score(y,pls.predict(X)))\n",
    "pls_var_exp.loc['Salary'] = (np.array(Salary_var_exp)*100).round(2) \n",
    "pls_var_exp    "
   ]
  },
  {
   "cell_type": "code",
   "execution_count": 82,
   "metadata": {},
   "outputs": [
    {
     "data": {
      "image/png": "[encoded data removed]",
      "text/plain": [
       "<Figure size 1152x432 with 1 Axes>"
      ]
     },
     "metadata": {
      "needs_background": "light"
     },
     "output_type": "display_data"
    }
   ],
   "source": [
    "# > validationplot(pls.fit,val.type=\"MSEP\")\n",
    "plt.figure(figsize=(16, 6))\n",
    "plt.plot(range(20),mean_score_list,'b--')\n",
    "plt.scatter(range(20),mean_score_list, marker = 'o',color = 'r')\n",
    "plt.xticks((range(20)))\n",
    "plt.show()"
   ]
  },
  {
   "cell_type": "code",
   "execution_count": 83,
   "metadata": {},
   "outputs": [
    {
     "data": {
      "text/plain": [
       "{'n_components': 2}"
      ]
     },
     "execution_count": 83,
     "metadata": {},
     "output_type": "execute_result"
    }
   ],
   "source": [
    "grid_search.best_params_"
   ]
  },
  {
   "cell_type": "code",
   "execution_count": 84,
   "metadata": {},
   "outputs": [
    {
     "data": {
      "text/plain": [
       "102583.13156134987"
      ]
     },
     "execution_count": 84,
     "metadata": {},
     "output_type": "execute_result"
    }
   ],
   "source": [
    "mean_squared_error(grid_search.predict(X_test),y_test)"
   ]
  },
  {
   "cell_type": "markdown",
   "metadata": {},
   "source": [
    "> pls.fit=plsr(Salary∼., data=Hitters ,scale=TRUE,ncomp=2)\n",
    "\n",
    "> summary(pls.fit)"
   ]
  },
  {
   "cell_type": "code",
   "execution_count": 85,
   "metadata": {},
   "outputs": [
    {
     "data": {
      "text/html": [
       "<div>\n",
       "<style scoped>\n",
       "    .dataframe tbody tr th:only-of-type {\n",
       "        vertical-align: middle;\n",
       "    }\n",
       "\n",
       "    .dataframe tbody tr th {\n",
       "        vertical-align: top;\n",
       "    }\n",
       "\n",
       "    .dataframe thead th {\n",
       "        text-align: right;\n",
       "    }\n",
       "</style>\n",
       "<table border=\"1\" class=\"dataframe\">\n",
       "  <thead>\n",
       "    <tr style=\"text-align: right;\">\n",
       "      <th></th>\n",
       "      <th>1 comps</th>\n",
       "      <th>2 comps</th>\n",
       "    </tr>\n",
       "  </thead>\n",
       "  <tbody>\n",
       "    <tr>\n",
       "      <th>X</th>\n",
       "      <td>37.29</td>\n",
       "      <td>45.6</td>\n",
       "    </tr>\n",
       "    <tr>\n",
       "      <th>Salary</th>\n",
       "      <td>43.05</td>\n",
       "      <td>46.4</td>\n",
       "    </tr>\n",
       "  </tbody>\n",
       "</table>\n",
       "</div>"
      ],
      "text/plain": [
       "        1 comps  2 comps\n",
       "X         37.29     45.6\n",
       "Salary    43.05     46.4"
      ]
     },
     "execution_count": 85,
     "metadata": {},
     "output_type": "execute_result"
    }
   ],
   "source": [
    "#续前TRAINING : % variance explained(这里结果与R相差较大，没弄清楚原因)\n",
    "columns_names = []\n",
    "for i in range(1,3):\n",
    "    columns_names.append(str(i) + ' comps')\n",
    "pls_var_exp = pd.DataFrame(columns = columns_names)\n",
    "pls = PLSRegression(n_components = 2)\n",
    "pls.fit(X ,y)\n",
    "X_pls = pls.transform(X)\n",
    "X_var_exp = []\n",
    "for i in range(2):\n",
    "    X_var_exp.append(((pls.transform(X)[:,i]**2).sum())/((scale(X) ** 2).sum()))\n",
    "pls_var_exp.loc['X'] = (np.array(X_var_exp).cumsum()*100).round(2)\n",
    "Salary_var_exp = []\n",
    "for n_components in range(1,3):\n",
    "    pls = PLSRegression(n_components = n_components)\n",
    "    pls.fit(X ,y)\n",
    "    Salary_var_exp.append(r2_score(y,pls.predict(X)))\n",
    "pls_var_exp.loc['Salary'] = (np.array(Salary_var_exp)*100).round(2) \n",
    "pls_var_exp    "
   ]
  },
  {
   "cell_type": "code",
   "execution_count": null,
   "metadata": {},
   "outputs": [],
   "source": []
  }
 ],
 "metadata": {
  "kernelspec": {
   "display_name": "Python 3",
   "language": "python",
   "name": "python3"
  },
  "language_info": {
   "codemirror_mode": {
    "name": "ipython",
    "version": 3
   },
   "file_extension": ".py",
   "mimetype": "text/x-python",
   "name": "python",
   "nbconvert_exporter": "python",
   "pygments_lexer": "ipython3",
   "version": "3.7.3"
  }
 },
 "nbformat": 4,
 "nbformat_minor": 2
}
