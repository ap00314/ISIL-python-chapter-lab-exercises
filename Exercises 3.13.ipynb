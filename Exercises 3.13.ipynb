{
 "cells": [
  {
   "cell_type": "code",
   "execution_count": 1,
   "metadata": {},
   "outputs": [],
   "source": [
    "# To support both python 2 and python 3\n",
    "# 让这份笔记同步支持 python 2 和 python 3\n",
    "from __future__ import division\n",
    "import pandas as pd\n",
    "import numpy as np\n",
    "import matplotlib.pyplot as plt\n",
    "import matplotlib\n",
    "#使用statsmodels便于统计分析数据\n",
    "import statsmodels.api as sm\n",
    "import statsmodels.formula.api as smf\n",
    "%matplotlib inline"
   ]
  },
  {
   "cell_type": "markdown",
   "metadata": {},
   "source": [
    "**13. In this exercise you will create some simulated data and will fit simple\n",
    "linear regression models to it. Make sure to use set.seed(1) prior to\n",
    "starting part (a) to ensure consistent results.\n",
    "(a) Using the rnorm() function, create a vector, x , containing 100\n",
    "observations drawn from a N(0,1) distribution. This represents\n",
    "a feature, X.**"
   ]
  },
  {
   "cell_type": "code",
   "execution_count": 2,
   "metadata": {},
   "outputs": [],
   "source": [
    "np.random.seed(1)\n",
    "x =  np.random.normal(loc = 0.0, scale = 1.0, size = 100)"
   ]
  },
  {
   "cell_type": "markdown",
   "metadata": {},
   "source": [
    "**(b) Using the rnorm() function, create a vector, eps , containing 100\n",
    "observations drawn from a N(0,0.25) distribution i.e. a normal\n",
    "distribution with mean zero and variance 0.25.**"
   ]
  },
  {
   "cell_type": "code",
   "execution_count": 3,
   "metadata": {},
   "outputs": [],
   "source": [
    "eps =  np.random.normal(loc = 0.0, scale = 0.25, size = 100)"
   ]
  },
  {
   "cell_type": "markdown",
   "metadata": {},
   "source": [
    "**(c) Using x and eps , generate a vector y according to the model\n",
    "Y = −1 + 0.5X + ?. (3.39)\n",
    "What is the length of the vector y ? What are the values of β 0\n",
    "and β 1 in this linear model?**"
   ]
  },
  {
   "cell_type": "code",
   "execution_count": 4,
   "metadata": {},
   "outputs": [],
   "source": [
    "y = -1 + 0.5*x + eps"
   ]
  },
  {
   "cell_type": "code",
   "execution_count": 5,
   "metadata": {},
   "outputs": [
    {
     "data": {
      "text/plain": [
       "100"
      ]
     },
     "execution_count": 5,
     "metadata": {},
     "output_type": "execute_result"
    }
   ],
   "source": [
    "len(y)"
   ]
  },
  {
   "cell_type": "markdown",
   "metadata": {},
   "source": [
    "y长度为1，belta0为-1，belta1为0.5"
   ]
  },
  {
   "cell_type": "markdown",
   "metadata": {},
   "source": [
    "**(d) Create a scatterplot displaying the relationship between x and\n",
    "y . Comment on what you observe.**"
   ]
  },
  {
   "cell_type": "code",
   "execution_count": 6,
   "metadata": {},
   "outputs": [
    {
     "data": {
      "image/png": "[encoded data removed]",
      "text/plain": [
       "<Figure size 432x288 with 1 Axes>"
      ]
     },
     "metadata": {
      "needs_background": "light"
     },
     "output_type": "display_data"
    }
   ],
   "source": [
    "#散点图呈现明显的线性关系\n",
    "plt.scatter(x,y)\n",
    "plt.show()"
   ]
  },
  {
   "cell_type": "markdown",
   "metadata": {},
   "source": [
    "**(e) Fit a least squares linear model to predict y using x . Comment\n",
    "on the model obtained. How do\n",
    "ˆ\n",
    "β 0 and\n",
    "ˆ\n",
    "β 1 compare to β 0 and\n",
    "β 1 ?**"
   ]
  },
  {
   "cell_type": "code",
   "execution_count": 7,
   "metadata": {},
   "outputs": [
    {
     "data": {
      "text/html": [
       "<table class=\"simpletable\">\n",
       "<caption>OLS Regression Results</caption>\n",
       "<tr>\n",
       "  <th>Dep. Variable:</th>            <td>y</td>        <th>  R-squared:         </th> <td>   0.800</td>\n",
       "</tr>\n",
       "<tr>\n",
       "  <th>Model:</th>                   <td>OLS</td>       <th>  Adj. R-squared:    </th> <td>   0.798</td>\n",
       "</tr>\n",
       "<tr>\n",
       "  <th>Method:</th>             <td>Least Squares</td>  <th>  F-statistic:       </th> <td>   391.4</td>\n",
       "</tr>\n",
       "<tr>\n",
       "  <th>Date:</th>             <td>Mon, 23 Dec 2019</td> <th>  Prob (F-statistic):</th> <td>5.39e-36</td>\n",
       "</tr>\n",
       "<tr>\n",
       "  <th>Time:</th>                 <td>10:06:48</td>     <th>  Log-Likelihood:    </th> <td>  4.1908</td>\n",
       "</tr>\n",
       "<tr>\n",
       "  <th>No. Observations:</th>      <td>   100</td>      <th>  AIC:               </th> <td>  -4.382</td>\n",
       "</tr>\n",
       "<tr>\n",
       "  <th>Df Residuals:</th>          <td>    98</td>      <th>  BIC:               </th> <td>  0.8288</td>\n",
       "</tr>\n",
       "<tr>\n",
       "  <th>Df Model:</th>              <td>     1</td>      <th>                     </th>     <td> </td>   \n",
       "</tr>\n",
       "<tr>\n",
       "  <th>Covariance Type:</th>      <td>nonrobust</td>    <th>                     </th>     <td> </td>   \n",
       "</tr>\n",
       "</table>\n",
       "<table class=\"simpletable\">\n",
       "<tr>\n",
       "      <td></td>         <th>coef</th>     <th>std err</th>      <th>t</th>      <th>P>|t|</th>  <th>[0.025</th>    <th>0.975]</th>  \n",
       "</tr>\n",
       "<tr>\n",
       "  <th>Intercept</th> <td>   -0.9632</td> <td>    0.023</td> <td>  -40.999</td> <td> 0.000</td> <td>   -1.010</td> <td>   -0.917</td>\n",
       "</tr>\n",
       "<tr>\n",
       "  <th>x</th>         <td>    0.5239</td> <td>    0.026</td> <td>   19.783</td> <td> 0.000</td> <td>    0.471</td> <td>    0.576</td>\n",
       "</tr>\n",
       "</table>\n",
       "<table class=\"simpletable\">\n",
       "<tr>\n",
       "  <th>Omnibus:</th>       <td> 0.898</td> <th>  Durbin-Watson:     </th> <td>   2.157</td>\n",
       "</tr>\n",
       "<tr>\n",
       "  <th>Prob(Omnibus):</th> <td> 0.638</td> <th>  Jarque-Bera (JB):  </th> <td>   0.561</td>\n",
       "</tr>\n",
       "<tr>\n",
       "  <th>Skew:</th>          <td>-0.172</td> <th>  Prob(JB):          </th> <td>   0.755</td>\n",
       "</tr>\n",
       "<tr>\n",
       "  <th>Kurtosis:</th>      <td> 3.127</td> <th>  Cond. No.          </th> <td>    1.15</td>\n",
       "</tr>\n",
       "</table><br/><br/>Warnings:<br/>[1] Standard Errors assume that the covariance matrix of the errors is correctly specified."
      ],
      "text/plain": [
       "<class 'statsmodels.iolib.summary.Summary'>\n",
       "\"\"\"\n",
       "                            OLS Regression Results                            \n",
       "==============================================================================\n",
       "Dep. Variable:                      y   R-squared:                       0.800\n",
       "Model:                            OLS   Adj. R-squared:                  0.798\n",
       "Method:                 Least Squares   F-statistic:                     391.4\n",
       "Date:                Mon, 23 Dec 2019   Prob (F-statistic):           5.39e-36\n",
       "Time:                        10:06:48   Log-Likelihood:                 4.1908\n",
       "No. Observations:                 100   AIC:                            -4.382\n",
       "Df Residuals:                      98   BIC:                            0.8288\n",
       "Df Model:                           1                                         \n",
       "Covariance Type:            nonrobust                                         \n",
       "==============================================================================\n",
       "                 coef    std err          t      P>|t|      [0.025      0.975]\n",
       "------------------------------------------------------------------------------\n",
       "Intercept     -0.9632      0.023    -40.999      0.000      -1.010      -0.917\n",
       "x              0.5239      0.026     19.783      0.000       0.471       0.576\n",
       "==============================================================================\n",
       "Omnibus:                        0.898   Durbin-Watson:                   2.157\n",
       "Prob(Omnibus):                  0.638   Jarque-Bera (JB):                0.561\n",
       "Skew:                          -0.172   Prob(JB):                        0.755\n",
       "Kurtosis:                       3.127   Cond. No.                         1.15\n",
       "==============================================================================\n",
       "\n",
       "Warnings:\n",
       "[1] Standard Errors assume that the covariance matrix of the errors is correctly specified.\n",
       "\"\"\""
      ]
     },
     "execution_count": 7,
     "metadata": {},
     "output_type": "execute_result"
    }
   ],
   "source": [
    "data = pd.DataFrame({'x':x,'y':y})\n",
    "result_smf = smf.ols('y ~ x',data).fit()\n",
    "result_smf.summary()"
   ]
  },
  {
   "cell_type": "markdown",
   "metadata": {},
   "source": [
    " ˆ β 0 及 ˆ β 1 与 β 0 及 β 1 有一定偏差，但β 0 及 β 1 均位于 ˆ β 0 及 ˆ β 1 的95%置信空间以内"
   ]
  },
  {
   "cell_type": "markdown",
   "metadata": {},
   "source": [
    "**(f) Display the least squares line on the scatterplot obtained in (d).\n",
    "Draw the population regression line on the plot, in a different\n",
    "color. Use the legend() command to create an appropriate leg-\n",
    "end.**"
   ]
  },
  {
   "cell_type": "code",
   "execution_count": 8,
   "metadata": {},
   "outputs": [
    {
     "data": {
      "image/png": "[encoded data removed]",
      "text/plain": [
       "<Figure size 576x432 with 1 Axes>"
      ]
     },
     "metadata": {
      "needs_background": "light"
     },
     "output_type": "display_data"
    }
   ],
   "source": [
    "plt.figure(figsize=(8, 6))\n",
    "plt.scatter(x, y, color='', marker='o', edgecolors='gray', s=50)\n",
    "X_draw = np.linspace(x.min(), x.max(), 50)\n",
    "plt.plot(X_draw,result_smf.params[0] + result_smf.params[1] * X_draw,'red',linewidth= 2,linestyle='--',label = 'the least squares line')\n",
    "plt.plot(X_draw,-1 + 0.5 * X_draw,'lightblue',linewidth= 2,label = 'the population regression line')\n",
    "plt.legend(loc=\"upper left\", fontsize=14)\n",
    "plt.show()"
   ]
  },
  {
   "cell_type": "markdown",
   "metadata": {},
   "source": [
    "**(g) Now fit a polynomial regression model that predicts y using x\n",
    "and x 2 . Is there evidence that the quadratic term improves the\n",
    "model fit? Explain your answer.**"
   ]
  },
  {
   "cell_type": "code",
   "execution_count": 9,
   "metadata": {},
   "outputs": [
    {
     "data": {
      "text/html": [
       "<table class=\"simpletable\">\n",
       "<caption>OLS Regression Results</caption>\n",
       "<tr>\n",
       "  <th>Dep. Variable:</th>            <td>y</td>        <th>  R-squared:         </th> <td>   0.800</td>\n",
       "</tr>\n",
       "<tr>\n",
       "  <th>Model:</th>                   <td>OLS</td>       <th>  Adj. R-squared:    </th> <td>   0.796</td>\n",
       "</tr>\n",
       "<tr>\n",
       "  <th>Method:</th>             <td>Least Squares</td>  <th>  F-statistic:       </th> <td>   193.8</td>\n",
       "</tr>\n",
       "<tr>\n",
       "  <th>Date:</th>             <td>Mon, 23 Dec 2019</td> <th>  Prob (F-statistic):</th> <td>1.32e-34</td>\n",
       "</tr>\n",
       "<tr>\n",
       "  <th>Time:</th>                 <td>10:06:48</td>     <th>  Log-Likelihood:    </th> <td>  4.2077</td>\n",
       "</tr>\n",
       "<tr>\n",
       "  <th>No. Observations:</th>      <td>   100</td>      <th>  AIC:               </th> <td>  -2.415</td>\n",
       "</tr>\n",
       "<tr>\n",
       "  <th>Df Residuals:</th>          <td>    97</td>      <th>  BIC:               </th> <td>   5.400</td>\n",
       "</tr>\n",
       "<tr>\n",
       "  <th>Df Model:</th>              <td>     2</td>      <th>                     </th>     <td> </td>   \n",
       "</tr>\n",
       "<tr>\n",
       "  <th>Covariance Type:</th>      <td>nonrobust</td>    <th>                     </th>     <td> </td>   \n",
       "</tr>\n",
       "</table>\n",
       "<table class=\"simpletable\">\n",
       "<tr>\n",
       "      <td></td>         <th>coef</th>     <th>std err</th>      <th>t</th>      <th>P>|t|</th>  <th>[0.025</th>    <th>0.975]</th>  \n",
       "</tr>\n",
       "<tr>\n",
       "  <th>Intercept</th> <td>   -0.9663</td> <td>    0.029</td> <td>  -33.486</td> <td> 0.000</td> <td>   -1.024</td> <td>   -0.909</td>\n",
       "</tr>\n",
       "<tr>\n",
       "  <th>x</th>         <td>    0.5234</td> <td>    0.027</td> <td>   19.582</td> <td> 0.000</td> <td>    0.470</td> <td>    0.576</td>\n",
       "</tr>\n",
       "<tr>\n",
       "  <th>I(x ** 2)</th> <td>    0.0039</td> <td>    0.021</td> <td>    0.181</td> <td> 0.856</td> <td>   -0.038</td> <td>    0.046</td>\n",
       "</tr>\n",
       "</table>\n",
       "<table class=\"simpletable\">\n",
       "<tr>\n",
       "  <th>Omnibus:</th>       <td> 0.893</td> <th>  Durbin-Watson:     </th> <td>   2.152</td>\n",
       "</tr>\n",
       "<tr>\n",
       "  <th>Prob(Omnibus):</th> <td> 0.640</td> <th>  Jarque-Bera (JB):  </th> <td>   0.552</td>\n",
       "</tr>\n",
       "<tr>\n",
       "  <th>Skew:</th>          <td>-0.170</td> <th>  Prob(JB):          </th> <td>   0.759</td>\n",
       "</tr>\n",
       "<tr>\n",
       "  <th>Kurtosis:</th>      <td> 3.132</td> <th>  Cond. No.          </th> <td>    2.10</td>\n",
       "</tr>\n",
       "</table><br/><br/>Warnings:<br/>[1] Standard Errors assume that the covariance matrix of the errors is correctly specified."
      ],
      "text/plain": [
       "<class 'statsmodels.iolib.summary.Summary'>\n",
       "\"\"\"\n",
       "                            OLS Regression Results                            \n",
       "==============================================================================\n",
       "Dep. Variable:                      y   R-squared:                       0.800\n",
       "Model:                            OLS   Adj. R-squared:                  0.796\n",
       "Method:                 Least Squares   F-statistic:                     193.8\n",
       "Date:                Mon, 23 Dec 2019   Prob (F-statistic):           1.32e-34\n",
       "Time:                        10:06:48   Log-Likelihood:                 4.2077\n",
       "No. Observations:                 100   AIC:                            -2.415\n",
       "Df Residuals:                      97   BIC:                             5.400\n",
       "Df Model:                           2                                         \n",
       "Covariance Type:            nonrobust                                         \n",
       "==============================================================================\n",
       "                 coef    std err          t      P>|t|      [0.025      0.975]\n",
       "------------------------------------------------------------------------------\n",
       "Intercept     -0.9663      0.029    -33.486      0.000      -1.024      -0.909\n",
       "x              0.5234      0.027     19.582      0.000       0.470       0.576\n",
       "I(x ** 2)      0.0039      0.021      0.181      0.856      -0.038       0.046\n",
       "==============================================================================\n",
       "Omnibus:                        0.893   Durbin-Watson:                   2.152\n",
       "Prob(Omnibus):                  0.640   Jarque-Bera (JB):                0.552\n",
       "Skew:                          -0.170   Prob(JB):                        0.759\n",
       "Kurtosis:                       3.132   Cond. No.                         2.10\n",
       "==============================================================================\n",
       "\n",
       "Warnings:\n",
       "[1] Standard Errors assume that the covariance matrix of the errors is correctly specified.\n",
       "\"\"\""
      ]
     },
     "execution_count": 9,
     "metadata": {},
     "output_type": "execute_result"
    }
   ],
   "source": [
    "result_smf_polynomial_2 = smf.ols('y ~ x + I(x ** 2)',data).fit()\n",
    "result_smf_polynomial_2.summary()"
   ]
  },
  {
   "cell_type": "code",
   "execution_count": 10,
   "metadata": {},
   "outputs": [
    {
     "name": "stdout",
     "output_type": "stream",
     "text": [
      "no polynomial rss: 5.384246938749212\n",
      "polynomial 2 rss: 5.382422768506043\n",
      "no polynomial rse: 0.2343955957209079\n",
      "polynomial 2 rse: 0.23556080854140585\n",
      "no polynomial R-squared: 0.7997346204862734\n",
      "polynomial 2 R-squared: 0.7998024699274676\n",
      "no polynomial pvalues: Intercept    1.697125e-63\n",
      "x            5.387078e-36\n",
      "dtype: float64\n",
      "polynomial 2 pvalues: Intercept    4.214381e-55\n",
      "x            1.792548e-35\n",
      "I(x ** 2)    8.565000e-01\n",
      "dtype: float64\n"
     ]
    }
   ],
   "source": [
    "print('no polynomial rss:',result_smf.ssr)\n",
    "print('polynomial 2 rss:',result_smf_polynomial_2.ssr)\n",
    "print('no polynomial rse:',result_smf.mse_resid ** 0.5)\n",
    "print('polynomial 2 rse:',result_smf_polynomial_2.mse_resid ** 0.5)\n",
    "print('no polynomial R-squared:',result_smf.rsquared)\n",
    "print('polynomial 2 R-squared:',result_smf_polynomial_2.rsquared)\n",
    "print('no polynomial pvalues:',result_smf.pvalues)\n",
    "print('polynomial 2 pvalues:',result_smf_polynomial_2.pvalues)"
   ]
  },
  {
   "cell_type": "markdown",
   "metadata": {},
   "source": [
    "综上数据分析，多项式回归的rse/r^2得到改善，对于训练数据拟合提升，但I(x ** 2)无法拒绝0假设，故二次项未提高拟合度，属于过拟合。"
   ]
  },
  {
   "cell_type": "markdown",
   "metadata": {},
   "source": [
    "**(h) Repeat (a)–(f) after modifying the data generation process in\n",
    "such a way that there is less noise in the data. The model (3.39)\n",
    "should remain the same. You can do this by decreasing the vari-\n",
    "ance of the normal distribution used to generate the error term\n",
    "? in (b). Describe your results.**"
   ]
  },
  {
   "cell_type": "code",
   "execution_count": 11,
   "metadata": {},
   "outputs": [],
   "source": [
    "x =  np.random.normal(loc = 0.0, scale = 1.0, size = 100)\n",
    "eps =  np.random.normal(loc = 0.0, scale = 0.01, size = 100)\n",
    "y = -1 + 0.5*x + eps"
   ]
  },
  {
   "cell_type": "code",
   "execution_count": 12,
   "metadata": {},
   "outputs": [
    {
     "data": {
      "image/png": "[encoded data removed]",
      "text/plain": [
       "<Figure size 432x288 with 1 Axes>"
      ]
     },
     "metadata": {
      "needs_background": "light"
     },
     "output_type": "display_data"
    }
   ],
   "source": [
    "#重复d，散点图呈现更加明显的线性关系\n",
    "plt.scatter(x,y)\n",
    "plt.show()"
   ]
  },
  {
   "cell_type": "code",
   "execution_count": 13,
   "metadata": {},
   "outputs": [
    {
     "data": {
      "text/html": [
       "<table class=\"simpletable\">\n",
       "<caption>OLS Regression Results</caption>\n",
       "<tr>\n",
       "  <th>Dep. Variable:</th>            <td>y</td>        <th>  R-squared:         </th> <td>   1.000</td> \n",
       "</tr>\n",
       "<tr>\n",
       "  <th>Model:</th>                   <td>OLS</td>       <th>  Adj. R-squared:    </th> <td>   1.000</td> \n",
       "</tr>\n",
       "<tr>\n",
       "  <th>Method:</th>             <td>Least Squares</td>  <th>  F-statistic:       </th> <td>2.185e+05</td>\n",
       "</tr>\n",
       "<tr>\n",
       "  <th>Date:</th>             <td>Mon, 23 Dec 2019</td> <th>  Prob (F-statistic):</th> <td>6.80e-166</td>\n",
       "</tr>\n",
       "<tr>\n",
       "  <th>Time:</th>                 <td>10:06:48</td>     <th>  Log-Likelihood:    </th> <td>  312.52</td> \n",
       "</tr>\n",
       "<tr>\n",
       "  <th>No. Observations:</th>      <td>   100</td>      <th>  AIC:               </th> <td>  -621.0</td> \n",
       "</tr>\n",
       "<tr>\n",
       "  <th>Df Residuals:</th>          <td>    98</td>      <th>  BIC:               </th> <td>  -615.8</td> \n",
       "</tr>\n",
       "<tr>\n",
       "  <th>Df Model:</th>              <td>     1</td>      <th>                     </th>     <td> </td>    \n",
       "</tr>\n",
       "<tr>\n",
       "  <th>Covariance Type:</th>      <td>nonrobust</td>    <th>                     </th>     <td> </td>    \n",
       "</tr>\n",
       "</table>\n",
       "<table class=\"simpletable\">\n",
       "<tr>\n",
       "      <td></td>         <th>coef</th>     <th>std err</th>      <th>t</th>      <th>P>|t|</th>  <th>[0.025</th>    <th>0.975]</th>  \n",
       "</tr>\n",
       "<tr>\n",
       "  <th>Intercept</th> <td>   -1.0002</td> <td>    0.001</td> <td> -931.475</td> <td> 0.000</td> <td>   -1.002</td> <td>   -0.998</td>\n",
       "</tr>\n",
       "<tr>\n",
       "  <th>x</th>         <td>    0.4994</td> <td>    0.001</td> <td>  467.445</td> <td> 0.000</td> <td>    0.497</td> <td>    0.502</td>\n",
       "</tr>\n",
       "</table>\n",
       "<table class=\"simpletable\">\n",
       "<tr>\n",
       "  <th>Omnibus:</th>       <td> 0.426</td> <th>  Durbin-Watson:     </th> <td>   1.977</td>\n",
       "</tr>\n",
       "<tr>\n",
       "  <th>Prob(Omnibus):</th> <td> 0.808</td> <th>  Jarque-Bera (JB):  </th> <td>   0.121</td>\n",
       "</tr>\n",
       "<tr>\n",
       "  <th>Skew:</th>          <td>-0.045</td> <th>  Prob(JB):          </th> <td>   0.941</td>\n",
       "</tr>\n",
       "<tr>\n",
       "  <th>Kurtosis:</th>      <td> 3.145</td> <th>  Cond. No.          </th> <td>    1.01</td>\n",
       "</tr>\n",
       "</table><br/><br/>Warnings:<br/>[1] Standard Errors assume that the covariance matrix of the errors is correctly specified."
      ],
      "text/plain": [
       "<class 'statsmodels.iolib.summary.Summary'>\n",
       "\"\"\"\n",
       "                            OLS Regression Results                            \n",
       "==============================================================================\n",
       "Dep. Variable:                      y   R-squared:                       1.000\n",
       "Model:                            OLS   Adj. R-squared:                  1.000\n",
       "Method:                 Least Squares   F-statistic:                 2.185e+05\n",
       "Date:                Mon, 23 Dec 2019   Prob (F-statistic):          6.80e-166\n",
       "Time:                        10:06:48   Log-Likelihood:                 312.52\n",
       "No. Observations:                 100   AIC:                            -621.0\n",
       "Df Residuals:                      98   BIC:                            -615.8\n",
       "Df Model:                           1                                         \n",
       "Covariance Type:            nonrobust                                         \n",
       "==============================================================================\n",
       "                 coef    std err          t      P>|t|      [0.025      0.975]\n",
       "------------------------------------------------------------------------------\n",
       "Intercept     -1.0002      0.001   -931.475      0.000      -1.002      -0.998\n",
       "x              0.4994      0.001    467.445      0.000       0.497       0.502\n",
       "==============================================================================\n",
       "Omnibus:                        0.426   Durbin-Watson:                   1.977\n",
       "Prob(Omnibus):                  0.808   Jarque-Bera (JB):                0.121\n",
       "Skew:                          -0.045   Prob(JB):                        0.941\n",
       "Kurtosis:                       3.145   Cond. No.                         1.01\n",
       "==============================================================================\n",
       "\n",
       "Warnings:\n",
       "[1] Standard Errors assume that the covariance matrix of the errors is correctly specified.\n",
       "\"\"\""
      ]
     },
     "execution_count": 13,
     "metadata": {},
     "output_type": "execute_result"
    }
   ],
   "source": [
    "#重复e， β 0 及 ˆ β 1 与 β 0 及 β 1 偏差减小，系数的标准误差也减小，R^2增大（接近1）\n",
    "data = pd.DataFrame({'x':x,'y':y})\n",
    "result_smf_less_noise = smf.ols('y ~ x',data).fit()\n",
    "result_smf_less_noise.summary()"
   ]
  },
  {
   "cell_type": "code",
   "execution_count": 14,
   "metadata": {},
   "outputs": [
    {
     "data": {
      "image/png": "[encoded data removed]",
      "text/plain": [
       "<Figure size 576x432 with 1 Axes>"
      ]
     },
     "metadata": {
      "needs_background": "light"
     },
     "output_type": "display_data"
    }
   ],
   "source": [
    "#重复f，最小二乘线和总体回归线趋近重合\n",
    "plt.figure(figsize=(8, 6))\n",
    "plt.scatter(x, y, color='', marker='o', edgecolors='gray', s=50)\n",
    "X_draw = np.linspace(x.min(), x.max(), 50)\n",
    "plt.plot(X_draw,result_smf_less_noise.params[0] + result_smf_less_noise.params[1] * X_draw,'red',linewidth= 2,linestyle='--',label = 'the least squares line')\n",
    "plt.plot(X_draw,-1 + 0.5 * X_draw,'lightblue',linewidth= 2,label = 'the population regression line')\n",
    "plt.legend(loc=\"upper left\", fontsize=14)\n",
    "plt.show()"
   ]
  },
  {
   "cell_type": "code",
   "execution_count": 15,
   "metadata": {},
   "outputs": [
    {
     "data": {
      "text/html": [
       "<table class=\"simpletable\">\n",
       "<caption>OLS Regression Results</caption>\n",
       "<tr>\n",
       "  <th>Dep. Variable:</th>            <td>y</td>        <th>  R-squared:         </th> <td>   1.000</td> \n",
       "</tr>\n",
       "<tr>\n",
       "  <th>Model:</th>                   <td>OLS</td>       <th>  Adj. R-squared:    </th> <td>   1.000</td> \n",
       "</tr>\n",
       "<tr>\n",
       "  <th>Method:</th>             <td>Least Squares</td>  <th>  F-statistic:       </th> <td>1.086e+05</td>\n",
       "</tr>\n",
       "<tr>\n",
       "  <th>Date:</th>             <td>Mon, 23 Dec 2019</td> <th>  Prob (F-statistic):</th> <td>3.30e-163</td>\n",
       "</tr>\n",
       "<tr>\n",
       "  <th>Time:</th>                 <td>10:06:49</td>     <th>  Log-Likelihood:    </th> <td>  312.72</td> \n",
       "</tr>\n",
       "<tr>\n",
       "  <th>No. Observations:</th>      <td>   100</td>      <th>  AIC:               </th> <td>  -619.4</td> \n",
       "</tr>\n",
       "<tr>\n",
       "  <th>Df Residuals:</th>          <td>    97</td>      <th>  BIC:               </th> <td>  -611.6</td> \n",
       "</tr>\n",
       "<tr>\n",
       "  <th>Df Model:</th>              <td>     2</td>      <th>                     </th>     <td> </td>    \n",
       "</tr>\n",
       "<tr>\n",
       "  <th>Covariance Type:</th>      <td>nonrobust</td>    <th>                     </th>     <td> </td>    \n",
       "</tr>\n",
       "</table>\n",
       "<table class=\"simpletable\">\n",
       "<tr>\n",
       "      <td></td>         <th>coef</th>     <th>std err</th>      <th>t</th>      <th>P>|t|</th>  <th>[0.025</th>    <th>0.975]</th>  \n",
       "</tr>\n",
       "<tr>\n",
       "  <th>Intercept</th> <td>   -1.0007</td> <td>    0.001</td> <td> -741.462</td> <td> 0.000</td> <td>   -1.003</td> <td>   -0.998</td>\n",
       "</tr>\n",
       "<tr>\n",
       "  <th>x</th>         <td>    0.4994</td> <td>    0.001</td> <td>  462.989</td> <td> 0.000</td> <td>    0.497</td> <td>    0.502</td>\n",
       "</tr>\n",
       "<tr>\n",
       "  <th>I(x ** 2)</th> <td>    0.0005</td> <td>    0.001</td> <td>    0.618</td> <td> 0.538</td> <td>   -0.001</td> <td>    0.002</td>\n",
       "</tr>\n",
       "</table>\n",
       "<table class=\"simpletable\">\n",
       "<tr>\n",
       "  <th>Omnibus:</th>       <td> 0.434</td> <th>  Durbin-Watson:     </th> <td>   1.971</td>\n",
       "</tr>\n",
       "<tr>\n",
       "  <th>Prob(Omnibus):</th> <td> 0.805</td> <th>  Jarque-Bera (JB):  </th> <td>   0.122</td>\n",
       "</tr>\n",
       "<tr>\n",
       "  <th>Skew:</th>          <td>-0.040</td> <th>  Prob(JB):          </th> <td>   0.941</td>\n",
       "</tr>\n",
       "<tr>\n",
       "  <th>Kurtosis:</th>      <td> 3.151</td> <th>  Cond. No.          </th> <td>    2.46</td>\n",
       "</tr>\n",
       "</table><br/><br/>Warnings:<br/>[1] Standard Errors assume that the covariance matrix of the errors is correctly specified."
      ],
      "text/plain": [
       "<class 'statsmodels.iolib.summary.Summary'>\n",
       "\"\"\"\n",
       "                            OLS Regression Results                            \n",
       "==============================================================================\n",
       "Dep. Variable:                      y   R-squared:                       1.000\n",
       "Model:                            OLS   Adj. R-squared:                  1.000\n",
       "Method:                 Least Squares   F-statistic:                 1.086e+05\n",
       "Date:                Mon, 23 Dec 2019   Prob (F-statistic):          3.30e-163\n",
       "Time:                        10:06:49   Log-Likelihood:                 312.72\n",
       "No. Observations:                 100   AIC:                            -619.4\n",
       "Df Residuals:                      97   BIC:                            -611.6\n",
       "Df Model:                           2                                         \n",
       "Covariance Type:            nonrobust                                         \n",
       "==============================================================================\n",
       "                 coef    std err          t      P>|t|      [0.025      0.975]\n",
       "------------------------------------------------------------------------------\n",
       "Intercept     -1.0007      0.001   -741.462      0.000      -1.003      -0.998\n",
       "x              0.4994      0.001    462.989      0.000       0.497       0.502\n",
       "I(x ** 2)      0.0005      0.001      0.618      0.538      -0.001       0.002\n",
       "==============================================================================\n",
       "Omnibus:                        0.434   Durbin-Watson:                   1.971\n",
       "Prob(Omnibus):                  0.805   Jarque-Bera (JB):                0.122\n",
       "Skew:                          -0.040   Prob(JB):                        0.941\n",
       "Kurtosis:                       3.151   Cond. No.                         2.46\n",
       "==============================================================================\n",
       "\n",
       "Warnings:\n",
       "[1] Standard Errors assume that the covariance matrix of the errors is correctly specified.\n",
       "\"\"\""
      ]
     },
     "execution_count": 15,
     "metadata": {},
     "output_type": "execute_result"
    }
   ],
   "source": [
    "#重复g，I(x ** 2)的系数变小，仍然无法拒绝0假设\n",
    "result_smf_polynomial_2_less_noise = smf.ols('y ~ x + I(x ** 2)',data).fit()\n",
    "result_smf_polynomial_2_less_noise.summary()"
   ]
  },
  {
   "cell_type": "code",
   "execution_count": 16,
   "metadata": {},
   "outputs": [
    {
     "name": "stdout",
     "output_type": "stream",
     "text": [
      "no polynomial rss: 0.011298318813940361\n",
      "polynomial 2 rss: 0.011254059516191248\n",
      "no polynomial rse: 0.010737270020316493\n",
      "polynomial 2 rse: 0.010771315245859392\n",
      "no polynomial R-squared: 0.9995516977069884\n",
      "polynomial 2 R-squared: 0.9995534538571728\n",
      "no polynomial pvalues: Intercept    3.119732e-195\n",
      "x            6.796599e-166\n",
      "dtype: float64\n",
      "polynomial 2 pvalues: Intercept    7.304234e-184\n",
      "x            4.967263e-164\n",
      "I(x ** 2)     5.382618e-01\n",
      "dtype: float64\n"
     ]
    }
   ],
   "source": [
    "#重复g，结论类似，仍然无法拒绝0假设\n",
    "print('no polynomial rss:',result_smf_less_noise.ssr)\n",
    "print('polynomial 2 rss:',result_smf_polynomial_2_less_noise.ssr)\n",
    "print('no polynomial rse:',result_smf_less_noise.mse_resid ** 0.5)\n",
    "print('polynomial 2 rse:',result_smf_polynomial_2_less_noise.mse_resid ** 0.5)\n",
    "print('no polynomial R-squared:',result_smf_less_noise.rsquared)\n",
    "print('polynomial 2 R-squared:',result_smf_polynomial_2_less_noise.rsquared)\n",
    "print('no polynomial pvalues:',result_smf_less_noise.pvalues)\n",
    "print('polynomial 2 pvalues:',result_smf_polynomial_2_less_noise.pvalues)"
   ]
  },
  {
   "cell_type": "markdown",
   "metadata": {},
   "source": [
    "**(i) Repeat (a)–(f) after modifying the data generation process in\n",
    "such a way that there is more noise in the data. The model\n",
    "(3.39) should remain the same. You can do this by increasing\n",
    "the variance of the normal distribution used to generate the\n",
    "error term ? in (b). Describe your results.**"
   ]
  },
  {
   "cell_type": "code",
   "execution_count": 17,
   "metadata": {},
   "outputs": [],
   "source": [
    "x =  np.random.normal(loc = 0.0, scale = 1.0, size = 100)\n",
    "eps =  np.random.normal(loc = 0.0, scale = 6.25, size = 100)\n",
    "y = -1 + 0.5*x + eps"
   ]
  },
  {
   "cell_type": "code",
   "execution_count": 18,
   "metadata": {},
   "outputs": [
    {
     "data": {
      "image/png": "[encoded data removed]",
      "text/plain": [
       "<Figure size 432x288 with 1 Axes>"
      ]
     },
     "metadata": {
      "needs_background": "light"
     },
     "output_type": "display_data"
    }
   ],
   "source": [
    "#重复d，散点图线性关系不明显\n",
    "plt.scatter(x,y)\n",
    "plt.show()"
   ]
  },
  {
   "cell_type": "code",
   "execution_count": 19,
   "metadata": {},
   "outputs": [
    {
     "data": {
      "text/html": [
       "<table class=\"simpletable\">\n",
       "<caption>OLS Regression Results</caption>\n",
       "<tr>\n",
       "  <th>Dep. Variable:</th>            <td>y</td>        <th>  R-squared:         </th> <td>   0.028</td>\n",
       "</tr>\n",
       "<tr>\n",
       "  <th>Model:</th>                   <td>OLS</td>       <th>  Adj. R-squared:    </th> <td>   0.018</td>\n",
       "</tr>\n",
       "<tr>\n",
       "  <th>Method:</th>             <td>Least Squares</td>  <th>  F-statistic:       </th> <td>   2.826</td>\n",
       "</tr>\n",
       "<tr>\n",
       "  <th>Date:</th>             <td>Mon, 23 Dec 2019</td> <th>  Prob (F-statistic):</th>  <td>0.0959</td> \n",
       "</tr>\n",
       "<tr>\n",
       "  <th>Time:</th>                 <td>10:06:50</td>     <th>  Log-Likelihood:    </th> <td> -328.92</td>\n",
       "</tr>\n",
       "<tr>\n",
       "  <th>No. Observations:</th>      <td>   100</td>      <th>  AIC:               </th> <td>   661.8</td>\n",
       "</tr>\n",
       "<tr>\n",
       "  <th>Df Residuals:</th>          <td>    98</td>      <th>  BIC:               </th> <td>   667.1</td>\n",
       "</tr>\n",
       "<tr>\n",
       "  <th>Df Model:</th>              <td>     1</td>      <th>                     </th>     <td> </td>   \n",
       "</tr>\n",
       "<tr>\n",
       "  <th>Covariance Type:</th>      <td>nonrobust</td>    <th>                     </th>     <td> </td>   \n",
       "</tr>\n",
       "</table>\n",
       "<table class=\"simpletable\">\n",
       "<tr>\n",
       "      <td></td>         <th>coef</th>     <th>std err</th>      <th>t</th>      <th>P>|t|</th>  <th>[0.025</th>    <th>0.975]</th>  \n",
       "</tr>\n",
       "<tr>\n",
       "  <th>Intercept</th> <td>   -0.2514</td> <td>    0.657</td> <td>   -0.383</td> <td> 0.703</td> <td>   -1.555</td> <td>    1.052</td>\n",
       "</tr>\n",
       "<tr>\n",
       "  <th>x</th>         <td>    1.0644</td> <td>    0.633</td> <td>    1.681</td> <td> 0.096</td> <td>   -0.192</td> <td>    2.321</td>\n",
       "</tr>\n",
       "</table>\n",
       "<table class=\"simpletable\">\n",
       "<tr>\n",
       "  <th>Omnibus:</th>       <td> 3.633</td> <th>  Durbin-Watson:     </th> <td>   1.972</td>\n",
       "</tr>\n",
       "<tr>\n",
       "  <th>Prob(Omnibus):</th> <td> 0.163</td> <th>  Jarque-Bera (JB):  </th> <td>   3.566</td>\n",
       "</tr>\n",
       "<tr>\n",
       "  <th>Skew:</th>          <td> 0.192</td> <th>  Prob(JB):          </th> <td>   0.168</td>\n",
       "</tr>\n",
       "<tr>\n",
       "  <th>Kurtosis:</th>      <td> 3.842</td> <th>  Cond. No.          </th> <td>    1.07</td>\n",
       "</tr>\n",
       "</table><br/><br/>Warnings:<br/>[1] Standard Errors assume that the covariance matrix of the errors is correctly specified."
      ],
      "text/plain": [
       "<class 'statsmodels.iolib.summary.Summary'>\n",
       "\"\"\"\n",
       "                            OLS Regression Results                            \n",
       "==============================================================================\n",
       "Dep. Variable:                      y   R-squared:                       0.028\n",
       "Model:                            OLS   Adj. R-squared:                  0.018\n",
       "Method:                 Least Squares   F-statistic:                     2.826\n",
       "Date:                Mon, 23 Dec 2019   Prob (F-statistic):             0.0959\n",
       "Time:                        10:06:50   Log-Likelihood:                -328.92\n",
       "No. Observations:                 100   AIC:                             661.8\n",
       "Df Residuals:                      98   BIC:                             667.1\n",
       "Df Model:                           1                                         \n",
       "Covariance Type:            nonrobust                                         \n",
       "==============================================================================\n",
       "                 coef    std err          t      P>|t|      [0.025      0.975]\n",
       "------------------------------------------------------------------------------\n",
       "Intercept     -0.2514      0.657     -0.383      0.703      -1.555       1.052\n",
       "x              1.0644      0.633      1.681      0.096      -0.192       2.321\n",
       "==============================================================================\n",
       "Omnibus:                        3.633   Durbin-Watson:                   1.972\n",
       "Prob(Omnibus):                  0.163   Jarque-Bera (JB):                3.566\n",
       "Skew:                           0.192   Prob(JB):                        0.168\n",
       "Kurtosis:                       3.842   Cond. No.                         1.07\n",
       "==============================================================================\n",
       "\n",
       "Warnings:\n",
       "[1] Standard Errors assume that the covariance matrix of the errors is correctly specified.\n",
       "\"\"\""
      ]
     },
     "execution_count": 19,
     "metadata": {},
     "output_type": "execute_result"
    }
   ],
   "source": [
    "#重复e， β 0 及 ˆ β 1 与 β 0 及 β 1 偏差增大，系数的标准误差增大，R^2缩小（接近0），Intercept不再拒绝0假设\n",
    "data = pd.DataFrame({'x':x,'y':y})\n",
    "result_smf_more_noise = smf.ols('y ~ x',data).fit()\n",
    "result_smf_more_noise.summary()"
   ]
  },
  {
   "cell_type": "code",
   "execution_count": 20,
   "metadata": {},
   "outputs": [
    {
     "data": {
      "text/plain": [
       "<matplotlib.legend.Legend at 0x157e5668>"
      ]
     },
     "execution_count": 20,
     "metadata": {},
     "output_type": "execute_result"
    },
    {
     "data": {
      "image/png": "[encoded data removed]",
      "text/plain": [
       "<Figure size 576x432 with 1 Axes>"
      ]
     },
     "metadata": {
      "needs_background": "light"
     },
     "output_type": "display_data"
    }
   ],
   "source": [
    "#重复f，最小二乘线和总体回归线相差变大\n",
    "plt.figure(figsize=(8, 6))\n",
    "plt.scatter(x, y, color='', marker='o', edgecolors='gray', s=50)\n",
    "X_draw = np.linspace(x.min(), x.max(), 50)\n",
    "plt.plot(X_draw,result_smf_more_noise.params[0] + result_smf_more_noise.params[1] * X_draw,'red',linewidth= 2,linestyle='--',label = 'the least squares line')\n",
    "plt.plot(X_draw,-1 + 0.5 * X_draw,'lightblue',linewidth= 2,label = 'the population regression line')\n",
    "plt.legend(loc=\"upper left\", fontsize=14)"
   ]
  },
  {
   "cell_type": "code",
   "execution_count": 21,
   "metadata": {},
   "outputs": [
    {
     "data": {
      "text/html": [
       "<table class=\"simpletable\">\n",
       "<caption>OLS Regression Results</caption>\n",
       "<tr>\n",
       "  <th>Dep. Variable:</th>            <td>y</td>        <th>  R-squared:         </th> <td>   0.029</td>\n",
       "</tr>\n",
       "<tr>\n",
       "  <th>Model:</th>                   <td>OLS</td>       <th>  Adj. R-squared:    </th> <td>   0.009</td>\n",
       "</tr>\n",
       "<tr>\n",
       "  <th>Method:</th>             <td>Least Squares</td>  <th>  F-statistic:       </th> <td>   1.444</td>\n",
       "</tr>\n",
       "<tr>\n",
       "  <th>Date:</th>             <td>Mon, 23 Dec 2019</td> <th>  Prob (F-statistic):</th>  <td> 0.241</td> \n",
       "</tr>\n",
       "<tr>\n",
       "  <th>Time:</th>                 <td>10:06:50</td>     <th>  Log-Likelihood:    </th> <td> -328.88</td>\n",
       "</tr>\n",
       "<tr>\n",
       "  <th>No. Observations:</th>      <td>   100</td>      <th>  AIC:               </th> <td>   663.8</td>\n",
       "</tr>\n",
       "<tr>\n",
       "  <th>Df Residuals:</th>          <td>    97</td>      <th>  BIC:               </th> <td>   671.6</td>\n",
       "</tr>\n",
       "<tr>\n",
       "  <th>Df Model:</th>              <td>     2</td>      <th>                     </th>     <td> </td>   \n",
       "</tr>\n",
       "<tr>\n",
       "  <th>Covariance Type:</th>      <td>nonrobust</td>    <th>                     </th>     <td> </td>   \n",
       "</tr>\n",
       "</table>\n",
       "<table class=\"simpletable\">\n",
       "<tr>\n",
       "      <td></td>         <th>coef</th>     <th>std err</th>      <th>t</th>      <th>P>|t|</th>  <th>[0.025</th>    <th>0.975]</th>  \n",
       "</tr>\n",
       "<tr>\n",
       "  <th>Intercept</th> <td>   -0.4141</td> <td>    0.859</td> <td>   -0.482</td> <td> 0.631</td> <td>   -2.118</td> <td>    1.290</td>\n",
       "</tr>\n",
       "<tr>\n",
       "  <th>x</th>         <td>    1.0773</td> <td>    0.638</td> <td>    1.690</td> <td> 0.094</td> <td>   -0.188</td> <td>    2.343</td>\n",
       "</tr>\n",
       "<tr>\n",
       "  <th>I(x ** 2)</th> <td>    0.1504</td> <td>    0.508</td> <td>    0.296</td> <td> 0.768</td> <td>   -0.857</td> <td>    1.158</td>\n",
       "</tr>\n",
       "</table>\n",
       "<table class=\"simpletable\">\n",
       "<tr>\n",
       "  <th>Omnibus:</th>       <td> 3.928</td> <th>  Durbin-Watson:     </th> <td>   1.969</td>\n",
       "</tr>\n",
       "<tr>\n",
       "  <th>Prob(Omnibus):</th> <td> 0.140</td> <th>  Jarque-Bera (JB):  </th> <td>   3.954</td>\n",
       "</tr>\n",
       "<tr>\n",
       "  <th>Skew:</th>          <td> 0.210</td> <th>  Prob(JB):          </th> <td>   0.138</td>\n",
       "</tr>\n",
       "<tr>\n",
       "  <th>Kurtosis:</th>      <td> 3.879</td> <th>  Cond. No.          </th> <td>    2.59</td>\n",
       "</tr>\n",
       "</table><br/><br/>Warnings:<br/>[1] Standard Errors assume that the covariance matrix of the errors is correctly specified."
      ],
      "text/plain": [
       "<class 'statsmodels.iolib.summary.Summary'>\n",
       "\"\"\"\n",
       "                            OLS Regression Results                            \n",
       "==============================================================================\n",
       "Dep. Variable:                      y   R-squared:                       0.029\n",
       "Model:                            OLS   Adj. R-squared:                  0.009\n",
       "Method:                 Least Squares   F-statistic:                     1.444\n",
       "Date:                Mon, 23 Dec 2019   Prob (F-statistic):              0.241\n",
       "Time:                        10:06:50   Log-Likelihood:                -328.88\n",
       "No. Observations:                 100   AIC:                             663.8\n",
       "Df Residuals:                      97   BIC:                             671.6\n",
       "Df Model:                           2                                         \n",
       "Covariance Type:            nonrobust                                         \n",
       "==============================================================================\n",
       "                 coef    std err          t      P>|t|      [0.025      0.975]\n",
       "------------------------------------------------------------------------------\n",
       "Intercept     -0.4141      0.859     -0.482      0.631      -2.118       1.290\n",
       "x              1.0773      0.638      1.690      0.094      -0.188       2.343\n",
       "I(x ** 2)      0.1504      0.508      0.296      0.768      -0.857       1.158\n",
       "==============================================================================\n",
       "Omnibus:                        3.928   Durbin-Watson:                   1.969\n",
       "Prob(Omnibus):                  0.140   Jarque-Bera (JB):                3.954\n",
       "Skew:                           0.210   Prob(JB):                        0.138\n",
       "Kurtosis:                       3.879   Cond. No.                         2.59\n",
       "==============================================================================\n",
       "\n",
       "Warnings:\n",
       "[1] Standard Errors assume that the covariance matrix of the errors is correctly specified.\n",
       "\"\"\""
      ]
     },
     "execution_count": 21,
     "metadata": {},
     "output_type": "execute_result"
    }
   ],
   "source": [
    "#重复g，I(x ** 2)的系数变大，仍然无法拒绝0假设\n",
    "result_smf_polynomial_2_more_noise = smf.ols('y ~ x + I(x ** 2)',data).fit()\n",
    "result_smf_polynomial_2_more_noise.summary()"
   ]
  },
  {
   "cell_type": "code",
   "execution_count": 22,
   "metadata": {},
   "outputs": [
    {
     "name": "stdout",
     "output_type": "stream",
     "text": [
      "no polynomial rss: 4212.2357120969755\n",
      "polynomial 2 rss: 4208.425609055656\n",
      "no polynomial rse: 6.556065669455579\n",
      "polynomial 2 rse: 6.586792164718144\n",
      "no polynomial R-squared: 0.02803315739173995\n",
      "polynomial 2 R-squared: 0.028912332745685054\n",
      "no polynomial pvalues: Intercept    0.702777\n",
      "x            0.095906\n",
      "dtype: float64\n",
      "polynomial 2 pvalues: Intercept    0.630648\n",
      "x            0.094296\n",
      "I(x ** 2)    0.767602\n",
      "dtype: float64\n"
     ]
    }
   ],
   "source": [
    "#重复g，结论类似，但两个模型都有无法拒绝0假设情况\n",
    "print('no polynomial rss:',result_smf_more_noise.ssr)\n",
    "print('polynomial 2 rss:',result_smf_polynomial_2_more_noise.ssr)\n",
    "print('no polynomial rse:',result_smf_more_noise.mse_resid ** 0.5)\n",
    "print('polynomial 2 rse:',result_smf_polynomial_2_more_noise.mse_resid ** 0.5)\n",
    "print('no polynomial R-squared:',result_smf_more_noise.rsquared)\n",
    "print('polynomial 2 R-squared:',result_smf_polynomial_2_more_noise.rsquared)\n",
    "print('no polynomial pvalues:',result_smf_more_noise.pvalues)\n",
    "print('polynomial 2 pvalues:',result_smf_polynomial_2_more_noise.pvalues)"
   ]
  },
  {
   "cell_type": "markdown",
   "metadata": {},
   "source": [
    "**(j) What are the confidence intervals for β 0 and β 1 based on the\n",
    "original data set, the noisier data set, and the less noisy data\n",
    "set? Comment on your results.**"
   ]
  },
  {
   "cell_type": "code",
   "execution_count": 23,
   "metadata": {},
   "outputs": [
    {
     "name": "stdout",
     "output_type": "stream",
     "text": [
      "the original data set confidence intervals:                   0         1\n",
      "Intercept -1.009870 -0.916623\n",
      "x          0.471307  0.576407\n",
      "the noisier data set confidence intervals:                   0         1\n",
      "Intercept -1.554918  1.052160\n",
      "x         -0.191988  2.320727\n",
      "the less noisy data set confidence intervals:                   0         1\n",
      "Intercept -1.002329 -0.998067\n",
      "x          0.497322  0.501563\n"
     ]
    }
   ],
   "source": [
    "print('the original data set confidence intervals:',result_smf.conf_int())\n",
    "print('the noisier data set confidence intervals:',result_smf_more_noise.conf_int())\n",
    "print('the less noisy data set confidence intervals:',result_smf_less_noise.conf_int())"
   ]
  },
  {
   "cell_type": "markdown",
   "metadata": {},
   "source": [
    "置信空间都包含了原有的β 值，但随着噪声变大，置信空间范围也变大"
   ]
  },
  {
   "cell_type": "code",
   "execution_count": null,
   "metadata": {},
   "outputs": [],
   "source": []
  }
 ],
 "metadata": {
  "kernelspec": {
   "display_name": "Python 3",
   "language": "python",
   "name": "python3"
  },
  "language_info": {
   "codemirror_mode": {
    "name": "ipython",
    "version": 3
   },
   "file_extension": ".py",
   "mimetype": "text/x-python",
   "name": "python",
   "nbconvert_exporter": "python",
   "pygments_lexer": "ipython3",
   "version": "3.7.3"
  }
 },
 "nbformat": 4,
 "nbformat_minor": 2
}
