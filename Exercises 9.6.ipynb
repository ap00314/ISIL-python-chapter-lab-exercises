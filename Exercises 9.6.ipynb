{
 "cells": [
  {
   "cell_type": "code",
   "execution_count": 1,
   "metadata": {},
   "outputs": [],
   "source": [
    "# To support both python 2 and python 3\n",
    "# 让这份笔记同步支持 python 2 和 python 3\n",
    "from __future__ import division\n",
    "import pandas as pd\n",
    "import numpy as np\n",
    "import matplotlib.pyplot as plt\n",
    "import matplotlib\n",
    "matplotlib.rcParams['xtick.direction'] = 'in'\n",
    "matplotlib.rcParams['ytick.direction'] = 'in'\n",
    "%matplotlib inline"
   ]
  },
  {
   "cell_type": "markdown",
   "metadata": {},
   "source": [
    "**6. At the end of Section 9.6.1, it is claimed that in the case of data that\n",
    "is just barely linearly separable, a support vector classifier with a\n",
    "small value of cost that misclassifies a couple of training observations\n",
    "may perform better on test data than one with a huge value of cost\n",
    "that does not misclassify any training observations. You will now\n",
    "investigate this claim.\n",
    "(a) Generate two-class data with p = 2 in such a way that the classes\n",
    "are just barely linearly separable.**"
   ]
  },
  {
   "cell_type": "code",
   "execution_count": 2,
   "metadata": {},
   "outputs": [
    {
     "data": {
      "image/png": "[encoded data removed]",
      "text/plain": [
       "<Figure size 432x288 with 1 Axes>"
      ]
     },
     "metadata": {
      "needs_background": "light"
     },
     "output_type": "display_data"
    }
   ],
   "source": [
    "from matplotlib.colors import ListedColormap\n",
    "color_list =  ['red','blue','green','black','yellow','brown','peru']\n",
    "cmap = ListedColormap(color_list[:2])\n",
    "np.random.seed(1)\n",
    "x1 = np.random.normal(0,0.02,100)\n",
    "x2 = np.random.normal(0,1,100)\n",
    "y = ((x1 - x2) > 0) * 1\n",
    "for idx, cls in enumerate(np.unique(y)):\n",
    "        plt.scatter(x1[y == cls], x2[y == cls], marker = 'o',color = '',edgecolors = cmap(idx))\n",
    "plt.show()"
   ]
  },
  {
   "cell_type": "markdown",
   "metadata": {},
   "source": [
    "**(b) Compute the cross-validation error rates for support vector\n",
    "classifiers with a range of cost values. How many training errors are misclassified for each value of cost considered, and how\n",
    "does this relate to the cross-validation errors obtained?**"
   ]
  },
  {
   "cell_type": "code",
   "execution_count": 3,
   "metadata": {},
   "outputs": [
    {
     "data": {
      "text/plain": [
       "GridSearchCV(cv=10, error_score=nan,\n",
       "             estimator=SVC(C=1.0, break_ties=False, cache_size=200,\n",
       "                           class_weight=None, coef0=0.0,\n",
       "                           decision_function_shape='ovr', degree=3,\n",
       "                           gamma='scale', kernel='linear', max_iter=-1,\n",
       "                           probability=False, random_state=None, shrinking=True,\n",
       "                           tol=0.001, verbose=False),\n",
       "             iid='deprecated', n_jobs=None,\n",
       "             param_grid=[{'C': [0.001, 0.01, 0.1, 1, 10, 100, 1000, 10000]}],\n",
       "             pre_dispatch='2*n_jobs', refit=True, return_train_score=True,\n",
       "             scoring='accuracy', verbose=0)"
      ]
     },
     "execution_count": 3,
     "metadata": {},
     "output_type": "execute_result"
    }
   ],
   "source": [
    "from sklearn.model_selection import GridSearchCV\n",
    "from sklearn.svm import SVC\n",
    "np.random.seed(1)\n",
    "X = np.c_[x1,x2]\n",
    "param_range = [0.001, 0.01, 0.1, 1, 10,100,1000,10000]\n",
    "svm = SVC(kernel=\"linear\")\n",
    "param_grid = [\n",
    "{'C': param_range },\n",
    "]\n",
    "grid_search = GridSearchCV(svm , param_grid, cv = 10, scoring='accuracy',return_train_score=True)\n",
    "grid_search.fit(X ,y)"
   ]
  },
  {
   "cell_type": "code",
   "execution_count": 4,
   "metadata": {},
   "outputs": [
    {
     "name": "stdout",
     "output_type": "stream",
     "text": [
      "0.41000000000000014 {'C': 0.001}\n",
      "0.3600000000000001 {'C': 0.01}\n",
      "0.08999999999999986 {'C': 0.1}\n",
      "0.010000000000000009 {'C': 1}\n",
      "0.0 {'C': 10}\n",
      "0.010000000000000009 {'C': 100}\n",
      "0.0 {'C': 1000}\n",
      "0.0 {'C': 10000}\n"
     ]
    }
   ],
   "source": [
    "cvres = grid_search.cv_results_\n",
    "for mean_score, params in zip(cvres[\"mean_test_score\"], cvres[\"params\"]):\n",
    "    print(1 - mean_score, params)"
   ]
  },
  {
   "cell_type": "code",
   "execution_count": 5,
   "metadata": {},
   "outputs": [
    {
     "name": "stdout",
     "output_type": "stream",
     "text": [
      "misclassified num: 41 with C = 0.001\n",
      "misclassified num: 31 with C = 0.01\n",
      "misclassified num: 8 with C = 0.1\n",
      "misclassified num: 1 with C = 1\n",
      "misclassified num: 0 with C = 10\n",
      "misclassified num: 0 with C = 100\n",
      "misclassified num: 0 with C = 1000\n",
      "misclassified num: 0 with C = 10000\n"
     ]
    }
   ],
   "source": [
    "for cost in param_range:\n",
    "    svm = SVC(kernel=\"linear\", C = cost)\n",
    "    svm.fit(X ,y)\n",
    "    print('misclassified num:',(y != svm.predict(X)).sum(),\"with C = {}\".format(cost))"
   ]
  },
  {
   "cell_type": "markdown",
   "metadata": {},
   "source": [
    "**整体的误分数与较差验证错误率接近一致**"
   ]
  },
  {
   "cell_type": "markdown",
   "metadata": {},
   "source": [
    "**(c) Generate an appropriate test data set, and compute the test\n",
    "errors corresponding to each of the values of cost considered.\n",
    "Which value of cost leads to the fewest test errors, and how\n",
    "does this compare to the values of cost that yield the fewest\n",
    "training errors and the fewest cross-validation errors?**"
   ]
  },
  {
   "cell_type": "code",
   "execution_count": 6,
   "metadata": {},
   "outputs": [
    {
     "name": "stdout",
     "output_type": "stream",
     "text": [
      "misclassified num: 55 with C = 0.001\n",
      "misclassified num: 28 with C = 0.01\n",
      "misclassified num: 27 with C = 0.1\n",
      "misclassified num: 27 with C = 1\n",
      "misclassified num: 27 with C = 10\n",
      "misclassified num: 29 with C = 100\n",
      "misclassified num: 52 with C = 1000\n",
      "misclassified num: 52 with C = 10000\n"
     ]
    }
   ],
   "source": [
    "x1_test = np.random.normal(0,10,100)\n",
    "x2_test =np.random.normal(0,10,100)\n",
    "y_test = ((x1_test - x2_test) > 0) * 1\n",
    "X_test = np.c_[x1_test,x2_test]\n",
    "for cost in param_range:\n",
    "    svm = SVC(kernel=\"linear\", C = cost)\n",
    "    svm.fit(X ,y)\n",
    "    print('misclassified num:',(y_test != svm.predict(X_test)).sum(),\"with C = {}\".format(cost))"
   ]
  },
  {
   "cell_type": "markdown",
   "metadata": {},
   "source": [
    "COST = 0.1时对应测试误差最小，与训练集COST = 1000比更小"
   ]
  },
  {
   "cell_type": "markdown",
   "metadata": {},
   "source": [
    "**(d) Discuss your results.**"
   ]
  },
  {
   "cell_type": "markdown",
   "metadata": {},
   "source": [
    "训练集一般COST越大（接近最大间隔分类器）错误率越少，但对于实际模型（测试集）易过拟合"
   ]
  },
  {
   "cell_type": "code",
   "execution_count": null,
   "metadata": {},
   "outputs": [],
   "source": []
  }
 ],
 "metadata": {
  "kernelspec": {
   "display_name": "Python 3",
   "language": "python",
   "name": "python3"
  },
  "language_info": {
   "codemirror_mode": {
    "name": "ipython",
    "version": 3
   },
   "file_extension": ".py",
   "mimetype": "text/x-python",
   "name": "python",
   "nbconvert_exporter": "python",
   "pygments_lexer": "ipython3",
   "version": "3.7.3"
  }
 },
 "nbformat": 4,
 "nbformat_minor": 2
}
