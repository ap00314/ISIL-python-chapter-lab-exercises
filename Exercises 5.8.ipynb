{
 "cells": [
  {
   "cell_type": "code",
   "execution_count": 1,
   "metadata": {},
   "outputs": [],
   "source": [
    "# To support both python 2 and python 3\n",
    "# 让这份笔记同步支持 python 2 和 python 3\n",
    "from __future__ import division\n",
    "import pandas as pd\n",
    "import numpy as np\n",
    "import matplotlib.pyplot as plt\n",
    "import matplotlib\n",
    "%matplotlib inline"
   ]
  },
  {
   "cell_type": "code",
   "execution_count": 2,
   "metadata": {},
   "outputs": [],
   "source": [
    "#使用statsmodels便于统计分析数据\n",
    "import statsmodels.api as sm\n",
    "import statsmodels.formula.api as smf\n",
    "#使用sklearn便于预测（机器学习）\n",
    "from sklearn import linear_model\n",
    "#使用patsy便于生成模型\n",
    "import patsy"
   ]
  },
  {
   "cell_type": "markdown",
   "metadata": {},
   "source": [
    "**We will now perform cross-validation on a simulated data set.\n",
    "(a) Generate a simulated data set as follows:**\n",
    "> set.seed(1)\n",
    "\n",
    "> x=rnorm(100)\n",
    "\n",
    "> y=x-2*x^2+rnorm(100)\n",
    "\n",
    "In this data set, what is n and what is p? Write out the model\n",
    "used to generate the data in equation form."
   ]
  },
  {
   "cell_type": "code",
   "execution_count": 3,
   "metadata": {},
   "outputs": [],
   "source": [
    "#使用seed(1)会导致最后的结果成为4次拟合最佳（随机结果），如果需要二次最好可以选择了seed(311)\n",
    "np.random.seed(1)\n",
    "x =  np.random.normal(loc = 0.0, scale = 1.0, size = 100)\n",
    "y = x - 2* x ** 2 + np.random.normal(loc = 0.0, scale = 1.0, size = 100)\n",
    "data = pd.DataFrame({'x':x,'y':y})"
   ]
  },
  {
   "attachments": {
    "image.png": {
     "image/png": "[encoded data removed]"
    }
   },
   "cell_type": "markdown",
   "metadata": {},
   "source": [
    "n = 100, p = 2\n",
    "![image.png](attachment:image.png)"
   ]
  },
  {
   "cell_type": "markdown",
   "metadata": {},
   "source": [
    "**(b) Create a scatterplot of X against Y . Comment on what you find.**"
   ]
  },
  {
   "cell_type": "code",
   "execution_count": 4,
   "metadata": {},
   "outputs": [
    {
     "data": {
      "image/png": "[encoded data removed]",
      "text/plain": [
       "<Figure size 576x432 with 1 Axes>"
      ]
     },
     "metadata": {
      "needs_background": "light"
     },
     "output_type": "display_data"
    }
   ],
   "source": [
    "plt.figure(figsize=(8,6))\n",
    "plt.scatter(x,y)\n",
    "plt.show()"
   ]
  },
  {
   "cell_type": "markdown",
   "metadata": {},
   "source": [
    "**(c) Set a random seed, and then compute the LOOCV errors that\n",
    "result from fitting the following four models using least squares:\n",
    "5.4 Exercises 201\n",
    "i. Y = β 0 + β 1 X + ?\n",
    "ii. Y = β 0 + β 1 X + β 2 X 2 + ?\n",
    "iii. Y = β 0 + β 1 X + β 2 X 2 + β 3 X 3 + ?\n",
    "iv. Y = β 0 + β 1 X + β 2 X 2 + β 3 X 3 + β 4 X 4 + ?.\n",
    "Note you may find it helpful to use the data.frame() function\n",
    "to create a single data set containing both X and Y .**"
   ]
  },
  {
   "cell_type": "code",
   "execution_count": 5,
   "metadata": {},
   "outputs": [
    {
     "data": {
      "text/html": [
       "<div>\n",
       "<style scoped>\n",
       "    .dataframe tbody tr th:only-of-type {\n",
       "        vertical-align: middle;\n",
       "    }\n",
       "\n",
       "    .dataframe tbody tr th {\n",
       "        vertical-align: top;\n",
       "    }\n",
       "\n",
       "    .dataframe thead th {\n",
       "        text-align: right;\n",
       "    }\n",
       "</style>\n",
       "<table border=\"1\" class=\"dataframe\">\n",
       "  <thead>\n",
       "    <tr style=\"text-align: right;\">\n",
       "      <th></th>\n",
       "      <th>0</th>\n",
       "    </tr>\n",
       "  </thead>\n",
       "  <tbody>\n",
       "    <tr>\n",
       "      <th>y ~ x</th>\n",
       "      <td>6.260764</td>\n",
       "    </tr>\n",
       "    <tr>\n",
       "      <th>y ~ x+ I(x**2)</th>\n",
       "      <td>0.914290</td>\n",
       "    </tr>\n",
       "    <tr>\n",
       "      <th>y ~ x+ I(x**2)+ I(x**3)</th>\n",
       "      <td>0.926877</td>\n",
       "    </tr>\n",
       "    <tr>\n",
       "      <th>y ~ x+ I(x**2)+ I(x**3)+ I(x**4)</th>\n",
       "      <td>0.866912</td>\n",
       "    </tr>\n",
       "  </tbody>\n",
       "</table>\n",
       "</div>"
      ],
      "text/plain": [
       "                                         0\n",
       "y ~ x                             6.260764\n",
       "y ~ x+ I(x**2)                    0.914290\n",
       "y ~ x+ I(x**2)+ I(x**3)           0.926877\n",
       "y ~ x+ I(x**2)+ I(x**3)+ I(x**4)  0.866912"
      ]
     },
     "execution_count": 5,
     "metadata": {},
     "output_type": "execute_result"
    }
   ],
   "source": [
    "np.random.seed(1)\n",
    "from sklearn.model_selection import cross_val_score\n",
    "def patsy_model_poly(factor,degree = 2):\n",
    "    model_poly = factor\n",
    "    for i in range(2,degree + 1):\n",
    "        model_poly = model_poly + '+ I(' + factor +  '**{})'.format(str(i))\n",
    "    return model_poly\n",
    "Model_list = []\n",
    "LOOCV_error_list = []\n",
    "for degree in range(4):\n",
    "    model = 'y ~ {}'.format(patsy_model_poly('x',degree + 1))\n",
    "    Model_list.append(model)\n",
    "    y,X = patsy.dmatrices(model,data = data.sample(len(y),random_state=1),return_type=\"dataframe\")\n",
    "    lin_reg = linear_model.LinearRegression()\n",
    "    LOOCV_error_list.append(-cross_val_score(lin_reg, X, y, cv = len(y), scoring='neg_mean_squared_error').mean())\n",
    "LOOCV_result = pd.DataFrame(LOOCV_error_list,index = Model_list)\n",
    "LOOCV_result"
   ]
  },
  {
   "cell_type": "markdown",
   "metadata": {},
   "source": [
    "**(d) Repeat (c) using another random seed, and report your results.\n",
    "Are your results the same as what you got in (c)? Why?**"
   ]
  },
  {
   "cell_type": "code",
   "execution_count": 6,
   "metadata": {},
   "outputs": [
    {
     "data": {
      "text/html": [
       "<div>\n",
       "<style scoped>\n",
       "    .dataframe tbody tr th:only-of-type {\n",
       "        vertical-align: middle;\n",
       "    }\n",
       "\n",
       "    .dataframe tbody tr th {\n",
       "        vertical-align: top;\n",
       "    }\n",
       "\n",
       "    .dataframe thead th {\n",
       "        text-align: right;\n",
       "    }\n",
       "</style>\n",
       "<table border=\"1\" class=\"dataframe\">\n",
       "  <thead>\n",
       "    <tr style=\"text-align: right;\">\n",
       "      <th></th>\n",
       "      <th>0</th>\n",
       "    </tr>\n",
       "  </thead>\n",
       "  <tbody>\n",
       "    <tr>\n",
       "      <th>y ~ x</th>\n",
       "      <td>6.260764</td>\n",
       "    </tr>\n",
       "    <tr>\n",
       "      <th>y ~ x+ I(x**2)</th>\n",
       "      <td>0.914290</td>\n",
       "    </tr>\n",
       "    <tr>\n",
       "      <th>y ~ x+ I(x**2)+ I(x**3)</th>\n",
       "      <td>0.926877</td>\n",
       "    </tr>\n",
       "    <tr>\n",
       "      <th>y ~ x+ I(x**2)+ I(x**3)+ I(x**4)</th>\n",
       "      <td>0.866912</td>\n",
       "    </tr>\n",
       "  </tbody>\n",
       "</table>\n",
       "</div>"
      ],
      "text/plain": [
       "                                         0\n",
       "y ~ x                             6.260764\n",
       "y ~ x+ I(x**2)                    0.914290\n",
       "y ~ x+ I(x**2)+ I(x**3)           0.926877\n",
       "y ~ x+ I(x**2)+ I(x**3)+ I(x**4)  0.866912"
      ]
     },
     "execution_count": 6,
     "metadata": {},
     "output_type": "execute_result"
    }
   ],
   "source": [
    "np.random.seed(2)\n",
    "Model_list = []\n",
    "LOOCV_error_list = []\n",
    "for degree in range(4):\n",
    "    model = 'y ~ {}'.format(patsy_model_poly('x',degree + 1))\n",
    "    Model_list.append(model)\n",
    "    y,X = patsy.dmatrices(model,data = data.sample(len(y),random_state=2),return_type=\"dataframe\")\n",
    "    lin_reg = linear_model.LinearRegression()\n",
    "    LOOCV_error_list.append(-cross_val_score(lin_reg, X, y, cv = len(y), scoring='neg_mean_squared_error').mean())\n",
    "LOOCV_result = pd.DataFrame(LOOCV_error_list,index = Model_list)\n",
    "LOOCV_result"
   ]
  },
  {
   "cell_type": "markdown",
   "metadata": {},
   "source": [
    "**(e) Which of the models in (c) had the smallest LOOCV error? Is\n",
    "this what you expected? Explain your answer.**"
   ]
  },
  {
   "cell_type": "markdown",
   "metadata": {},
   "source": [
    "y ~ x+ I(x**2)+ I(x**3)+ I(x**4)最佳，与实际模型相差较大，说明LOOCV有偏差小，但是该结论依据有点依存第一步建模的随机种子。"
   ]
  },
  {
   "cell_type": "markdown",
   "metadata": {},
   "source": [
    "**(f) Comment on the statistical significance of the coefficient esti-\n",
    "mates that results from fitting each of the models in (c) using\n",
    "least squares. Do these results agree with the conclusions drawn\n",
    "based on the cross-validation results?**"
   ]
  },
  {
   "cell_type": "code",
   "execution_count": 7,
   "metadata": {},
   "outputs": [
    {
     "name": "stdout",
     "output_type": "stream",
     "text": [
      "                            OLS Regression Results                            \n",
      "==============================================================================\n",
      "Dep. Variable:                      y   R-squared:                       0.093\n",
      "Model:                            OLS   Adj. R-squared:                  0.083\n",
      "Method:                 Least Squares   F-statistic:                     9.997\n",
      "Date:                Tue, 31 Dec 2019   Prob (F-statistic):            0.00209\n",
      "Time:                        20:09:09   Log-Likelihood:                -228.87\n",
      "No. Observations:                 100   AIC:                             461.7\n",
      "Df Residuals:                      98   BIC:                             466.9\n",
      "Df Model:                           1                                         \n",
      "Covariance Type:            nonrobust                                         \n",
      "==============================================================================\n",
      "                 coef    std err          t      P>|t|      [0.025      0.975]\n",
      "------------------------------------------------------------------------------\n",
      "Intercept     -1.4131      0.242     -5.849      0.000      -1.893      -0.934\n",
      "x              0.8610      0.272      3.162      0.002       0.321       1.401\n",
      "==============================================================================\n",
      "Omnibus:                       37.310   Durbin-Watson:                   1.661\n",
      "Prob(Omnibus):                  0.000   Jarque-Bera (JB):               69.521\n",
      "Skew:                          -1.554   Prob(JB):                     8.01e-16\n",
      "Kurtosis:                       5.651   Cond. No.                         1.15\n",
      "==============================================================================\n",
      "\n",
      "Warnings:\n",
      "[1] Standard Errors assume that the covariance matrix of the errors is correctly specified.\n",
      "                            OLS Regression Results                            \n",
      "==============================================================================\n",
      "Dep. Variable:                      y   R-squared:                       0.863\n",
      "Model:                            OLS   Adj. R-squared:                  0.860\n",
      "Method:                 Least Squares   F-statistic:                     304.9\n",
      "Date:                Tue, 31 Dec 2019   Prob (F-statistic):           1.47e-42\n",
      "Time:                        20:09:09   Log-Likelihood:                -134.42\n",
      "No. Observations:                 100   AIC:                             274.8\n",
      "Df Residuals:                      97   BIC:                             282.7\n",
      "Df Model:                           2                                         \n",
      "Covariance Type:            nonrobust                                         \n",
      "==============================================================================\n",
      "                 coef    std err          t      P>|t|      [0.025      0.975]\n",
      "------------------------------------------------------------------------------\n",
      "Intercept      0.1350      0.115      1.169      0.245      -0.094       0.364\n",
      "x              1.0936      0.107     10.229      0.000       0.881       1.306\n",
      "I(x ** 2)     -1.9846      0.085    -23.331      0.000      -2.153      -1.816\n",
      "==============================================================================\n",
      "Omnibus:                        0.893   Durbin-Watson:                   2.152\n",
      "Prob(Omnibus):                  0.640   Jarque-Bera (JB):                0.552\n",
      "Skew:                          -0.170   Prob(JB):                        0.759\n",
      "Kurtosis:                       3.132   Cond. No.                         2.10\n",
      "==============================================================================\n",
      "\n",
      "Warnings:\n",
      "[1] Standard Errors assume that the covariance matrix of the errors is correctly specified.\n",
      "                            OLS Regression Results                            \n",
      "==============================================================================\n",
      "Dep. Variable:                      y   R-squared:                       0.865\n",
      "Model:                            OLS   Adj. R-squared:                  0.861\n",
      "Method:                 Least Squares   F-statistic:                     204.8\n",
      "Date:                Tue, 31 Dec 2019   Prob (F-statistic):           1.40e-41\n",
      "Time:                        20:09:10   Log-Likelihood:                -133.66\n",
      "No. Observations:                 100   AIC:                             275.3\n",
      "Df Residuals:                      96   BIC:                             285.7\n",
      "Df Model:                           3                                         \n",
      "Covariance Type:            nonrobust                                         \n",
      "==============================================================================\n",
      "                 coef    std err          t      P>|t|      [0.025      0.975]\n",
      "------------------------------------------------------------------------------\n",
      "Intercept      0.1280      0.115      1.111      0.269      -0.101       0.357\n",
      "x              0.9065      0.187      4.842      0.000       0.535       1.278\n",
      "I(x ** 2)     -1.9753      0.085    -23.187      0.000      -2.144      -1.806\n",
      "I(x ** 3)      0.0788      0.065      1.216      0.227      -0.050       0.208\n",
      "==============================================================================\n",
      "Omnibus:                        1.539   Durbin-Watson:                   2.129\n",
      "Prob(Omnibus):                  0.463   Jarque-Bera (JB):                1.081\n",
      "Skew:                          -0.236   Prob(JB):                        0.583\n",
      "Kurtosis:                       3.193   Cond. No.                         5.53\n",
      "==============================================================================\n",
      "\n",
      "Warnings:\n",
      "[1] Standard Errors assume that the covariance matrix of the errors is correctly specified.\n",
      "                            OLS Regression Results                            \n",
      "==============================================================================\n",
      "Dep. Variable:                      y   R-squared:                       0.873\n",
      "Model:                            OLS   Adj. R-squared:                  0.867\n",
      "Method:                 Least Squares   F-statistic:                     163.0\n",
      "Date:                Tue, 31 Dec 2019   Prob (F-statistic):           1.24e-41\n",
      "Time:                        20:09:10   Log-Likelihood:                -130.63\n",
      "No. Observations:                 100   AIC:                             271.3\n",
      "Df Residuals:                      95   BIC:                             284.3\n",
      "Df Model:                           4                                         \n",
      "Covariance Type:            nonrobust                                         \n",
      "==============================================================================\n",
      "                 coef    std err          t      P>|t|      [0.025      0.975]\n",
      "------------------------------------------------------------------------------\n",
      "Intercept      0.3140      0.136      2.311      0.023       0.044       0.584\n",
      "x              0.9127      0.183      4.999      0.000       0.550       1.275\n",
      "I(x ** 2)     -2.5445      0.248    -10.264      0.000      -3.037      -2.052\n",
      "I(x ** 3)      0.0992      0.064      1.556      0.123      -0.027       0.226\n",
      "I(x ** 4)      0.1394      0.057      2.437      0.017       0.026       0.253\n",
      "==============================================================================\n",
      "Omnibus:                        1.537   Durbin-Watson:                   2.100\n",
      "Prob(Omnibus):                  0.464   Jarque-Bera (JB):                1.088\n",
      "Skew:                          -0.238   Prob(JB):                        0.581\n",
      "Kurtosis:                       3.184   Cond. No.                         15.9\n",
      "==============================================================================\n",
      "\n",
      "Warnings:\n",
      "[1] Standard Errors assume that the covariance matrix of the errors is correctly specified.\n"
     ]
    }
   ],
   "source": [
    "for degree in range(4):\n",
    "    model = 'y ~ {}'.format(patsy_model_poly('x',degree + 1))\n",
    "    results_smf = smf.ols(model ,data =data).fit()\n",
    "    print(results_smf.summary())"
   ]
  },
  {
   "cell_type": "markdown",
   "metadata": {},
   "source": [
    "从以上结果可见x与I(x ** 2)的p值可信，其他偏大，与结果并不完全一致"
   ]
  },
  {
   "cell_type": "markdown",
   "metadata": {},
   "source": [
    "**做个实验，与CV=5对比（偏差大，方差小）**"
   ]
  },
  {
   "cell_type": "code",
   "execution_count": 8,
   "metadata": {},
   "outputs": [
    {
     "data": {
      "text/html": [
       "<div>\n",
       "<style scoped>\n",
       "    .dataframe tbody tr th:only-of-type {\n",
       "        vertical-align: middle;\n",
       "    }\n",
       "\n",
       "    .dataframe tbody tr th {\n",
       "        vertical-align: top;\n",
       "    }\n",
       "\n",
       "    .dataframe thead th {\n",
       "        text-align: right;\n",
       "    }\n",
       "</style>\n",
       "<table border=\"1\" class=\"dataframe\">\n",
       "  <thead>\n",
       "    <tr style=\"text-align: right;\">\n",
       "      <th></th>\n",
       "      <th>0</th>\n",
       "    </tr>\n",
       "  </thead>\n",
       "  <tbody>\n",
       "    <tr>\n",
       "      <th>y ~ x</th>\n",
       "      <td>7.281696</td>\n",
       "    </tr>\n",
       "    <tr>\n",
       "      <th>y ~ x+ I(x**2)</th>\n",
       "      <td>0.939079</td>\n",
       "    </tr>\n",
       "    <tr>\n",
       "      <th>y ~ x+ I(x**2)+ I(x**3)</th>\n",
       "      <td>1.325922</td>\n",
       "    </tr>\n",
       "    <tr>\n",
       "      <th>y ~ x+ I(x**2)+ I(x**3)+ I(x**4)</th>\n",
       "      <td>1.002657</td>\n",
       "    </tr>\n",
       "  </tbody>\n",
       "</table>\n",
       "</div>"
      ],
      "text/plain": [
       "                                         0\n",
       "y ~ x                             7.281696\n",
       "y ~ x+ I(x**2)                    0.939079\n",
       "y ~ x+ I(x**2)+ I(x**3)           1.325922\n",
       "y ~ x+ I(x**2)+ I(x**3)+ I(x**4)  1.002657"
      ]
     },
     "execution_count": 8,
     "metadata": {},
     "output_type": "execute_result"
    }
   ],
   "source": [
    "np.random.seed(1)\n",
    "Model_list = []\n",
    "CV_error_list = []\n",
    "for degree in range(4):\n",
    "    model = 'y ~ {}'.format(patsy_model_poly('x',degree + 1))\n",
    "    Model_list.append(model)\n",
    "    y,X = patsy.dmatrices(model,data = data.sample(len(y),random_state=1),return_type=\"dataframe\")\n",
    "    lin_reg = linear_model.LinearRegression()\n",
    "    CV_error_list.append(-cross_val_score(lin_reg, X, y, cv = 5, scoring='neg_mean_squared_error').mean())\n",
    "CV_result = pd.DataFrame(CV_error_list,index = Model_list)\n",
    "CV_result"
   ]
  },
  {
   "cell_type": "code",
   "execution_count": 9,
   "metadata": {},
   "outputs": [
    {
     "data": {
      "text/html": [
       "<div>\n",
       "<style scoped>\n",
       "    .dataframe tbody tr th:only-of-type {\n",
       "        vertical-align: middle;\n",
       "    }\n",
       "\n",
       "    .dataframe tbody tr th {\n",
       "        vertical-align: top;\n",
       "    }\n",
       "\n",
       "    .dataframe thead th {\n",
       "        text-align: right;\n",
       "    }\n",
       "</style>\n",
       "<table border=\"1\" class=\"dataframe\">\n",
       "  <thead>\n",
       "    <tr style=\"text-align: right;\">\n",
       "      <th></th>\n",
       "      <th>0</th>\n",
       "    </tr>\n",
       "  </thead>\n",
       "  <tbody>\n",
       "    <tr>\n",
       "      <th>y ~ x</th>\n",
       "      <td>6.551561</td>\n",
       "    </tr>\n",
       "    <tr>\n",
       "      <th>y ~ x+ I(x**2)</th>\n",
       "      <td>0.940744</td>\n",
       "    </tr>\n",
       "    <tr>\n",
       "      <th>y ~ x+ I(x**2)+ I(x**3)</th>\n",
       "      <td>0.992164</td>\n",
       "    </tr>\n",
       "    <tr>\n",
       "      <th>y ~ x+ I(x**2)+ I(x**3)+ I(x**4)</th>\n",
       "      <td>0.880853</td>\n",
       "    </tr>\n",
       "  </tbody>\n",
       "</table>\n",
       "</div>"
      ],
      "text/plain": [
       "                                         0\n",
       "y ~ x                             6.551561\n",
       "y ~ x+ I(x**2)                    0.940744\n",
       "y ~ x+ I(x**2)+ I(x**3)           0.992164\n",
       "y ~ x+ I(x**2)+ I(x**3)+ I(x**4)  0.880853"
      ]
     },
     "execution_count": 9,
     "metadata": {},
     "output_type": "execute_result"
    }
   ],
   "source": [
    "np.random.seed(2)\n",
    "Model_list = []\n",
    "CV_error_list = []\n",
    "for degree in range(4):\n",
    "    model = 'y ~ {}'.format(patsy_model_poly('x',degree + 1))\n",
    "    Model_list.append(model)\n",
    "    y,X = patsy.dmatrices(model,data = data.sample(len(y),random_state=2),return_type=\"dataframe\")\n",
    "    lin_reg = linear_model.LinearRegression()\n",
    "    CV_error_list.append(-cross_val_score(lin_reg, X, y, cv = 10, scoring='neg_mean_squared_error').mean())\n",
    "CV_result = pd.DataFrame(CV_error_list,index = Model_list)\n",
    "CV_result"
   ]
  },
  {
   "cell_type": "markdown",
   "metadata": {},
   "source": [
    "从以上比较看出CV = 5相对来说拟合更正确（对该数据来说），但依然可能过拟合。"
   ]
  }
 ],
 "metadata": {
  "kernelspec": {
   "display_name": "Python 3",
   "language": "python",
   "name": "python3"
  },
  "language_info": {
   "codemirror_mode": {
    "name": "ipython",
    "version": 3
   },
   "file_extension": ".py",
   "mimetype": "text/x-python",
   "name": "python",
   "nbconvert_exporter": "python",
   "pygments_lexer": "ipython3",
   "version": "3.7.3"
  }
 },
 "nbformat": 4,
 "nbformat_minor": 2
}
