{
 "cells": [
  {
   "cell_type": "code",
   "execution_count": 1,
   "metadata": {},
   "outputs": [],
   "source": [
    "# To support both python 2 and python 3\n",
    "# 让这份笔记同步支持 python 2 和 python 3\n",
    "from __future__ import division\n",
    "import pandas as pd\n",
    "import numpy as np\n",
    "import matplotlib.pyplot as plt\n",
    "import matplotlib\n",
    "%matplotlib inline"
   ]
  },
  {
   "cell_type": "code",
   "execution_count": 2,
   "metadata": {},
   "outputs": [],
   "source": [
    "#使用statsmodels便于统计分析数据\n",
    "import statsmodels.api as sm\n",
    "import statsmodels.formula.api as smf\n",
    "#使用sklearn便于预测（机器学习）\n",
    "from sklearn import linear_model\n",
    "#使用patsy便于生成模型\n",
    "import patsy"
   ]
  },
  {
   "cell_type": "markdown",
   "metadata": {},
   "source": [
    "**10. We now use boosting to predict Salary in the Hitters data set.\n",
    "(a) Remove the observations for whom the salary information is\n",
    "unknown, and then log-transform the salaries.**"
   ]
  },
  {
   "cell_type": "code",
   "execution_count": 3,
   "metadata": {},
   "outputs": [
    {
     "data": {
      "text/html": [
       "<div>\n",
       "<style scoped>\n",
       "    .dataframe tbody tr th:only-of-type {\n",
       "        vertical-align: middle;\n",
       "    }\n",
       "\n",
       "    .dataframe tbody tr th {\n",
       "        vertical-align: top;\n",
       "    }\n",
       "\n",
       "    .dataframe thead th {\n",
       "        text-align: right;\n",
       "    }\n",
       "</style>\n",
       "<table border=\"1\" class=\"dataframe\">\n",
       "  <thead>\n",
       "    <tr style=\"text-align: right;\">\n",
       "      <th></th>\n",
       "      <th>AtBat</th>\n",
       "      <th>Hits</th>\n",
       "      <th>HmRun</th>\n",
       "      <th>Runs</th>\n",
       "      <th>RBI</th>\n",
       "      <th>Walks</th>\n",
       "      <th>Years</th>\n",
       "      <th>CAtBat</th>\n",
       "      <th>CHits</th>\n",
       "      <th>CHmRun</th>\n",
       "      <th>CRuns</th>\n",
       "      <th>CRBI</th>\n",
       "      <th>CWalks</th>\n",
       "      <th>League</th>\n",
       "      <th>Division</th>\n",
       "      <th>PutOuts</th>\n",
       "      <th>Assists</th>\n",
       "      <th>Errors</th>\n",
       "      <th>Salary</th>\n",
       "      <th>NewLeague</th>\n",
       "    </tr>\n",
       "  </thead>\n",
       "  <tbody>\n",
       "    <tr>\n",
       "      <th>1</th>\n",
       "      <td>315</td>\n",
       "      <td>81</td>\n",
       "      <td>7</td>\n",
       "      <td>24</td>\n",
       "      <td>38</td>\n",
       "      <td>39</td>\n",
       "      <td>14</td>\n",
       "      <td>3449</td>\n",
       "      <td>835</td>\n",
       "      <td>69</td>\n",
       "      <td>321</td>\n",
       "      <td>414</td>\n",
       "      <td>375</td>\n",
       "      <td>N</td>\n",
       "      <td>W</td>\n",
       "      <td>632</td>\n",
       "      <td>43</td>\n",
       "      <td>10</td>\n",
       "      <td>475.0</td>\n",
       "      <td>N</td>\n",
       "    </tr>\n",
       "    <tr>\n",
       "      <th>2</th>\n",
       "      <td>479</td>\n",
       "      <td>130</td>\n",
       "      <td>18</td>\n",
       "      <td>66</td>\n",
       "      <td>72</td>\n",
       "      <td>76</td>\n",
       "      <td>3</td>\n",
       "      <td>1624</td>\n",
       "      <td>457</td>\n",
       "      <td>63</td>\n",
       "      <td>224</td>\n",
       "      <td>266</td>\n",
       "      <td>263</td>\n",
       "      <td>A</td>\n",
       "      <td>W</td>\n",
       "      <td>880</td>\n",
       "      <td>82</td>\n",
       "      <td>14</td>\n",
       "      <td>480.0</td>\n",
       "      <td>A</td>\n",
       "    </tr>\n",
       "    <tr>\n",
       "      <th>3</th>\n",
       "      <td>496</td>\n",
       "      <td>141</td>\n",
       "      <td>20</td>\n",
       "      <td>65</td>\n",
       "      <td>78</td>\n",
       "      <td>37</td>\n",
       "      <td>11</td>\n",
       "      <td>5628</td>\n",
       "      <td>1575</td>\n",
       "      <td>225</td>\n",
       "      <td>828</td>\n",
       "      <td>838</td>\n",
       "      <td>354</td>\n",
       "      <td>N</td>\n",
       "      <td>E</td>\n",
       "      <td>200</td>\n",
       "      <td>11</td>\n",
       "      <td>3</td>\n",
       "      <td>500.0</td>\n",
       "      <td>N</td>\n",
       "    </tr>\n",
       "    <tr>\n",
       "      <th>4</th>\n",
       "      <td>321</td>\n",
       "      <td>87</td>\n",
       "      <td>10</td>\n",
       "      <td>39</td>\n",
       "      <td>42</td>\n",
       "      <td>30</td>\n",
       "      <td>2</td>\n",
       "      <td>396</td>\n",
       "      <td>101</td>\n",
       "      <td>12</td>\n",
       "      <td>48</td>\n",
       "      <td>46</td>\n",
       "      <td>33</td>\n",
       "      <td>N</td>\n",
       "      <td>E</td>\n",
       "      <td>805</td>\n",
       "      <td>40</td>\n",
       "      <td>4</td>\n",
       "      <td>91.5</td>\n",
       "      <td>N</td>\n",
       "    </tr>\n",
       "    <tr>\n",
       "      <th>5</th>\n",
       "      <td>594</td>\n",
       "      <td>169</td>\n",
       "      <td>4</td>\n",
       "      <td>74</td>\n",
       "      <td>51</td>\n",
       "      <td>35</td>\n",
       "      <td>11</td>\n",
       "      <td>4408</td>\n",
       "      <td>1133</td>\n",
       "      <td>19</td>\n",
       "      <td>501</td>\n",
       "      <td>336</td>\n",
       "      <td>194</td>\n",
       "      <td>A</td>\n",
       "      <td>W</td>\n",
       "      <td>282</td>\n",
       "      <td>421</td>\n",
       "      <td>25</td>\n",
       "      <td>750.0</td>\n",
       "      <td>A</td>\n",
       "    </tr>\n",
       "  </tbody>\n",
       "</table>\n",
       "</div>"
      ],
      "text/plain": [
       "   AtBat  Hits  HmRun  Runs  RBI  Walks  Years  CAtBat  CHits  CHmRun  CRuns  \\\n",
       "1    315    81      7    24   38     39     14    3449    835      69    321   \n",
       "2    479   130     18    66   72     76      3    1624    457      63    224   \n",
       "3    496   141     20    65   78     37     11    5628   1575     225    828   \n",
       "4    321    87     10    39   42     30      2     396    101      12     48   \n",
       "5    594   169      4    74   51     35     11    4408   1133      19    501   \n",
       "\n",
       "   CRBI  CWalks League Division  PutOuts  Assists  Errors  Salary NewLeague  \n",
       "1   414     375      N        W      632       43      10   475.0         N  \n",
       "2   266     263      A        W      880       82      14   480.0         A  \n",
       "3   838     354      N        E      200       11       3   500.0         N  \n",
       "4    46      33      N        E      805       40       4    91.5         N  \n",
       "5   336     194      A        W      282      421      25   750.0         A  "
      ]
     },
     "execution_count": 3,
     "metadata": {},
     "output_type": "execute_result"
    }
   ],
   "source": [
    "Hitters = pd.read_csv(\"data/Hitters.csv\").dropna()\n",
    "Hitters.head()"
   ]
  },
  {
   "cell_type": "code",
   "execution_count": 4,
   "metadata": {},
   "outputs": [],
   "source": [
    "columns = '1'\n",
    "for column in Hitters.columns:\n",
    "    columns = columns + '+' + column\n",
    "y,X = patsy.dmatrices('np.log(Salary) ~ {} - Salary'.format(columns), Hitters, return_type = 'dataframe')\n",
    "X.drop('Intercept',axis = 1,inplace= True)"
   ]
  },
  {
   "cell_type": "markdown",
   "metadata": {},
   "source": [
    "**(b) Create a training set consisting of the first 200 observations, and\n",
    "a test set consisting of the remaining observations.**"
   ]
  },
  {
   "cell_type": "code",
   "execution_count": 5,
   "metadata": {},
   "outputs": [],
   "source": [
    "from sklearn.model_selection import train_test_split\n",
    "train_set, test_set = train_test_split(Hitters, train_size = 200, random_state = 1)\n",
    "y_test,X_test = patsy.dmatrices('np.log(Salary) ~ {} - Salary'.format(columns), test_set, return_type = 'dataframe')\n",
    "y_train,X_train = patsy.dmatrices('np.log(Salary) ~ {} - Salary'.format(columns), train_set, return_type = 'dataframe')\n",
    "X_test.drop('Intercept',axis = 1,inplace= True)\n",
    "X_train.drop('Intercept',axis = 1,inplace= True)"
   ]
  },
  {
   "cell_type": "markdown",
   "metadata": {},
   "source": [
    "**(c) Perform boosting on the training set with 1,000 trees for a range\n",
    "of values of the shrinkage parameter λ. Produce a plot with\n",
    "different shrinkage values on the x-axis and the corresponding\n",
    "training set MSE on the y-axis.**"
   ]
  },
  {
   "cell_type": "code",
   "execution_count": 6,
   "metadata": {},
   "outputs": [],
   "source": [
    "from sklearn.ensemble import GradientBoostingRegressor\n",
    "from sklearn.metrics import mean_squared_error\n",
    "lambda_range = 10 ** np.linspace(-4,0,33)\n",
    "test_mse = []\n",
    "train_mse = []\n",
    "for learning_rate in lambda_range:\n",
    "    gb_reg = GradientBoostingRegressor(n_estimators = 1000,learning_rate=learning_rate,random_state = 1)\n",
    "    gb_reg.fit(X_train,y_train.values.flatten())\n",
    "    train_mse.append(mean_squared_error(y_train,gb_reg.predict(X_train)))\n",
    "    test_mse.append(mean_squared_error(y_test,gb_reg.predict(X_test)))"
   ]
  },
  {
   "cell_type": "code",
   "execution_count": 7,
   "metadata": {},
   "outputs": [
    {
     "data": {
      "image/png": "[encoded data removed]",
      "text/plain": [
       "<Figure size 720x432 with 1 Axes>"
      ]
     },
     "metadata": {
      "needs_background": "light"
     },
     "output_type": "display_data"
    }
   ],
   "source": [
    "plt.figure(figsize=(10,6))\n",
    "plt.plot(lambda_range,train_mse,color = 'darkgreen')\n",
    "plt.xlabel(r\"$\\lambda$\", fontsize = 16,labelpad =20)\n",
    "plt.ylabel('Train MSE', fontsize = 16,labelpad =20)\n",
    "plt.show()"
   ]
  },
  {
   "cell_type": "markdown",
   "metadata": {},
   "source": [
    "**(d) Produce a plot with different shrinkage values on the x-axis and\n",
    "the corresponding test set MSE on the y-axis.**"
   ]
  },
  {
   "cell_type": "code",
   "execution_count": 8,
   "metadata": {},
   "outputs": [
    {
     "data": {
      "image/png": "[encoded data removed]",
      "text/plain": [
       "<Figure size 720x432 with 1 Axes>"
      ]
     },
     "metadata": {
      "needs_background": "light"
     },
     "output_type": "display_data"
    }
   ],
   "source": [
    "plt.figure(figsize=(10,6))\n",
    "plt.plot(lambda_range,test_mse,color = 'darkgreen')\n",
    "plt.xlabel(r\"$\\lambda$\", fontsize = 16,labelpad =20)\n",
    "plt.ylabel('Test MSE', fontsize = 16,labelpad =20)\n",
    "plt.show()"
   ]
  },
  {
   "cell_type": "code",
   "execution_count": 9,
   "metadata": {},
   "outputs": [
    {
     "data": {
      "text/html": [
       "<div>\n",
       "<style scoped>\n",
       "    .dataframe tbody tr th:only-of-type {\n",
       "        vertical-align: middle;\n",
       "    }\n",
       "\n",
       "    .dataframe tbody tr th {\n",
       "        vertical-align: top;\n",
       "    }\n",
       "\n",
       "    .dataframe thead th {\n",
       "        text-align: right;\n",
       "    }\n",
       "</style>\n",
       "<table border=\"1\" class=\"dataframe\">\n",
       "  <thead>\n",
       "    <tr style=\"text-align: right;\">\n",
       "      <th></th>\n",
       "      <th>test_mse</th>\n",
       "    </tr>\n",
       "    <tr>\n",
       "      <th>learning_rate</th>\n",
       "      <th></th>\n",
       "    </tr>\n",
       "  </thead>\n",
       "  <tbody>\n",
       "    <tr>\n",
       "      <th>0.316228</th>\n",
       "      <td>0.211025</td>\n",
       "    </tr>\n",
       "    <tr>\n",
       "      <th>0.177828</th>\n",
       "      <td>0.218915</td>\n",
       "    </tr>\n",
       "    <tr>\n",
       "      <th>0.042170</th>\n",
       "      <td>0.221410</td>\n",
       "    </tr>\n",
       "  </tbody>\n",
       "</table>\n",
       "</div>"
      ],
      "text/plain": [
       "               test_mse\n",
       "learning_rate          \n",
       "0.316228       0.211025\n",
       "0.177828       0.218915\n",
       "0.042170       0.221410"
      ]
     },
     "execution_count": 9,
     "metadata": {},
     "output_type": "execute_result"
    }
   ],
   "source": [
    "gb_test_mse = pd.DataFrame(test_mse,index = lambda_range,columns = ['test_mse'])\n",
    "gb_test_mse.index.name = 'learning_rate'\n",
    "gb_test_mse.sort_values('test_mse').iloc[:3]"
   ]
  },
  {
   "cell_type": "code",
   "execution_count": 10,
   "metadata": {},
   "outputs": [],
   "source": [
    "gb_test_mse_min = float(gb_test_mse.min())"
   ]
  },
  {
   "cell_type": "markdown",
   "metadata": {},
   "source": [
    "**(e) Compare the test MSE of boosting to the test MSE that results\n",
    "from applying two of the regression approaches seen in\n",
    "Chapters 3 and 6.**"
   ]
  },
  {
   "cell_type": "code",
   "execution_count": 11,
   "metadata": {},
   "outputs": [
    {
     "data": {
      "text/plain": [
       "0.4526388884726705"
      ]
     },
     "execution_count": 11,
     "metadata": {},
     "output_type": "execute_result"
    }
   ],
   "source": [
    "#方法1.简单线性回归(Chapters 3)\n",
    "lin = linear_model.LinearRegression()\n",
    "lin.fit(X_train,y_train)\n",
    "lin_test_mse = mean_squared_error(y_test,lin.predict(X_test))\n",
    "lin_test_mse"
   ]
  },
  {
   "cell_type": "code",
   "execution_count": 12,
   "metadata": {},
   "outputs": [
    {
     "data": {
      "text/plain": [
       "0.46989930096239724"
      ]
     },
     "execution_count": 12,
     "metadata": {},
     "output_type": "execute_result"
    }
   ],
   "source": [
    "#方法2.最优子集法( Chapters 6)\n",
    "from sklearn.feature_selection import RFECV\n",
    "estimator = linear_model.LinearRegression()\n",
    "selector = RFECV(estimator, step=1, cv=10)\n",
    "selector = selector.fit(X_train,y_train.values.flatten())\n",
    "selector_test_mse = mean_squared_error(y_test,selector.predict(X_test))\n",
    "selector_test_mse"
   ]
  },
  {
   "cell_type": "code",
   "execution_count": 13,
   "metadata": {},
   "outputs": [
    {
     "data": {
      "text/plain": [
       "array([ 1,  1,  1,  1,  1,  1,  1,  6,  1,  1, 10,  7,  3, 11,  5,  4,  8,\n",
       "        9,  2])"
      ]
     },
     "execution_count": 13,
     "metadata": {},
     "output_type": "execute_result"
    }
   ],
   "source": [
    "selector.ranking_"
   ]
  },
  {
   "cell_type": "code",
   "execution_count": 14,
   "metadata": {},
   "outputs": [
    {
     "data": {
      "text/plain": [
       "GridSearchCV(cv=10, error_score=nan,\n",
       "             estimator=Ridge(alpha=1.0, copy_X=True, fit_intercept=True,\n",
       "                             max_iter=None, normalize=False, random_state=1,\n",
       "                             solver='auto', tol=0.001),\n",
       "             iid='deprecated', n_jobs=None,\n",
       "             param_grid=[{'alpha': array([1.00000000e+03, 8.69749003e+02, 7.56463328e+02, 6.57933225e+02,\n",
       "       5.72236766e+02, 4.97702356e+02, 4.32876128e+02, 3.76493581e+02,\n",
       "       3.27454916e...\n",
       "       1.41747416e-02, 1.23284674e-02, 1.07226722e-02, 9.32603347e-03,\n",
       "       8.11130831e-03, 7.05480231e-03, 6.13590727e-03, 5.33669923e-03,\n",
       "       4.64158883e-03, 4.03701726e-03, 3.51119173e-03, 3.05385551e-03,\n",
       "       2.65608778e-03, 2.31012970e-03, 2.00923300e-03, 1.74752840e-03,\n",
       "       1.51991108e-03, 1.32194115e-03, 1.14975700e-03, 1.00000000e-03])}],\n",
       "             pre_dispatch='2*n_jobs', refit=True, return_train_score=False,\n",
       "             scoring='neg_mean_squared_error', verbose=0)"
      ]
     },
     "execution_count": 14,
     "metadata": {},
     "output_type": "execute_result"
    }
   ],
   "source": [
    "#方法3.岭回归方法( Chapters 6)\n",
    "from sklearn.preprocessing import StandardScaler\n",
    "from sklearn.model_selection import GridSearchCV\n",
    "from sklearn.linear_model import Ridge\n",
    "std_scaler = StandardScaler(with_mean=False)\n",
    "std_scaler.fit(X_train)\n",
    "X_train_Standard = std_scaler.transform(X_train)\n",
    "alpha_log_range = np.linspace(3, -3, 100)\n",
    "param_grid = [\n",
    "{'alpha': 10 ** alpha_log_range },\n",
    "]\n",
    "ridge_reg = Ridge(random_state = 1)\n",
    "ridge_grid_search = GridSearchCV(ridge_reg, param_grid, cv = 10, scoring='neg_mean_squared_error')\n",
    "ridge_grid_search.fit(X_train_Standard ,y_train)"
   ]
  },
  {
   "cell_type": "code",
   "execution_count": 15,
   "metadata": {},
   "outputs": [
    {
     "data": {
      "image/png": "[encoded data removed]",
      "text/plain": [
       "<Figure size 432x288 with 1 Axes>"
      ]
     },
     "metadata": {
      "needs_background": "light"
     },
     "output_type": "display_data"
    }
   ],
   "source": [
    "plt.plot(alpha_log_range,-ridge_grid_search.cv_results_[\"mean_test_score\"])\n",
    "plt.xlabel(\"Log10 of alpha\", fontsize=18)\n",
    "plt.ylabel(\"mean_squared_error\", fontsize=18)\n",
    "plt.show()"
   ]
  },
  {
   "cell_type": "code",
   "execution_count": 16,
   "metadata": {},
   "outputs": [
    {
     "data": {
      "text/plain": [
       "0.47601352868127345"
      ]
     },
     "execution_count": 16,
     "metadata": {},
     "output_type": "execute_result"
    }
   ],
   "source": [
    "X_test_Standard = std_scaler.transform(X_test)\n",
    "y_predictions_ridge = ridge_grid_search.predict(X_test_Standard)\n",
    "test_mse_ridge = mean_squared_error(y_test, y_predictions_ridge)\n",
    "test_mse_ridge"
   ]
  },
  {
   "cell_type": "code",
   "execution_count": 17,
   "metadata": {},
   "outputs": [
    {
     "name": "stderr",
     "output_type": "stream",
     "text": [
      "c:\\users\\wujiaxu\\appdata\\local\\programs\\python\\python37\\lib\\site-packages\\sklearn\\linear_model\\_coordinate_descent.py:476: ConvergenceWarning: Objective did not converge. You might want to increase the number of iterations. Duality gap: 0.02141313831406677, tolerance: 0.013506389545303206\n",
      "  positive)\n",
      "c:\\users\\wujiaxu\\appdata\\local\\programs\\python\\python37\\lib\\site-packages\\sklearn\\linear_model\\_coordinate_descent.py:476: ConvergenceWarning: Objective did not converge. You might want to increase the number of iterations. Duality gap: 0.026850388135500225, tolerance: 0.014340539785231657\n",
      "  positive)\n",
      "c:\\users\\wujiaxu\\appdata\\local\\programs\\python\\python37\\lib\\site-packages\\sklearn\\linear_model\\_coordinate_descent.py:476: ConvergenceWarning: Objective did not converge. You might want to increase the number of iterations. Duality gap: 0.04173132717028949, tolerance: 0.013506389545303206\n",
      "  positive)\n",
      "c:\\users\\wujiaxu\\appdata\\local\\programs\\python\\python37\\lib\\site-packages\\sklearn\\linear_model\\_coordinate_descent.py:476: ConvergenceWarning: Objective did not converge. You might want to increase the number of iterations. Duality gap: 0.03669693663877638, tolerance: 0.014340539785231657\n",
      "  positive)\n",
      "c:\\users\\wujiaxu\\appdata\\local\\programs\\python\\python37\\lib\\site-packages\\sklearn\\linear_model\\_coordinate_descent.py:476: ConvergenceWarning: Objective did not converge. You might want to increase the number of iterations. Duality gap: 0.04884486739312166, tolerance: 0.013506389545303206\n",
      "  positive)\n",
      "c:\\users\\wujiaxu\\appdata\\local\\programs\\python\\python37\\lib\\site-packages\\sklearn\\linear_model\\_coordinate_descent.py:476: ConvergenceWarning: Objective did not converge. You might want to increase the number of iterations. Duality gap: 0.0352864148982448, tolerance: 0.014340539785231657\n",
      "  positive)\n",
      "c:\\users\\wujiaxu\\appdata\\local\\programs\\python\\python37\\lib\\site-packages\\sklearn\\linear_model\\_coordinate_descent.py:476: ConvergenceWarning: Objective did not converge. You might want to increase the number of iterations. Duality gap: 0.05366694188720089, tolerance: 0.013506389545303206\n",
      "  positive)\n",
      "c:\\users\\wujiaxu\\appdata\\local\\programs\\python\\python37\\lib\\site-packages\\sklearn\\linear_model\\_coordinate_descent.py:476: ConvergenceWarning: Objective did not converge. You might want to increase the number of iterations. Duality gap: 0.034114868156358114, tolerance: 0.014340539785231657\n",
      "  positive)\n",
      "c:\\users\\wujiaxu\\appdata\\local\\programs\\python\\python37\\lib\\site-packages\\sklearn\\linear_model\\_coordinate_descent.py:476: ConvergenceWarning: Objective did not converge. You might want to increase the number of iterations. Duality gap: 0.059302243455213954, tolerance: 0.013506389545303206\n",
      "  positive)\n"
     ]
    },
    {
     "data": {
      "text/plain": [
       "GridSearchCV(cv=10, error_score=nan,\n",
       "             estimator=Lasso(alpha=1.0, copy_X=True, fit_intercept=True,\n",
       "                             max_iter=1000, normalize=False, positive=False,\n",
       "                             precompute=False, random_state=1,\n",
       "                             selection='cyclic', tol=0.0001, warm_start=False),\n",
       "             iid='deprecated', n_jobs=None,\n",
       "             param_grid=[{'alpha': array([1.00000000e+03, 8.69749003e+02, 7.56463328e+02, 6.57933225e+02,\n",
       "       5.72236766e+02, 4...\n",
       "       1.41747416e-02, 1.23284674e-02, 1.07226722e-02, 9.32603347e-03,\n",
       "       8.11130831e-03, 7.05480231e-03, 6.13590727e-03, 5.33669923e-03,\n",
       "       4.64158883e-03, 4.03701726e-03, 3.51119173e-03, 3.05385551e-03,\n",
       "       2.65608778e-03, 2.31012970e-03, 2.00923300e-03, 1.74752840e-03,\n",
       "       1.51991108e-03, 1.32194115e-03, 1.14975700e-03, 1.00000000e-03])}],\n",
       "             pre_dispatch='2*n_jobs', refit=True, return_train_score=False,\n",
       "             scoring='neg_mean_squared_error', verbose=0)"
      ]
     },
     "execution_count": 17,
     "metadata": {},
     "output_type": "execute_result"
    }
   ],
   "source": [
    "#方法3.LASSSO回归方法( Chapters 6)\n",
    "from sklearn.linear_model import Lasso\n",
    "lasso_reg = Lasso(random_state = 1)\n",
    "lasso_grid_search = GridSearchCV(lasso_reg, param_grid, cv = 10, scoring='neg_mean_squared_error')\n",
    "lasso_grid_search.fit(X_train_Standard ,y_train)"
   ]
  },
  {
   "cell_type": "code",
   "execution_count": 18,
   "metadata": {},
   "outputs": [
    {
     "data": {
      "image/png": "[encoded data removed]",
      "text/plain": [
       "<Figure size 432x288 with 1 Axes>"
      ]
     },
     "metadata": {
      "needs_background": "light"
     },
     "output_type": "display_data"
    }
   ],
   "source": [
    "plt.plot(alpha_log_range,-lasso_grid_search.cv_results_[\"mean_test_score\"])\n",
    "plt.xlabel(\"Log10 of alpha\", fontsize=18)\n",
    "plt.ylabel(\"mean_squared_error\", fontsize=18)\n",
    "plt.show()"
   ]
  },
  {
   "cell_type": "code",
   "execution_count": 19,
   "metadata": {},
   "outputs": [
    {
     "data": {
      "text/plain": [
       "0.4806103646865291"
      ]
     },
     "execution_count": 19,
     "metadata": {},
     "output_type": "execute_result"
    }
   ],
   "source": [
    "y_predictions_lasso = lasso_grid_search.predict(X_test_Standard)\n",
    "test_mse_lasso = mean_squared_error(y_test, y_predictions_lasso)\n",
    "test_mse_lasso"
   ]
  },
  {
   "cell_type": "code",
   "execution_count": 20,
   "metadata": {},
   "outputs": [
    {
     "data": {
      "text/plain": [
       "(263, 20)"
      ]
     },
     "execution_count": 20,
     "metadata": {},
     "output_type": "execute_result"
    }
   ],
   "source": [
    "Hitters.shape"
   ]
  },
  {
   "cell_type": "code",
   "execution_count": 21,
   "metadata": {},
   "outputs": [
    {
     "data": {
      "text/plain": [
       "GridSearchCV(cv=10, error_score=nan,\n",
       "             estimator=Pipeline(memory=None,\n",
       "                                steps=[('pca',\n",
       "                                        PCA(copy=True, iterated_power='auto',\n",
       "                                            n_components=None,\n",
       "                                            random_state=None,\n",
       "                                            svd_solver='auto', tol=0.0,\n",
       "                                            whiten=False)),\n",
       "                                       ('lr',\n",
       "                                        LinearRegression(copy_X=True,\n",
       "                                                         fit_intercept=True,\n",
       "                                                         n_jobs=None,\n",
       "                                                         normalize=False))],\n",
       "                                verbose=False),\n",
       "             iid='deprecated', n_jobs=None,\n",
       "             param_grid=[{'pca__n_components': array([ 1,  2,  3,  4,  5,  6,  7,  8,  9, 10, 11, 12, 13, 14, 15, 16, 17,\n",
       "       18, 19])}],\n",
       "             pre_dispatch='2*n_jobs', refit=True, return_train_score=False,\n",
       "             scoring='neg_mean_squared_error', verbose=0)"
      ]
     },
     "execution_count": 21,
     "metadata": {},
     "output_type": "execute_result"
    }
   ],
   "source": [
    "#方法4.PCA方法( Chapters 6)\n",
    "from sklearn.decomposition import PCA\n",
    "from sklearn.pipeline import Pipeline\n",
    "pca_lr = Pipeline([\n",
    "(\"pca\", PCA()),\n",
    "(\"lr\", linear_model.LinearRegression())\n",
    "])\n",
    "param_grid = [\n",
    "{'pca__n_components': np.arange(1,20) },\n",
    "]\n",
    "pca_grid_search = GridSearchCV(pca_lr, param_grid, cv = 10, scoring='neg_mean_squared_error')\n",
    "pca_grid_search.fit(X_train_Standard ,y_train)"
   ]
  },
  {
   "cell_type": "code",
   "execution_count": 22,
   "metadata": {},
   "outputs": [
    {
     "data": {
      "image/png": "[encoded data removed]",
      "text/plain": [
       "<Figure size 432x288 with 1 Axes>"
      ]
     },
     "metadata": {
      "needs_background": "light"
     },
     "output_type": "display_data"
    }
   ],
   "source": [
    "plt.plot(np.arange(1,20),-pca_grid_search.cv_results_[\"mean_test_score\"])\n",
    "plt.xlabel(\"pca__n_components\", fontsize=18)\n",
    "plt.ylabel(\"mean_squared_error\", fontsize=18)\n",
    "plt.show()"
   ]
  },
  {
   "cell_type": "code",
   "execution_count": 23,
   "metadata": {},
   "outputs": [
    {
     "data": {
      "text/plain": [
       "0.5073891035043048"
      ]
     },
     "execution_count": 23,
     "metadata": {},
     "output_type": "execute_result"
    }
   ],
   "source": [
    "y_predictions_pca = pca_grid_search.predict(X_test_Standard)\n",
    "test_mse_pca = mean_squared_error(y_test, y_predictions_pca)\n",
    "test_mse_pca"
   ]
  },
  {
   "cell_type": "code",
   "execution_count": 24,
   "metadata": {},
   "outputs": [
    {
     "data": {
      "text/plain": [
       "GridSearchCV(cv=10, error_score=nan,\n",
       "             estimator=PLSRegression(copy=True, max_iter=500, n_components=2,\n",
       "                                     scale=True, tol=1e-06),\n",
       "             iid='deprecated', n_jobs=None,\n",
       "             param_grid=[{'n_components': array([ 1,  2,  3,  4,  5,  6,  7,  8,  9, 10, 11, 12, 13, 14, 15, 16, 17,\n",
       "       18, 19])}],\n",
       "             pre_dispatch='2*n_jobs', refit=True, return_train_score=False,\n",
       "             scoring='neg_mean_squared_error', verbose=0)"
      ]
     },
     "execution_count": 24,
     "metadata": {},
     "output_type": "execute_result"
    }
   ],
   "source": [
    "#方法5.PLS方法( Chapters 6)\n",
    "from sklearn.cross_decomposition import PLSRegression\n",
    "np.random.seed(1)\n",
    "param_grid = [\n",
    "{'n_components': np.arange(1,20) },\n",
    "]\n",
    "pls = PLSRegression()\n",
    "pls_grid_search = GridSearchCV(pls, param_grid, cv = 10, scoring='neg_mean_squared_error')\n",
    "pls_grid_search.fit(X_train_Standard ,y_train)"
   ]
  },
  {
   "cell_type": "code",
   "execution_count": 25,
   "metadata": {},
   "outputs": [
    {
     "data": {
      "image/png": "[encoded data removed]",
      "text/plain": [
       "<Figure size 432x288 with 1 Axes>"
      ]
     },
     "metadata": {
      "needs_background": "light"
     },
     "output_type": "display_data"
    }
   ],
   "source": [
    "plt.plot(np.arange(1,20),-pls_grid_search.cv_results_[\"mean_test_score\"])\n",
    "plt.xlabel(\"pls__n_components\", fontsize=18)\n",
    "plt.ylabel(\"mean_squared_error\", fontsize=18)\n",
    "plt.show()"
   ]
  },
  {
   "cell_type": "code",
   "execution_count": 26,
   "metadata": {},
   "outputs": [
    {
     "data": {
      "text/plain": [
       "0.4952824659309314"
      ]
     },
     "execution_count": 26,
     "metadata": {},
     "output_type": "execute_result"
    }
   ],
   "source": [
    "y_predictions_pls = pls_grid_search.predict(X_test_Standard)\n",
    "test_mse_pls = mean_squared_error(y_test, y_predictions_pls)\n",
    "test_mse_pls"
   ]
  },
  {
   "cell_type": "code",
   "execution_count": 27,
   "metadata": {},
   "outputs": [
    {
     "data": {
      "image/png": "[encoded data removed]",
      "text/plain": [
       "<Figure size 432x288 with 1 Axes>"
      ]
     },
     "metadata": {
      "needs_background": "light"
     },
     "output_type": "display_data"
    }
   ],
   "source": [
    "method_list = ['Boosting','OLS','Best Subset','RIDGE','LASSO','PCA','PLS']\n",
    "MSE_list = [gb_test_mse_min,lin_test_mse,selector_test_mse,test_mse_ridge,test_mse_lasso,test_mse_pca,test_mse_pls]\n",
    "plt.bar(method_list,MSE_list,color = 'red')\n",
    "plt.xlabel(\"Fit Method\", fontsize=18)\n",
    "plt.ylabel(\"Test MSE\", fontsize=18)\n",
    "plt.show()"
   ]
  },
  {
   "cell_type": "markdown",
   "metadata": {},
   "source": [
    "**(f) Which variables appear to be the most important predictors in\n",
    "the boosted model?**"
   ]
  },
  {
   "cell_type": "code",
   "execution_count": 28,
   "metadata": {},
   "outputs": [
    {
     "data": {
      "text/plain": [
       "GradientBoostingRegressor(alpha=0.9, ccp_alpha=0.0, criterion='friedman_mse',\n",
       "                          init=None, learning_rate=0.31622776601683794,\n",
       "                          loss='ls', max_depth=3, max_features=None,\n",
       "                          max_leaf_nodes=None, min_impurity_decrease=0.0,\n",
       "                          min_impurity_split=None, min_samples_leaf=1,\n",
       "                          min_samples_split=2, min_weight_fraction_leaf=0.0,\n",
       "                          n_estimators=1000, n_iter_no_change=None,\n",
       "                          presort='deprecated', random_state=1, subsample=1.0,\n",
       "                          tol=0.0001, validation_fraction=0.1, verbose=0,\n",
       "                          warm_start=False)"
      ]
     },
     "execution_count": 28,
     "metadata": {},
     "output_type": "execute_result"
    }
   ],
   "source": [
    "gb_reg = GradientBoostingRegressor(n_estimators = 1000,learning_rate=float(gb_test_mse.idxmin()),random_state = 1)\n",
    "gb_reg.fit(X_train,y_train.values.flatten())"
   ]
  },
  {
   "cell_type": "code",
   "execution_count": 29,
   "metadata": {},
   "outputs": [
    {
     "data": {
      "text/html": [
       "<div>\n",
       "<style scoped>\n",
       "    .dataframe tbody tr th:only-of-type {\n",
       "        vertical-align: middle;\n",
       "    }\n",
       "\n",
       "    .dataframe tbody tr th {\n",
       "        vertical-align: top;\n",
       "    }\n",
       "\n",
       "    .dataframe thead th {\n",
       "        text-align: right;\n",
       "    }\n",
       "</style>\n",
       "<table border=\"1\" class=\"dataframe\">\n",
       "  <thead>\n",
       "    <tr style=\"text-align: right;\">\n",
       "      <th></th>\n",
       "      <th>feature</th>\n",
       "      <th>importance</th>\n",
       "    </tr>\n",
       "  </thead>\n",
       "  <tbody>\n",
       "    <tr>\n",
       "      <th>10</th>\n",
       "      <td>CAtBat</td>\n",
       "      <td>49.505</td>\n",
       "    </tr>\n",
       "    <tr>\n",
       "      <th>11</th>\n",
       "      <td>CHits</td>\n",
       "      <td>14.654</td>\n",
       "    </tr>\n",
       "    <tr>\n",
       "      <th>3</th>\n",
       "      <td>AtBat</td>\n",
       "      <td>7.203</td>\n",
       "    </tr>\n",
       "    <tr>\n",
       "      <th>12</th>\n",
       "      <td>CHmRun</td>\n",
       "      <td>5.675</td>\n",
       "    </tr>\n",
       "    <tr>\n",
       "      <th>14</th>\n",
       "      <td>CRBI</td>\n",
       "      <td>3.982</td>\n",
       "    </tr>\n",
       "    <tr>\n",
       "      <th>9</th>\n",
       "      <td>Years</td>\n",
       "      <td>3.048</td>\n",
       "    </tr>\n",
       "    <tr>\n",
       "      <th>15</th>\n",
       "      <td>CWalks</td>\n",
       "      <td>2.990</td>\n",
       "    </tr>\n",
       "    <tr>\n",
       "      <th>16</th>\n",
       "      <td>PutOuts</td>\n",
       "      <td>2.788</td>\n",
       "    </tr>\n",
       "    <tr>\n",
       "      <th>4</th>\n",
       "      <td>Hits</td>\n",
       "      <td>1.721</td>\n",
       "    </tr>\n",
       "    <tr>\n",
       "      <th>8</th>\n",
       "      <td>Walks</td>\n",
       "      <td>1.558</td>\n",
       "    </tr>\n",
       "    <tr>\n",
       "      <th>13</th>\n",
       "      <td>CRuns</td>\n",
       "      <td>1.426</td>\n",
       "    </tr>\n",
       "    <tr>\n",
       "      <th>7</th>\n",
       "      <td>RBI</td>\n",
       "      <td>1.240</td>\n",
       "    </tr>\n",
       "    <tr>\n",
       "      <th>5</th>\n",
       "      <td>HmRun</td>\n",
       "      <td>1.224</td>\n",
       "    </tr>\n",
       "    <tr>\n",
       "      <th>17</th>\n",
       "      <td>Assists</td>\n",
       "      <td>1.159</td>\n",
       "    </tr>\n",
       "    <tr>\n",
       "      <th>18</th>\n",
       "      <td>Errors</td>\n",
       "      <td>0.786</td>\n",
       "    </tr>\n",
       "    <tr>\n",
       "      <th>6</th>\n",
       "      <td>Runs</td>\n",
       "      <td>0.570</td>\n",
       "    </tr>\n",
       "    <tr>\n",
       "      <th>2</th>\n",
       "      <td>NewLeague[T.N]</td>\n",
       "      <td>0.388</td>\n",
       "    </tr>\n",
       "    <tr>\n",
       "      <th>1</th>\n",
       "      <td>Division[T.W]</td>\n",
       "      <td>0.078</td>\n",
       "    </tr>\n",
       "    <tr>\n",
       "      <th>0</th>\n",
       "      <td>League[T.N]</td>\n",
       "      <td>0.006</td>\n",
       "    </tr>\n",
       "  </tbody>\n",
       "</table>\n",
       "</div>"
      ],
      "text/plain": [
       "           feature  importance\n",
       "10          CAtBat      49.505\n",
       "11           CHits      14.654\n",
       "3            AtBat       7.203\n",
       "12          CHmRun       5.675\n",
       "14            CRBI       3.982\n",
       "9            Years       3.048\n",
       "15          CWalks       2.990\n",
       "16         PutOuts       2.788\n",
       "4             Hits       1.721\n",
       "8            Walks       1.558\n",
       "13           CRuns       1.426\n",
       "7              RBI       1.240\n",
       "5            HmRun       1.224\n",
       "17         Assists       1.159\n",
       "18          Errors       0.786\n",
       "6             Runs       0.570\n",
       "2   NewLeague[T.N]       0.388\n",
       "1    Division[T.W]       0.078\n",
       "0      League[T.N]       0.006"
      ]
     },
     "execution_count": 29,
     "metadata": {},
     "output_type": "execute_result"
    }
   ],
   "source": [
    "feature_importance=pd.DataFrame({'feature':X_train.columns, 'importance':(gb_reg.feature_importances_ * 100).round(3)})\n",
    "feature_importance.sort_values('importance',ascending=False)"
   ]
  },
  {
   "cell_type": "markdown",
   "metadata": {},
   "source": [
    "**(g) Now apply bagging to the training set. What is the test set MSE\n",
    "for this approach?**"
   ]
  },
  {
   "cell_type": "code",
   "execution_count": 30,
   "metadata": {},
   "outputs": [
    {
     "data": {
      "text/plain": [
       "0.2504840838121538"
      ]
     },
     "execution_count": 30,
     "metadata": {},
     "output_type": "execute_result"
    }
   ],
   "source": [
    "from sklearn.ensemble import RandomForestRegressor\n",
    "bag_rf_reg = RandomForestRegressor(n_estimators=500,random_state=1,max_features = len(X_train.columns))\n",
    "bag_rf_reg.fit(X_train,y_train.values.ravel())\n",
    "test_mse_bagging = mean_squared_error(y_test,bag_rf_reg.predict(X_test))\n",
    "test_mse_bagging"
   ]
  },
  {
   "cell_type": "code",
   "execution_count": 31,
   "metadata": {},
   "outputs": [
    {
     "data": {
      "image/png": "[encoded data removed]",
      "text/plain": [
       "<Figure size 432x288 with 1 Axes>"
      ]
     },
     "metadata": {
      "needs_background": "light"
     },
     "output_type": "display_data"
    }
   ],
   "source": [
    "method_list = ['Bagging','Boosting','OLS','Best Subset','RIDGE','LASSO','PCA','PLS']\n",
    "MSE_list = [test_mse_bagging,gb_test_mse_min,lin_test_mse,selector_test_mse,test_mse_ridge,test_mse_lasso,test_mse_pca,test_mse_pls]\n",
    "plt.bar(method_list,MSE_list,color = 'red')\n",
    "plt.xlabel(\"Fit Method\", fontsize=18)\n",
    "plt.ylabel(\"Test MSE\", fontsize=18)\n",
    "plt.show()"
   ]
  },
  {
   "cell_type": "markdown",
   "metadata": {},
   "source": [
    "**Other:Compare the test MSE of boosting to the test MSE that results from applying the regression approaches seen in Chapters 7**"
   ]
  },
  {
   "cell_type": "code",
   "execution_count": 32,
   "metadata": {},
   "outputs": [
    {
     "data": {
      "text/html": [
       "<div>\n",
       "<style scoped>\n",
       "    .dataframe tbody tr th:only-of-type {\n",
       "        vertical-align: middle;\n",
       "    }\n",
       "\n",
       "    .dataframe tbody tr th {\n",
       "        vertical-align: top;\n",
       "    }\n",
       "\n",
       "    .dataframe thead th {\n",
       "        text-align: right;\n",
       "    }\n",
       "</style>\n",
       "<table border=\"1\" class=\"dataframe\">\n",
       "  <thead>\n",
       "    <tr style=\"text-align: right;\">\n",
       "      <th></th>\n",
       "      <th>League[T.N]</th>\n",
       "      <th>Division[T.W]</th>\n",
       "      <th>NewLeague[T.N]</th>\n",
       "      <th>AtBat</th>\n",
       "      <th>Hits</th>\n",
       "      <th>HmRun</th>\n",
       "      <th>Runs</th>\n",
       "      <th>RBI</th>\n",
       "      <th>Walks</th>\n",
       "      <th>Years</th>\n",
       "      <th>CAtBat</th>\n",
       "      <th>CHits</th>\n",
       "      <th>CHmRun</th>\n",
       "      <th>CRuns</th>\n",
       "      <th>CRBI</th>\n",
       "      <th>CWalks</th>\n",
       "      <th>PutOuts</th>\n",
       "      <th>Assists</th>\n",
       "      <th>Errors</th>\n",
       "    </tr>\n",
       "  </thead>\n",
       "  <tbody>\n",
       "    <tr>\n",
       "      <th>0</th>\n",
       "      <td>1</td>\n",
       "      <td>1</td>\n",
       "      <td>1</td>\n",
       "      <td>1</td>\n",
       "      <td>1</td>\n",
       "      <td>1</td>\n",
       "      <td>1</td>\n",
       "      <td>6</td>\n",
       "      <td>1</td>\n",
       "      <td>1</td>\n",
       "      <td>10</td>\n",
       "      <td>7</td>\n",
       "      <td>3</td>\n",
       "      <td>11</td>\n",
       "      <td>5</td>\n",
       "      <td>4</td>\n",
       "      <td>8</td>\n",
       "      <td>9</td>\n",
       "      <td>2</td>\n",
       "    </tr>\n",
       "  </tbody>\n",
       "</table>\n",
       "</div>"
      ],
      "text/plain": [
       "   League[T.N]  Division[T.W]  NewLeague[T.N]  AtBat  Hits  HmRun  Runs  RBI  \\\n",
       "0            1              1               1      1     1      1     1    6   \n",
       "\n",
       "   Walks  Years  CAtBat  CHits  CHmRun  CRuns  CRBI  CWalks  PutOuts  Assists  \\\n",
       "0      1      1      10      7       3     11     5       4        8        9   \n",
       "\n",
       "   Errors  \n",
       "0       2  "
      ]
     },
     "execution_count": 32,
     "metadata": {},
     "output_type": "execute_result"
    }
   ],
   "source": [
    "#先利用最优子集法数据确认哪些变量有相关\n",
    "pd.DataFrame(selector.ranking_,index = X_train.columns).T"
   ]
  },
  {
   "cell_type": "markdown",
   "metadata": {},
   "source": [
    "其中包含关系的定量变量为AtBat\tHits\tHmRun\tRuns Walks\tYears "
   ]
  },
  {
   "cell_type": "code",
   "execution_count": 33,
   "metadata": {},
   "outputs": [
    {
     "data": {
      "text/plain": [
       "GridSearchCV(cv=10, error_score=nan,\n",
       "             estimator=Pipeline(memory=None,\n",
       "                                steps=[('cpa',\n",
       "                                        CombinedPolyAll(AtBat_degree=2,\n",
       "                                                        DivisionTW_degree=1,\n",
       "                                                        Hits_degree=2,\n",
       "                                                        HmRun_degree=2,\n",
       "                                                        LeagueN_degree=1,\n",
       "                                                        NewLeagueTN_degree=1,\n",
       "                                                        Runs_degree=2,\n",
       "                                                        Walks_degree=2,\n",
       "                                                        Years_degree=2)),\n",
       "                                       ('lr',\n",
       "                                        LinearRegression(copy_X=True,\n",
       "                                                         fit_intercept=True,\n",
       "                                                         n_jobs=None,\n",
       "                                                         normalize=False))],\n",
       "                                verbose=False),\n",
       "             iid='d...\n",
       "                          'cpa__Hits_degree': array([0, 1, 2, 3]),\n",
       "                          'cpa__HmRun_degree': array([0, 1, 2, 3]),\n",
       "                          'cpa__LeagueN_degree': array([0]),\n",
       "                          'cpa__NewLeagueTN_degree': array([0]),\n",
       "                          'cpa__Runs_degree': array([0, 1, 2, 3]),\n",
       "                          'cpa__Walks_degree': array([0, 1, 2, 3]),\n",
       "                          'cpa__Years_degree': array([0, 1, 2, 3])}],\n",
       "             pre_dispatch='2*n_jobs', refit=True, return_train_score=False,\n",
       "             scoring='neg_mean_squared_error', verbose=0)"
      ]
     },
     "execution_count": 33,
     "metadata": {},
     "output_type": "execute_result"
    }
   ],
   "source": [
    "from sklearn.model_selection import GridSearchCV\n",
    "from sklearn.pipeline import Pipeline\n",
    "from sklearn.base import BaseEstimator, TransformerMixin\n",
    "from sklearn.preprocessing import PolynomialFeatures\n",
    "class CombinedPolyAll(BaseEstimator, TransformerMixin):\n",
    "    def __init__(self,AtBat_degree = 2,Hits_degree= 2,HmRun_degree= 2,Runs_degree= 2, Walks_degree= 2,Years_degree= 2,\n",
    "                 LeagueN_degree= 1,DivisionTW_degree= 1,NewLeagueTN_degree = 1): # no *args or **kargs\n",
    "        self.AtBat_degree = AtBat_degree\n",
    "        self.Hits_degree = Hits_degree\n",
    "        self.HmRun_degree = HmRun_degree\n",
    "        self.Runs_degree = Runs_degree\n",
    "        self.Walks_degree = Walks_degree\n",
    "        self.Years_degree = Years_degree\n",
    "        self.LeagueN_degree = LeagueN_degree\n",
    "        self.DivisionTW_degree = DivisionTW_degree\n",
    "        self.NewLeagueTN_degree = NewLeagueTN_degree\n",
    "    def fit(self, X, y=None):\n",
    "        return self # nothing else to do\n",
    "    def transform(self, X, y=None):\n",
    "        factor_degrees = [self.AtBat_degree,self.Hits_degree,self.HmRun_degree,self.Runs_degree,self.Walks_degree,self.Years_degree,\n",
    "                         self.LeagueN_degree,self.DivisionTW_degree,self.NewLeagueTN_degree]\n",
    "        factor_columns_num = [4,5,6,7,9,10,0,1,2]\n",
    "        for factor_num in range(len(factor_columns_num)):\n",
    "            X_factor = X[:,factor_columns_num[factor_num]].reshape(-1, 1) \n",
    "            if factor_degrees[factor_num] > 0:\n",
    "                poly_features = PolynomialFeatures(degree=factor_degrees[factor_num],include_bias=False)\n",
    "                X_poly = poly_features.fit_transform(X_factor)\n",
    "            else:\n",
    "                X_poly = np.zeros_like(X_factor)\n",
    "            if factor_num == 0:\n",
    "                X_output = X_poly\n",
    "            else:\n",
    "                X_output = np.c_[X_output,X_poly]\n",
    "        return X_output\n",
    "    \n",
    "cpa_lr = Pipeline([\n",
    "(\"cpa\", CombinedPolyAll()),\n",
    "(\"lr\", linear_model.LinearRegression())\n",
    "])\n",
    "param_grid = [\n",
    "{'cpa__AtBat_degree': np.arange(0,4),\n",
    " 'cpa__Hits_degree': np.arange(0,4),\n",
    " 'cpa__HmRun_degree': np.arange(0,4),\n",
    " 'cpa__Runs_degree': np.arange(0,4),\n",
    " 'cpa__Walks_degree': np.arange(0,4),\n",
    " 'cpa__Years_degree': np.arange(0,4),\n",
    " 'cpa__LeagueN_degree': np.arange(0,1),\n",
    " 'cpa__DivisionTW_degree': np.arange(0,1),\n",
    " 'cpa__NewLeagueTN_degree': np.arange(0,1)\n",
    "},\n",
    "]\n",
    "grid_search = GridSearchCV(cpa_lr, param_grid, cv = 10, scoring='neg_mean_squared_error')\n",
    "grid_search.fit(X_train.values ,y_train.values)"
   ]
  },
  {
   "cell_type": "code",
   "execution_count": 34,
   "metadata": {},
   "outputs": [
    {
     "data": {
      "text/plain": [
       "{'cpa__AtBat_degree': 0,\n",
       " 'cpa__DivisionTW_degree': 0,\n",
       " 'cpa__Hits_degree': 0,\n",
       " 'cpa__HmRun_degree': 0,\n",
       " 'cpa__LeagueN_degree': 0,\n",
       " 'cpa__NewLeagueTN_degree': 0,\n",
       " 'cpa__Runs_degree': 1,\n",
       " 'cpa__Walks_degree': 3,\n",
       " 'cpa__Years_degree': 2}"
      ]
     },
     "execution_count": 34,
     "metadata": {},
     "output_type": "execute_result"
    }
   ],
   "source": [
    "grid_search.best_params_"
   ]
  },
  {
   "cell_type": "code",
   "execution_count": 35,
   "metadata": {},
   "outputs": [
    {
     "data": {
      "text/plain": [
       "0.3463468684381249"
      ]
     },
     "execution_count": 35,
     "metadata": {},
     "output_type": "execute_result"
    }
   ],
   "source": [
    "test_mse_poly = mean_squared_error(y_test,grid_search.predict(X_test.values))\n",
    "test_mse_poly"
   ]
  },
  {
   "cell_type": "code",
   "execution_count": 36,
   "metadata": {},
   "outputs": [
    {
     "data": {
      "image/png": "[encoded data removed]",
      "text/plain": [
       "<Figure size 432x288 with 1 Axes>"
      ]
     },
     "metadata": {
      "needs_background": "light"
     },
     "output_type": "display_data"
    }
   ],
   "source": [
    "method_list = ['Bagging','Boosting','OLS','Best Subset','RIDGE','LASSO','PCA','PLS','POLY']\n",
    "MSE_list = [test_mse_bagging,gb_test_mse_min,lin_test_mse,selector_test_mse,test_mse_ridge,test_mse_lasso,test_mse_pca,test_mse_pls,test_mse_poly]\n",
    "plt.bar(method_list,MSE_list,color = 'red')\n",
    "plt.xlabel(\"Fit Method\", fontsize=18)\n",
    "plt.ylabel(\"Test MSE\", fontsize=18)\n",
    "plt.show()"
   ]
  },
  {
   "cell_type": "markdown",
   "metadata": {},
   "source": [
    "**可见多项式回归优于线性模型，但是比bagging和boosting还是有较大差距**"
   ]
  },
  {
   "cell_type": "code",
   "execution_count": null,
   "metadata": {},
   "outputs": [],
   "source": []
  }
 ],
 "metadata": {
  "kernelspec": {
   "display_name": "Python 3",
   "language": "python",
   "name": "python3"
  },
  "language_info": {
   "codemirror_mode": {
    "name": "ipython",
    "version": 3
   },
   "file_extension": ".py",
   "mimetype": "text/x-python",
   "name": "python",
   "nbconvert_exporter": "python",
   "pygments_lexer": "ipython3",
   "version": "3.7.3"
  }
 },
 "nbformat": 4,
 "nbformat_minor": 2
}
