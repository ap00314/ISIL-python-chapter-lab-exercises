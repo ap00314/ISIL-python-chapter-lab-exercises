{
 "cells": [
  {
   "cell_type": "code",
   "execution_count": 1,
   "metadata": {},
   "outputs": [],
   "source": [
    "# To support both python 2 and python 3\n",
    "# 让这份笔记同步支持 python 2 和 python 3\n",
    "from __future__ import division\n",
    "import pandas as pd\n",
    "import numpy as np\n",
    "import matplotlib.pyplot as plt\n",
    "import matplotlib\n",
    "%matplotlib inline"
   ]
  },
  {
   "cell_type": "markdown",
   "metadata": {},
   "source": [
    "**2. Suppose that we have four observations, for which we compute a\n",
    "dissimilarity matrix, given by\n",
    "⎡\n",
    "⎢\n",
    "⎣\n",
    "0.3 0.4 0.7\n",
    "0.3 0.5 0.8\n",
    "0.4 0.5 0.45\n",
    "0.7 0.8 0.45\n",
    "⎤\n",
    "⎥\n",
    "⎦ .\n",
    "For instance, the dissimilarity between the first and second obser-\n",
    "vations is 0.3, and the dissimilarity between the second and fourth\n",
    "observations is 0.8.\n",
    "(a) On the basis of this dissimilarity matrix, sketch the dendrogram\n",
    "that results from hierarchically clustering these four observa-\n",
    "tions using complete linkage. Be sure to indicate on the plot the\n",
    "height at which each fusion occurs, as well as the observations\n",
    "corresponding to each leaf in the dendrogram.**"
   ]
  },
  {
   "cell_type": "code",
   "execution_count": 2,
   "metadata": {},
   "outputs": [
    {
     "name": "stderr",
     "output_type": "stream",
     "text": [
      "c:\\users\\wujiaxu\\appdata\\local\\programs\\python\\python37\\lib\\site-packages\\scipy\\cluster\\hierarchy.py:408: ClusterWarning: scipy.cluster: The symmetric non-negative hollow observation matrix looks suspiciously like an uncondensed distance matrix\n",
      "  return linkage(y, method='complete', metric='euclidean')\n"
     ]
    },
    {
     "data": {
      "image/png": "[encoded data removed]",
      "text/plain": [
       "<Figure size 432x288 with 1 Axes>"
      ]
     },
     "metadata": {
      "needs_background": "light"
     },
     "output_type": "display_data"
    }
   ],
   "source": [
    "from scipy.cluster import hierarchy\n",
    "excise_np = np.array([[0,0.3,0.4,0.7],[0.3,0,0.5,0.8],[0.4,0.5,0,0.45],[0.7,0.8,0.45,0]])\n",
    "hierarchy.dendrogram(hierarchy.complete(excise_np),labels = [1,2,3,4])\n",
    "plt.show()"
   ]
  },
  {
   "cell_type": "markdown",
   "metadata": {},
   "source": [
    "**(b) Repeat (a), this time using single linkage clustering.**"
   ]
  },
  {
   "cell_type": "code",
   "execution_count": 3,
   "metadata": {},
   "outputs": [
    {
     "name": "stderr",
     "output_type": "stream",
     "text": [
      "c:\\users\\wujiaxu\\appdata\\local\\programs\\python\\python37\\lib\\site-packages\\scipy\\cluster\\hierarchy.py:326: ClusterWarning: scipy.cluster: The symmetric non-negative hollow observation matrix looks suspiciously like an uncondensed distance matrix\n",
      "  return linkage(y, method='single', metric='euclidean')\n"
     ]
    },
    {
     "data": {
      "image/png": "[encoded data removed]",
      "text/plain": [
       "<Figure size 432x288 with 1 Axes>"
      ]
     },
     "metadata": {
      "needs_background": "light"
     },
     "output_type": "display_data"
    }
   ],
   "source": [
    "hierarchy.dendrogram(hierarchy.single(excise_np),labels = [1,2,3,4])\n",
    "plt.show()"
   ]
  },
  {
   "cell_type": "markdown",
   "metadata": {},
   "source": [
    "**(c) Suppose that we cut the dendogram obtained in (a) such that\n",
    "two clusters result. Which observations are in each cluster?**"
   ]
  },
  {
   "cell_type": "markdown",
   "metadata": {},
   "source": [
    "[1,2],[3,4]"
   ]
  },
  {
   "cell_type": "markdown",
   "metadata": {},
   "source": [
    "**(d) Suppose that we cut the dendogram obtained in (b) such that\n",
    "two clusters result. Which observations are in each cluster?**"
   ]
  },
  {
   "cell_type": "markdown",
   "metadata": {},
   "source": [
    "[1,2],[3]"
   ]
  },
  {
   "cell_type": "markdown",
   "metadata": {},
   "source": [
    "**(e) It is mentioned in the chapter that at each fusion in the den-\n",
    "drogram, the position of the two clusters being fused can be\n",
    "swapped without changing the meaning of the dendrogram.Draw\n",
    "a dendrogram that is equivalent to the dendrogram in (a), for\n",
    "which two or more of the leaves are repositioned, but for which\n",
    "the meaning of the dendrogram is the same.**"
   ]
  },
  {
   "cell_type": "code",
   "execution_count": 4,
   "metadata": {},
   "outputs": [
    {
     "data": {
      "image/png": "[encoded data removed]",
      "text/plain": [
       "<Figure size 432x288 with 1 Axes>"
      ]
     },
     "metadata": {
      "needs_background": "light"
     },
     "output_type": "display_data"
    }
   ],
   "source": [
    "hierarchy.dendrogram(hierarchy.complete(excise_np),labels = [1,2,3,4], orientation='right')\n",
    "plt.show()"
   ]
  }
 ],
 "metadata": {
  "kernelspec": {
   "display_name": "Python 3",
   "language": "python",
   "name": "python3"
  },
  "language_info": {
   "codemirror_mode": {
    "name": "ipython",
    "version": 3
   },
   "file_extension": ".py",
   "mimetype": "text/x-python",
   "name": "python",
   "nbconvert_exporter": "python",
   "pygments_lexer": "ipython3",
   "version": "3.7.3"
  }
 },
 "nbformat": 4,
 "nbformat_minor": 2
}
