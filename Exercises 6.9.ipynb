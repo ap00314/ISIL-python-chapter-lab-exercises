{
 "cells": [
  {
   "cell_type": "code",
   "execution_count": 1,
   "metadata": {},
   "outputs": [],
   "source": [
    "# To support both python 2 and python 3\n",
    "# 让这份笔记同步支持 python 2 和 python 3\n",
    "from __future__ import division\n",
    "import pandas as pd\n",
    "import numpy as np\n",
    "import matplotlib.pyplot as plt\n",
    "import matplotlib\n",
    "matplotlib.rcParams['xtick.direction'] = 'in'\n",
    "matplotlib.rcParams['ytick.direction'] = 'in'\n",
    "%matplotlib inline"
   ]
  },
  {
   "cell_type": "code",
   "execution_count": 2,
   "metadata": {},
   "outputs": [],
   "source": [
    "#使用statsmodels便于统计分析数据\n",
    "import statsmodels.api as sm\n",
    "import statsmodels.formula.api as smf\n",
    "#使用sklearn便于预测（机器学习）\n",
    "from sklearn import linear_model\n",
    "#使用patsy便于生成模型\n",
    "import patsy"
   ]
  },
  {
   "cell_type": "markdown",
   "metadata": {},
   "source": [
    "**9. In this exercise, we will predict the number of applications received\n",
    "using the other variables in the College data set.\n",
    "(a) Split the data set into a training set and a test set.**"
   ]
  },
  {
   "cell_type": "code",
   "execution_count": 3,
   "metadata": {},
   "outputs": [
    {
     "data": {
      "text/html": [
       "<div>\n",
       "<style scoped>\n",
       "    .dataframe tbody tr th:only-of-type {\n",
       "        vertical-align: middle;\n",
       "    }\n",
       "\n",
       "    .dataframe tbody tr th {\n",
       "        vertical-align: top;\n",
       "    }\n",
       "\n",
       "    .dataframe thead th {\n",
       "        text-align: right;\n",
       "    }\n",
       "</style>\n",
       "<table border=\"1\" class=\"dataframe\">\n",
       "  <thead>\n",
       "    <tr style=\"text-align: right;\">\n",
       "      <th></th>\n",
       "      <th>Private</th>\n",
       "      <th>Apps</th>\n",
       "      <th>Accept</th>\n",
       "      <th>Enroll</th>\n",
       "      <th>Top10perc</th>\n",
       "      <th>Top25perc</th>\n",
       "      <th>F.Undergrad</th>\n",
       "      <th>P.Undergrad</th>\n",
       "      <th>Outstate</th>\n",
       "      <th>Room.Board</th>\n",
       "      <th>Books</th>\n",
       "      <th>Personal</th>\n",
       "      <th>PhD</th>\n",
       "      <th>Terminal</th>\n",
       "      <th>S.F.Ratio</th>\n",
       "      <th>perc.alumni</th>\n",
       "      <th>Expend</th>\n",
       "      <th>Grad.Rate</th>\n",
       "    </tr>\n",
       "    <tr>\n",
       "      <th>Unnamed: 0</th>\n",
       "      <th></th>\n",
       "      <th></th>\n",
       "      <th></th>\n",
       "      <th></th>\n",
       "      <th></th>\n",
       "      <th></th>\n",
       "      <th></th>\n",
       "      <th></th>\n",
       "      <th></th>\n",
       "      <th></th>\n",
       "      <th></th>\n",
       "      <th></th>\n",
       "      <th></th>\n",
       "      <th></th>\n",
       "      <th></th>\n",
       "      <th></th>\n",
       "      <th></th>\n",
       "      <th></th>\n",
       "    </tr>\n",
       "  </thead>\n",
       "  <tbody>\n",
       "    <tr>\n",
       "      <th>Abilene Christian University</th>\n",
       "      <td>Yes</td>\n",
       "      <td>1660</td>\n",
       "      <td>1232</td>\n",
       "      <td>721</td>\n",
       "      <td>23</td>\n",
       "      <td>52</td>\n",
       "      <td>2885</td>\n",
       "      <td>537</td>\n",
       "      <td>7440</td>\n",
       "      <td>3300</td>\n",
       "      <td>450</td>\n",
       "      <td>2200</td>\n",
       "      <td>70</td>\n",
       "      <td>78</td>\n",
       "      <td>18.1</td>\n",
       "      <td>12</td>\n",
       "      <td>7041</td>\n",
       "      <td>60</td>\n",
       "    </tr>\n",
       "    <tr>\n",
       "      <th>Adelphi University</th>\n",
       "      <td>Yes</td>\n",
       "      <td>2186</td>\n",
       "      <td>1924</td>\n",
       "      <td>512</td>\n",
       "      <td>16</td>\n",
       "      <td>29</td>\n",
       "      <td>2683</td>\n",
       "      <td>1227</td>\n",
       "      <td>12280</td>\n",
       "      <td>6450</td>\n",
       "      <td>750</td>\n",
       "      <td>1500</td>\n",
       "      <td>29</td>\n",
       "      <td>30</td>\n",
       "      <td>12.2</td>\n",
       "      <td>16</td>\n",
       "      <td>10527</td>\n",
       "      <td>56</td>\n",
       "    </tr>\n",
       "    <tr>\n",
       "      <th>Adrian College</th>\n",
       "      <td>Yes</td>\n",
       "      <td>1428</td>\n",
       "      <td>1097</td>\n",
       "      <td>336</td>\n",
       "      <td>22</td>\n",
       "      <td>50</td>\n",
       "      <td>1036</td>\n",
       "      <td>99</td>\n",
       "      <td>11250</td>\n",
       "      <td>3750</td>\n",
       "      <td>400</td>\n",
       "      <td>1165</td>\n",
       "      <td>53</td>\n",
       "      <td>66</td>\n",
       "      <td>12.9</td>\n",
       "      <td>30</td>\n",
       "      <td>8735</td>\n",
       "      <td>54</td>\n",
       "    </tr>\n",
       "    <tr>\n",
       "      <th>Agnes Scott College</th>\n",
       "      <td>Yes</td>\n",
       "      <td>417</td>\n",
       "      <td>349</td>\n",
       "      <td>137</td>\n",
       "      <td>60</td>\n",
       "      <td>89</td>\n",
       "      <td>510</td>\n",
       "      <td>63</td>\n",
       "      <td>12960</td>\n",
       "      <td>5450</td>\n",
       "      <td>450</td>\n",
       "      <td>875</td>\n",
       "      <td>92</td>\n",
       "      <td>97</td>\n",
       "      <td>7.7</td>\n",
       "      <td>37</td>\n",
       "      <td>19016</td>\n",
       "      <td>59</td>\n",
       "    </tr>\n",
       "    <tr>\n",
       "      <th>Alaska Pacific University</th>\n",
       "      <td>Yes</td>\n",
       "      <td>193</td>\n",
       "      <td>146</td>\n",
       "      <td>55</td>\n",
       "      <td>16</td>\n",
       "      <td>44</td>\n",
       "      <td>249</td>\n",
       "      <td>869</td>\n",
       "      <td>7560</td>\n",
       "      <td>4120</td>\n",
       "      <td>800</td>\n",
       "      <td>1500</td>\n",
       "      <td>76</td>\n",
       "      <td>72</td>\n",
       "      <td>11.9</td>\n",
       "      <td>2</td>\n",
       "      <td>10922</td>\n",
       "      <td>15</td>\n",
       "    </tr>\n",
       "  </tbody>\n",
       "</table>\n",
       "</div>"
      ],
      "text/plain": [
       "                             Private  Apps  Accept  Enroll  Top10perc  \\\n",
       "Unnamed: 0                                                              \n",
       "Abilene Christian University     Yes  1660    1232     721         23   \n",
       "Adelphi University               Yes  2186    1924     512         16   \n",
       "Adrian College                   Yes  1428    1097     336         22   \n",
       "Agnes Scott College              Yes   417     349     137         60   \n",
       "Alaska Pacific University        Yes   193     146      55         16   \n",
       "\n",
       "                              Top25perc  F.Undergrad  P.Undergrad  Outstate  \\\n",
       "Unnamed: 0                                                                    \n",
       "Abilene Christian University         52         2885          537      7440   \n",
       "Adelphi University                   29         2683         1227     12280   \n",
       "Adrian College                       50         1036           99     11250   \n",
       "Agnes Scott College                  89          510           63     12960   \n",
       "Alaska Pacific University            44          249          869      7560   \n",
       "\n",
       "                              Room.Board  Books  Personal  PhD  Terminal  \\\n",
       "Unnamed: 0                                                                 \n",
       "Abilene Christian University        3300    450      2200   70        78   \n",
       "Adelphi University                  6450    750      1500   29        30   \n",
       "Adrian College                      3750    400      1165   53        66   \n",
       "Agnes Scott College                 5450    450       875   92        97   \n",
       "Alaska Pacific University           4120    800      1500   76        72   \n",
       "\n",
       "                              S.F.Ratio  perc.alumni  Expend  Grad.Rate  \n",
       "Unnamed: 0                                                               \n",
       "Abilene Christian University       18.1           12    7041         60  \n",
       "Adelphi University                 12.2           16   10527         56  \n",
       "Adrian College                     12.9           30    8735         54  \n",
       "Agnes Scott College                 7.7           37   19016         59  \n",
       "Alaska Pacific University          11.9            2   10922         15  "
      ]
     },
     "execution_count": 3,
     "metadata": {},
     "output_type": "execute_result"
    }
   ],
   "source": [
    "college = pd.read_csv(\"data/College.csv\").set_index('Unnamed: 0')\n",
    "college.head()"
   ]
  },
  {
   "cell_type": "code",
   "execution_count": 4,
   "metadata": {},
   "outputs": [],
   "source": [
    "#patsy.dmatrices不支持列名含.，将其转化为_\n",
    "college_prefix = college.copy()\n",
    "for column_value in college.columns:\n",
    "    if '.' in column_value:\n",
    "        column_value_replace = column_value.replace(\".\", \"_\")\n",
    "        college_prefix.rename(columns={column_value:column_value_replace},inplace=True)\n",
    "#这里使用pd.get_dummies进行哑变量变换，主要为使用patsy.dmatrices会多出一个变量，也可以在模型中使用'1+...'\n",
    "dummies = pd.get_dummies(college_prefix['Private'], prefix='Private')\n",
    "college_prefix = college_prefix.join(dummies).drop('Private',axis=1).drop('Private_No',axis=1)"
   ]
  },
  {
   "cell_type": "code",
   "execution_count": 5,
   "metadata": {},
   "outputs": [],
   "source": [
    "columns_value = '0'\n",
    "for column_value in college_prefix.columns:\n",
    "    columns_value = columns_value + '+' + column_value\n",
    "model = 'Apps ~ {} - Apps'.format(columns_value)\n",
    "y,X = patsy.dmatrices(model, data = college_prefix, return_type=\"dataframe\")"
   ]
  },
  {
   "cell_type": "code",
   "execution_count": 6,
   "metadata": {},
   "outputs": [],
   "source": [
    "from sklearn.model_selection import train_test_split\n",
    "X_train, X_test, y_train, y_test = train_test_split(X, y, test_size=0.2, random_state=82)"
   ]
  },
  {
   "cell_type": "markdown",
   "metadata": {},
   "source": [
    "**(b) Fit a linear model using least squares on the training set, and\n",
    "report the test error obtained.**"
   ]
  },
  {
   "cell_type": "code",
   "execution_count": 7,
   "metadata": {},
   "outputs": [
    {
     "data": {
      "text/plain": [
       "LinearRegression(copy_X=True, fit_intercept=True, n_jobs=None, normalize=False)"
      ]
     },
     "execution_count": 7,
     "metadata": {},
     "output_type": "execute_result"
    }
   ],
   "source": [
    "lin = linear_model.LinearRegression()\n",
    "lin.fit(X_train,y_train)"
   ]
  },
  {
   "cell_type": "code",
   "execution_count": 8,
   "metadata": {},
   "outputs": [
    {
     "data": {
      "text/plain": [
       "1452824.8190075099"
      ]
     },
     "execution_count": 8,
     "metadata": {},
     "output_type": "execute_result"
    }
   ],
   "source": [
    "from sklearn.metrics import mean_squared_error\n",
    "y_predictions_ols = lin.predict(X_test)\n",
    "lin_mse = mean_squared_error(y_test, y_predictions_ols)\n",
    "lin_mse"
   ]
  },
  {
   "cell_type": "markdown",
   "metadata": {},
   "source": [
    "**(c) Fit a ridge regression model on the training set, with λ chosen\n",
    "by cross-validation. Report the test error obtained.**"
   ]
  },
  {
   "cell_type": "code",
   "execution_count": 9,
   "metadata": {},
   "outputs": [
    {
     "data": {
      "text/plain": [
       "GridSearchCV(cv=5, error_score=nan,\n",
       "             estimator=Ridge(alpha=1.0, copy_X=True, fit_intercept=True,\n",
       "                             max_iter=None, normalize=False, random_state=1,\n",
       "                             solver='auto', tol=0.001),\n",
       "             iid='deprecated', n_jobs=None,\n",
       "             param_grid=[{'alpha': array([1.00000000e+10, 9.54948564e+09, 9.11926760e+09, 8.70843150e+09,\n",
       "       8.31610415e+09, 7.94145172e+09, 7.58367791e+09, 7.24202233e+09,\n",
       "       6.91575883e+...\n",
       "       2.40093488e-10, 2.29276931e-10, 2.18947676e-10, 2.09083769e-10,\n",
       "       1.99664245e-10, 1.90669084e-10, 1.82079168e-10, 1.73876240e-10,\n",
       "       1.66042866e-10, 1.58562396e-10, 1.51418933e-10, 1.44597292e-10,\n",
       "       1.38082977e-10, 1.31862140e-10, 1.25921561e-10, 1.20248614e-10,\n",
       "       1.14831241e-10, 1.09657929e-10, 1.04717682e-10, 1.00000000e-10])}],\n",
       "             pre_dispatch='2*n_jobs', refit=True, return_train_score=False,\n",
       "             scoring='neg_mean_squared_error', verbose=0)"
      ]
     },
     "execution_count": 9,
     "metadata": {},
     "output_type": "execute_result"
    }
   ],
   "source": [
    "from sklearn.model_selection import GridSearchCV\n",
    "from sklearn.linear_model import Ridge\n",
    "from sklearn.linear_model import Lasso\n",
    "from sklearn.preprocessing import StandardScaler\n",
    "std_scaler = StandardScaler(with_mean=False)\n",
    "std_scaler.fit(X_train)\n",
    "X_train_Standard = std_scaler.transform(X_train)\n",
    "param_grid = [\n",
    "{'alpha': 10 ** np.linspace(10, -10, 1000) },\n",
    "]\n",
    "ridge_reg = Ridge(random_state = 1)\n",
    "grid_search = GridSearchCV(ridge_reg, param_grid, cv = 5, scoring='neg_mean_squared_error')\n",
    "grid_search.fit(X_train_Standard ,y_train)"
   ]
  },
  {
   "cell_type": "code",
   "execution_count": 10,
   "metadata": {},
   "outputs": [
    {
     "data": {
      "image/png": "[encoded data removed]",
      "text/plain": [
       "<Figure size 432x288 with 1 Axes>"
      ]
     },
     "metadata": {
      "needs_background": "light"
     },
     "output_type": "display_data"
    }
   ],
   "source": [
    "plt.plot(np.linspace(10, -10, 1000),-grid_search.cv_results_[\"mean_test_score\"])\n",
    "plt.xlabel(\"Log10 of alpha\", fontsize=18)\n",
    "plt.ylabel(\"mean_squared_error\", fontsize=18)\n",
    "plt.show()"
   ]
  },
  {
   "cell_type": "code",
   "execution_count": 11,
   "metadata": {},
   "outputs": [
    {
     "data": {
      "text/plain": [
       "{'alpha': 1e-10}"
      ]
     },
     "execution_count": 11,
     "metadata": {},
     "output_type": "execute_result"
    }
   ],
   "source": [
    "grid_search.best_params_"
   ]
  },
  {
   "cell_type": "code",
   "execution_count": 12,
   "metadata": {},
   "outputs": [
    {
     "data": {
      "text/plain": [
       "1452824.8190038241"
      ]
     },
     "execution_count": 12,
     "metadata": {},
     "output_type": "execute_result"
    }
   ],
   "source": [
    "X_test_Standard = std_scaler.transform(X_test)\n",
    "y_predictions_ridge = grid_search.predict(X_test_Standard)\n",
    "lin_mse = mean_squared_error(y_test, y_predictions_ridge)\n",
    "lin_mse"
   ]
  },
  {
   "cell_type": "markdown",
   "metadata": {},
   "source": [
    "从解题过程来看RIDGE是的最佳alpha是无限靠近0（逼近OLS），所以MSE差于OLS也是正常的"
   ]
  },
  {
   "cell_type": "markdown",
   "metadata": {},
   "source": [
    "**(d) Fit a lasso model on the training set, with λ chosen by cross-\n",
    "validation. Report the test error obtained, along with the num-\n",
    "ber of non-zero coefficient estimates.**"
   ]
  },
  {
   "cell_type": "code",
   "execution_count": 13,
   "metadata": {},
   "outputs": [
    {
     "data": {
      "text/plain": [
       "GridSearchCV(cv=5, error_score=nan,\n",
       "             estimator=Ridge(alpha=1.0, copy_X=True, fit_intercept=True,\n",
       "                             max_iter=None, normalize=False, random_state=1,\n",
       "                             solver='auto', tol=0.001),\n",
       "             iid='deprecated', n_jobs=None,\n",
       "             param_grid=[{'alpha': array([1.00000000e+10, 9.54948564e+09, 9.11926760e+09, 8.70843150e+09,\n",
       "       8.31610415e+09, 7.94145172e+09, 7.58367791e+09, 7.24202233e+09,\n",
       "       6.91575883e+...\n",
       "       2.40093488e-10, 2.29276931e-10, 2.18947676e-10, 2.09083769e-10,\n",
       "       1.99664245e-10, 1.90669084e-10, 1.82079168e-10, 1.73876240e-10,\n",
       "       1.66042866e-10, 1.58562396e-10, 1.51418933e-10, 1.44597292e-10,\n",
       "       1.38082977e-10, 1.31862140e-10, 1.25921561e-10, 1.20248614e-10,\n",
       "       1.14831241e-10, 1.09657929e-10, 1.04717682e-10, 1.00000000e-10])}],\n",
       "             pre_dispatch='2*n_jobs', refit=True, return_train_score=False,\n",
       "             scoring='neg_mean_squared_error', verbose=0)"
      ]
     },
     "execution_count": 13,
     "metadata": {},
     "output_type": "execute_result"
    }
   ],
   "source": [
    "lasso_reg = Ridge(random_state = 1)\n",
    "grid_search = GridSearchCV(lasso_reg, param_grid, cv = 5, scoring='neg_mean_squared_error')\n",
    "grid_search.fit(X_train_Standard ,y_train)"
   ]
  },
  {
   "cell_type": "code",
   "execution_count": 14,
   "metadata": {},
   "outputs": [
    {
     "data": {
      "image/png": "[encoded data removed]",
      "text/plain": [
       "<Figure size 432x288 with 1 Axes>"
      ]
     },
     "metadata": {
      "needs_background": "light"
     },
     "output_type": "display_data"
    }
   ],
   "source": [
    "plt.plot(np.linspace(10, -10, 1000),-grid_search.cv_results_[\"mean_test_score\"])\n",
    "plt.xlabel(\"Log10 of alpha\", fontsize=18)\n",
    "plt.ylabel(\"mean_squared_error\", fontsize=18)\n",
    "plt.show()"
   ]
  },
  {
   "cell_type": "code",
   "execution_count": 15,
   "metadata": {},
   "outputs": [
    {
     "data": {
      "text/plain": [
       "{'alpha': 1e-10}"
      ]
     },
     "execution_count": 15,
     "metadata": {},
     "output_type": "execute_result"
    }
   ],
   "source": [
    "grid_search.best_params_"
   ]
  },
  {
   "cell_type": "code",
   "execution_count": 16,
   "metadata": {},
   "outputs": [
    {
     "data": {
      "text/plain": [
       "1452824.8190038241"
      ]
     },
     "execution_count": 16,
     "metadata": {},
     "output_type": "execute_result"
    }
   ],
   "source": [
    "X_test_Standard = std_scaler.transform(X_test)\n",
    "y_predictions_lasso = grid_search.predict(X_test_Standard)\n",
    "lin_mse = mean_squared_error(y_test, y_predictions_lasso)\n",
    "lin_mse"
   ]
  },
  {
   "cell_type": "markdown",
   "metadata": {},
   "source": [
    "从解题过程来看LASSO是的最佳alpha是无限靠近0（逼近OLS），所以MSE差于OLS也是正常的"
   ]
  },
  {
   "cell_type": "code",
   "execution_count": 17,
   "metadata": {},
   "outputs": [],
   "source": [
    "def get_shrinkage_mod(X,y,grid,methods = 1,return_type = 1):\n",
    "    std_scaler = StandardScaler(with_mean = False)\n",
    "    std_scaler.fit(X)\n",
    "    X_Standard = std_scaler.transform(X)\n",
    "    shrinkage_mod =  []\n",
    "    idx = 1\n",
    "    shrinkage_mod_columns = [['idx','lambda','coef'],['','','Intercept']]\n",
    "    for variable in X.columns:\n",
    "        shrinkage_mod_columns[0].append('coef')\n",
    "        shrinkage_mod_columns[1].append(variable)\n",
    "    for alpha in grid:\n",
    "        if methods == 1:\n",
    "            shrinkage_reg = Ridge(alpha = alpha)\n",
    "        else:\n",
    "            shrinkage_reg = Lasso(alpha = alpha)           \n",
    "        shrinkage_reg.fit(X_Standard,y)\n",
    "        shrinkage_mod.append([])\n",
    "        shrinkage_mod[idx - 1].append(idx)\n",
    "        shrinkage_mod[idx - 1].append(alpha)\n",
    "        shrinkage_mod[idx - 1].append(shrinkage_reg.intercept_[0])\n",
    "        #return_type为1返回Standardized Coefficients，否则反馈原模型的Coefficients\n",
    "        if return_type == 1:\n",
    "            if methods == 1:\n",
    "                shrinkage_mod[idx - 1].extend(shrinkage_reg.coef_[0])\n",
    "            else:\n",
    "                shrinkage_mod[idx - 1].extend(shrinkage_reg.coef_)\n",
    "        else:\n",
    "            if methods == 1:\n",
    "                shrinkage_mod[idx - 1].extend(std_scaler.transform(shrinkage_reg.coef_[0].reshape(1,-1))[0].tolist())\n",
    "            else:\n",
    "                shrinkage_mod[idx - 1].extend(std_scaler.transform(shrinkage_reg.coef_.reshape(1,-1))[0].tolist())\n",
    "        idx += 1\n",
    "    return  pd.DataFrame(np.array(shrinkage_mod),columns = shrinkage_mod_columns).set_index('idx')"
   ]
  },
  {
   "cell_type": "code",
   "execution_count": 18,
   "metadata": {},
   "outputs": [],
   "source": [
    "lasso_mod = get_shrinkage_mod(X_train,y_train,[grid_search.best_params_['alpha']],methods = 2,return_type = 2)"
   ]
  },
  {
   "cell_type": "code",
   "execution_count": 19,
   "metadata": {},
   "outputs": [
    {
     "data": {
      "text/plain": [
       "Intercept     -930.268501\n",
       "Accept           1.674752\n",
       "Enroll          -1.419212\n",
       "Top10perc       58.722145\n",
       "Top25perc      -21.045089\n",
       "F_Undergrad      0.122187\n",
       "P_Undergrad      0.044616\n",
       "Outstate        -0.105442\n",
       "Room_Board       0.180751\n",
       "Books           -0.077827\n",
       "Personal         0.121473\n",
       "PhD             -8.721830\n",
       "Terminal        -1.504576\n",
       "S_F_Ratio       26.681287\n",
       "perc_alumni      2.988734\n",
       "Expend           0.094001\n",
       "Grad_Rate        9.767963\n",
       "Private_Yes   -389.819181\n",
       "Name: 1.0, dtype: float64"
      ]
     },
     "execution_count": 19,
     "metadata": {},
     "output_type": "execute_result"
    }
   ],
   "source": [
    "lasso_mod['coef'].iloc[0][lasso_mod['coef'].iloc[0] != 0]"
   ]
  },
  {
   "cell_type": "code",
   "execution_count": 20,
   "metadata": {},
   "outputs": [
    {
     "data": {
      "text/plain": [
       "18"
      ]
     },
     "execution_count": 20,
     "metadata": {},
     "output_type": "execute_result"
    }
   ],
   "source": [
    "len(lasso_mod['coef'].iloc[0][lasso_mod['coef'].iloc[0] != 0])"
   ]
  },
  {
   "cell_type": "markdown",
   "metadata": {},
   "source": [
    "**(e) Fit a PCR model on the training set, with M chosen by cross-\n",
    "validation. Report the test error obtained, along with the value\n",
    "of M selected by cross-validation.**"
   ]
  },
  {
   "cell_type": "code",
   "execution_count": 21,
   "metadata": {},
   "outputs": [
    {
     "data": {
      "text/plain": [
       "GridSearchCV(cv=10, error_score=nan,\n",
       "             estimator=Pipeline(memory=None,\n",
       "                                steps=[('pca',\n",
       "                                        PCA(copy=True, iterated_power='auto',\n",
       "                                            n_components=None,\n",
       "                                            random_state=None,\n",
       "                                            svd_solver='auto', tol=0.0,\n",
       "                                            whiten=False)),\n",
       "                                       ('lr',\n",
       "                                        LinearRegression(copy_X=True,\n",
       "                                                         fit_intercept=True,\n",
       "                                                         n_jobs=None,\n",
       "                                                         normalize=False))],\n",
       "                                verbose=False),\n",
       "             iid='deprecated', n_jobs=None,\n",
       "             param_grid=[{'pca__n_components': array([ 1,  2,  3,  4,  5,  6,  7,  8,  9, 10, 11, 12, 13, 14, 15, 16, 17])}],\n",
       "             pre_dispatch='2*n_jobs', refit=True, return_train_score=False,\n",
       "             scoring='neg_mean_squared_error', verbose=0)"
      ]
     },
     "execution_count": 21,
     "metadata": {},
     "output_type": "execute_result"
    }
   ],
   "source": [
    "from sklearn.decomposition import PCA\n",
    "from sklearn.pipeline import Pipeline\n",
    "pca_lr = Pipeline([\n",
    "(\"pca\", PCA()),\n",
    "(\"lr\", linear_model.LinearRegression())\n",
    "])\n",
    "param_grid = [\n",
    "{'pca__n_components': np.arange(1,18) },\n",
    "]\n",
    "grid_search = GridSearchCV(pca_lr, param_grid, cv = 10, scoring='neg_mean_squared_error')\n",
    "grid_search.fit(X_train_Standard ,y_train)"
   ]
  },
  {
   "cell_type": "code",
   "execution_count": 22,
   "metadata": {},
   "outputs": [
    {
     "data": {
      "image/png": "[encoded data removed]",
      "text/plain": [
       "<Figure size 432x288 with 1 Axes>"
      ]
     },
     "metadata": {
      "needs_background": "light"
     },
     "output_type": "display_data"
    }
   ],
   "source": [
    "plt.plot(np.arange(1,18),-grid_search.cv_results_[\"mean_test_score\"])\n",
    "plt.xlabel(\"pca__n_components\", fontsize=18)\n",
    "plt.ylabel(\"mean_squared_error\", fontsize=18)\n",
    "plt.show()"
   ]
  },
  {
   "cell_type": "code",
   "execution_count": 23,
   "metadata": {},
   "outputs": [
    {
     "data": {
      "text/plain": [
       "{'pca__n_components': 17}"
      ]
     },
     "execution_count": 23,
     "metadata": {},
     "output_type": "execute_result"
    }
   ],
   "source": [
    "grid_search.best_params_"
   ]
  },
  {
   "cell_type": "code",
   "execution_count": 24,
   "metadata": {},
   "outputs": [
    {
     "data": {
      "text/plain": [
       "1452824.8190075345"
      ]
     },
     "execution_count": 24,
     "metadata": {},
     "output_type": "execute_result"
    }
   ],
   "source": [
    "y_predictions_pca = grid_search.predict(X_test_Standard)\n",
    "lin_mse = mean_squared_error(y_test, y_predictions_pca)\n",
    "lin_mse"
   ]
  },
  {
   "cell_type": "markdown",
   "metadata": {},
   "source": [
    "n=17时相当于OLS"
   ]
  },
  {
   "cell_type": "markdown",
   "metadata": {},
   "source": [
    "**(f) Fit a PLS model on the training set, with M chosen by cross-\n",
    "validation. Report the test error obtained, along with the value\n",
    "of M selected by cross-validation.**"
   ]
  },
  {
   "cell_type": "code",
   "execution_count": 25,
   "metadata": {},
   "outputs": [
    {
     "data": {
      "text/plain": [
       "GridSearchCV(cv=10, error_score=nan,\n",
       "             estimator=PLSRegression(copy=True, max_iter=500, n_components=2,\n",
       "                                     scale=True, tol=1e-06),\n",
       "             iid='deprecated', n_jobs=None,\n",
       "             param_grid=[{'n_components': array([ 1,  2,  3,  4,  5,  6,  7,  8,  9, 10, 11, 12, 13, 14, 15, 16, 17])}],\n",
       "             pre_dispatch='2*n_jobs', refit=True, return_train_score=False,\n",
       "             scoring='neg_mean_squared_error', verbose=0)"
      ]
     },
     "execution_count": 25,
     "metadata": {},
     "output_type": "execute_result"
    }
   ],
   "source": [
    "from sklearn.cross_decomposition import PLSRegression\n",
    "np.random.seed(1)\n",
    "param_grid = [\n",
    "{'n_components': np.arange(1,18) },\n",
    "]\n",
    "pls = PLSRegression()\n",
    "grid_search = GridSearchCV(pls, param_grid, cv = 10, scoring='neg_mean_squared_error')\n",
    "grid_search.fit(X_train_Standard ,y_train)"
   ]
  },
  {
   "cell_type": "code",
   "execution_count": 26,
   "metadata": {},
   "outputs": [
    {
     "data": {
      "image/png": "[encoded data removed]",
      "text/plain": [
       "<Figure size 432x288 with 1 Axes>"
      ]
     },
     "metadata": {
      "needs_background": "light"
     },
     "output_type": "display_data"
    }
   ],
   "source": [
    "plt.plot(np.arange(1,18),-grid_search.cv_results_[\"mean_test_score\"])\n",
    "plt.xlabel(\"pls__n_components\", fontsize=18)\n",
    "plt.ylabel(\"mean_squared_error\", fontsize=18)\n",
    "plt.show()"
   ]
  },
  {
   "cell_type": "code",
   "execution_count": 27,
   "metadata": {},
   "outputs": [
    {
     "data": {
      "text/plain": [
       "{'n_components': 13}"
      ]
     },
     "execution_count": 27,
     "metadata": {},
     "output_type": "execute_result"
    }
   ],
   "source": [
    "grid_search.best_params_"
   ]
  },
  {
   "cell_type": "code",
   "execution_count": 28,
   "metadata": {},
   "outputs": [
    {
     "data": {
      "text/plain": [
       "1446638.622866624"
      ]
     },
     "execution_count": 28,
     "metadata": {},
     "output_type": "execute_result"
    }
   ],
   "source": [
    "y_predictions_pls = grid_search.predict(X_test_Standard)\n",
    "lin_mse = mean_squared_error(y_test, y_predictions_pls)\n",
    "lin_mse"
   ]
  },
  {
   "cell_type": "markdown",
   "metadata": {},
   "source": [
    "**(g) Comment on the results obtained. How accurately can we pre-\n",
    "dict the number of college applications received? Is there much\n",
    "difference among the test errors resulting from these five ap-\n",
    "proaches?**"
   ]
  },
  {
   "cell_type": "code",
   "execution_count": 29,
   "metadata": {},
   "outputs": [],
   "source": [
    "from sklearn.metrics import r2_score\n",
    "r2_ols = r2_score(y_test, y_predictions_ols)\n",
    "r2_ridge = r2_score(y_test, y_predictions_ridge)\n",
    "r2_lasso = r2_score(y_test, y_predictions_lasso)\n",
    "r2_pca = r2_score(y_test, y_predictions_pca)\n",
    "r2_pls = r2_score(y_test, y_predictions_pls)"
   ]
  },
  {
   "cell_type": "code",
   "execution_count": 30,
   "metadata": {},
   "outputs": [
    {
     "data": {
      "image/png": "[encoded data removed]",
      "text/plain": [
       "<Figure size 432x288 with 1 Axes>"
      ]
     },
     "metadata": {
      "needs_background": "light"
     },
     "output_type": "display_data"
    }
   ],
   "source": [
    "method_list = ['OLS','RIDGE','LASSO','PCA','PLS']\n",
    "R2_list = [r2_ols,r2_ridge,r2_lasso,r2_pca,r2_pls]\n",
    "plt.bar(method_list,R2_list,color = 'red')\n",
    "plt.ylim(0.87,0.877)\n",
    "plt.xlabel(\"Fit Method\", fontsize=18)\n",
    "plt.ylabel(\"Test R-squared\", fontsize=18)\n",
    "plt.show()"
   ]
  },
  {
   "cell_type": "markdown",
   "metadata": {},
   "source": [
    "PLS略微好于其他方案"
   ]
  },
  {
   "cell_type": "code",
   "execution_count": null,
   "metadata": {},
   "outputs": [],
   "source": []
  }
 ],
 "metadata": {
  "kernelspec": {
   "display_name": "Python 3",
   "language": "python",
   "name": "python3"
  },
  "language_info": {
   "codemirror_mode": {
    "name": "ipython",
    "version": 3
   },
   "file_extension": ".py",
   "mimetype": "text/x-python",
   "name": "python",
   "nbconvert_exporter": "python",
   "pygments_lexer": "ipython3",
   "version": "3.7.3"
  }
 },
 "nbformat": 4,
 "nbformat_minor": 2
}
