{
 "cells": [
  {
   "cell_type": "code",
   "execution_count": 1,
   "metadata": {},
   "outputs": [],
   "source": [
    "# To support both python 2 and python 3\n",
    "# 让这份笔记同步支持 python 2 和 python 3\n",
    "from __future__ import division\n",
    "import pandas as pd\n",
    "import numpy as np\n",
    "import matplotlib.pyplot as plt\n",
    "import matplotlib\n",
    "%matplotlib inline"
   ]
  },
  {
   "cell_type": "markdown",
   "metadata": {},
   "source": [
    "**6. A researcher collects expression measurements for 1,000 genes in 100\n",
    "tissue samples. The data can be written as a 1,000 × 100 matrix....................\n",
    "(c) Design and run a small simulation experiment to demonstrate\n",
    "the superiority of your idea.**"
   ]
  },
  {
   "cell_type": "markdown",
   "metadata": {},
   "source": [
    "**a)首先模拟一个T样本和C样本除去两台机器影响无差异的数据**"
   ]
  },
  {
   "cell_type": "code",
   "execution_count": 2,
   "metadata": {},
   "outputs": [],
   "source": [
    "np.random.seed(2012)\n",
    "X = np.random.normal(0,1,(100,1000)) "
   ]
  },
  {
   "cell_type": "code",
   "execution_count": 3,
   "metadata": {},
   "outputs": [
    {
     "data": {
      "text/plain": [
       "56"
      ]
     },
     "execution_count": 3,
     "metadata": {},
     "output_type": "execute_result"
    }
   ],
   "source": [
    "from sklearn.model_selection import train_test_split\n",
    "from scipy import stats\n",
    "X_C, X_T = train_test_split(X, test_size=0.5, random_state=2012)\n",
    "t_result = stats.ttest_rel(X_C, X_T)\n",
    "(t_result.pvalue < 0.05).sum()"
   ]
  },
  {
   "cell_type": "markdown",
   "metadata": {},
   "source": [
    "**原始模拟数据1000个基因中存在56个拒绝原假设，认为rvs1 与 rvs2 所代表的总均值不相等**"
   ]
  },
  {
   "cell_type": "code",
   "execution_count": 4,
   "metadata": {},
   "outputs": [],
   "source": [
    "#引入时间性的机器影响\n",
    "for i in range(100):\n",
    "    X[i] = X[i] + 0.011 * i"
   ]
  },
  {
   "cell_type": "code",
   "execution_count": 5,
   "metadata": {},
   "outputs": [
    {
     "data": {
      "text/plain": [
       "0.09996053882855029"
      ]
     },
     "execution_count": 5,
     "metadata": {},
     "output_type": "execute_result"
    }
   ],
   "source": [
    "from sklearn.decomposition import PCA\n",
    "from sklearn.preprocessing import scale\n",
    "X_Standard = scale(X)\n",
    "pca = PCA()\n",
    "pca.fit(X_Standard)\n",
    "pca.explained_variance_ratio_[0]"
   ]
  },
  {
   "cell_type": "code",
   "execution_count": 6,
   "metadata": {},
   "outputs": [
    {
     "data": {
      "image/png": "[encoded data removed]",
      "text/plain": [
       "<Figure size 432x288 with 1 Axes>"
      ]
     },
     "metadata": {
      "needs_background": "light"
     },
     "output_type": "display_data"
    }
   ],
   "source": [
    "#第一主成分的线性\n",
    "plt.plot(pca.transform(X_Standard)[:,0])\n",
    "plt.show()"
   ]
  },
  {
   "cell_type": "markdown",
   "metadata": {},
   "source": [
    "**方案一：直接将数据进行T校验比较**"
   ]
  },
  {
   "cell_type": "code",
   "execution_count": 7,
   "metadata": {},
   "outputs": [
    {
     "data": {
      "text/plain": [
       "51"
      ]
     },
     "execution_count": 7,
     "metadata": {},
     "output_type": "execute_result"
    }
   ],
   "source": [
    "X_C, X_T = train_test_split(X_Standard, test_size=0.5, random_state=2012)\n",
    "t_result = stats.ttest_rel(X_C, X_T)\n",
    "(t_result.pvalue < 0.05).sum()"
   ]
  },
  {
   "cell_type": "markdown",
   "metadata": {},
   "source": [
    "1000个基因中存在51个拒绝原假设，认为rvs1 与 rvs2 所代表的总均值不相等"
   ]
  },
  {
   "cell_type": "markdown",
   "metadata": {},
   "source": [
    "**方案二：将数据去除第一主成分后进行T校验比较**"
   ]
  },
  {
   "cell_type": "code",
   "execution_count": 8,
   "metadata": {},
   "outputs": [
    {
     "data": {
      "text/plain": [
       "52"
      ]
     },
     "execution_count": 8,
     "metadata": {},
     "output_type": "execute_result"
    }
   ],
   "source": [
    "X_del1 = X_Standard - pca.transform(X_Standard)[:,0].reshape(100,1).dot(pca.components_[0].reshape(1,1000))\n",
    "X_C, X_T = train_test_split(X_del1, test_size=0.5, random_state=2012)\n",
    "t_result = stats.ttest_rel(X_C, X_T)\n",
    "(t_result.pvalue < 0.05).sum()"
   ]
  },
  {
   "cell_type": "markdown",
   "metadata": {},
   "source": [
    "1000个基因中存在52个拒绝原假设，认为rvs1 与 rvs2 所代表的总均值不相等,无明显变化"
   ]
  },
  {
   "cell_type": "markdown",
   "metadata": {},
   "source": [
    "**方案三：数据取去除第一主成分后的90%有效成分进行T校验比较**"
   ]
  },
  {
   "cell_type": "code",
   "execution_count": 9,
   "metadata": {},
   "outputs": [
    {
     "data": {
      "text/plain": [
       "80"
      ]
     },
     "execution_count": 9,
     "metadata": {},
     "output_type": "execute_result"
    }
   ],
   "source": [
    "(pca.explained_variance_ratio_.cumsum() < 0.9).sum()"
   ]
  },
  {
   "cell_type": "code",
   "execution_count": 10,
   "metadata": {},
   "outputs": [
    {
     "data": {
      "text/plain": [
       "52"
      ]
     },
     "execution_count": 10,
     "metadata": {},
     "output_type": "execute_result"
    }
   ],
   "source": [
    "#取2-80个主成分\n",
    "X_del2= pca.transform(X_Standard)[:,1:80].reshape(100,79).dot(pca.components_[1:80].reshape(79,1000))\n",
    "X_C, X_T = train_test_split(X_del2, test_size=0.5, random_state=2012)\n",
    "t_result = stats.ttest_rel(X_C, X_T)\n",
    "(t_result.pvalue < 0.05).sum()"
   ]
  },
  {
   "cell_type": "markdown",
   "metadata": {},
   "source": [
    "1000个基因中存在52个拒绝原假设，认为rvs1 与 rvs2 所代表的总均值不相等,无明显变化"
   ]
  },
  {
   "cell_type": "markdown",
   "metadata": {},
   "source": [
    "**b)再次模拟一个T样本和C样本除去两台机器影响外，存在较大差异的数据**"
   ]
  },
  {
   "cell_type": "code",
   "execution_count": 11,
   "metadata": {},
   "outputs": [],
   "source": [
    "np.random.seed(2012)\n",
    "X1 = np.random.normal(0,1,(50,1000)) ** 2\n",
    "X2 = np.random.normal(0,1,(50,1000)) ** 3"
   ]
  },
  {
   "cell_type": "code",
   "execution_count": 12,
   "metadata": {},
   "outputs": [
    {
     "data": {
      "text/plain": [
       "495"
      ]
     },
     "execution_count": 12,
     "metadata": {},
     "output_type": "execute_result"
    }
   ],
   "source": [
    "t_result = stats.ttest_rel(X1, X2)\n",
    "(t_result.pvalue < 0.05).sum()"
   ]
  },
  {
   "cell_type": "markdown",
   "metadata": {},
   "source": [
    "**原始模拟数据1000个基因中存在495个拒绝原假设，认为rvs1 与 rvs2 所代表的总均值不相等**"
   ]
  },
  {
   "cell_type": "code",
   "execution_count": 13,
   "metadata": {},
   "outputs": [],
   "source": [
    "#随机化引入时间性的机器影响\n",
    "X = np.r_[X1,X2]\n",
    "sampler = np.random.permutation(100)\n",
    "X_sampler = X[sampler]\n",
    "for i in range(100):\n",
    "    X_sampler[i] = X_sampler[i] + 0.023*i"
   ]
  },
  {
   "cell_type": "code",
   "execution_count": 14,
   "metadata": {},
   "outputs": [
    {
     "data": {
      "text/plain": [
       "0.10111360716963327"
      ]
     },
     "execution_count": 14,
     "metadata": {},
     "output_type": "execute_result"
    }
   ],
   "source": [
    "X_Standard = scale(X_sampler)\n",
    "pca = PCA()\n",
    "pca.fit(X_Standard)\n",
    "pca.explained_variance_ratio_[0]"
   ]
  },
  {
   "cell_type": "code",
   "execution_count": 15,
   "metadata": {},
   "outputs": [
    {
     "data": {
      "image/png": "[encoded data removed]",
      "text/plain": [
       "<Figure size 432x288 with 1 Axes>"
      ]
     },
     "metadata": {
      "needs_background": "light"
     },
     "output_type": "display_data"
    }
   ],
   "source": [
    "#第一主成分的线性\n",
    "plt.plot(pca.transform(X_Standard)[:,0])\n",
    "plt.show()"
   ]
  },
  {
   "cell_type": "markdown",
   "metadata": {},
   "source": [
    "**方案一：直接将数据进行T校验比较**"
   ]
  },
  {
   "cell_type": "code",
   "execution_count": 16,
   "metadata": {},
   "outputs": [],
   "source": [
    "ind = sampler * 1000\n",
    "for i in range(1,1000):\n",
    "    ind = np.c_[ind , sampler * 1000 + i]"
   ]
  },
  {
   "cell_type": "code",
   "execution_count": 17,
   "metadata": {},
   "outputs": [
    {
     "data": {
      "text/plain": [
       "365"
      ]
     },
     "execution_count": 17,
     "metadata": {},
     "output_type": "execute_result"
    }
   ],
   "source": [
    "X_orgin = X_Standard.copy()\n",
    "X_orgin.put(ind,X_Standard)\n",
    "X_C, X_T =X_orgin[:50], X_orgin[50:]\n",
    "t_result = stats.ttest_rel(X_C, X_T)\n",
    "#t_result = stats.ttest_ind(X_C, X_T)\n",
    "(t_result.pvalue < 0.05).sum()"
   ]
  },
  {
   "cell_type": "markdown",
   "metadata": {},
   "source": [
    "1000个基因中存在602个拒绝原假设，认为rvs1 与 rvs2 所代表的总均值不相等"
   ]
  },
  {
   "cell_type": "markdown",
   "metadata": {},
   "source": [
    "**方案二：将数据去除第一主成分后进行T校验比较**"
   ]
  },
  {
   "cell_type": "code",
   "execution_count": 18,
   "metadata": {},
   "outputs": [
    {
     "data": {
      "text/plain": [
       "12"
      ]
     },
     "execution_count": 18,
     "metadata": {},
     "output_type": "execute_result"
    }
   ],
   "source": [
    "#X_del1 = X_Standard - pca.transform(X_Standard)[:,0].reshape(100,1).dot(pca.components_[0].reshape(1,1000))\n",
    "X_del1.put(ind,X_Standard - pca.transform(X_Standard)[:,0].reshape(100,1).dot(pca.components_[0].reshape(1,1000)))\n",
    "X_C, X_T = X_del1[:50], X_del1[50:]\n",
    "t_result = stats.ttest_rel(X_C, X_T)\n",
    "#t_result = stats.ttest_ind(X_C, X_T)\n",
    "(t_result.pvalue < 0.05).sum()"
   ]
  },
  {
   "cell_type": "markdown",
   "metadata": {},
   "source": [
    "**方案三：数据取去除第一主成分后的90%有效成分进行T校验比较**"
   ]
  },
  {
   "cell_type": "code",
   "execution_count": 19,
   "metadata": {},
   "outputs": [
    {
     "data": {
      "text/plain": [
       "59"
      ]
     },
     "execution_count": 19,
     "metadata": {},
     "output_type": "execute_result"
    }
   ],
   "source": [
    "(pca.explained_variance_ratio_.cumsum() < 0.9).sum()"
   ]
  },
  {
   "cell_type": "code",
   "execution_count": 20,
   "metadata": {},
   "outputs": [
    {
     "data": {
      "text/plain": [
       "27"
      ]
     },
     "execution_count": 20,
     "metadata": {},
     "output_type": "execute_result"
    }
   ],
   "source": [
    "#X_del2 = pca.transform(X_Standard)[:,1:59].reshape(100,58).dot(pca.components_[1:59].reshape(58,1000))\n",
    "X_del2.put(ind,pca.transform(X_Standard)[:,1:59].reshape(100,58).dot(pca.components_[1:59].reshape(58,1000)))\n",
    "X_C, X_T = X_del2[:50], X_del2[50:]\n",
    "t_result = stats.ttest_rel(X_C, X_T)\n",
    "#t_result = stats.ttest_ind(X_C, X_T)\n",
    "(t_result.pvalue < 0.05).sum()"
   ]
  },
  {
   "cell_type": "markdown",
   "metadata": {},
   "source": [
    "**综上实验可以看出，保留第一主成分情况下，反而最接近原始数据结果**"
   ]
  },
  {
   "cell_type": "code",
   "execution_count": null,
   "metadata": {},
   "outputs": [],
   "source": []
  }
 ],
 "metadata": {
  "kernelspec": {
   "display_name": "Python 3",
   "language": "python",
   "name": "python3"
  },
  "language_info": {
   "codemirror_mode": {
    "name": "ipython",
    "version": 3
   },
   "file_extension": ".py",
   "mimetype": "text/x-python",
   "name": "python",
   "nbconvert_exporter": "python",
   "pygments_lexer": "ipython3",
   "version": "3.7.3"
  }
 },
 "nbformat": 4,
 "nbformat_minor": 2
}
