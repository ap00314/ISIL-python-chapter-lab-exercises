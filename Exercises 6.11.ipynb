{
 "cells": [
  {
   "cell_type": "code",
   "execution_count": 1,
   "metadata": {},
   "outputs": [],
   "source": [
    "# To support both python 2 and python 3\n",
    "# 让这份笔记同步支持 python 2 和 python 3\n",
    "from __future__ import division\n",
    "import pandas as pd\n",
    "import numpy as np\n",
    "import matplotlib.pyplot as plt\n",
    "import matplotlib\n",
    "%matplotlib inline"
   ]
  },
  {
   "cell_type": "code",
   "execution_count": 2,
   "metadata": {},
   "outputs": [],
   "source": [
    "#使用statsmodels便于统计分析数据\n",
    "import statsmodels.api as sm\n",
    "import statsmodels.formula.api as smf\n",
    "#使用sklearn便于预测（机器学习）\n",
    "from sklearn import linear_model\n",
    "#使用patsy便于生成模型\n",
    "import patsy"
   ]
  },
  {
   "cell_type": "markdown",
   "metadata": {},
   "source": [
    "**11. We will now try to predict per capita crime rate in the Boston data\n",
    "set.\n",
    "(a) Try out some of the regression methods explored in this chapter,\n",
    "such as best subset selection, the lasso, ridge regression, and\n",
    "PCR. Present and discuss results for the approaches that you\n",
    "consider.**"
   ]
  },
  {
   "cell_type": "code",
   "execution_count": 3,
   "metadata": {},
   "outputs": [
    {
     "data": {
      "text/html": [
       "<div>\n",
       "<style scoped>\n",
       "    .dataframe tbody tr th:only-of-type {\n",
       "        vertical-align: middle;\n",
       "    }\n",
       "\n",
       "    .dataframe tbody tr th {\n",
       "        vertical-align: top;\n",
       "    }\n",
       "\n",
       "    .dataframe thead th {\n",
       "        text-align: right;\n",
       "    }\n",
       "</style>\n",
       "<table border=\"1\" class=\"dataframe\">\n",
       "  <thead>\n",
       "    <tr style=\"text-align: right;\">\n",
       "      <th></th>\n",
       "      <th>crim</th>\n",
       "      <th>zn</th>\n",
       "      <th>indus</th>\n",
       "      <th>chas</th>\n",
       "      <th>nox</th>\n",
       "      <th>rm</th>\n",
       "      <th>age</th>\n",
       "      <th>dis</th>\n",
       "      <th>rad</th>\n",
       "      <th>tax</th>\n",
       "      <th>ptratio</th>\n",
       "      <th>black</th>\n",
       "      <th>lstat</th>\n",
       "      <th>medv</th>\n",
       "    </tr>\n",
       "  </thead>\n",
       "  <tbody>\n",
       "    <tr>\n",
       "      <th>0</th>\n",
       "      <td>0.00632</td>\n",
       "      <td>18.0</td>\n",
       "      <td>2.31</td>\n",
       "      <td>0</td>\n",
       "      <td>0.538</td>\n",
       "      <td>6.575</td>\n",
       "      <td>65.2</td>\n",
       "      <td>4.0900</td>\n",
       "      <td>1</td>\n",
       "      <td>296.0</td>\n",
       "      <td>15.3</td>\n",
       "      <td>396.90</td>\n",
       "      <td>4.98</td>\n",
       "      <td>24.0</td>\n",
       "    </tr>\n",
       "    <tr>\n",
       "      <th>1</th>\n",
       "      <td>0.02731</td>\n",
       "      <td>0.0</td>\n",
       "      <td>7.07</td>\n",
       "      <td>0</td>\n",
       "      <td>0.469</td>\n",
       "      <td>6.421</td>\n",
       "      <td>78.9</td>\n",
       "      <td>4.9671</td>\n",
       "      <td>2</td>\n",
       "      <td>242.0</td>\n",
       "      <td>17.8</td>\n",
       "      <td>396.90</td>\n",
       "      <td>9.14</td>\n",
       "      <td>21.6</td>\n",
       "    </tr>\n",
       "    <tr>\n",
       "      <th>2</th>\n",
       "      <td>0.02729</td>\n",
       "      <td>0.0</td>\n",
       "      <td>7.07</td>\n",
       "      <td>0</td>\n",
       "      <td>0.469</td>\n",
       "      <td>7.185</td>\n",
       "      <td>61.1</td>\n",
       "      <td>4.9671</td>\n",
       "      <td>2</td>\n",
       "      <td>242.0</td>\n",
       "      <td>17.8</td>\n",
       "      <td>392.83</td>\n",
       "      <td>4.03</td>\n",
       "      <td>34.7</td>\n",
       "    </tr>\n",
       "    <tr>\n",
       "      <th>3</th>\n",
       "      <td>0.03237</td>\n",
       "      <td>0.0</td>\n",
       "      <td>2.18</td>\n",
       "      <td>0</td>\n",
       "      <td>0.458</td>\n",
       "      <td>6.998</td>\n",
       "      <td>45.8</td>\n",
       "      <td>6.0622</td>\n",
       "      <td>3</td>\n",
       "      <td>222.0</td>\n",
       "      <td>18.7</td>\n",
       "      <td>394.63</td>\n",
       "      <td>2.94</td>\n",
       "      <td>33.4</td>\n",
       "    </tr>\n",
       "    <tr>\n",
       "      <th>4</th>\n",
       "      <td>0.06905</td>\n",
       "      <td>0.0</td>\n",
       "      <td>2.18</td>\n",
       "      <td>0</td>\n",
       "      <td>0.458</td>\n",
       "      <td>7.147</td>\n",
       "      <td>54.2</td>\n",
       "      <td>6.0622</td>\n",
       "      <td>3</td>\n",
       "      <td>222.0</td>\n",
       "      <td>18.7</td>\n",
       "      <td>396.90</td>\n",
       "      <td>5.33</td>\n",
       "      <td>36.2</td>\n",
       "    </tr>\n",
       "  </tbody>\n",
       "</table>\n",
       "</div>"
      ],
      "text/plain": [
       "      crim    zn  indus  chas    nox     rm   age     dis  rad    tax  \\\n",
       "0  0.00632  18.0   2.31     0  0.538  6.575  65.2  4.0900    1  296.0   \n",
       "1  0.02731   0.0   7.07     0  0.469  6.421  78.9  4.9671    2  242.0   \n",
       "2  0.02729   0.0   7.07     0  0.469  7.185  61.1  4.9671    2  242.0   \n",
       "3  0.03237   0.0   2.18     0  0.458  6.998  45.8  6.0622    3  222.0   \n",
       "4  0.06905   0.0   2.18     0  0.458  7.147  54.2  6.0622    3  222.0   \n",
       "\n",
       "   ptratio   black  lstat  medv  \n",
       "0     15.3  396.90   4.98  24.0  \n",
       "1     17.8  396.90   9.14  21.6  \n",
       "2     17.8  392.83   4.03  34.7  \n",
       "3     18.7  394.63   2.94  33.4  \n",
       "4     18.7  396.90   5.33  36.2  "
      ]
     },
     "execution_count": 3,
     "metadata": {},
     "output_type": "execute_result"
    }
   ],
   "source": [
    "Boston = pd.read_csv(\"data/Boston.csv\")\n",
    "Boston.head()"
   ]
  },
  {
   "cell_type": "markdown",
   "metadata": {},
   "source": [
    "**最优子集选择法**"
   ]
  },
  {
   "cell_type": "code",
   "execution_count": 4,
   "metadata": {},
   "outputs": [],
   "source": [
    "#实现一个按照RSS（或者其他评估）来量化的regsubsets函数\n",
    "import itertools\n",
    "def regsubsets(model,dataset,nvmax = 8,method = 'full',scale = 'rss'):\n",
    "    y,X = patsy.dmatrices(model, data = dataset, return_type=\"dataframe\")\n",
    "    X_columns = list(X.columns)\n",
    "    try:\n",
    "        X_columns.remove('Intercept')\n",
    "    except:\n",
    "        pass\n",
    "    if nvmax > len(X_columns):\n",
    "        nvmax = len(X_columns)\n",
    "    all_data_dict = {}\n",
    "    if method == 'full':\n",
    "        for nv in range(1,nvmax + 1):\n",
    "            nv_scale = None\n",
    "            nv_result = {}\n",
    "            for X_columns_nv in itertools.combinations(X_columns,nv):\n",
    "                X_columns_nv = list(X_columns_nv)\n",
    "                X_model = sm.add_constant(X[X_columns_nv])\n",
    "                results = sm.OLS(y, X_model).fit()\n",
    "                nv_result['rss'] = results.ssr\n",
    "                nv_result['rsq'] = -results.rsquared\n",
    "                nv_result['adjr2'] = -results.rsquared_adj\n",
    "                nv_result['cp'] = results.aic\n",
    "                nv_result['bic'] = results.bic\n",
    "                if nv_scale == None or nv_scale > nv_result[scale]:\n",
    "                    nv_scale = nv_result[scale]\n",
    "                    nv_X_columns = X_columns_nv\n",
    "            X_model = sm.add_constant(X[nv_X_columns])\n",
    "            results = sm.OLS(y, X_model).fit()\n",
    "            all_data_dict[nv] = {}\n",
    "            all_data_dict[nv]['X_columns'] = nv_X_columns\n",
    "            all_data_dict[nv]['rss'] = results.ssr\n",
    "            all_data_dict[nv]['rsq'] = results.rsquared\n",
    "            all_data_dict[nv]['adjr2'] = results.rsquared_adj\n",
    "            all_data_dict[nv]['cp'] = results.aic\n",
    "            all_data_dict[nv]['bic'] = results.bic\n",
    "            all_data_dict[nv]['params'] = results.params\n",
    "    elif method == 'forward':\n",
    "        all_data_dict[0] = {}\n",
    "        all_data_dict[0]['X_columns'] = []\n",
    "        for nv in range(1,nvmax + 1):\n",
    "            nv_scale = None\n",
    "            nv_result = {}\n",
    "            X_columns_others = X_columns.copy()\n",
    "            for column_value in all_data_dict[nv - 1]['X_columns']:\n",
    "                X_columns_others.remove(column_value)\n",
    "            for column_value in X_columns_others:\n",
    "                X_columns_nv = all_data_dict[nv - 1]['X_columns'].copy()\n",
    "                X_columns_nv.append(column_value)\n",
    "                X_model = sm.add_constant(X[X_columns_nv])\n",
    "                results = sm.OLS(y, X_model).fit()\n",
    "                nv_result['rss'] = results.ssr\n",
    "                nv_result['rsq'] = -results.rsquared\n",
    "                nv_result['adjr2'] = -results.rsquared_adj\n",
    "                nv_result['cp'] = results.aic\n",
    "                nv_result['bic'] = results.bic\n",
    "                if nv_scale == None or nv_scale > nv_result[scale]:\n",
    "                    nv_scale = nv_result[scale]\n",
    "                    nv_X_columns = X_columns_nv\n",
    "            X_model = sm.add_constant(X[nv_X_columns])\n",
    "            results = sm.OLS(y, X_model).fit()\n",
    "            all_data_dict[nv] = {}\n",
    "            all_data_dict[nv]['X_columns'] = nv_X_columns\n",
    "            all_data_dict[nv]['rss'] = results.ssr\n",
    "            all_data_dict[nv]['rsq'] = results.rsquared\n",
    "            all_data_dict[nv]['adjr2'] = results.rsquared_adj\n",
    "            all_data_dict[nv]['cp'] = results.aic\n",
    "            all_data_dict[nv]['bic'] = results.bic\n",
    "            all_data_dict[nv]['params'] = results.params\n",
    "        del all_data_dict[0]\n",
    "    elif method == 'backward':\n",
    "        for nv in reversed(range(1,len(X_columns) + 1)):\n",
    "            nv_scale = None\n",
    "            nv_result = {}\n",
    "            if nv == len(X_columns):\n",
    "                nv_X_columns = X_columns\n",
    "            else:\n",
    "                for column_value in all_data_dict[nv + 1]['X_columns']:\n",
    "                    X_columns_nv = all_data_dict[nv + 1]['X_columns'].copy()\n",
    "                    X_columns_nv.remove(column_value)\n",
    "                    X_model = sm.add_constant(X[X_columns_nv])\n",
    "                    results = sm.OLS(y, X_model).fit()\n",
    "                    nv_result['rss'] = results.ssr\n",
    "                    nv_result['rsq'] = -results.rsquared\n",
    "                    nv_result['adjr2'] = -results.rsquared_adj\n",
    "                    nv_result['cp'] = results.aic\n",
    "                    nv_result['bic'] = results.bic\n",
    "                    if nv_scale == None or nv_scale > nv_result[scale]:\n",
    "                        nv_scale = nv_result[scale]\n",
    "                        nv_X_columns = X_columns_nv\n",
    "            X_model = sm.add_constant(X[nv_X_columns])\n",
    "            results = sm.OLS(y, X_model).fit()\n",
    "            all_data_dict[nv] = {}\n",
    "            all_data_dict[nv]['X_columns'] = nv_X_columns\n",
    "            all_data_dict[nv]['rss'] = results.ssr\n",
    "            all_data_dict[nv]['rsq'] = results.rsquared\n",
    "            all_data_dict[nv]['adjr2'] = results.rsquared_adj\n",
    "            all_data_dict[nv]['cp'] = results.aic\n",
    "            all_data_dict[nv]['bic'] = results.bic\n",
    "            all_data_dict[nv]['params'] = results.params\n",
    "            for nv in range(nvmax + 1,len(X_columns) + 1):\n",
    "                del all_data_dict[nv]\n",
    "    return pd.DataFrame(all_data_dict).T.sort_index()"
   ]
  },
  {
   "cell_type": "code",
   "execution_count": 5,
   "metadata": {},
   "outputs": [],
   "source": [
    "from sklearn.model_selection import train_test_split\n",
    "train_set, test_set = train_test_split(Boston,test_size=0.2, random_state=427)"
   ]
  },
  {
   "cell_type": "code",
   "execution_count": 6,
   "metadata": {},
   "outputs": [
    {
     "name": "stderr",
     "output_type": "stream",
     "text": [
      "c:\\users\\wujiaxu\\appdata\\local\\programs\\python\\python37\\lib\\site-packages\\numpy\\core\\fromnumeric.py:2495: FutureWarning: Method .ptp is deprecated and will be removed in a future version. Use numpy.ptp instead.\n",
      "  return ptp(axis=axis, out=out, **kwargs)\n"
     ]
    }
   ],
   "source": [
    "columns_value = '0'\n",
    "for column_value in Boston.columns:\n",
    "    columns_value = columns_value + '+' + column_value\n",
    "model = 'crim ~ {} - crim'.format(columns_value)\n",
    "y_train,X_train = patsy.dmatrices(model,data = train_set,return_type=\"dataframe\")\n",
    "y_test,X_test = patsy.dmatrices(model,data = test_set,return_type=\"dataframe\")\n",
    "#需要分析的最大模型数\n",
    "nvmax = 13\n",
    "reg = regsubsets(model,train_set,nvmax)"
   ]
  },
  {
   "cell_type": "code",
   "execution_count": 7,
   "metadata": {},
   "outputs": [
    {
     "data": {
      "text/html": [
       "<div>\n",
       "<style scoped>\n",
       "    .dataframe tbody tr th:only-of-type {\n",
       "        vertical-align: middle;\n",
       "    }\n",
       "\n",
       "    .dataframe tbody tr th {\n",
       "        vertical-align: top;\n",
       "    }\n",
       "\n",
       "    .dataframe thead th {\n",
       "        text-align: right;\n",
       "    }\n",
       "</style>\n",
       "<table border=\"1\" class=\"dataframe\">\n",
       "  <thead>\n",
       "    <tr style=\"text-align: right;\">\n",
       "      <th></th>\n",
       "      <th>X_columns</th>\n",
       "      <th>rss</th>\n",
       "      <th>rsq</th>\n",
       "      <th>adjr2</th>\n",
       "      <th>cp</th>\n",
       "      <th>bic</th>\n",
       "      <th>params</th>\n",
       "    </tr>\n",
       "  </thead>\n",
       "  <tbody>\n",
       "    <tr>\n",
       "      <th>1</th>\n",
       "      <td>[rad]</td>\n",
       "      <td>14821.1</td>\n",
       "      <td>0.391307</td>\n",
       "      <td>0.389793</td>\n",
       "      <td>2605.87</td>\n",
       "      <td>2613.87</td>\n",
       "      <td>const   -2.070764\n",
       "rad      0.560026\n",
       "dtype: flo...</td>\n",
       "    </tr>\n",
       "    <tr>\n",
       "      <th>2</th>\n",
       "      <td>[rad, lstat]</td>\n",
       "      <td>14012.1</td>\n",
       "      <td>0.424532</td>\n",
       "      <td>0.421662</td>\n",
       "      <td>2585.19</td>\n",
       "      <td>2597.2</td>\n",
       "      <td>const   -4.109411\n",
       "rad      0.471244\n",
       "lstat    0...</td>\n",
       "    </tr>\n",
       "    <tr>\n",
       "      <th>3</th>\n",
       "      <td>[zn, rad, lstat]</td>\n",
       "      <td>13933.4</td>\n",
       "      <td>0.427761</td>\n",
       "      <td>0.423469</td>\n",
       "      <td>2584.92</td>\n",
       "      <td>2600.92</td>\n",
       "      <td>const   -4.753175\n",
       "zn       0.020747\n",
       "rad      0...</td>\n",
       "    </tr>\n",
       "    <tr>\n",
       "      <th>4</th>\n",
       "      <td>[zn, dis, rad, lstat]</td>\n",
       "      <td>13840</td>\n",
       "      <td>0.431597</td>\n",
       "      <td>0.425899</td>\n",
       "      <td>2584.2</td>\n",
       "      <td>2604.21</td>\n",
       "      <td>const   -3.259737\n",
       "zn       0.036358\n",
       "dis     -0...</td>\n",
       "    </tr>\n",
       "    <tr>\n",
       "      <th>5</th>\n",
       "      <td>[zn, dis, rad, lstat, medv]</td>\n",
       "      <td>13725.6</td>\n",
       "      <td>0.436297</td>\n",
       "      <td>0.429215</td>\n",
       "      <td>2582.85</td>\n",
       "      <td>2606.85</td>\n",
       "      <td>const    0.451022\n",
       "zn       0.044243\n",
       "dis     -0...</td>\n",
       "    </tr>\n",
       "  </tbody>\n",
       "</table>\n",
       "</div>"
      ],
      "text/plain": [
       "                     X_columns      rss       rsq     adjr2       cp      bic  \\\n",
       "1                        [rad]  14821.1  0.391307  0.389793  2605.87  2613.87   \n",
       "2                 [rad, lstat]  14012.1  0.424532  0.421662  2585.19   2597.2   \n",
       "3             [zn, rad, lstat]  13933.4  0.427761  0.423469  2584.92  2600.92   \n",
       "4        [zn, dis, rad, lstat]    13840  0.431597  0.425899   2584.2  2604.21   \n",
       "5  [zn, dis, rad, lstat, medv]  13725.6  0.436297  0.429215  2582.85  2606.85   \n",
       "\n",
       "                                              params  \n",
       "1  const   -2.070764\n",
       "rad      0.560026\n",
       "dtype: flo...  \n",
       "2  const   -4.109411\n",
       "rad      0.471244\n",
       "lstat    0...  \n",
       "3  const   -4.753175\n",
       "zn       0.020747\n",
       "rad      0...  \n",
       "4  const   -3.259737\n",
       "zn       0.036358\n",
       "dis     -0...  \n",
       "5  const    0.451022\n",
       "zn       0.044243\n",
       "dis     -0...  "
      ]
     },
     "execution_count": 7,
     "metadata": {},
     "output_type": "execute_result"
    }
   ],
   "source": [
    "reg.head()"
   ]
  },
  {
   "cell_type": "code",
   "execution_count": 8,
   "metadata": {},
   "outputs": [
    {
     "data": {
      "image/png": "[encoded data removed]",
      "text/plain": [
       "<Figure size 1296x432 with 3 Axes>"
      ]
     },
     "metadata": {
      "needs_background": "light"
     },
     "output_type": "display_data"
    }
   ],
   "source": [
    "num_range = range(1,nvmax + 1)\n",
    "plt.figure(figsize=(18, 6))\n",
    "plt.subplot(131)\n",
    "plt.plot(num_range,reg['cp'],'r-')\n",
    "plt.scatter(num_range,reg['cp'],color = 'b')\n",
    "plt.scatter(reg['cp'].astype('float64').idxmin(),reg['cp'].min(),marker = 'x',s=500)\n",
    "plt.xlabel(u\"Number of Predictors\", fontsize=18)\n",
    "plt.ylabel(u\"Cp\", fontsize=18)\n",
    "plt.subplot(132)\n",
    "plt.plot(num_range,reg['bic'],'r-')\n",
    "plt.scatter(num_range,reg['bic'],color = 'b')\n",
    "plt.scatter(reg['bic'].astype('float64').idxmin(),reg['bic'].min(),marker = 'x',s=500)\n",
    "plt.xlabel(u\"Number of Predictors\", fontsize=18)\n",
    "plt.ylabel(u\"BIC\", fontsize=18)\n",
    "plt.subplot(133)\n",
    "plt.plot(num_range,reg['adjr2'],'r-')\n",
    "plt.scatter(num_range,reg['adjr2'],color = 'b')\n",
    "plt.scatter(reg['adjr2'].astype('float64').idxmax(),reg['adjr2'].max(),marker = 'x',s=500)\n",
    "plt.xlabel(u\"Number of Predictors\", fontsize=18)\n",
    "plt.ylabel(u\"Adjusted R2\", fontsize=18)\n",
    "plt.show()"
   ]
  },
  {
   "cell_type": "code",
   "execution_count": 9,
   "metadata": {},
   "outputs": [
    {
     "name": "stdout",
     "output_type": "stream",
     "text": [
      "number of Predictors with min of cp:  7\n",
      "number of Predictors with min of bic:  2\n",
      "number of Predictors with max of adjr2:  9\n"
     ]
    }
   ],
   "source": [
    "reg_num_cp = int(reg['cp'].astype('float64').idxmin())\n",
    "reg_num_bic = int(reg['bic'].astype('float64').idxmin())\n",
    "reg_num_adjr2 = int(reg['adjr2'].astype('float64').idxmax())\n",
    "print('number of Predictors with min of cp: ',reg_num_cp)\n",
    "print('number of Predictors with min of bic: ',reg_num_bic)\n",
    "print('number of Predictors with max of adjr2: ',reg_num_adjr2)"
   ]
  },
  {
   "cell_type": "markdown",
   "metadata": {},
   "source": [
    "**LASSO方法**"
   ]
  },
  {
   "cell_type": "code",
   "execution_count": 10,
   "metadata": {},
   "outputs": [
    {
     "data": {
      "text/plain": [
       "GridSearchCV(cv=10, error_score=nan,\n",
       "             estimator=Lasso(alpha=1.0, copy_X=True, fit_intercept=True,\n",
       "                             max_iter=1000, normalize=False, positive=False,\n",
       "                             precompute=False, random_state=1,\n",
       "                             selection='cyclic', tol=0.0001, warm_start=False),\n",
       "             iid='deprecated', n_jobs=None,\n",
       "             param_grid=[{'alpha': array([1.00000000e+02, 8.69749003e+01, 7.56463328e+01, 6.57933225e+01,\n",
       "       5.72236766e+01, 4...\n",
       "       1.41747416e-03, 1.23284674e-03, 1.07226722e-03, 9.32603347e-04,\n",
       "       8.11130831e-04, 7.05480231e-04, 6.13590727e-04, 5.33669923e-04,\n",
       "       4.64158883e-04, 4.03701726e-04, 3.51119173e-04, 3.05385551e-04,\n",
       "       2.65608778e-04, 2.31012970e-04, 2.00923300e-04, 1.74752840e-04,\n",
       "       1.51991108e-04, 1.32194115e-04, 1.14975700e-04, 1.00000000e-04])}],\n",
       "             pre_dispatch='2*n_jobs', refit=True, return_train_score=False,\n",
       "             scoring='neg_mean_squared_error', verbose=0)"
      ]
     },
     "execution_count": 10,
     "metadata": {},
     "output_type": "execute_result"
    }
   ],
   "source": [
    "from sklearn.preprocessing import StandardScaler\n",
    "from sklearn.model_selection import GridSearchCV\n",
    "from sklearn.linear_model import Ridge\n",
    "from sklearn.linear_model import Lasso\n",
    "std_scaler = StandardScaler(with_mean=False)\n",
    "std_scaler.fit(X_train)\n",
    "X_train_Standard = std_scaler.transform(X_train)\n",
    "param_grid = [\n",
    "{'alpha': 10 ** np.linspace(2, -4, 100) },\n",
    "]\n",
    "lasso_reg = Lasso(random_state = 1)\n",
    "lasso_grid_search = GridSearchCV(lasso_reg, param_grid, cv = 10, scoring='neg_mean_squared_error')\n",
    "lasso_grid_search.fit(X_train_Standard ,y_train)"
   ]
  },
  {
   "cell_type": "code",
   "execution_count": 11,
   "metadata": {},
   "outputs": [
    {
     "data": {
      "image/png": "[encoded data removed]",
      "text/plain": [
       "<Figure size 432x288 with 1 Axes>"
      ]
     },
     "metadata": {
      "needs_background": "light"
     },
     "output_type": "display_data"
    }
   ],
   "source": [
    "plt.plot(np.linspace(2, -4, 100),-lasso_grid_search.cv_results_[\"mean_test_score\"])\n",
    "plt.xlabel(\"Log10 of alpha\", fontsize=18)\n",
    "plt.ylabel(\"mean_squared_error\", fontsize=18)\n",
    "plt.show()"
   ]
  },
  {
   "cell_type": "code",
   "execution_count": 12,
   "metadata": {},
   "outputs": [
    {
     "data": {
      "text/plain": [
       "{'alpha': 0.061359072734131694}"
      ]
     },
     "execution_count": 12,
     "metadata": {},
     "output_type": "execute_result"
    }
   ],
   "source": [
    "lasso_grid_search.best_params_"
   ]
  },
  {
   "cell_type": "code",
   "execution_count": 13,
   "metadata": {},
   "outputs": [],
   "source": [
    "def get_shrinkage_mod(X,y,grid,methods = 1,return_type = 1):\n",
    "    std_scaler = StandardScaler(with_mean = False)\n",
    "    std_scaler.fit(X)\n",
    "    X_Standard = std_scaler.transform(X)\n",
    "    shrinkage_mod =  []\n",
    "    idx = 1\n",
    "    shrinkage_mod_columns = [['idx','lambda','coef'],['','','Intercept']]\n",
    "    for variable in X.columns:\n",
    "        shrinkage_mod_columns[0].append('coef')\n",
    "        shrinkage_mod_columns[1].append(variable)\n",
    "    for alpha in grid:\n",
    "        if methods == 1:\n",
    "            shrinkage_reg = Ridge(alpha = alpha)\n",
    "        else:\n",
    "            shrinkage_reg = Lasso(alpha = alpha)           \n",
    "        shrinkage_reg.fit(X_Standard,y)\n",
    "        shrinkage_mod.append([])\n",
    "        shrinkage_mod[idx - 1].append(idx)\n",
    "        shrinkage_mod[idx - 1].append(alpha)\n",
    "        shrinkage_mod[idx - 1].append(shrinkage_reg.intercept_[0])\n",
    "        #return_type为1返回Standardized Coefficients，否则反馈原模型的Coefficients\n",
    "        if return_type == 1:\n",
    "            if methods == 1:\n",
    "                shrinkage_mod[idx - 1].extend(shrinkage_reg.coef_[0])\n",
    "            else:\n",
    "                shrinkage_mod[idx - 1].extend(shrinkage_reg.coef_)\n",
    "        else:\n",
    "            if methods == 1:\n",
    "                shrinkage_mod[idx - 1].extend(std_scaler.transform(shrinkage_reg.coef_[0].reshape(1,-1))[0].tolist())\n",
    "            else:\n",
    "                shrinkage_mod[idx - 1].extend(std_scaler.transform(shrinkage_reg.coef_.reshape(1,-1))[0].tolist())\n",
    "        idx += 1\n",
    "    return  pd.DataFrame(np.array(shrinkage_mod),columns = shrinkage_mod_columns).set_index('idx')"
   ]
  },
  {
   "cell_type": "code",
   "execution_count": 14,
   "metadata": {},
   "outputs": [
    {
     "data": {
      "text/html": [
       "<div>\n",
       "<style scoped>\n",
       "    .dataframe tbody tr th:only-of-type {\n",
       "        vertical-align: middle;\n",
       "    }\n",
       "\n",
       "    .dataframe tbody tr th {\n",
       "        vertical-align: top;\n",
       "    }\n",
       "\n",
       "    .dataframe thead tr th {\n",
       "        text-align: left;\n",
       "    }\n",
       "\n",
       "    .dataframe thead tr:last-of-type th {\n",
       "        text-align: right;\n",
       "    }\n",
       "</style>\n",
       "<table border=\"1\" class=\"dataframe\">\n",
       "  <thead>\n",
       "    <tr>\n",
       "      <th></th>\n",
       "      <th>lambda</th>\n",
       "      <th colspan=\"14\" halign=\"left\">coef</th>\n",
       "    </tr>\n",
       "    <tr>\n",
       "      <th></th>\n",
       "      <th></th>\n",
       "      <th>Intercept</th>\n",
       "      <th>zn</th>\n",
       "      <th>indus</th>\n",
       "      <th>chas</th>\n",
       "      <th>nox</th>\n",
       "      <th>rm</th>\n",
       "      <th>age</th>\n",
       "      <th>dis</th>\n",
       "      <th>rad</th>\n",
       "      <th>tax</th>\n",
       "      <th>ptratio</th>\n",
       "      <th>black</th>\n",
       "      <th>lstat</th>\n",
       "      <th>medv</th>\n",
       "    </tr>\n",
       "    <tr>\n",
       "      <th>idx</th>\n",
       "      <th></th>\n",
       "      <th></th>\n",
       "      <th></th>\n",
       "      <th></th>\n",
       "      <th></th>\n",
       "      <th></th>\n",
       "      <th></th>\n",
       "      <th></th>\n",
       "      <th></th>\n",
       "      <th></th>\n",
       "      <th></th>\n",
       "      <th></th>\n",
       "      <th></th>\n",
       "      <th></th>\n",
       "      <th></th>\n",
       "    </tr>\n",
       "  </thead>\n",
       "  <tbody>\n",
       "    <tr>\n",
       "      <th>1.0</th>\n",
       "      <td>0.061359</td>\n",
       "      <td>5.050479</td>\n",
       "      <td>0.028084</td>\n",
       "      <td>-0.056666</td>\n",
       "      <td>-0.752853</td>\n",
       "      <td>-4.128035</td>\n",
       "      <td>0.417675</td>\n",
       "      <td>-0.006077</td>\n",
       "      <td>-0.598048</td>\n",
       "      <td>0.477776</td>\n",
       "      <td>-0.0</td>\n",
       "      <td>-0.153164</td>\n",
       "      <td>-0.000822</td>\n",
       "      <td>0.180176</td>\n",
       "      <td>-0.120712</td>\n",
       "    </tr>\n",
       "  </tbody>\n",
       "</table>\n",
       "</div>"
      ],
      "text/plain": [
       "       lambda      coef                                                    \\\n",
       "              Intercept        zn     indus      chas       nox        rm   \n",
       "idx                                                                         \n",
       "1.0  0.061359  5.050479  0.028084 -0.056666 -0.752853 -4.128035  0.417675   \n",
       "\n",
       "                                                                                \n",
       "          age       dis       rad  tax   ptratio     black     lstat      medv  \n",
       "idx                                                                             \n",
       "1.0 -0.006077 -0.598048  0.477776 -0.0 -0.153164 -0.000822  0.180176 -0.120712  "
      ]
     },
     "execution_count": 14,
     "metadata": {},
     "output_type": "execute_result"
    }
   ],
   "source": [
    "lasso_mod = get_shrinkage_mod(X_train,y_train,[lasso_grid_search.best_params_['alpha']],methods = 2,return_type = 2)\n",
    "lasso_mod"
   ]
  },
  {
   "cell_type": "markdown",
   "metadata": {},
   "source": [
    "**岭回归方法**"
   ]
  },
  {
   "cell_type": "code",
   "execution_count": 15,
   "metadata": {},
   "outputs": [
    {
     "data": {
      "text/plain": [
       "GridSearchCV(cv=10, error_score=nan,\n",
       "             estimator=Ridge(alpha=1.0, copy_X=True, fit_intercept=True,\n",
       "                             max_iter=None, normalize=False, random_state=1,\n",
       "                             solver='auto', tol=0.001),\n",
       "             iid='deprecated', n_jobs=None,\n",
       "             param_grid=[{'alpha': array([1.00000000e+02, 8.69749003e+01, 7.56463328e+01, 6.57933225e+01,\n",
       "       5.72236766e+01, 4.97702356e+01, 4.32876128e+01, 3.76493581e+01,\n",
       "       3.27454916e...\n",
       "       1.41747416e-03, 1.23284674e-03, 1.07226722e-03, 9.32603347e-04,\n",
       "       8.11130831e-04, 7.05480231e-04, 6.13590727e-04, 5.33669923e-04,\n",
       "       4.64158883e-04, 4.03701726e-04, 3.51119173e-04, 3.05385551e-04,\n",
       "       2.65608778e-04, 2.31012970e-04, 2.00923300e-04, 1.74752840e-04,\n",
       "       1.51991108e-04, 1.32194115e-04, 1.14975700e-04, 1.00000000e-04])}],\n",
       "             pre_dispatch='2*n_jobs', refit=True, return_train_score=False,\n",
       "             scoring='neg_mean_squared_error', verbose=0)"
      ]
     },
     "execution_count": 15,
     "metadata": {},
     "output_type": "execute_result"
    }
   ],
   "source": [
    "ridge_reg = Ridge(random_state = 1)\n",
    "ridge_grid_search = GridSearchCV(ridge_reg, param_grid, cv = 10, scoring='neg_mean_squared_error')\n",
    "ridge_grid_search.fit(X_train_Standard ,y_train)"
   ]
  },
  {
   "cell_type": "code",
   "execution_count": 16,
   "metadata": {},
   "outputs": [
    {
     "data": {
      "image/png": "[encoded data removed]",
      "text/plain": [
       "<Figure size 432x288 with 1 Axes>"
      ]
     },
     "metadata": {
      "needs_background": "light"
     },
     "output_type": "display_data"
    }
   ],
   "source": [
    "plt.plot(np.linspace(2, -4, 100),-ridge_grid_search.cv_results_[\"mean_test_score\"])\n",
    "plt.xlabel(\"Log10 of alpha\", fontsize=18)\n",
    "plt.ylabel(\"mean_squared_error\", fontsize=18)\n",
    "plt.show()"
   ]
  },
  {
   "cell_type": "code",
   "execution_count": 17,
   "metadata": {},
   "outputs": [
    {
     "data": {
      "text/plain": [
       "{'alpha': 10.722672220103231}"
      ]
     },
     "execution_count": 17,
     "metadata": {},
     "output_type": "execute_result"
    }
   ],
   "source": [
    "ridge_grid_search.best_params_"
   ]
  },
  {
   "cell_type": "code",
   "execution_count": 18,
   "metadata": {},
   "outputs": [
    {
     "data": {
      "text/html": [
       "<div>\n",
       "<style scoped>\n",
       "    .dataframe tbody tr th:only-of-type {\n",
       "        vertical-align: middle;\n",
       "    }\n",
       "\n",
       "    .dataframe tbody tr th {\n",
       "        vertical-align: top;\n",
       "    }\n",
       "\n",
       "    .dataframe thead tr th {\n",
       "        text-align: left;\n",
       "    }\n",
       "\n",
       "    .dataframe thead tr:last-of-type th {\n",
       "        text-align: right;\n",
       "    }\n",
       "</style>\n",
       "<table border=\"1\" class=\"dataframe\">\n",
       "  <thead>\n",
       "    <tr>\n",
       "      <th></th>\n",
       "      <th>lambda</th>\n",
       "      <th colspan=\"14\" halign=\"left\">coef</th>\n",
       "    </tr>\n",
       "    <tr>\n",
       "      <th></th>\n",
       "      <th></th>\n",
       "      <th>Intercept</th>\n",
       "      <th>zn</th>\n",
       "      <th>indus</th>\n",
       "      <th>chas</th>\n",
       "      <th>nox</th>\n",
       "      <th>rm</th>\n",
       "      <th>age</th>\n",
       "      <th>dis</th>\n",
       "      <th>rad</th>\n",
       "      <th>tax</th>\n",
       "      <th>ptratio</th>\n",
       "      <th>black</th>\n",
       "      <th>lstat</th>\n",
       "      <th>medv</th>\n",
       "    </tr>\n",
       "    <tr>\n",
       "      <th>idx</th>\n",
       "      <th></th>\n",
       "      <th></th>\n",
       "      <th></th>\n",
       "      <th></th>\n",
       "      <th></th>\n",
       "      <th></th>\n",
       "      <th></th>\n",
       "      <th></th>\n",
       "      <th></th>\n",
       "      <th></th>\n",
       "      <th></th>\n",
       "      <th></th>\n",
       "      <th></th>\n",
       "      <th></th>\n",
       "      <th></th>\n",
       "    </tr>\n",
       "  </thead>\n",
       "  <tbody>\n",
       "    <tr>\n",
       "      <th>1.0</th>\n",
       "      <td>10.722672</td>\n",
       "      <td>6.334246</td>\n",
       "      <td>0.030905</td>\n",
       "      <td>-0.070843</td>\n",
       "      <td>-0.871108</td>\n",
       "      <td>-5.170796</td>\n",
       "      <td>0.614234</td>\n",
       "      <td>-0.011409</td>\n",
       "      <td>-0.732357</td>\n",
       "      <td>0.465412</td>\n",
       "      <td>0.000359</td>\n",
       "      <td>-0.180985</td>\n",
       "      <td>-0.001411</td>\n",
       "      <td>0.19594</td>\n",
       "      <td>-0.139803</td>\n",
       "    </tr>\n",
       "  </tbody>\n",
       "</table>\n",
       "</div>"
      ],
      "text/plain": [
       "        lambda      coef                                                    \\\n",
       "               Intercept        zn     indus      chas       nox        rm   \n",
       "idx                                                                          \n",
       "1.0  10.722672  6.334246  0.030905 -0.070843 -0.871108 -5.170796  0.614234   \n",
       "\n",
       "                                                                          \\\n",
       "          age       dis       rad       tax   ptratio     black    lstat   \n",
       "idx                                                                        \n",
       "1.0 -0.011409 -0.732357  0.465412  0.000359 -0.180985 -0.001411  0.19594   \n",
       "\n",
       "               \n",
       "         medv  \n",
       "idx            \n",
       "1.0 -0.139803  "
      ]
     },
     "execution_count": 18,
     "metadata": {},
     "output_type": "execute_result"
    }
   ],
   "source": [
    "ridge_mod = get_shrinkage_mod(X_train,y_train,[ridge_grid_search.best_params_['alpha']],methods = 1,return_type = 2)\n",
    "ridge_mod"
   ]
  },
  {
   "cell_type": "markdown",
   "metadata": {},
   "source": [
    "**PCR方法**"
   ]
  },
  {
   "cell_type": "code",
   "execution_count": 19,
   "metadata": {},
   "outputs": [
    {
     "data": {
      "text/plain": [
       "GridSearchCV(cv=10, error_score=nan,\n",
       "             estimator=Pipeline(memory=None,\n",
       "                                steps=[('pca',\n",
       "                                        PCA(copy=True, iterated_power='auto',\n",
       "                                            n_components=None,\n",
       "                                            random_state=None,\n",
       "                                            svd_solver='auto', tol=0.0,\n",
       "                                            whiten=False)),\n",
       "                                       ('lr',\n",
       "                                        LinearRegression(copy_X=True,\n",
       "                                                         fit_intercept=True,\n",
       "                                                         n_jobs=None,\n",
       "                                                         normalize=False))],\n",
       "                                verbose=False),\n",
       "             iid='deprecated', n_jobs=None,\n",
       "             param_grid=[{'pca__n_components': array([ 1,  2,  3,  4,  5,  6,  7,  8,  9, 10, 11, 12, 13])}],\n",
       "             pre_dispatch='2*n_jobs', refit=True, return_train_score=False,\n",
       "             scoring='neg_mean_squared_error', verbose=0)"
      ]
     },
     "execution_count": 19,
     "metadata": {},
     "output_type": "execute_result"
    }
   ],
   "source": [
    "from sklearn.decomposition import PCA\n",
    "from sklearn.pipeline import Pipeline\n",
    "pca_lr = Pipeline([\n",
    "(\"pca\", PCA()),\n",
    "(\"lr\", linear_model.LinearRegression())\n",
    "])\n",
    "param_grid = [\n",
    "{'pca__n_components': np.arange(1,14) },\n",
    "]\n",
    "pca_grid_search = GridSearchCV(pca_lr, param_grid, cv = 10, scoring='neg_mean_squared_error')\n",
    "pca_grid_search.fit(X_train_Standard ,y_train)"
   ]
  },
  {
   "cell_type": "code",
   "execution_count": 20,
   "metadata": {},
   "outputs": [
    {
     "data": {
      "image/png": "[encoded data removed]",
      "text/plain": [
       "<Figure size 432x288 with 1 Axes>"
      ]
     },
     "metadata": {
      "needs_background": "light"
     },
     "output_type": "display_data"
    }
   ],
   "source": [
    "plt.plot(np.arange(1,14),-pca_grid_search.cv_results_[\"mean_test_score\"])\n",
    "plt.xlabel(\"pca__n_components\", fontsize=18)\n",
    "plt.ylabel(\"mean_squared_error\", fontsize=18)\n",
    "plt.show()"
   ]
  },
  {
   "cell_type": "code",
   "execution_count": 21,
   "metadata": {},
   "outputs": [
    {
     "data": {
      "text/plain": [
       "{'pca__n_components': 13}"
      ]
     },
     "execution_count": 21,
     "metadata": {},
     "output_type": "execute_result"
    }
   ],
   "source": [
    "pca_grid_search.best_params_"
   ]
  },
  {
   "cell_type": "markdown",
   "metadata": {},
   "source": [
    "**PLS方法(原题未要求)**"
   ]
  },
  {
   "cell_type": "code",
   "execution_count": 22,
   "metadata": {},
   "outputs": [
    {
     "data": {
      "text/plain": [
       "GridSearchCV(cv=10, error_score=nan,\n",
       "             estimator=PLSRegression(copy=True, max_iter=500, n_components=2,\n",
       "                                     scale=True, tol=1e-06),\n",
       "             iid='deprecated', n_jobs=None,\n",
       "             param_grid=[{'n_components': array([ 1,  2,  3,  4,  5,  6,  7,  8,  9, 10, 11, 12, 13])}],\n",
       "             pre_dispatch='2*n_jobs', refit=True, return_train_score=False,\n",
       "             scoring='neg_mean_squared_error', verbose=0)"
      ]
     },
     "execution_count": 22,
     "metadata": {},
     "output_type": "execute_result"
    }
   ],
   "source": [
    "from sklearn.cross_decomposition import PLSRegression\n",
    "np.random.seed(1)\n",
    "param_grid = [\n",
    "{'n_components': np.arange(1,14) },\n",
    "]\n",
    "pls = PLSRegression()\n",
    "pls_grid_search = GridSearchCV(pls, param_grid, cv = 10, scoring='neg_mean_squared_error')\n",
    "pls_grid_search.fit(X_train_Standard ,y_train)"
   ]
  },
  {
   "cell_type": "code",
   "execution_count": 23,
   "metadata": {},
   "outputs": [
    {
     "data": {
      "image/png": "[encoded data removed]",
      "text/plain": [
       "<Figure size 432x288 with 1 Axes>"
      ]
     },
     "metadata": {
      "needs_background": "light"
     },
     "output_type": "display_data"
    }
   ],
   "source": [
    "plt.plot(np.arange(1,14),-pls_grid_search.cv_results_[\"mean_test_score\"])\n",
    "plt.xlabel(\"pls__n_components\", fontsize=18)\n",
    "plt.ylabel(\"mean_squared_error\", fontsize=18)\n",
    "plt.show()"
   ]
  },
  {
   "cell_type": "code",
   "execution_count": 24,
   "metadata": {},
   "outputs": [
    {
     "data": {
      "text/plain": [
       "{'n_components': 9}"
      ]
     },
     "execution_count": 24,
     "metadata": {},
     "output_type": "execute_result"
    }
   ],
   "source": [
    "pls_grid_search.best_params_"
   ]
  },
  {
   "cell_type": "markdown",
   "metadata": {},
   "source": [
    "**(b) Propose a model (or set of models) that seem to perform well on\n",
    "this data set, and justify your answer. Make sure that you are\n",
    "evaluating model performance using validation set error, cross-\n",
    "validation, or some other reasonable alternative, as opposed to\n",
    "using training error.**"
   ]
  },
  {
   "cell_type": "markdown",
   "metadata": {},
   "source": [
    "**最优子集法数据在验证集上的全部效果**"
   ]
  },
  {
   "cell_type": "code",
   "execution_count": 25,
   "metadata": {},
   "outputs": [],
   "source": [
    "from sklearn.metrics import mean_squared_error\n",
    "mse_test_list = []\n",
    "for num_of_pre in num_range:\n",
    "    reg_line = reg.loc[num_of_pre]\n",
    "    y_predict = reg_line['params'][reg_line['X_columns']].dot(X_test[reg_line['X_columns']].T) + reg_line['params']['const']\n",
    "    mse_test_list.append(mean_squared_error(y_test, y_predict))\n",
    "mse_test = pd.DataFrame(mse_test_list,index = num_range)"
   ]
  },
  {
   "cell_type": "code",
   "execution_count": 26,
   "metadata": {},
   "outputs": [
    {
     "data": {
      "image/png": "[encoded data removed]",
      "text/plain": [
       "<Figure size 432x288 with 1 Axes>"
      ]
     },
     "metadata": {
      "needs_background": "light"
     },
     "output_type": "display_data"
    }
   ],
   "source": [
    "plt.plot(num_range,mse_test)\n",
    "plt.xlabel(\"Number of Predictors\", fontsize=18)\n",
    "plt.ylabel(\"mean_squared_error\", fontsize=18)\n",
    "plt.scatter(reg_num_cp,mse_test.loc[reg_num_cp],marker = 'x',s=500,color = 'r')\n",
    "plt.scatter(reg_num_bic,mse_test.loc[reg_num_bic],marker = 'x',s=500,color = 'b')\n",
    "plt.scatter(reg_num_adjr2,mse_test.loc[reg_num_adjr2],marker = 'x',s=500,color = 'y')\n",
    "plt.show()"
   ]
  },
  {
   "cell_type": "code",
   "execution_count": 27,
   "metadata": {},
   "outputs": [
    {
     "name": "stdout",
     "output_type": "stream",
     "text": [
      "test_mse_cp: 72.57726270553945\n",
      "test_mse_bic: 76.30541323507609\n",
      "test_mse_adjr2: 72.30407687265397\n"
     ]
    }
   ],
   "source": [
    "#选择黄色即通过调整R2（adjusted r2）选择的最优子集模型最佳，这里把3钟模型测试MSE单独选择出来\n",
    "test_mse_cp = float(mse_test.loc[reg_num_cp])\n",
    "test_mse_bic =  float(mse_test.loc[reg_num_bic])\n",
    "test_mse_adjr2 =  float(mse_test.loc[reg_num_adjr2])\n",
    "print('test_mse_cp:',test_mse_cp)\n",
    "print('test_mse_bic:',test_mse_bic)\n",
    "print('test_mse_adjr2:',test_mse_adjr2)"
   ]
  },
  {
   "cell_type": "markdown",
   "metadata": {},
   "source": [
    "**lasso法数据在验证集上的全部效果**"
   ]
  },
  {
   "cell_type": "code",
   "execution_count": 28,
   "metadata": {},
   "outputs": [
    {
     "data": {
      "text/plain": [
       "73.23674637449693"
      ]
     },
     "execution_count": 28,
     "metadata": {},
     "output_type": "execute_result"
    }
   ],
   "source": [
    "X_test_Standard = std_scaler.transform(X_test)\n",
    "y_predictions_lasso = lasso_grid_search.predict(X_test_Standard)\n",
    "test_mse_lasso = mean_squared_error(y_test, y_predictions_lasso)\n",
    "test_mse_lasso"
   ]
  },
  {
   "cell_type": "markdown",
   "metadata": {},
   "source": [
    "**ridge法数据在验证集上的全部效果**"
   ]
  },
  {
   "cell_type": "code",
   "execution_count": 29,
   "metadata": {},
   "outputs": [
    {
     "data": {
      "text/plain": [
       "72.95479206788106"
      ]
     },
     "execution_count": 29,
     "metadata": {},
     "output_type": "execute_result"
    }
   ],
   "source": [
    "y_predictions_ridge = ridge_grid_search.predict(X_test_Standard)\n",
    "test_mse_ridge = mean_squared_error(y_test, y_predictions_ridge)\n",
    "test_mse_ridge"
   ]
  },
  {
   "cell_type": "markdown",
   "metadata": {},
   "source": [
    "**PCR方法数据在验证集上的全部效果**"
   ]
  },
  {
   "cell_type": "code",
   "execution_count": 30,
   "metadata": {},
   "outputs": [
    {
     "data": {
      "text/plain": [
       "72.46837018263321"
      ]
     },
     "execution_count": 30,
     "metadata": {},
     "output_type": "execute_result"
    }
   ],
   "source": [
    "y_predictions_pca = pca_grid_search.predict(X_test_Standard)\n",
    "test_mse_pca = mean_squared_error(y_test, y_predictions_pca)\n",
    "test_mse_pca"
   ]
  },
  {
   "cell_type": "markdown",
   "metadata": {},
   "source": [
    "**PLS方法数据在验证集上的全部效果（原题未要求）**"
   ]
  },
  {
   "cell_type": "code",
   "execution_count": 31,
   "metadata": {},
   "outputs": [
    {
     "data": {
      "text/plain": [
       "72.34305456216676"
      ]
     },
     "execution_count": 31,
     "metadata": {},
     "output_type": "execute_result"
    }
   ],
   "source": [
    "y_predictions_pls = pls_grid_search.predict(X_test_Standard)\n",
    "test_mse_pls = mean_squared_error(y_test, y_predictions_pls)\n",
    "test_mse_pls"
   ]
  },
  {
   "cell_type": "code",
   "execution_count": 32,
   "metadata": {},
   "outputs": [
    {
     "data": {
      "image/png": "[encoded data removed]",
      "text/plain": [
       "<Figure size 432x288 with 1 Axes>"
      ]
     },
     "metadata": {
      "needs_background": "light"
     },
     "output_type": "display_data"
    }
   ],
   "source": [
    "method_list = ['CP','BIC','ADJR2','RIDGE','LASSO','PCA','PLS']\n",
    "R2_list = [test_mse_cp,test_mse_bic,test_mse_adjr2,test_mse_ridge,test_mse_lasso,test_mse_pca,test_mse_pls]\n",
    "plt.bar(method_list,R2_list,color = 'red')\n",
    "plt.ylim(72,77)\n",
    "plt.xlabel(\"Fit Method\", fontsize=18)\n",
    "plt.ylabel(\"Test MSE\", fontsize=18)\n",
    "plt.show()"
   ]
  },
  {
   "cell_type": "markdown",
   "metadata": {},
   "source": [
    "**(c) Does your chosen model involve all of the features in the data\n",
    "set? Why or why not?**"
   ]
  },
  {
   "cell_type": "markdown",
   "metadata": {},
   "source": [
    "**最优子集法（ADJR2判定）以及PLS法好于其他方法，选择最优子集法（ADJR2判定）只需要9个特征模型**"
   ]
  },
  {
   "cell_type": "code",
   "execution_count": 33,
   "metadata": {},
   "outputs": [
    {
     "data": {
      "text/plain": [
       "const      9.582721\n",
       "zn         0.035445\n",
       "indus     -0.088922\n",
       "nox       -8.908480\n",
       "rm         0.612342\n",
       "dis       -0.824033\n",
       "rad        0.508999\n",
       "ptratio   -0.251722\n",
       "lstat      0.175569\n",
       "medv      -0.171445\n",
       "dtype: float64"
      ]
     },
     "execution_count": 33,
     "metadata": {},
     "output_type": "execute_result"
    }
   ],
   "source": [
    "reg.loc[reg_num_adjr2]['params']"
   ]
  }
 ],
 "metadata": {
  "kernelspec": {
   "display_name": "Python 3",
   "language": "python",
   "name": "python3"
  },
  "language_info": {
   "codemirror_mode": {
    "name": "ipython",
    "version": 3
   },
   "file_extension": ".py",
   "mimetype": "text/x-python",
   "name": "python",
   "nbconvert_exporter": "python",
   "pygments_lexer": "ipython3",
   "version": "3.7.3"
  }
 },
 "nbformat": 4,
 "nbformat_minor": 2
}
