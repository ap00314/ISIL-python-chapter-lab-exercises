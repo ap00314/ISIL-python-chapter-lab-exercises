{
 "cells": [
  {
   "cell_type": "code",
   "execution_count": 1,
   "metadata": {},
   "outputs": [],
   "source": [
    "# To support both python 2 and python 3\n",
    "# 让这份笔记同步支持 python 2 和 python 3\n",
    "from __future__ import division\n",
    "import pandas as pd\n",
    "import numpy as np\n",
    "import matplotlib.pyplot as plt\n",
    "import matplotlib\n",
    "%matplotlib inline"
   ]
  },
  {
   "cell_type": "code",
   "execution_count": 2,
   "metadata": {},
   "outputs": [],
   "source": [
    "#使用statsmodels便于统计分析数据\n",
    "import statsmodels.api as sm\n",
    "import statsmodels.formula.api as smf\n",
    "#使用sklearn便于预测（机器学习）\n",
    "from sklearn import linear_model\n",
    "#使用patsy便于生成模型\n",
    "import patsy"
   ]
  },
  {
   "cell_type": "markdown",
   "metadata": {},
   "source": [
    "**11. This question uses the Caravan data set.\n",
    "(a) Create a training set consisting of the first 1,000 observations,\n",
    "and a test set consisting of the remaining observations.**"
   ]
  },
  {
   "cell_type": "code",
   "execution_count": 3,
   "metadata": {},
   "outputs": [
    {
     "data": {
      "text/html": [
       "<div>\n",
       "<style scoped>\n",
       "    .dataframe tbody tr th:only-of-type {\n",
       "        vertical-align: middle;\n",
       "    }\n",
       "\n",
       "    .dataframe tbody tr th {\n",
       "        vertical-align: top;\n",
       "    }\n",
       "\n",
       "    .dataframe thead th {\n",
       "        text-align: right;\n",
       "    }\n",
       "</style>\n",
       "<table border=\"1\" class=\"dataframe\">\n",
       "  <thead>\n",
       "    <tr style=\"text-align: right;\">\n",
       "      <th></th>\n",
       "      <th>MOSTYPE</th>\n",
       "      <th>MAANTHUI</th>\n",
       "      <th>MGEMOMV</th>\n",
       "      <th>MGEMLEEF</th>\n",
       "      <th>MOSHOOFD</th>\n",
       "      <th>MGODRK</th>\n",
       "      <th>MGODPR</th>\n",
       "      <th>MGODOV</th>\n",
       "      <th>MGODGE</th>\n",
       "      <th>MRELGE</th>\n",
       "      <th>...</th>\n",
       "      <th>APERSONG</th>\n",
       "      <th>AGEZONG</th>\n",
       "      <th>AWAOREG</th>\n",
       "      <th>ABRAND</th>\n",
       "      <th>AZEILPL</th>\n",
       "      <th>APLEZIER</th>\n",
       "      <th>AFIETS</th>\n",
       "      <th>AINBOED</th>\n",
       "      <th>ABYSTAND</th>\n",
       "      <th>Purchase</th>\n",
       "    </tr>\n",
       "  </thead>\n",
       "  <tbody>\n",
       "    <tr>\n",
       "      <th>0</th>\n",
       "      <td>33</td>\n",
       "      <td>1</td>\n",
       "      <td>3</td>\n",
       "      <td>2</td>\n",
       "      <td>8</td>\n",
       "      <td>0</td>\n",
       "      <td>5</td>\n",
       "      <td>1</td>\n",
       "      <td>3</td>\n",
       "      <td>7</td>\n",
       "      <td>...</td>\n",
       "      <td>0</td>\n",
       "      <td>0</td>\n",
       "      <td>0</td>\n",
       "      <td>1</td>\n",
       "      <td>0</td>\n",
       "      <td>0</td>\n",
       "      <td>0</td>\n",
       "      <td>0</td>\n",
       "      <td>0</td>\n",
       "      <td>No</td>\n",
       "    </tr>\n",
       "    <tr>\n",
       "      <th>1</th>\n",
       "      <td>37</td>\n",
       "      <td>1</td>\n",
       "      <td>2</td>\n",
       "      <td>2</td>\n",
       "      <td>8</td>\n",
       "      <td>1</td>\n",
       "      <td>4</td>\n",
       "      <td>1</td>\n",
       "      <td>4</td>\n",
       "      <td>6</td>\n",
       "      <td>...</td>\n",
       "      <td>0</td>\n",
       "      <td>0</td>\n",
       "      <td>0</td>\n",
       "      <td>1</td>\n",
       "      <td>0</td>\n",
       "      <td>0</td>\n",
       "      <td>0</td>\n",
       "      <td>0</td>\n",
       "      <td>0</td>\n",
       "      <td>No</td>\n",
       "    </tr>\n",
       "    <tr>\n",
       "      <th>2</th>\n",
       "      <td>37</td>\n",
       "      <td>1</td>\n",
       "      <td>2</td>\n",
       "      <td>2</td>\n",
       "      <td>8</td>\n",
       "      <td>0</td>\n",
       "      <td>4</td>\n",
       "      <td>2</td>\n",
       "      <td>4</td>\n",
       "      <td>3</td>\n",
       "      <td>...</td>\n",
       "      <td>0</td>\n",
       "      <td>0</td>\n",
       "      <td>0</td>\n",
       "      <td>1</td>\n",
       "      <td>0</td>\n",
       "      <td>0</td>\n",
       "      <td>0</td>\n",
       "      <td>0</td>\n",
       "      <td>0</td>\n",
       "      <td>No</td>\n",
       "    </tr>\n",
       "    <tr>\n",
       "      <th>3</th>\n",
       "      <td>9</td>\n",
       "      <td>1</td>\n",
       "      <td>3</td>\n",
       "      <td>3</td>\n",
       "      <td>3</td>\n",
       "      <td>2</td>\n",
       "      <td>3</td>\n",
       "      <td>2</td>\n",
       "      <td>4</td>\n",
       "      <td>5</td>\n",
       "      <td>...</td>\n",
       "      <td>0</td>\n",
       "      <td>0</td>\n",
       "      <td>0</td>\n",
       "      <td>1</td>\n",
       "      <td>0</td>\n",
       "      <td>0</td>\n",
       "      <td>0</td>\n",
       "      <td>0</td>\n",
       "      <td>0</td>\n",
       "      <td>No</td>\n",
       "    </tr>\n",
       "    <tr>\n",
       "      <th>4</th>\n",
       "      <td>40</td>\n",
       "      <td>1</td>\n",
       "      <td>4</td>\n",
       "      <td>2</td>\n",
       "      <td>10</td>\n",
       "      <td>1</td>\n",
       "      <td>4</td>\n",
       "      <td>1</td>\n",
       "      <td>4</td>\n",
       "      <td>7</td>\n",
       "      <td>...</td>\n",
       "      <td>0</td>\n",
       "      <td>0</td>\n",
       "      <td>0</td>\n",
       "      <td>1</td>\n",
       "      <td>0</td>\n",
       "      <td>0</td>\n",
       "      <td>0</td>\n",
       "      <td>0</td>\n",
       "      <td>0</td>\n",
       "      <td>No</td>\n",
       "    </tr>\n",
       "  </tbody>\n",
       "</table>\n",
       "<p>5 rows × 86 columns</p>\n",
       "</div>"
      ],
      "text/plain": [
       "   MOSTYPE  MAANTHUI  MGEMOMV  MGEMLEEF  MOSHOOFD  MGODRK  MGODPR  MGODOV  \\\n",
       "0       33         1        3         2         8       0       5       1   \n",
       "1       37         1        2         2         8       1       4       1   \n",
       "2       37         1        2         2         8       0       4       2   \n",
       "3        9         1        3         3         3       2       3       2   \n",
       "4       40         1        4         2        10       1       4       1   \n",
       "\n",
       "   MGODGE  MRELGE  ...  APERSONG  AGEZONG  AWAOREG  ABRAND  AZEILPL  APLEZIER  \\\n",
       "0       3       7  ...         0        0        0       1        0         0   \n",
       "1       4       6  ...         0        0        0       1        0         0   \n",
       "2       4       3  ...         0        0        0       1        0         0   \n",
       "3       4       5  ...         0        0        0       1        0         0   \n",
       "4       4       7  ...         0        0        0       1        0         0   \n",
       "\n",
       "   AFIETS  AINBOED  ABYSTAND  Purchase  \n",
       "0       0        0         0        No  \n",
       "1       0        0         0        No  \n",
       "2       0        0         0        No  \n",
       "3       0        0         0        No  \n",
       "4       0        0         0        No  \n",
       "\n",
       "[5 rows x 86 columns]"
      ]
     },
     "execution_count": 3,
     "metadata": {},
     "output_type": "execute_result"
    }
   ],
   "source": [
    "Caravan = pd.read_csv(\"data/Caravan.csv\").dropna().drop('Unnamed: 0',axis = 1)\n",
    "Caravan.head()"
   ]
  },
  {
   "cell_type": "code",
   "execution_count": 4,
   "metadata": {},
   "outputs": [],
   "source": [
    "from sklearn.model_selection import train_test_split\n",
    "train_set, test_set = train_test_split(Caravan, train_size = 1000, random_state = 1)"
   ]
  },
  {
   "cell_type": "markdown",
   "metadata": {},
   "source": [
    "**(b) Fit a boosting model to the training set with Purchase as the\n",
    "response and the other variables as predictors. Use 1,000 trees,\n",
    "and a shrinkage value of 0.01. Which predictors appear to be\n",
    "the most important?**"
   ]
  },
  {
   "cell_type": "code",
   "execution_count": 5,
   "metadata": {},
   "outputs": [],
   "source": [
    "columns = '1'\n",
    "for column in Caravan.columns:\n",
    "    columns = columns + '+' + column\n",
    "y_test,X_test = patsy.dmatrices('Purchase ~ {} - Purchase'.format(columns), test_set, return_type = 'dataframe')\n",
    "y_train,X_train = patsy.dmatrices('Purchase ~ {} - Purchase'.format(columns), train_set, return_type = 'dataframe')\n",
    "X_test.drop('Intercept',axis = 1,inplace= True)\n",
    "X_train.drop('Intercept',axis = 1,inplace= True)"
   ]
  },
  {
   "cell_type": "code",
   "execution_count": 6,
   "metadata": {},
   "outputs": [
    {
     "data": {
      "text/html": [
       "<div>\n",
       "<style scoped>\n",
       "    .dataframe tbody tr th:only-of-type {\n",
       "        vertical-align: middle;\n",
       "    }\n",
       "\n",
       "    .dataframe tbody tr th {\n",
       "        vertical-align: top;\n",
       "    }\n",
       "\n",
       "    .dataframe thead th {\n",
       "        text-align: right;\n",
       "    }\n",
       "</style>\n",
       "<table border=\"1\" class=\"dataframe\">\n",
       "  <thead>\n",
       "    <tr style=\"text-align: right;\">\n",
       "      <th></th>\n",
       "      <th>feature</th>\n",
       "      <th>importance</th>\n",
       "    </tr>\n",
       "  </thead>\n",
       "  <tbody>\n",
       "    <tr>\n",
       "      <th>46</th>\n",
       "      <td>PPERSAUT</td>\n",
       "      <td>6.025</td>\n",
       "    </tr>\n",
       "    <tr>\n",
       "      <th>7</th>\n",
       "      <td>MGODOV</td>\n",
       "      <td>5.975</td>\n",
       "    </tr>\n",
       "    <tr>\n",
       "      <th>82</th>\n",
       "      <td>AFIETS</td>\n",
       "      <td>5.860</td>\n",
       "    </tr>\n",
       "    <tr>\n",
       "      <th>67</th>\n",
       "      <td>APERSAUT</td>\n",
       "      <td>5.473</td>\n",
       "    </tr>\n",
       "    <tr>\n",
       "      <th>22</th>\n",
       "      <td>MBERARBG</td>\n",
       "      <td>3.941</td>\n",
       "    </tr>\n",
       "    <tr>\n",
       "      <th>21</th>\n",
       "      <td>MBERMIDD</td>\n",
       "      <td>3.350</td>\n",
       "    </tr>\n",
       "    <tr>\n",
       "      <th>81</th>\n",
       "      <td>APLEZIER</td>\n",
       "      <td>3.329</td>\n",
       "    </tr>\n",
       "    <tr>\n",
       "      <th>60</th>\n",
       "      <td>PPLEZIER</td>\n",
       "      <td>3.291</td>\n",
       "    </tr>\n",
       "    <tr>\n",
       "      <th>63</th>\n",
       "      <td>PBYSTAND</td>\n",
       "      <td>2.796</td>\n",
       "    </tr>\n",
       "    <tr>\n",
       "      <th>27</th>\n",
       "      <td>MSKC</td>\n",
       "      <td>2.609</td>\n",
       "    </tr>\n",
       "  </tbody>\n",
       "</table>\n",
       "</div>"
      ],
      "text/plain": [
       "     feature  importance\n",
       "46  PPERSAUT       6.025\n",
       "7     MGODOV       5.975\n",
       "82    AFIETS       5.860\n",
       "67  APERSAUT       5.473\n",
       "22  MBERARBG       3.941\n",
       "21  MBERMIDD       3.350\n",
       "81  APLEZIER       3.329\n",
       "60  PPLEZIER       3.291\n",
       "63  PBYSTAND       2.796\n",
       "27      MSKC       2.609"
      ]
     },
     "execution_count": 6,
     "metadata": {},
     "output_type": "execute_result"
    }
   ],
   "source": [
    "from sklearn.ensemble import GradientBoostingClassifier\n",
    "gb_clf = GradientBoostingClassifier(n_estimators = 1000,learning_rate=0.01,random_state = 1)\n",
    "gb_clf.fit(X_train,y_train['Purchase[Yes]'])\n",
    "#为了方便后面的AUC计算\n",
    "gb_socres = gb_clf.decision_function(X_test)\n",
    "feature_importance=pd.DataFrame({'feature':X_train.columns, 'importance':(gb_clf.feature_importances_ * 100).round(3)})\n",
    "feature_importance.sort_values('importance',ascending=False).iloc[:10]"
   ]
  },
  {
   "cell_type": "markdown",
   "metadata": {},
   "source": [
    "**(c) Use the boosting model to predict the response on the test data.\n",
    "Predict that a person will make a purchase if the estimated prob-\n",
    "ability of purchase is greater than 20%. Form a confusion ma-\n",
    "trix. What fraction of the people predicted to make a purchase\n",
    "do in fact make one? How does this compare with the results\n",
    "obtained from applying KNN or logistic regression to this data\n",
    "set?**"
   ]
  },
  {
   "cell_type": "code",
   "execution_count": 7,
   "metadata": {},
   "outputs": [
    {
     "data": {
      "text/html": [
       "<div>\n",
       "<style scoped>\n",
       "    .dataframe tbody tr th:only-of-type {\n",
       "        vertical-align: middle;\n",
       "    }\n",
       "\n",
       "    .dataframe tbody tr th {\n",
       "        vertical-align: top;\n",
       "    }\n",
       "\n",
       "    .dataframe thead tr th {\n",
       "        text-align: left;\n",
       "    }\n",
       "</style>\n",
       "<table border=\"1\" class=\"dataframe\">\n",
       "  <thead>\n",
       "    <tr>\n",
       "      <th></th>\n",
       "      <th colspan=\"2\" halign=\"left\">Purchase.test</th>\n",
       "    </tr>\n",
       "    <tr>\n",
       "      <th>gb.pred</th>\n",
       "      <th>No</th>\n",
       "      <th>Yes</th>\n",
       "    </tr>\n",
       "  </thead>\n",
       "  <tbody>\n",
       "    <tr>\n",
       "      <th>No</th>\n",
       "      <td>4291</td>\n",
       "      <td>241</td>\n",
       "    </tr>\n",
       "    <tr>\n",
       "      <th>Yes</th>\n",
       "      <td>242</td>\n",
       "      <td>48</td>\n",
       "    </tr>\n",
       "  </tbody>\n",
       "</table>\n",
       "</div>"
      ],
      "text/plain": [
       "        Purchase.test     \n",
       "gb.pred            No  Yes\n",
       "No               4291  241\n",
       "Yes               242   48"
      ]
     },
     "execution_count": 7,
     "metadata": {},
     "output_type": "execute_result"
    }
   ],
   "source": [
    "from sklearn.metrics import confusion_matrix\n",
    "gb_clf_predict =(gb_clf.predict_proba(X_test) > 0.2)[:,1]\n",
    "#python生成的是[['TN','FP']['FN','TP']],与R互倒\n",
    "gb_pred_table = pd.DataFrame(confusion_matrix(y_test['Purchase[Yes]'],gb_clf_predict).T,\n",
    "                             index = ['No','Yes'],\n",
    "                             columns = [['Purchase.test','Purchase.test'],['No','Yes']])\n",
    "gb_pred_table.columns.names = ['','gb.pred']\n",
    "gb_pred_table "
   ]
  },
  {
   "cell_type": "code",
   "execution_count": 8,
   "metadata": {},
   "outputs": [
    {
     "data": {
      "text/html": [
       "<div>\n",
       "<style scoped>\n",
       "    .dataframe tbody tr th:only-of-type {\n",
       "        vertical-align: middle;\n",
       "    }\n",
       "\n",
       "    .dataframe tbody tr th {\n",
       "        vertical-align: top;\n",
       "    }\n",
       "\n",
       "    .dataframe thead tr th {\n",
       "        text-align: left;\n",
       "    }\n",
       "</style>\n",
       "<table border=\"1\" class=\"dataframe\">\n",
       "  <thead>\n",
       "    <tr>\n",
       "      <th></th>\n",
       "      <th colspan=\"2\" halign=\"left\">Purchase.test</th>\n",
       "    </tr>\n",
       "    <tr>\n",
       "      <th>lda.pred</th>\n",
       "      <th>No</th>\n",
       "      <th>Yes</th>\n",
       "    </tr>\n",
       "  </thead>\n",
       "  <tbody>\n",
       "    <tr>\n",
       "      <th>No</th>\n",
       "      <td>4324</td>\n",
       "      <td>242</td>\n",
       "    </tr>\n",
       "    <tr>\n",
       "      <th>Yes</th>\n",
       "      <td>209</td>\n",
       "      <td>47</td>\n",
       "    </tr>\n",
       "  </tbody>\n",
       "</table>\n",
       "</div>"
      ],
      "text/plain": [
       "         Purchase.test     \n",
       "lda.pred            No  Yes\n",
       "No                4324  242\n",
       "Yes                209   47"
      ]
     },
     "execution_count": 8,
     "metadata": {},
     "output_type": "execute_result"
    }
   ],
   "source": [
    "# LDA\n",
    "from sklearn.discriminant_analysis import LinearDiscriminantAnalysis\n",
    "lda = LinearDiscriminantAnalysis()\n",
    "lda.fit(X_train,y_train['Purchase[Yes]'])\n",
    "#为了方便后面的AUC计算\n",
    "lda_socres = lda.decision_function(X_test)\n",
    "lda_predict =(lda.predict_proba(X_test) > 0.2)[:,1]\n",
    "#python生成的是[['TN','FP']['FN','TP']],与R互倒\n",
    "lda_pred_table = pd.DataFrame(confusion_matrix(y_test['Purchase[Yes]'],lda_predict).T,\n",
    "                             index = ['No','Yes'],\n",
    "                             columns = [['Purchase.test','Purchase.test'],['No','Yes']])\n",
    "lda_pred_table.columns.names = ['','lda.pred']\n",
    "lda_pred_table "
   ]
  },
  {
   "cell_type": "code",
   "execution_count": 9,
   "metadata": {},
   "outputs": [
    {
     "name": "stderr",
     "output_type": "stream",
     "text": [
      "c:\\users\\wujiaxu\\appdata\\local\\programs\\python\\python37\\lib\\site-packages\\sklearn\\discriminant_analysis.py:691: UserWarning: Variables are collinear\n",
      "  warnings.warn(\"Variables are collinear\")\n"
     ]
    },
    {
     "data": {
      "text/html": [
       "<div>\n",
       "<style scoped>\n",
       "    .dataframe tbody tr th:only-of-type {\n",
       "        vertical-align: middle;\n",
       "    }\n",
       "\n",
       "    .dataframe tbody tr th {\n",
       "        vertical-align: top;\n",
       "    }\n",
       "\n",
       "    .dataframe thead tr th {\n",
       "        text-align: left;\n",
       "    }\n",
       "</style>\n",
       "<table border=\"1\" class=\"dataframe\">\n",
       "  <thead>\n",
       "    <tr>\n",
       "      <th></th>\n",
       "      <th colspan=\"2\" halign=\"left\">Purchase.test</th>\n",
       "    </tr>\n",
       "    <tr>\n",
       "      <th>qda.pred</th>\n",
       "      <th>No</th>\n",
       "      <th>Yes</th>\n",
       "    </tr>\n",
       "  </thead>\n",
       "  <tbody>\n",
       "    <tr>\n",
       "      <th>No</th>\n",
       "      <td>4505</td>\n",
       "      <td>278</td>\n",
       "    </tr>\n",
       "    <tr>\n",
       "      <th>Yes</th>\n",
       "      <td>28</td>\n",
       "      <td>11</td>\n",
       "    </tr>\n",
       "  </tbody>\n",
       "</table>\n",
       "</div>"
      ],
      "text/plain": [
       "         Purchase.test     \n",
       "qda.pred            No  Yes\n",
       "No                4505  278\n",
       "Yes                 28   11"
      ]
     },
     "execution_count": 9,
     "metadata": {},
     "output_type": "execute_result"
    }
   ],
   "source": [
    "# QDA\n",
    "from sklearn.discriminant_analysis import QuadraticDiscriminantAnalysis\n",
    "qda = QuadraticDiscriminantAnalysis(store_covariance=True)\n",
    "qda.fit(X_train,y_train['Purchase[Yes]'])\n",
    "#为了方便后面的AUC计算\n",
    "qda_socres = qda.decision_function(X_test)\n",
    "qda_predict =(qda.predict_proba(X_test) > 0.2)[:,1]\n",
    "#python生成的是[['TN','FP']['FN','TP']],与R互倒\n",
    "qda_pred_table = pd.DataFrame(confusion_matrix(y_test['Purchase[Yes]'],qda_predict).T,\n",
    "                             index = ['No','Yes'],\n",
    "                             columns = [['Purchase.test','Purchase.test'],['No','Yes']])\n",
    "qda_pred_table.columns.names = ['','qda.pred']\n",
    "qda_pred_table "
   ]
  },
  {
   "cell_type": "code",
   "execution_count": 10,
   "metadata": {},
   "outputs": [
    {
     "data": {
      "text/plain": [
       "{'n_neighbors': 4}"
      ]
     },
     "execution_count": 10,
     "metadata": {},
     "output_type": "execute_result"
    }
   ],
   "source": [
    "from sklearn.neighbors import KNeighborsClassifier\n",
    "from sklearn.model_selection import GridSearchCV\n",
    "knn = KNeighborsClassifier()\n",
    "param_grid = [\n",
    "{'n_neighbors': list(range(1,20))},\n",
    "]\n",
    "grid_search = GridSearchCV(knn, param_grid, cv=5, scoring='accuracy')\n",
    "grid_search.fit(X_train,y_train['Purchase[Yes]'])\n",
    "grid_search.best_params_"
   ]
  },
  {
   "cell_type": "code",
   "execution_count": 11,
   "metadata": {},
   "outputs": [
    {
     "data": {
      "text/html": [
       "<div>\n",
       "<style scoped>\n",
       "    .dataframe tbody tr th:only-of-type {\n",
       "        vertical-align: middle;\n",
       "    }\n",
       "\n",
       "    .dataframe tbody tr th {\n",
       "        vertical-align: top;\n",
       "    }\n",
       "\n",
       "    .dataframe thead tr th {\n",
       "        text-align: left;\n",
       "    }\n",
       "</style>\n",
       "<table border=\"1\" class=\"dataframe\">\n",
       "  <thead>\n",
       "    <tr>\n",
       "      <th></th>\n",
       "      <th colspan=\"2\" halign=\"left\">Purchase.test</th>\n",
       "    </tr>\n",
       "    <tr>\n",
       "      <th>knn.pred</th>\n",
       "      <th>No</th>\n",
       "      <th>Yes</th>\n",
       "    </tr>\n",
       "  </thead>\n",
       "  <tbody>\n",
       "    <tr>\n",
       "      <th>No</th>\n",
       "      <td>3622</td>\n",
       "      <td>187</td>\n",
       "    </tr>\n",
       "    <tr>\n",
       "      <th>Yes</th>\n",
       "      <td>911</td>\n",
       "      <td>102</td>\n",
       "    </tr>\n",
       "  </tbody>\n",
       "</table>\n",
       "</div>"
      ],
      "text/plain": [
       "         Purchase.test     \n",
       "knn.pred            No  Yes\n",
       "No                3622  187\n",
       "Yes                911  102"
      ]
     },
     "execution_count": 11,
     "metadata": {},
     "output_type": "execute_result"
    }
   ],
   "source": [
    "knn_predict =(grid_search.predict_proba(X_test) > 0.2)[:,1]\n",
    "#python生成的是[['TN','FP']['FN','TP']],与R互倒\n",
    "knn_pred_table = pd.DataFrame(confusion_matrix(y_test['Purchase[Yes]'],knn_predict).T,\n",
    "                             index = ['No','Yes'],\n",
    "                             columns = [['Purchase.test','Purchase.test'],['No','Yes']])\n",
    "knn_pred_table.columns.names = ['','knn.pred']\n",
    "knn_pred_table "
   ]
  },
  {
   "cell_type": "code",
   "execution_count": 12,
   "metadata": {},
   "outputs": [
    {
     "data": {
      "text/html": [
       "<div>\n",
       "<style scoped>\n",
       "    .dataframe tbody tr th:only-of-type {\n",
       "        vertical-align: middle;\n",
       "    }\n",
       "\n",
       "    .dataframe tbody tr th {\n",
       "        vertical-align: top;\n",
       "    }\n",
       "\n",
       "    .dataframe thead tr th {\n",
       "        text-align: left;\n",
       "    }\n",
       "</style>\n",
       "<table border=\"1\" class=\"dataframe\">\n",
       "  <thead>\n",
       "    <tr>\n",
       "      <th></th>\n",
       "      <th colspan=\"2\" halign=\"left\">Purchase.test</th>\n",
       "    </tr>\n",
       "    <tr>\n",
       "      <th>logist.pred</th>\n",
       "      <th>No</th>\n",
       "      <th>Yes</th>\n",
       "    </tr>\n",
       "  </thead>\n",
       "  <tbody>\n",
       "    <tr>\n",
       "      <th>No</th>\n",
       "      <td>4243</td>\n",
       "      <td>229</td>\n",
       "    </tr>\n",
       "    <tr>\n",
       "      <th>Yes</th>\n",
       "      <td>290</td>\n",
       "      <td>60</td>\n",
       "    </tr>\n",
       "  </tbody>\n",
       "</table>\n",
       "</div>"
      ],
      "text/plain": [
       "            Purchase.test     \n",
       "logist.pred            No  Yes\n",
       "No                   4243  229\n",
       "Yes                   290   60"
      ]
     },
     "execution_count": 12,
     "metadata": {},
     "output_type": "execute_result"
    }
   ],
   "source": [
    "from sklearn.linear_model import LogisticRegression\n",
    "log = LogisticRegression(solver='liblinear')\n",
    "log.fit(X_train,y_train['Purchase[Yes]'])\n",
    "log_socres = log.decision_function(X_test)\n",
    "log_predict =(log.predict_proba(X_test) > 0.2)[:,1]\n",
    "#python生成的是[['TN','FP']['FN','TP']],与R互倒\n",
    "log_pred_table = pd.DataFrame(confusion_matrix(y_test['Purchase[Yes]'],log_predict).T,\n",
    "                             index = ['No','Yes'],\n",
    "                             columns = [['Purchase.test','Purchase.test'],['No','Yes']])\n",
    "log_pred_table.columns.names = ['','logist.pred']\n",
    "log_pred_table "
   ]
  },
  {
   "cell_type": "code",
   "execution_count": 13,
   "metadata": {},
   "outputs": [
    {
     "data": {
      "text/plain": [
       "290"
      ]
     },
     "execution_count": 13,
     "metadata": {},
     "output_type": "execute_result"
    }
   ],
   "source": [
    "confusion_matrix(y_test['Purchase[Yes]'],log_predict)[0,1]"
   ]
  },
  {
   "cell_type": "code",
   "execution_count": 14,
   "metadata": {},
   "outputs": [
    {
     "data": {
      "image/png": "[encoded data removed]",
      "text/plain": [
       "<Figure size 432x288 with 1 Axes>"
      ]
     },
     "metadata": {
      "needs_background": "light"
     },
     "output_type": "display_data"
    }
   ],
   "source": [
    "#比较各种算法的accucy\n",
    "from sklearn.metrics import accuracy_score\n",
    "accuracy_gb = accuracy_score(y_test['Purchase[Yes]'],gb_clf_predict)\n",
    "accuracy_lda = accuracy_score(y_test['Purchase[Yes]'],lda_predict)\n",
    "accuracy_qda = accuracy_score(y_test['Purchase[Yes]'],qda_predict)\n",
    "accuracy_knn = accuracy_score(y_test['Purchase[Yes]'],knn_predict)\n",
    "accuracy_log = accuracy_score(y_test['Purchase[Yes]'],log_predict)\n",
    "method_list = ['Boosting','LDA','QDA','KNN','LOG']\n",
    "accuracy_list = [accuracy_gb,accuracy_lda,accuracy_qda,accuracy_knn,accuracy_log]\n",
    "plt.bar(method_list,accuracy_list,color = 'red')\n",
    "for num in range(len(method_list)):\n",
    "    plt.text(num,accuracy_list[num],accuracy_list[num].round(4))\n",
    "plt.xlabel(\"Fit Method\", fontsize=18)\n",
    "plt.ylabel(\"Accuracy Score\", fontsize=18)\n",
    "plt.show()"
   ]
  },
  {
   "cell_type": "markdown",
   "metadata": {},
   "source": [
    "对于精度而言，QDA最好，BOOSTING在LDA与LOG之间非常接近，KNN较差"
   ]
  },
  {
   "cell_type": "code",
   "execution_count": 15,
   "metadata": {},
   "outputs": [
    {
     "data": {
      "image/png": "[encoded data removed]",
      "text/plain": [
       "<Figure size 432x288 with 1 Axes>"
      ]
     },
     "metadata": {
      "needs_background": "light"
     },
     "output_type": "display_data"
    }
   ],
   "source": [
    "#recall召回率比较\n",
    "from sklearn.metrics import recall_score\n",
    "recall_gb = recall_score(y_test['Purchase[Yes]'],gb_clf_predict)\n",
    "recall_lda = recall_score(y_test['Purchase[Yes]'],lda_predict)\n",
    "recall_qda = recall_score(y_test['Purchase[Yes]'],qda_predict)\n",
    "recall_knn = recall_score(y_test['Purchase[Yes]'],knn_predict)\n",
    "recall_log = recall_score(y_test['Purchase[Yes]'],log_predict)\n",
    "method_list = ['Boosting','LDA','QDA','KNN','LOG']\n",
    "recall_list = [recall_gb,recall_lda,recall_qda,recall_knn,recall_log]\n",
    "plt.bar(method_list,recall_list,color = 'red')\n",
    "for num in range(len(method_list)):\n",
    "    plt.text(num,recall_list[num],recall_list[num].round(4))\n",
    "plt.xlabel(\"Fit Method\", fontsize=18)\n",
    "plt.ylabel(\"Recall Score\", fontsize=18)\n",
    "plt.show()"
   ]
  },
  {
   "cell_type": "markdown",
   "metadata": {},
   "source": [
    "但从召回率上看KNN最好（如果是寻找推销目标，则KNN有其有利性，针对本题特意概率设置为0.2）"
   ]
  },
  {
   "cell_type": "code",
   "execution_count": 16,
   "metadata": {},
   "outputs": [
    {
     "data": {
      "image/png": "[encoded data removed]",
      "text/plain": [
       "<Figure size 432x288 with 1 Axes>"
      ]
     },
     "metadata": {
      "needs_background": "light"
     },
     "output_type": "display_data"
    }
   ],
   "source": [
    "#auc ROC曲线下的面积比较\n",
    "from sklearn.metrics import roc_auc_score\n",
    "gb_auc = roc_auc_score(y_test['Purchase[Yes]'],gb_socres)\n",
    "lda_auc = roc_auc_score(y_test['Purchase[Yes]'],lda_socres)\n",
    "qda_auc = roc_auc_score(y_test['Purchase[Yes]'],qda_socres)\n",
    "log_auc = roc_auc_score(y_test['Purchase[Yes]'],log_socres)\n",
    "method_list = ['Boosting','LDA','QDA','LOG']\n",
    "auc_list = [gb_auc,lda_auc,qda_auc,log_auc]\n",
    "plt.bar(method_list,auc_list,color = 'red')\n",
    "for num in range(len(method_list)):\n",
    "    plt.text(num,auc_list[num],auc_list[num].round(4))\n",
    "plt.xlabel(\"Fit Method\", fontsize=18)\n",
    "plt.ylabel(\"AUC\", fontsize=18)\n",
    "plt.show()"
   ]
  },
  {
   "cell_type": "markdown",
   "metadata": {},
   "source": [
    "从AUC上来看实际Boosting方案最好（KNN没有找到输出方法）"
   ]
  },
  {
   "cell_type": "code",
   "execution_count": 17,
   "metadata": {},
   "outputs": [],
   "source": [
    "#通过曲线比较包括KNN\n",
    "fpr_pool = [[],[],[],[],[]]\n",
    "tpr_pool = [[],[],[],[],[]]\n",
    "for p_thresholds in np.linspace(-0.01,1.01,40):\n",
    "    method_pool = [gb_clf,lda,qda,grid_search,log]\n",
    "    for num in range(len(method_pool)):\n",
    "        y_test_predict = (method_pool[num].predict_proba(X_test) >= p_thresholds)[:,1]            \n",
    "        fpr_pool[num].append((confusion_matrix(y_test['Purchase[Yes]'],y_test_predict)[0,1])/(y_test['Purchase[No]'].sum()))\n",
    "        tpr_pool[num].append(recall_score(y_test['Purchase[Yes]'],y_test_predict))"
   ]
  },
  {
   "cell_type": "code",
   "execution_count": 18,
   "metadata": {},
   "outputs": [
    {
     "data": {
      "image/png": "[encoded data removed]",
      "text/plain": [
       "<Figure size 432x432 with 1 Axes>"
      ]
     },
     "metadata": {
      "needs_background": "light"
     },
     "output_type": "display_data"
    }
   ],
   "source": [
    "plt.figure(figsize=(6,6))\n",
    "method_list = ['Boosting','LDA','QDA','KNN','LOG']\n",
    "for num in range(len(method_list)):\n",
    "    plt.plot(fpr_pool[num],tpr_pool[num],label = method_list[num])\n",
    "plt.legend(fontsize=16)\n",
    "plt.xlim(0,1)\n",
    "plt.ylim(0,1)\n",
    "plt.xlabel(\"False Positive Rate\", fontsize=18)\n",
    "plt.ylabel(\"True Positive Rate\", fontsize=18)\n",
    "plt.show()"
   ]
  },
  {
   "cell_type": "markdown",
   "metadata": {},
   "source": [
    "从曲线图上看KNN只好于QDA，Boosting最好"
   ]
  },
  {
   "cell_type": "markdown",
   "metadata": {},
   "source": [
    "**其他：继续尝试对第四章进行变量优化，比较变量优化后的效果**"
   ]
  },
  {
   "cell_type": "code",
   "execution_count": 19,
   "metadata": {},
   "outputs": [],
   "source": [
    "from sklearn.feature_selection import RFECV\n",
    "estimator_lda = LinearDiscriminantAnalysis()\n",
    "estimator_log = LogisticRegression(solver='liblinear')\n",
    "selector_lda = RFECV(estimator_lda, step=1, cv=10)\n",
    "selector_log = RFECV(estimator_log, step=1, cv=10)\n",
    "selector_lda.fit(X_train, y_train['Purchase[Yes]'])\n",
    "selector_log.fit(X_train, y_train['Purchase[Yes]'])\n",
    "lda2_predict = (selector_lda.predict_proba(X_test) > 0.2)[:,1]\n",
    "log2_predict = (selector_log.predict_proba(X_test) > 0.2)[:,1]"
   ]
  },
  {
   "cell_type": "code",
   "execution_count": 20,
   "metadata": {},
   "outputs": [
    {
     "data": {
      "image/png": "[encoded data removed]",
      "text/plain": [
       "<Figure size 432x288 with 1 Axes>"
      ]
     },
     "metadata": {
      "needs_background": "light"
     },
     "output_type": "display_data"
    }
   ],
   "source": [
    "accuracy_gb = accuracy_score(y_test['Purchase[Yes]'],gb_clf_predict)\n",
    "accuracy_lda = accuracy_score(y_test['Purchase[Yes]'],lda2_predict)\n",
    "accuracy_qda = accuracy_score(y_test['Purchase[Yes]'],qda_predict)\n",
    "accuracy_knn = accuracy_score(y_test['Purchase[Yes]'],knn_predict)\n",
    "accuracy_log = accuracy_score(y_test['Purchase[Yes]'],log2_predict)\n",
    "method_list = ['Boosting','LDA','QDA','KNN','LOG']\n",
    "accuracy_list = [accuracy_gb,accuracy_lda,accuracy_qda,accuracy_knn,accuracy_log]\n",
    "plt.bar(method_list,accuracy_list,color = 'red')\n",
    "for num in range(len(method_list)):\n",
    "    plt.text(num,accuracy_list[num],accuracy_list[num].round(4))\n",
    "plt.xlabel(\"Fit Method\", fontsize=18)\n",
    "plt.ylabel(\"Accuracy Score\", fontsize=18)\n",
    "plt.show()"
   ]
  },
  {
   "cell_type": "markdown",
   "metadata": {},
   "source": [
    "可以看到对LDA及LOG精简变量后，精度有所上升"
   ]
  },
  {
   "cell_type": "code",
   "execution_count": 21,
   "metadata": {},
   "outputs": [
    {
     "data": {
      "image/png": "[encoded data removed]",
      "text/plain": [
       "<Figure size 432x288 with 1 Axes>"
      ]
     },
     "metadata": {
      "needs_background": "light"
     },
     "output_type": "display_data"
    }
   ],
   "source": [
    "recall_lda = recall_score(y_test['Purchase[Yes]'],lda2_predict)\n",
    "recall_log = recall_score(y_test['Purchase[Yes]'],log2_predict)\n",
    "method_list = ['Boosting','LDA','QDA','KNN','LOG']\n",
    "recall_list = [recall_gb,recall_lda,recall_qda,recall_knn,recall_log]\n",
    "plt.bar(method_list,recall_list,color = 'red')\n",
    "for num in range(len(method_list)):\n",
    "    plt.text(num,recall_list[num],recall_list[num].round(4))\n",
    "plt.xlabel(\"Fit Method\", fontsize=18)\n",
    "plt.ylabel(\"Recall Score\", fontsize=18)\n",
    "plt.show()"
   ]
  },
  {
   "cell_type": "markdown",
   "metadata": {},
   "source": [
    "召回率下降"
   ]
  },
  {
   "cell_type": "code",
   "execution_count": 22,
   "metadata": {},
   "outputs": [
    {
     "data": {
      "image/png": "[encoded data removed]",
      "text/plain": [
       "<Figure size 432x288 with 1 Axes>"
      ]
     },
     "metadata": {
      "needs_background": "light"
     },
     "output_type": "display_data"
    }
   ],
   "source": [
    "lda_socres = selector_lda.decision_function(X_test)\n",
    "log_socres = selector_log.decision_function(X_test)\n",
    "lda_auc = roc_auc_score(y_test['Purchase[Yes]'],lda_socres)\n",
    "log_auc = roc_auc_score(y_test['Purchase[Yes]'],log_socres)\n",
    "method_list = ['Boosting','LDA','QDA','LOG']\n",
    "auc_list = [gb_auc,lda_auc,qda_auc,log_auc]\n",
    "plt.bar(method_list,auc_list,color = 'red')\n",
    "for num in range(len(method_list)):\n",
    "    plt.text(num,auc_list[num],auc_list[num].round(4))\n",
    "plt.xlabel(\"Fit Method\", fontsize=18)\n",
    "plt.ylabel(\"AUC\", fontsize=18)\n",
    "plt.show()"
   ]
  },
  {
   "cell_type": "markdown",
   "metadata": {},
   "source": [
    "AUC下降（实际REFECV是根据精度进行选择，可能造成AUC的牺牲）"
   ]
  },
  {
   "cell_type": "code",
   "execution_count": 23,
   "metadata": {},
   "outputs": [],
   "source": [
    "#通过曲线比较包括KNN\n",
    "fpr_pool = [[],[],[],[],[]]\n",
    "tpr_pool = [[],[],[],[],[]]\n",
    "for p_thresholds in np.linspace(-0.01,1.01,40):\n",
    "    method_pool = [gb_clf,selector_lda,qda,grid_search,selector_log]\n",
    "    for num in range(len(method_pool)):\n",
    "        y_test_predict = (method_pool[num].predict_proba(X_test) >= p_thresholds)[:,1]\n",
    "        fpr_pool[num].append((confusion_matrix(y_test['Purchase[Yes]'],y_test_predict)[0,1])/(y_test['Purchase[No]'].sum()))\n",
    "        tpr_pool[num].append(recall_score(y_test['Purchase[Yes]'],y_test_predict))"
   ]
  },
  {
   "cell_type": "code",
   "execution_count": 24,
   "metadata": {},
   "outputs": [
    {
     "data": {
      "image/png": "[encoded data removed]",
      "text/plain": [
       "<Figure size 432x432 with 1 Axes>"
      ]
     },
     "metadata": {
      "needs_background": "light"
     },
     "output_type": "display_data"
    }
   ],
   "source": [
    "plt.figure(figsize=(6,6))\n",
    "method_list = ['Boosting','LDA','QDA','KNN','LOG']\n",
    "for num in range(len(method_list)):\n",
    "    plt.plot(fpr_pool[num],tpr_pool[num],label = method_list[num])\n",
    "plt.legend(fontsize=16)\n",
    "plt.xlim(0,1)\n",
    "plt.ylim(0,1)\n",
    "plt.xlabel(\"False Positive Rate\", fontsize=18)\n",
    "plt.ylabel(\"True Positive Rate\", fontsize=18)\n",
    "plt.show()"
   ]
  },
  {
   "cell_type": "code",
   "execution_count": null,
   "metadata": {},
   "outputs": [],
   "source": []
  }
 ],
 "metadata": {
  "kernelspec": {
   "display_name": "Python 3",
   "language": "python",
   "name": "python3"
  },
  "language_info": {
   "codemirror_mode": {
    "name": "ipython",
    "version": 3
   },
   "file_extension": ".py",
   "mimetype": "text/x-python",
   "name": "python",
   "nbconvert_exporter": "python",
   "pygments_lexer": "ipython3",
   "version": "3.7.3"
  }
 },
 "nbformat": 4,
 "nbformat_minor": 2
}
