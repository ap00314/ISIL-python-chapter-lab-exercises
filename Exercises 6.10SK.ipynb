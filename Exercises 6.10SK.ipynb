{
 "cells": [
  {
   "cell_type": "code",
   "execution_count": 1,
   "metadata": {},
   "outputs": [],
   "source": [
    "# To support both python 2 and python 3\n",
    "# 让这份笔记同步支持 python 2 和 python 3\n",
    "from __future__ import division\n",
    "import pandas as pd\n",
    "import numpy as np\n",
    "import matplotlib.pyplot as plt\n",
    "import matplotlib\n",
    "%matplotlib inline"
   ]
  },
  {
   "cell_type": "code",
   "execution_count": 2,
   "metadata": {},
   "outputs": [],
   "source": [
    "#使用statsmodels便于统计分析数据\n",
    "import statsmodels.api as sm\n",
    "import statsmodels.formula.api as smf\n",
    "#使用sklearn便于预测（机器学习）\n",
    "from sklearn import linear_model\n",
    "#使用patsy便于生成模型\n",
    "import patsy"
   ]
  },
  {
   "cell_type": "code",
   "execution_count": 3,
   "metadata": {},
   "outputs": [],
   "source": [
    "np.random.seed(1)\n",
    "columns_name = ['y']\n",
    "for i in range(1,21):\n",
    "    columns_name.append('X' + str(i))\n",
    "X = pd.DataFrame(np.random.normal(0.0, 1.0, (1000,20)),columns = columns_name[1:])\n",
    "epsilon = np.random.normal(0.0, 1.0, 1000)\n",
    "belta = pd.DataFrame(np.array([[8,3,0,4,2,7,8,8,0,3,1,1,2,0,1,2,0,8,0,2]]),columns = columns_name[1:])\n",
    "#y = (belta * X).sum(axis = 1) + epsilon\n",
    "y = pd.DataFrame((belta.dot(X.T) + epsilon).T)"
   ]
  },
  {
   "cell_type": "code",
   "execution_count": 4,
   "metadata": {},
   "outputs": [
    {
     "name": "stderr",
     "output_type": "stream",
     "text": [
      "c:\\users\\wujiaxu\\appdata\\local\\programs\\python\\python37\\lib\\site-packages\\sklearn\\utils\\validation.py:744: DataConversionWarning: A column-vector y was passed when a 1d array was expected. Please change the shape of y to (n_samples, ), for example using ravel().\n",
      "  y = column_or_1d(y, warn=True)\n"
     ]
    },
    {
     "data": {
      "text/plain": [
       "array([ True,  True, False,  True,  True,  True,  True,  True,  True,\n",
       "        True,  True,  True,  True, False,  True,  True, False,  True,\n",
       "       False,  True])"
      ]
     },
     "execution_count": 4,
     "metadata": {},
     "output_type": "execute_result"
    }
   ],
   "source": [
    "from sklearn.feature_selection import RFECV\n",
    "estimator = linear_model.LinearRegression()\n",
    "selector = RFECV(estimator, step=1, cv=10)\n",
    "selector = selector.fit(X, y)\n",
    "selector.support_"
   ]
  },
  {
   "cell_type": "code",
   "execution_count": 5,
   "metadata": {},
   "outputs": [
    {
     "data": {
      "text/plain": [
       "array([1, 1, 2, 1, 1, 1, 1, 1, 1, 1, 1, 1, 1, 5, 1, 1, 3, 1, 4, 1])"
      ]
     },
     "execution_count": 5,
     "metadata": {},
     "output_type": "execute_result"
    }
   ],
   "source": [
    "selector.ranking_"
   ]
  },
  {
   "cell_type": "code",
   "execution_count": 6,
   "metadata": {},
   "outputs": [
    {
     "data": {
      "text/plain": [
       "array([8.03640101, 2.9797092 , 3.95931347, 1.96472685, 7.01189163,\n",
       "       7.94604801, 8.02340779, 0.08069804, 2.96447921, 0.99812975,\n",
       "       0.93839843, 2.07440712, 1.01668718, 2.00506937, 7.95927483,\n",
       "       2.04464643])"
      ]
     },
     "execution_count": 6,
     "metadata": {},
     "output_type": "execute_result"
    }
   ],
   "source": [
    "selector.estimator_.coef_"
   ]
  },
  {
   "cell_type": "code",
   "execution_count": 7,
   "metadata": {},
   "outputs": [],
   "source": [
    "belta_hat = belta.copy()\n",
    "j = 0\n",
    "for i in range(20):\n",
    "    column = belta.columns[i]\n",
    "    if selector.ranking_[i] == 1:\n",
    "        belta_hat[column] = selector.estimator_.coef_[j]\n",
    "        j = j + 1\n",
    "    else:\n",
    "        belta_hat[column] = 0"
   ]
  },
  {
   "cell_type": "markdown",
   "metadata": {},
   "source": [
    "sklearn实现子集选择-交叉验证的方式效率很高"
   ]
  },
  {
   "cell_type": "code",
   "execution_count": 8,
   "metadata": {},
   "outputs": [
    {
     "data": {
      "text/plain": [
       "-0.05740809334269337"
      ]
     },
     "execution_count": 8,
     "metadata": {},
     "output_type": "execute_result"
    }
   ],
   "source": [
    "selector.estimator_.intercept_"
   ]
  },
  {
   "cell_type": "code",
   "execution_count": 9,
   "metadata": {},
   "outputs": [
    {
     "data": {
      "text/html": [
       "<div>\n",
       "<style scoped>\n",
       "    .dataframe tbody tr th:only-of-type {\n",
       "        vertical-align: middle;\n",
       "    }\n",
       "\n",
       "    .dataframe tbody tr th {\n",
       "        vertical-align: top;\n",
       "    }\n",
       "\n",
       "    .dataframe thead th {\n",
       "        text-align: right;\n",
       "    }\n",
       "</style>\n",
       "<table border=\"1\" class=\"dataframe\">\n",
       "  <thead>\n",
       "    <tr style=\"text-align: right;\">\n",
       "      <th></th>\n",
       "      <th>$\\beta$</th>\n",
       "      <th>$\\beta_h$</th>\n",
       "      <th>$\\delta$</th>\n",
       "    </tr>\n",
       "  </thead>\n",
       "  <tbody>\n",
       "    <tr>\n",
       "      <th>X1</th>\n",
       "      <td>8.0</td>\n",
       "      <td>8.036401</td>\n",
       "      <td>0.036401</td>\n",
       "    </tr>\n",
       "    <tr>\n",
       "      <th>X2</th>\n",
       "      <td>3.0</td>\n",
       "      <td>2.979709</td>\n",
       "      <td>-0.020291</td>\n",
       "    </tr>\n",
       "    <tr>\n",
       "      <th>X3</th>\n",
       "      <td>0.0</td>\n",
       "      <td>0.000000</td>\n",
       "      <td>0.000000</td>\n",
       "    </tr>\n",
       "    <tr>\n",
       "      <th>X4</th>\n",
       "      <td>4.0</td>\n",
       "      <td>3.959313</td>\n",
       "      <td>-0.040687</td>\n",
       "    </tr>\n",
       "    <tr>\n",
       "      <th>X5</th>\n",
       "      <td>2.0</td>\n",
       "      <td>1.964727</td>\n",
       "      <td>-0.035273</td>\n",
       "    </tr>\n",
       "    <tr>\n",
       "      <th>X6</th>\n",
       "      <td>7.0</td>\n",
       "      <td>7.011892</td>\n",
       "      <td>0.011892</td>\n",
       "    </tr>\n",
       "    <tr>\n",
       "      <th>X7</th>\n",
       "      <td>8.0</td>\n",
       "      <td>7.946048</td>\n",
       "      <td>-0.053952</td>\n",
       "    </tr>\n",
       "    <tr>\n",
       "      <th>X8</th>\n",
       "      <td>8.0</td>\n",
       "      <td>8.023408</td>\n",
       "      <td>0.023408</td>\n",
       "    </tr>\n",
       "    <tr>\n",
       "      <th>X9</th>\n",
       "      <td>0.0</td>\n",
       "      <td>0.080698</td>\n",
       "      <td>0.080698</td>\n",
       "    </tr>\n",
       "    <tr>\n",
       "      <th>X10</th>\n",
       "      <td>3.0</td>\n",
       "      <td>2.964479</td>\n",
       "      <td>-0.035521</td>\n",
       "    </tr>\n",
       "    <tr>\n",
       "      <th>X11</th>\n",
       "      <td>1.0</td>\n",
       "      <td>0.998130</td>\n",
       "      <td>-0.001870</td>\n",
       "    </tr>\n",
       "    <tr>\n",
       "      <th>X12</th>\n",
       "      <td>1.0</td>\n",
       "      <td>0.938398</td>\n",
       "      <td>-0.061602</td>\n",
       "    </tr>\n",
       "    <tr>\n",
       "      <th>X13</th>\n",
       "      <td>2.0</td>\n",
       "      <td>2.074407</td>\n",
       "      <td>0.074407</td>\n",
       "    </tr>\n",
       "    <tr>\n",
       "      <th>X14</th>\n",
       "      <td>0.0</td>\n",
       "      <td>0.000000</td>\n",
       "      <td>0.000000</td>\n",
       "    </tr>\n",
       "    <tr>\n",
       "      <th>X15</th>\n",
       "      <td>1.0</td>\n",
       "      <td>1.016687</td>\n",
       "      <td>0.016687</td>\n",
       "    </tr>\n",
       "    <tr>\n",
       "      <th>X16</th>\n",
       "      <td>2.0</td>\n",
       "      <td>2.005069</td>\n",
       "      <td>0.005069</td>\n",
       "    </tr>\n",
       "    <tr>\n",
       "      <th>X17</th>\n",
       "      <td>0.0</td>\n",
       "      <td>0.000000</td>\n",
       "      <td>0.000000</td>\n",
       "    </tr>\n",
       "    <tr>\n",
       "      <th>X18</th>\n",
       "      <td>8.0</td>\n",
       "      <td>7.959275</td>\n",
       "      <td>-0.040725</td>\n",
       "    </tr>\n",
       "    <tr>\n",
       "      <th>X19</th>\n",
       "      <td>0.0</td>\n",
       "      <td>0.000000</td>\n",
       "      <td>0.000000</td>\n",
       "    </tr>\n",
       "    <tr>\n",
       "      <th>X20</th>\n",
       "      <td>2.0</td>\n",
       "      <td>2.044646</td>\n",
       "      <td>0.044646</td>\n",
       "    </tr>\n",
       "  </tbody>\n",
       "</table>\n",
       "</div>"
      ],
      "text/plain": [
       "     $\\beta$  $\\beta_h$  $\\delta$\n",
       "X1       8.0   8.036401  0.036401\n",
       "X2       3.0   2.979709 -0.020291\n",
       "X3       0.0   0.000000  0.000000\n",
       "X4       4.0   3.959313 -0.040687\n",
       "X5       2.0   1.964727 -0.035273\n",
       "X6       7.0   7.011892  0.011892\n",
       "X7       8.0   7.946048 -0.053952\n",
       "X8       8.0   8.023408  0.023408\n",
       "X9       0.0   0.080698  0.080698\n",
       "X10      3.0   2.964479 -0.035521\n",
       "X11      1.0   0.998130 -0.001870\n",
       "X12      1.0   0.938398 -0.061602\n",
       "X13      2.0   2.074407  0.074407\n",
       "X14      0.0   0.000000  0.000000\n",
       "X15      1.0   1.016687  0.016687\n",
       "X16      2.0   2.005069  0.005069\n",
       "X17      0.0   0.000000  0.000000\n",
       "X18      8.0   7.959275 -0.040725\n",
       "X19      0.0   0.000000  0.000000\n",
       "X20      2.0   2.044646  0.044646"
      ]
     },
     "execution_count": 9,
     "metadata": {},
     "output_type": "execute_result"
    }
   ],
   "source": [
    "pd.concat([belta,belta_hat,belta_hat - belta],ignore_index = True ).rename(index = {0:r\"$\\beta$\",1:r\"$\\beta_h$\",2:'$\\delta$'}).T"
   ]
  },
  {
   "cell_type": "markdown",
   "metadata": {},
   "source": [
    "**实现速度较宽，而且也只有X9和截距多出了拟合**"
   ]
  },
  {
   "cell_type": "code",
   "execution_count": null,
   "metadata": {},
   "outputs": [],
   "source": []
  }
 ],
 "metadata": {
  "kernelspec": {
   "display_name": "Python 3",
   "language": "python",
   "name": "python3"
  },
  "language_info": {
   "codemirror_mode": {
    "name": "ipython",
    "version": 3
   },
   "file_extension": ".py",
   "mimetype": "text/x-python",
   "name": "python",
   "nbconvert_exporter": "python",
   "pygments_lexer": "ipython3",
   "version": "3.7.3"
  }
 },
 "nbformat": 4,
 "nbformat_minor": 2
}
