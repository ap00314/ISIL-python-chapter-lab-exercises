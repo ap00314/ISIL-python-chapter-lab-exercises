{
 "cells": [
  {
   "cell_type": "code",
   "execution_count": 1,
   "metadata": {},
   "outputs": [],
   "source": [
    "# To support both python 2 and python 3\n",
    "# 让这份笔记同步支持 python 2 和 python 3\n",
    "from __future__ import division\n",
    "import pandas as pd\n",
    "import numpy as np\n",
    "import matplotlib.pyplot as plt\n",
    "import matplotlib\n",
    "%matplotlib inline"
   ]
  },
  {
   "cell_type": "code",
   "execution_count": 2,
   "metadata": {},
   "outputs": [],
   "source": [
    "#使用statsmodels便于统计分析数据\n",
    "import statsmodels.api as sm\n",
    "import statsmodels.formula.api as smf\n",
    "#使用sklearn便于预测（机器学习）\n",
    "from sklearn import linear_model\n",
    "#使用patsy便于生成模型\n",
    "import patsy"
   ]
  },
  {
   "cell_type": "markdown",
   "metadata": {},
   "source": [
    "**10. We have seen that as the number of features used in a model increases,\n",
    "the training error will necessarily decrease, but the test error may not.\n",
    "We will now explore this in a simulated data set.\n",
    "(a) Generate a data set with p = 20 features, n = 1,000 observa-\n",
    "tions, and an associated quantitative response vector generated\n",
    "according to the model\n",
    "Y = Xβ + ?,\n",
    "where β has some elements that are exactly equal to zero.**"
   ]
  },
  {
   "cell_type": "code",
   "execution_count": 3,
   "metadata": {},
   "outputs": [],
   "source": [
    "np.random.seed(1)\n",
    "columns_name = ['y']\n",
    "for i in range(1,21):\n",
    "    columns_name.append('X' + str(i))\n",
    "X = pd.DataFrame(np.random.normal(0.0, 1.0, (1000,20)),columns = columns_name[1:])\n",
    "epsilon = np.random.normal(0.0, 1.0, 1000)\n",
    "belta = pd.DataFrame(np.array([[8,3,0,4,2,7,8,8,0,3,1,1,2,0,1,2,0,8,0,2]]),columns = columns_name[1:])\n",
    "#y = (belta * X).sum(axis = 1) + epsilon\n",
    "y = pd.DataFrame((belta.dot(X.T) + epsilon).T)\n",
    "y.rename(columns = {0:'y'},inplace=True)\n",
    "simulate_data = pd.DataFrame(np.c_[y,X],columns = columns_name)"
   ]
  },
  {
   "cell_type": "markdown",
   "metadata": {},
   "source": [
    "**(b) Split your data set into a training set containing 100 observations\n",
    "and a test set containing 900 observations.**"
   ]
  },
  {
   "cell_type": "code",
   "execution_count": 4,
   "metadata": {},
   "outputs": [],
   "source": [
    "from sklearn.model_selection import train_test_split\n",
    "X_train, X_test, y_train, y_test,data_train, data_test = train_test_split(X, y, simulate_data, test_size=0.1, random_state=82)"
   ]
  },
  {
   "cell_type": "markdown",
   "metadata": {},
   "source": [
    "**(c) Perform best subset selection on the training set, and plot the\n",
    "training set MSE associated with the best model of each size.**"
   ]
  },
  {
   "cell_type": "code",
   "execution_count": 5,
   "metadata": {},
   "outputs": [],
   "source": [
    "#实现一个按照RSS（或者其他评估）来量化的regsubsets函数\n",
    "import itertools\n",
    "def regsubsets(model,dataset,nvmax = 8,method = 'full',scale = 'rss'):\n",
    "    y,X = patsy.dmatrices(model, data = dataset, return_type=\"dataframe\")\n",
    "    X_columns = list(X.columns)\n",
    "    try:\n",
    "        X_columns.remove('Intercept')\n",
    "    except:\n",
    "        pass\n",
    "    if nvmax > len(X_columns):\n",
    "        nvmax = len(X_columns)\n",
    "    all_data_dict = {}\n",
    "    if method == 'full':\n",
    "        for nv in range(1,nvmax + 1):\n",
    "            nv_scale = None\n",
    "            nv_result = {}\n",
    "            for X_columns_nv in itertools.combinations(X_columns,nv):\n",
    "                X_columns_nv = list(X_columns_nv)\n",
    "                X_model = sm.add_constant(X[X_columns_nv])\n",
    "                results = sm.OLS(y, X_model).fit()\n",
    "                nv_result['rss'] = results.ssr\n",
    "                nv_result['rsq'] = -results.rsquared\n",
    "                nv_result['adjr2'] = -results.rsquared_adj\n",
    "                nv_result['cp'] = results.aic\n",
    "                nv_result['bic'] = results.bic\n",
    "                if nv_scale == None or nv_scale > nv_result[scale]:\n",
    "                    nv_scale = nv_result[scale]\n",
    "                    nv_X_columns = X_columns_nv\n",
    "            X_model = sm.add_constant(X[nv_X_columns])\n",
    "            results = sm.OLS(y, X_model).fit()\n",
    "            all_data_dict[nv] = {}\n",
    "            all_data_dict[nv]['X_columns'] = nv_X_columns\n",
    "            all_data_dict[nv]['rss'] = results.ssr\n",
    "            all_data_dict[nv]['rsq'] = results.rsquared\n",
    "            all_data_dict[nv]['adjr2'] = results.rsquared_adj\n",
    "            all_data_dict[nv]['cp'] = results.aic\n",
    "            all_data_dict[nv]['bic'] = results.bic\n",
    "            all_data_dict[nv]['params'] = results.params\n",
    "    elif method == 'forward':\n",
    "        all_data_dict[0] = {}\n",
    "        all_data_dict[0]['X_columns'] = []\n",
    "        for nv in range(1,nvmax + 1):\n",
    "            nv_scale = None\n",
    "            nv_result = {}\n",
    "            X_columns_others = X_columns.copy()\n",
    "            for column_value in all_data_dict[nv - 1]['X_columns']:\n",
    "                X_columns_others.remove(column_value)\n",
    "            for column_value in X_columns_others:\n",
    "                X_columns_nv = all_data_dict[nv - 1]['X_columns'].copy()\n",
    "                X_columns_nv.append(column_value)\n",
    "                X_model = sm.add_constant(X[X_columns_nv])\n",
    "                results = sm.OLS(y, X_model).fit()\n",
    "                nv_result['rss'] = results.ssr\n",
    "                nv_result['rsq'] = -results.rsquared\n",
    "                nv_result['adjr2'] = -results.rsquared_adj\n",
    "                nv_result['cp'] = results.aic\n",
    "                nv_result['bic'] = results.bic\n",
    "                if nv_scale == None or nv_scale > nv_result[scale]:\n",
    "                    nv_scale = nv_result[scale]\n",
    "                    nv_X_columns = X_columns_nv\n",
    "            X_model = sm.add_constant(X[nv_X_columns])\n",
    "            results = sm.OLS(y, X_model).fit()\n",
    "            all_data_dict[nv] = {}\n",
    "            all_data_dict[nv]['X_columns'] = nv_X_columns\n",
    "            all_data_dict[nv]['rss'] = results.ssr\n",
    "            all_data_dict[nv]['rsq'] = results.rsquared\n",
    "            all_data_dict[nv]['adjr2'] = results.rsquared_adj\n",
    "            all_data_dict[nv]['cp'] = results.aic\n",
    "            all_data_dict[nv]['bic'] = results.bic\n",
    "            all_data_dict[nv]['params'] = results.params\n",
    "        del all_data_dict[0]\n",
    "    elif method == 'backward':\n",
    "        for nv in reversed(range(1,len(X_columns) + 1)):\n",
    "            nv_scale = None\n",
    "            nv_result = {}\n",
    "            if nv == len(X_columns):\n",
    "                nv_X_columns = X_columns\n",
    "            else:\n",
    "                for column_value in all_data_dict[nv + 1]['X_columns']:\n",
    "                    X_columns_nv = all_data_dict[nv + 1]['X_columns'].copy()\n",
    "                    X_columns_nv.remove(column_value)\n",
    "                    X_model = sm.add_constant(X[X_columns_nv])\n",
    "                    results = sm.OLS(y, X_model).fit()\n",
    "                    nv_result['rss'] = results.ssr\n",
    "                    nv_result['rsq'] = -results.rsquared\n",
    "                    nv_result['adjr2'] = -results.rsquared_adj\n",
    "                    nv_result['cp'] = results.aic\n",
    "                    nv_result['bic'] = results.bic\n",
    "                    if nv_scale == None or nv_scale > nv_result[scale]:\n",
    "                        nv_scale = nv_result[scale]\n",
    "                        nv_X_columns = X_columns_nv\n",
    "            X_model = sm.add_constant(X[nv_X_columns])\n",
    "            results = sm.OLS(y, X_model).fit()\n",
    "            all_data_dict[nv] = {}\n",
    "            all_data_dict[nv]['X_columns'] = nv_X_columns\n",
    "            all_data_dict[nv]['rss'] = results.ssr\n",
    "            all_data_dict[nv]['rsq'] = results.rsquared\n",
    "            all_data_dict[nv]['adjr2'] = results.rsquared_adj\n",
    "            all_data_dict[nv]['cp'] = results.aic\n",
    "            all_data_dict[nv]['bic'] = results.bic\n",
    "            all_data_dict[nv]['params'] = results.params\n",
    "            for nv in range(nvmax + 1,len(X_columns) + 1):\n",
    "                del all_data_dict[nv]\n",
    "    return pd.DataFrame(all_data_dict).T.sort_index()"
   ]
  },
  {
   "cell_type": "code",
   "execution_count": 6,
   "metadata": {},
   "outputs": [
    {
     "name": "stderr",
     "output_type": "stream",
     "text": [
      "c:\\users\\wujiaxu\\appdata\\local\\programs\\python\\python37\\lib\\site-packages\\numpy\\core\\fromnumeric.py:2495: FutureWarning: Method .ptp is deprecated and will be removed in a future version. Use numpy.ptp instead.\n",
      "  return ptp(axis=axis, out=out, **kwargs)\n"
     ]
    }
   ],
   "source": [
    "columns_value = '0'\n",
    "for column_value in columns_name[1:]:\n",
    "    columns_value = columns_value + '+' + column_value\n",
    "model = 'y ~ {}'.format(columns_value)\n",
    "#需要分析的最大模型数\n",
    "nvmax = 20\n",
    "reg = regsubsets(model,data_train,nvmax)"
   ]
  },
  {
   "cell_type": "code",
   "execution_count": 7,
   "metadata": {},
   "outputs": [
    {
     "data": {
      "text/html": [
       "<div>\n",
       "<style scoped>\n",
       "    .dataframe tbody tr th:only-of-type {\n",
       "        vertical-align: middle;\n",
       "    }\n",
       "\n",
       "    .dataframe tbody tr th {\n",
       "        vertical-align: top;\n",
       "    }\n",
       "\n",
       "    .dataframe thead th {\n",
       "        text-align: right;\n",
       "    }\n",
       "</style>\n",
       "<table border=\"1\" class=\"dataframe\">\n",
       "  <thead>\n",
       "    <tr style=\"text-align: right;\">\n",
       "      <th></th>\n",
       "      <th>X_columns</th>\n",
       "      <th>rss</th>\n",
       "      <th>rsq</th>\n",
       "      <th>adjr2</th>\n",
       "      <th>cp</th>\n",
       "      <th>bic</th>\n",
       "      <th>params</th>\n",
       "    </tr>\n",
       "  </thead>\n",
       "  <tbody>\n",
       "    <tr>\n",
       "      <th>1</th>\n",
       "      <td>[X18]</td>\n",
       "      <td>260459</td>\n",
       "      <td>0.213914</td>\n",
       "      <td>0.213038</td>\n",
       "      <td>7659.12</td>\n",
       "      <td>7668.72</td>\n",
       "      <td>const    0.672505\n",
       "X18      8.894788\n",
       "dtype: flo...</td>\n",
       "    </tr>\n",
       "    <tr>\n",
       "      <th>2</th>\n",
       "      <td>[X1, X18]</td>\n",
       "      <td>196847</td>\n",
       "      <td>0.405899</td>\n",
       "      <td>0.404574</td>\n",
       "      <td>7409.1</td>\n",
       "      <td>7423.51</td>\n",
       "      <td>const    0.618133\n",
       "X1       8.497052\n",
       "X18      8...</td>\n",
       "    </tr>\n",
       "    <tr>\n",
       "      <th>3</th>\n",
       "      <td>[X1, X7, X18]</td>\n",
       "      <td>141288</td>\n",
       "      <td>0.573582</td>\n",
       "      <td>0.572154</td>\n",
       "      <td>7112.63</td>\n",
       "      <td>7131.84</td>\n",
       "      <td>const    0.122690\n",
       "X1       8.240586\n",
       "X7       8...</td>\n",
       "    </tr>\n",
       "    <tr>\n",
       "      <th>4</th>\n",
       "      <td>[X1, X7, X8, X18]</td>\n",
       "      <td>92835.3</td>\n",
       "      <td>0.719816</td>\n",
       "      <td>0.718564</td>\n",
       "      <td>6736.66</td>\n",
       "      <td>6760.67</td>\n",
       "      <td>const   -0.126330\n",
       "X1       8.356401\n",
       "X7       7...</td>\n",
       "    </tr>\n",
       "    <tr>\n",
       "      <th>5</th>\n",
       "      <td>[X1, X6, X7, X8, X18]</td>\n",
       "      <td>48706.3</td>\n",
       "      <td>0.853001</td>\n",
       "      <td>0.852178</td>\n",
       "      <td>6158.14</td>\n",
       "      <td>6186.96</td>\n",
       "      <td>const    0.334289\n",
       "X1       8.418753\n",
       "X6       7...</td>\n",
       "    </tr>\n",
       "  </tbody>\n",
       "</table>\n",
       "</div>"
      ],
      "text/plain": [
       "               X_columns      rss       rsq     adjr2       cp      bic  \\\n",
       "1                  [X18]   260459  0.213914  0.213038  7659.12  7668.72   \n",
       "2              [X1, X18]   196847  0.405899  0.404574   7409.1  7423.51   \n",
       "3          [X1, X7, X18]   141288  0.573582  0.572154  7112.63  7131.84   \n",
       "4      [X1, X7, X8, X18]  92835.3  0.719816  0.718564  6736.66  6760.67   \n",
       "5  [X1, X6, X7, X8, X18]  48706.3  0.853001  0.852178  6158.14  6186.96   \n",
       "\n",
       "                                              params  \n",
       "1  const    0.672505\n",
       "X18      8.894788\n",
       "dtype: flo...  \n",
       "2  const    0.618133\n",
       "X1       8.497052\n",
       "X18      8...  \n",
       "3  const    0.122690\n",
       "X1       8.240586\n",
       "X7       8...  \n",
       "4  const   -0.126330\n",
       "X1       8.356401\n",
       "X7       7...  \n",
       "5  const    0.334289\n",
       "X1       8.418753\n",
       "X6       7...  "
      ]
     },
     "execution_count": 7,
     "metadata": {},
     "output_type": "execute_result"
    }
   ],
   "source": [
    "reg.head()"
   ]
  },
  {
   "cell_type": "code",
   "execution_count": 8,
   "metadata": {},
   "outputs": [
    {
     "data": {
      "image/png": "[encoded data removed]",
      "text/plain": [
       "<Figure size 432x288 with 1 Axes>"
      ]
     },
     "metadata": {
      "needs_background": "light"
     },
     "output_type": "display_data"
    }
   ],
   "source": [
    "plt.plot(reg.index,reg['rss']/900)\n",
    "plt.xlabel(\"Number of Predictors\", fontsize=18)\n",
    "plt.ylabel(\"mean_squared_error\", fontsize=18)\n",
    "plt.show()"
   ]
  },
  {
   "cell_type": "markdown",
   "metadata": {},
   "source": [
    "**(d) Plot the test set MSE associated with the best model of each\n",
    "size.**"
   ]
  },
  {
   "cell_type": "code",
   "execution_count": 9,
   "metadata": {},
   "outputs": [],
   "source": [
    "from sklearn.metrics import mean_squared_error\n",
    "mse_test_list = []\n",
    "num_range = range(1,nvmax + 1)\n",
    "for num_of_pre in num_range:\n",
    "    reg_line = reg.loc[num_of_pre]\n",
    "    y_predict = reg_line['params'][reg_line['X_columns']].dot(X_test[reg_line['X_columns']].T) + reg_line['params']['const']\n",
    "    mse_test_list.append(mean_squared_error(y_test, y_predict))\n",
    "mse_test = pd.DataFrame(mse_test_list,index = num_range)"
   ]
  },
  {
   "cell_type": "code",
   "execution_count": 10,
   "metadata": {},
   "outputs": [
    {
     "data": {
      "image/png": "[encoded data removed]",
      "text/plain": [
       "<Figure size 432x288 with 1 Axes>"
      ]
     },
     "metadata": {
      "needs_background": "light"
     },
     "output_type": "display_data"
    }
   ],
   "source": [
    "plt.plot(num_range,mse_test)\n",
    "plt.xlabel(\"Number of Predictors\", fontsize=18)\n",
    "plt.ylabel(\"mean_squared_error\", fontsize=18)\n",
    "plt.show()"
   ]
  },
  {
   "cell_type": "markdown",
   "metadata": {},
   "source": [
    "**(e) For which model size does the test set MSE take on its minimum\n",
    "value? Comment on your results. If it takes on its minimum value\n",
    "for a model containing only an intercept or a model containing\n",
    "all of the features, then play around with the way that you are\n",
    "generating the data in (a) until you come up with a scenario in\n",
    "which the test set MSE is minimized for an intermediate model\n",
    "size.**"
   ]
  },
  {
   "cell_type": "code",
   "execution_count": 11,
   "metadata": {},
   "outputs": [
    {
     "data": {
      "text/plain": [
       "0    16\n",
       "dtype: int64"
      ]
     },
     "execution_count": 11,
     "metadata": {},
     "output_type": "execute_result"
    }
   ],
   "source": [
    "mse_test.idxmin()"
   ]
  },
  {
   "cell_type": "markdown",
   "metadata": {},
   "source": [
    "与原始模型15个特征值有所差距，主要为eps影响"
   ]
  },
  {
   "cell_type": "markdown",
   "metadata": {},
   "source": [
    "**(f) How does the model at which the test set MSE is minimized\n",
    "compare to the true model used to generate the data? Comment\n",
    "on the coefficient values.**"
   ]
  },
  {
   "cell_type": "code",
   "execution_count": 12,
   "metadata": {},
   "outputs": [
    {
     "data": {
      "text/html": [
       "<div>\n",
       "<style scoped>\n",
       "    .dataframe tbody tr th:only-of-type {\n",
       "        vertical-align: middle;\n",
       "    }\n",
       "\n",
       "    .dataframe tbody tr th {\n",
       "        vertical-align: top;\n",
       "    }\n",
       "\n",
       "    .dataframe thead th {\n",
       "        text-align: right;\n",
       "    }\n",
       "</style>\n",
       "<table border=\"1\" class=\"dataframe\">\n",
       "  <thead>\n",
       "    <tr style=\"text-align: right;\">\n",
       "      <th></th>\n",
       "      <th>X1</th>\n",
       "      <th>X2</th>\n",
       "      <th>X3</th>\n",
       "      <th>X4</th>\n",
       "      <th>X5</th>\n",
       "      <th>X6</th>\n",
       "      <th>X7</th>\n",
       "      <th>X8</th>\n",
       "      <th>X9</th>\n",
       "      <th>X10</th>\n",
       "      <th>X11</th>\n",
       "      <th>X12</th>\n",
       "      <th>X13</th>\n",
       "      <th>X14</th>\n",
       "      <th>X15</th>\n",
       "      <th>X16</th>\n",
       "      <th>X17</th>\n",
       "      <th>X18</th>\n",
       "      <th>X19</th>\n",
       "      <th>X20</th>\n",
       "    </tr>\n",
       "  </thead>\n",
       "  <tbody>\n",
       "    <tr>\n",
       "      <th>0</th>\n",
       "      <td>8</td>\n",
       "      <td>3</td>\n",
       "      <td>0</td>\n",
       "      <td>4</td>\n",
       "      <td>2</td>\n",
       "      <td>7</td>\n",
       "      <td>8</td>\n",
       "      <td>8</td>\n",
       "      <td>0</td>\n",
       "      <td>3</td>\n",
       "      <td>1</td>\n",
       "      <td>1</td>\n",
       "      <td>2</td>\n",
       "      <td>0</td>\n",
       "      <td>1</td>\n",
       "      <td>2</td>\n",
       "      <td>0</td>\n",
       "      <td>8</td>\n",
       "      <td>0</td>\n",
       "      <td>2</td>\n",
       "    </tr>\n",
       "  </tbody>\n",
       "</table>\n",
       "</div>"
      ],
      "text/plain": [
       "   X1  X2  X3  X4  X5  X6  X7  X8  X9  X10  X11  X12  X13  X14  X15  X16  X17  \\\n",
       "0   8   3   0   4   2   7   8   8   0    3    1    1    2    0    1    2    0   \n",
       "\n",
       "   X18  X19  X20  \n",
       "0    8    0    2  "
      ]
     },
     "execution_count": 12,
     "metadata": {},
     "output_type": "execute_result"
    }
   ],
   "source": [
    "belta"
   ]
  },
  {
   "cell_type": "code",
   "execution_count": 13,
   "metadata": {},
   "outputs": [
    {
     "data": {
      "text/plain": [
       "const   -0.052107\n",
       "X1       8.049497\n",
       "X2       2.985162\n",
       "X4       3.959084\n",
       "X5       1.960426\n",
       "X6       7.004749\n",
       "X7       7.950898\n",
       "X8       8.025230\n",
       "X9       0.075328\n",
       "X10      2.980225\n",
       "X11      1.000332\n",
       "X12      0.920765\n",
       "X13      2.083027\n",
       "X15      1.014710\n",
       "X16      2.025657\n",
       "X18      7.957073\n",
       "X20      2.034537\n",
       "dtype: float64"
      ]
     },
     "execution_count": 13,
     "metadata": {},
     "output_type": "execute_result"
    }
   ],
   "source": [
    "reg_line = reg.loc[int(mse_test.idxmin())]\n",
    "reg_line['params']"
   ]
  },
  {
   "cell_type": "markdown",
   "metadata": {},
   "source": [
    "与原始模型多了截距和X9，同时截距和X9的拟合系数比较小"
   ]
  },
  {
   "cell_type": "markdown",
   "metadata": {},
   "source": [
    "**(g) Create a plot displaying\n",
    "’ ?\n",
    "p\n",
    "j=1 (β j\n",
    "−\n",
    "ˆ\n",
    "β r\n",
    "j ) 2\n",
    "for a range of values\n",
    "of r, where\n",
    "ˆ\n",
    "β r\n",
    "j\n",
    "is the jth coefficient estimate for the best model\n",
    "containing r coefficients. Comment on what you observe. How\n",
    "does this compare to the test MSE plot from (d)?**"
   ]
  },
  {
   "cell_type": "code",
   "execution_count": 14,
   "metadata": {},
   "outputs": [],
   "source": [
    "belta_rss_list = []\n",
    "for num_of_pre in num_range:\n",
    "    reg_line = reg.loc[num_of_pre]\n",
    "    belta_rss_list.append(np.sqrt(np.square(belta[reg_line['X_columns']] - reg_line['params'][reg_line['X_columns']]).sum(axis = 1)))\n",
    "belta_rss = pd.DataFrame(belta_rss_list,index = num_range)"
   ]
  },
  {
   "cell_type": "code",
   "execution_count": 15,
   "metadata": {},
   "outputs": [
    {
     "data": {
      "image/png": "[encoded data removed]",
      "text/plain": [
       "<Figure size 432x288 with 1 Axes>"
      ]
     },
     "metadata": {
      "needs_background": "light"
     },
     "output_type": "display_data"
    }
   ],
   "source": [
    "plt.plot(num_range,belta_rss)\n",
    "plt.xlabel(\"Number of Predictors\", fontsize=18)\n",
    "plt.ylabel(\"belta_rss\", fontsize=18)\n",
    "plt.show()"
   ]
  },
  {
   "cell_type": "code",
   "execution_count": 16,
   "metadata": {},
   "outputs": [
    {
     "data": {
      "text/plain": [
       "0    12\n",
       "dtype: int64"
      ]
     },
     "execution_count": 16,
     "metadata": {},
     "output_type": "execute_result"
    }
   ],
   "source": [
    "belta_rss.idxmin()"
   ]
  },
  {
   "cell_type": "markdown",
   "metadata": {},
   "source": [
    "与test-mse有一定区别，在12个特征值时最小"
   ]
  },
  {
   "cell_type": "code",
   "execution_count": null,
   "metadata": {},
   "outputs": [],
   "source": []
  }
 ],
 "metadata": {
  "kernelspec": {
   "display_name": "Python 3",
   "language": "python",
   "name": "python3"
  },
  "language_info": {
   "codemirror_mode": {
    "name": "ipython",
    "version": 3
   },
   "file_extension": ".py",
   "mimetype": "text/x-python",
   "name": "python",
   "nbconvert_exporter": "python",
   "pygments_lexer": "ipython3",
   "version": "3.7.3"
  }
 },
 "nbformat": 4,
 "nbformat_minor": 2
}
