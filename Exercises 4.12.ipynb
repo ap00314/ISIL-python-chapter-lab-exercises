{
 "cells": [
  {
   "cell_type": "markdown",
   "metadata": {},
   "source": [
    "**12. This problem involves writing functions.\n",
    "(a) Write a function, Power() , that prints out the result of raising 2\n",
    "to the 3rd power. In other words, your function should compute\n",
    "2 3 and print out the results.\n",
    "Hint: Recall that x^a raises x to the power a . Use the print()\n",
    "function to output the result.**"
   ]
  },
  {
   "cell_type": "code",
   "execution_count": 1,
   "metadata": {},
   "outputs": [
    {
     "name": "stdout",
     "output_type": "stream",
     "text": [
      "Power(2): 8\n"
     ]
    }
   ],
   "source": [
    "def Power(x):\n",
    "    return x**3\n",
    "print('Power(2):',Power(2))"
   ]
  },
  {
   "cell_type": "markdown",
   "metadata": {},
   "source": [
    "**(b) Create a new function, Power2() , that allows you to pass any\n",
    "two numbers, x and a , and prints out the value of x^a . You can\n",
    "do this by beginning your function with the line**\n",
    "> Power2=function (x,a){\n",
    "\n",
    "You should be able to call your function by entering, for instance,\n",
    "\n",
    "> Power2(3,8)\n",
    "\n",
    "on the command line. This should output the value of 3 8 , namely,\n",
    "6,561."
   ]
  },
  {
   "cell_type": "code",
   "execution_count": 2,
   "metadata": {},
   "outputs": [
    {
     "name": "stdout",
     "output_type": "stream",
     "text": [
      "Power2(3,8): 6561\n"
     ]
    }
   ],
   "source": [
    "def Power2(x,a):\n",
    "    return x**a\n",
    "print('Power2(3,8):',Power2(3,8))"
   ]
  },
  {
   "cell_type": "markdown",
   "metadata": {},
   "source": [
    "**(c) Using the Power2() function that you just wrote, compute 10 3 ,\n",
    "8 17 , and 131 3 .**"
   ]
  },
  {
   "cell_type": "code",
   "execution_count": 3,
   "metadata": {},
   "outputs": [
    {
     "name": "stdout",
     "output_type": "stream",
     "text": [
      "Power2(10,3): 1000\n",
      "Power2(8,17): 2251799813685248\n",
      "Power2(131,3): 2248091\n"
     ]
    }
   ],
   "source": [
    "print('Power2(10,3):',Power2(10,3))\n",
    "print('Power2(8,17):',Power2(8,17))\n",
    "print('Power2(131,3):',Power2(131,3))"
   ]
  },
  {
   "cell_type": "markdown",
   "metadata": {},
   "source": [
    "**(d) Now create a new function, Power3() , that actually returns the\n",
    "result x^a as an R object, rather than simply printing it to the\n",
    "screen. That is, if you store the value x^a in an object called\n",
    "result within your function, then you can simply return() this\n",
    "return()\n",
    "result, using the following line:\n",
    "4.7 Exercises 173\n",
    "return(result)\n",
    "The line above should be the last line in your function, before\n",
    "the } symbol.**"
   ]
  },
  {
   "cell_type": "code",
   "execution_count": 4,
   "metadata": {},
   "outputs": [],
   "source": [
    "def Power3(x,a):\n",
    "    result= x**a\n",
    "    return result"
   ]
  },
  {
   "cell_type": "markdown",
   "metadata": {},
   "source": [
    "**(e) Now using the Power3() function, create a plot of f(x) = x 2 .\n",
    "The x-axis should display a range of integers from 1 to 10, and\n",
    "the y-axis should display x 2 . Label the axes appropriately, and\n",
    "use an appropriate title for the figure. Consider displaying either\n",
    "the x-axis, the y-axis, or both on the log-scale. You can do this\n",
    "by using log=‘‘x’’ , log=‘‘y’’ , or log=‘‘xy’’ as arguments to\n",
    "the plot() function.**"
   ]
  },
  {
   "cell_type": "code",
   "execution_count": 5,
   "metadata": {},
   "outputs": [],
   "source": [
    "import matplotlib.pyplot as plt\n",
    "import numpy as np"
   ]
  },
  {
   "cell_type": "code",
   "execution_count": 6,
   "metadata": {},
   "outputs": [
    {
     "data": {
      "image/png": "[encoded data removed]",
      "text/plain": [
       "<Figure size 432x288 with 1 Axes>"
      ]
     },
     "metadata": {
      "needs_background": "light"
     },
     "output_type": "display_data"
    }
   ],
   "source": [
    "x = np.linspace(1,10,10)\n",
    "plt.scatter(x,Power3(x,2),color = 'blue')\n",
    "plt.xlabel(\"x\", fontsize=18)\n",
    "plt.ylabel(\"x^2\", fontsize=18)\n",
    "plt.show()"
   ]
  },
  {
   "cell_type": "code",
   "execution_count": 7,
   "metadata": {},
   "outputs": [
    {
     "data": {
      "image/png": "[encoded data removed]",
      "text/plain": [
       "<Figure size 432x288 with 1 Axes>"
      ]
     },
     "metadata": {
      "needs_background": "light"
     },
     "output_type": "display_data"
    }
   ],
   "source": [
    "plt.scatter(np.log(x),np.log(Power3(x,2)),color = 'blue')\n",
    "plt.xlabel(\"Log of x\", fontsize=18)\n",
    "plt.ylabel(\"Log of y = x^2\", fontsize=18)\n",
    "plt.show()"
   ]
  },
  {
   "cell_type": "markdown",
   "metadata": {},
   "source": [
    "**(f)Create a function, PlotPower() , that allows you to create a plot\n",
    "of x against x^a for a fixed a and for a range of values of x. For\n",
    "instance, if you call**\n",
    "\n",
    "> PlotPower (1:10,3)\n",
    "\n",
    "then a plot should be created with an x-axis taking on values\n",
    "1,2,...,10, and a y-axis taking on values 1 3 ,2 3 ,...,10 3 ."
   ]
  },
  {
   "cell_type": "code",
   "execution_count": 8,
   "metadata": {},
   "outputs": [
    {
     "data": {
      "image/png": "[encoded data removed]",
      "text/plain": [
       "<Figure size 432x288 with 1 Axes>"
      ]
     },
     "metadata": {
      "needs_background": "light"
     },
     "output_type": "display_data"
    }
   ],
   "source": [
    "def PlotPower(x,a,scatter = 1):\n",
    "    if scatter == 1:\n",
    "        plt.scatter(x,x**a,color = 'blue')\n",
    "        plt.xlabel(\"x\", fontsize=18)\n",
    "        plt.ylabel(r'$\\ x^{}$'.format(a), fontsize=18)\n",
    "    else:\n",
    "        plt.polt(x,x**a,color = 'blue')\n",
    "        plt.xlabel(\"x\", fontsize=18)\n",
    "        plt.ylabel(r'$\\ x^{}$'.format(a), fontsize=18)\n",
    "PlotPower(np.arange(1,11),3)"
   ]
  },
  {
   "cell_type": "code",
   "execution_count": null,
   "metadata": {},
   "outputs": [],
   "source": []
  }
 ],
 "metadata": {
  "kernelspec": {
   "display_name": "Python 3",
   "language": "python",
   "name": "python3"
  },
  "language_info": {
   "codemirror_mode": {
    "name": "ipython",
    "version": 3
   },
   "file_extension": ".py",
   "mimetype": "text/x-python",
   "name": "python",
   "nbconvert_exporter": "python",
   "pygments_lexer": "ipython3",
   "version": "3.7.3"
  }
 },
 "nbformat": 4,
 "nbformat_minor": 2
}
