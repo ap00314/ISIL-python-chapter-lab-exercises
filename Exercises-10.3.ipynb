{
 "cells": [
  {
   "cell_type": "code",
   "execution_count": 1,
   "metadata": {},
   "outputs": [],
   "source": [
    "# To support both python 2 and python 3\n",
    "# 让这份笔记同步支持 python 2 和 python 3\n",
    "from __future__ import division\n",
    "import pandas as pd\n",
    "import numpy as np\n",
    "import matplotlib.pyplot as plt\n",
    "import matplotlib\n",
    "%matplotlib inline"
   ]
  },
  {
   "cell_type": "markdown",
   "metadata": {},
   "source": [
    "**3. In this problem, you will perform K-means clustering manually, with\n",
    "K = 2, on a small example with n = 6 observations and p = 2\n",
    "features. The observations are as follows.\n",
    "Obs. X 1 X 2\n",
    "1 1 4\n",
    "2 1 3\n",
    "3 0 4\n",
    "4 5 1\n",
    "5 6 2\n",
    "6 4 0\n",
    "(a) Plot the observations.**"
   ]
  },
  {
   "cell_type": "code",
   "execution_count": 2,
   "metadata": {},
   "outputs": [
    {
     "data": {
      "image/png": "[encoded data removed]",
      "text/plain": [
       "<Figure size 432x288 with 1 Axes>"
      ]
     },
     "metadata": {
      "needs_background": "light"
     },
     "output_type": "display_data"
    }
   ],
   "source": [
    "X = np.array([[1,4],[1,3],[0,4],[5,1],[6,2],[4,0]])\n",
    "plt.scatter(X[:,0],X[:,1],c = 'k')\n",
    "plt.show()"
   ]
  },
  {
   "cell_type": "markdown",
   "metadata": {},
   "source": [
    "**(b) Randomly assign a cluster label to each observation. You can\n",
    "use the sample() command in R to do this. Report the cluster\n",
    "labels for each observation.**"
   ]
  },
  {
   "cell_type": "code",
   "execution_count": 3,
   "metadata": {},
   "outputs": [
    {
     "data": {
      "image/png": "[encoded data removed]",
      "text/plain": [
       "<Figure size 432x288 with 1 Axes>"
      ]
     },
     "metadata": {
      "needs_background": "light"
     },
     "output_type": "display_data"
    }
   ],
   "source": [
    "y = np.random.randint(0,2,6)\n",
    "plt.scatter(X[:,0],X[:,1],c = y)\n",
    "plt.show()"
   ]
  },
  {
   "cell_type": "markdown",
   "metadata": {},
   "source": [
    "**(c) Compute the centroid for each cluster.**"
   ]
  },
  {
   "cell_type": "code",
   "execution_count": 4,
   "metadata": {},
   "outputs": [
    {
     "data": {
      "image/png": "[encoded data removed]",
      "text/plain": [
       "<Figure size 432x288 with 1 Axes>"
      ]
     },
     "metadata": {
      "needs_background": "light"
     },
     "output_type": "display_data"
    }
   ],
   "source": [
    "z = np.c_[np.average(X[y==0],axis = 0),\n",
    "                np.average(X[y==1],axis = 0)]\n",
    "plt.scatter(X[:,0],X[:,1],c = y)\n",
    "plt.scatter(z[0],z[1],s = 200,edgecolors = 'k',c = [0,1])\n",
    "plt.show()"
   ]
  },
  {
   "cell_type": "code",
   "execution_count": 5,
   "metadata": {},
   "outputs": [
    {
     "data": {
      "text/plain": [
       "array([[3.25, 2.  ],\n",
       "       [2.5 , 2.  ]])"
      ]
     },
     "execution_count": 5,
     "metadata": {},
     "output_type": "execute_result"
    }
   ],
   "source": [
    "z"
   ]
  },
  {
   "cell_type": "markdown",
   "metadata": {},
   "source": [
    "**(d) Assign each observation to the centroid to which it is closest, in\n",
    "terms of Euclidean distance. Report the cluster labels for each\n",
    "observation.**"
   ]
  },
  {
   "cell_type": "code",
   "execution_count": 6,
   "metadata": {},
   "outputs": [
    {
     "data": {
      "image/png": "[encoded data removed]",
      "text/plain": [
       "<Figure size 432x288 with 1 Axes>"
      ]
     },
     "metadata": {
      "needs_background": "light"
     },
     "output_type": "display_data"
    }
   ],
   "source": [
    "iteration_pd = pd.DataFrame({0:np.square(X-z[:,0]).sum(axis = 1),\n",
    "                            1:np.square(X-z[:,1]).sum(axis = 1)})\n",
    "y = iteration_pd.idxmin(axis = 1).values\n",
    "plt.scatter(X[:,0],X[:,1],c = y)\n",
    "plt.scatter(z[0],z[1],s = 200,edgecolors = 'k',c = [0,1])\n",
    "plt.show()"
   ]
  },
  {
   "cell_type": "code",
   "execution_count": 7,
   "metadata": {},
   "outputs": [
    {
     "data": {
      "text/plain": [
       "array([1, 1, 1, 0, 0, 0], dtype=int64)"
      ]
     },
     "execution_count": 7,
     "metadata": {},
     "output_type": "execute_result"
    }
   ],
   "source": [
    "y"
   ]
  },
  {
   "cell_type": "markdown",
   "metadata": {},
   "source": [
    "**(e) Repeat (c) and (d) until the answers obtained stop changing.**"
   ]
  },
  {
   "cell_type": "code",
   "execution_count": 8,
   "metadata": {},
   "outputs": [
    {
     "data": {
      "text/plain": [
       "array([1, 1, 1, 0, 0, 0], dtype=int64)"
      ]
     },
     "execution_count": 8,
     "metadata": {},
     "output_type": "execute_result"
    }
   ],
   "source": [
    "z = np.c_[np.average(X[y==0],axis = 0),\n",
    "                np.average(X[y==1],axis = 0)]\n",
    "iteration_pd = pd.DataFrame({0:np.square(X-z[:,0]).sum(axis = 1),\n",
    "                            1:np.square(X-z[:,1]).sum(axis = 1)})\n",
    "y = iteration_pd.idxmin(axis = 1).values\n",
    "y"
   ]
  },
  {
   "cell_type": "code",
   "execution_count": 9,
   "metadata": {},
   "outputs": [
    {
     "data": {
      "text/plain": [
       "array([1, 1, 1, 0, 0, 0], dtype=int64)"
      ]
     },
     "execution_count": 9,
     "metadata": {},
     "output_type": "execute_result"
    }
   ],
   "source": [
    "z = np.c_[np.average(X[y==0],axis = 0),\n",
    "                np.average(X[y==1],axis = 0)]\n",
    "iteration_pd = pd.DataFrame({0:np.square(X-z[:,0]).sum(axis = 1),\n",
    "                            1:np.square(X-z[:,1]).sum(axis = 1)})\n",
    "y = iteration_pd.idxmin(axis = 1).values\n",
    "y"
   ]
  },
  {
   "cell_type": "markdown",
   "metadata": {},
   "source": [
    "从上可见2个循环以后标签停止变动"
   ]
  },
  {
   "cell_type": "markdown",
   "metadata": {},
   "source": [
    "**(f) In your plot from (a), color the observations according to the\n",
    "cluster labels obtained.**"
   ]
  },
  {
   "cell_type": "code",
   "execution_count": 10,
   "metadata": {},
   "outputs": [
    {
     "data": {
      "image/png": "[encoded data removed]",
      "text/plain": [
       "<Figure size 432x288 with 1 Axes>"
      ]
     },
     "metadata": {
      "needs_background": "light"
     },
     "output_type": "display_data"
    }
   ],
   "source": [
    "plt.scatter(X[:,0],X[:,1],c = y)\n",
    "plt.scatter(z[0],z[1],s = 200,edgecolors = 'k',c = [0,1],alpha = 0.2)\n",
    "plt.show()"
   ]
  },
  {
   "cell_type": "code",
   "execution_count": null,
   "metadata": {},
   "outputs": [],
   "source": []
  }
 ],
 "metadata": {
  "kernelspec": {
   "display_name": "Python 3",
   "language": "python",
   "name": "python3"
  },
  "language_info": {
   "codemirror_mode": {
    "name": "ipython",
    "version": 3
   },
   "file_extension": ".py",
   "mimetype": "text/x-python",
   "name": "python",
   "nbconvert_exporter": "python",
   "pygments_lexer": "ipython3",
   "version": "3.7.3"
  }
 },
 "nbformat": 4,
 "nbformat_minor": 2
}
